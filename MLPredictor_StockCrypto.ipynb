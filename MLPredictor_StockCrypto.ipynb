{
 "cells": [
  {
   "cell_type": "markdown",
   "id": "98247567",
   "metadata": {},
   "source": [
    "# IMPORTS"
   ]
  },
  {
   "cell_type": "code",
   "execution_count": 1018,
   "id": "2f8ae1c8",
   "metadata": {},
   "outputs": [],
   "source": [
    "#Importing the Libraries\n",
    "\n",
    "import pandas as pd\n",
    "import numpy as np\n",
    "import datetime\n",
    "from datetime import date,timedelta\n",
    "from dateutil.relativedelta import relativedelta\n",
    "\n",
    "from nsepy import get_history\n",
    "import yfinance as yf\n",
    "import plotly.express as px \n",
    "\n",
    "%matplotlib inline\n",
    "\n",
    "import matplotlib.pyplot as plt\n",
    "import matplotlib\n",
    "import seaborn as sns\n",
    "from sklearn.preprocessing import MinMaxScaler \n",
    "from sklearn.model_selection import TimeSeriesSplit\n",
    "from sklearn.metrics import mean_squared_error, r2_score,make_scorer\n",
    "import matplotlib.dates as mandates\n",
    "from sklearn import linear_model\n",
    "\n",
    "from sklearn.linear_model import LinearRegression\n",
    "from sklearn.ensemble import GradientBoostingRegressor\n",
    "from sklearn.svm import SVR\n",
    "from sklearn.model_selection import GridSearchCV,RandomizedSearchCV\n",
    "from sklearn.model_selection import RepeatedStratifiedKFold\n",
    "import xgboost as xg\n",
    "\n",
    "from sklearn.ensemble import RandomForestRegressor\n",
    "\n",
    "from fbprophet import Prophet\n",
    "\n",
    "\n",
    "import talib\n",
    "import math\n",
    "\n",
    "\n",
    "import warnings\n",
    "warnings.filterwarnings(\"ignore\")\n",
    " \n",
    "from tsai.models.MINIROCKET import MiniRocketVotingRegressor\n",
    "\n",
    "from sktime.datatypes._panel._convert import from_2d_array_to_nested\n",
    "\n",
    "\n",
    "import logging\n",
    "logging.getLogger(\"urllib3\").setLevel(logging.ERROR)\n",
    "logging.getLogger(\"fbprophet\").setLevel(logging.WARNING)\n",
    "\n",
    "import warnings\n",
    "warnings.simplefilter(action='ignore', category=FutureWarning)\n"
   ]
  },
  {
   "cell_type": "markdown",
   "id": "74a52d5c",
   "metadata": {},
   "source": [
    "# Initialize"
   ]
  },
  {
   "cell_type": "code",
   "execution_count": 1019,
   "id": "da119a91",
   "metadata": {},
   "outputs": [
    {
     "data": {
      "text/plain": [
       "datetime.date(2023, 5, 28)"
      ]
     },
     "execution_count": 1019,
     "metadata": {},
     "output_type": "execute_result"
    }
   ],
   "source": [
    "date.today()"
   ]
  },
  {
   "cell_type": "code",
   "execution_count": 1020,
   "id": "67744266",
   "metadata": {},
   "outputs": [
    {
     "name": "stdout",
     "output_type": "stream",
     "text": [
      "Data:2018-05-29 to 2023-05-28\n"
     ]
    }
   ],
   "source": [
    "# Data extracted for range of days. Last N days of data used as test data and remaining as train data.\n",
    "DATA_RANGE_DAYS = 365*5\n",
    "DATA_TEST_DAYS = 5\n",
    "\n",
    "#STOCK = 'HINDUNILVR'\n",
    "TARGET_COLUMN = 'Close'\n",
    "\n",
    "PREV_CLOSE_COL_NAME='Prev Close'\n",
    "CLOSE_COL_NAME='Close'\n",
    "\n",
    "# Get the dates in datetime format for extracting the details\n",
    "\n",
    "END_DATE = date.today() \n",
    "START_DATE = END_DATE - timedelta(DATA_RANGE_DAYS)\n",
    "#TRAIN_END_DATE = END_DATE - timedelta(DATA_TEST_DAYS-1)\n",
    "#TEST_START_DATE = END_DATE - timedelta(DATA_TEST_DAYS)\n",
    "print(f'Data:{START_DATE} to {END_DATE}')\n",
    "\n",
    "# Variables for derived features\n",
    "RSI_PERIOD = 14\n",
    "\n",
    "\n",
    "MACD_FAST_EMA = 12\n",
    "MACD_SLOW_EMA = 26\n",
    "MACD_SIGNAL_PERIOD = 9 \n",
    "\n",
    "ROC_TIMEPERIOD = 10\n",
    "\n",
    "\n",
    "MAX_ROWS_TO_DERIVE_FEATURES = 200\n",
    "\n",
    "RANDOM_STATE = 123\n",
    "\n",
    "COL_TO_DERIVE_FEATURES = PREV_CLOSE_COL_NAME\n",
    "\n",
    "\n",
    "minmax_scaler = MinMaxScaler()"
   ]
  },
  {
   "cell_type": "markdown",
   "id": "bfbd2e3e",
   "metadata": {},
   "source": [
    "# Fetch data"
   ]
  },
  {
   "cell_type": "code",
   "execution_count": 1021,
   "id": "70dd2cf1",
   "metadata": {},
   "outputs": [],
   "source": [
    "def get_stock_data(scrip, start_date=START_DATE, end_date=END_DATE, is_index=False):\n",
    "    return get_history(symbol=scrip, start=start_date, end=end_date,index = is_index)\n",
    "\n",
    "\n",
    "def add_prev_close_column(input_df):\n",
    "    input_df[PREV_CLOSE_COL_NAME]=input_df[CLOSE_COL_NAME].shift(1)\n",
    "    \n",
    "def get_crypto_data(ticker, time_period=\"5y\"):\n",
    "    df = yf.Ticker(ticker).history(period=time_period)\n",
    "    df.drop(['Volume','Dividends','Stock Splits'], inplace=True,axis=1)\n",
    "    \n",
    "    if PREV_CLOSE_COL_NAME not in df.columns:\n",
    "        add_prev_close_column(df)\n",
    "    return df\n",
    "\n",
    "\n"
   ]
  },
  {
   "cell_type": "code",
   "execution_count": 1022,
   "id": "ddce48c3",
   "metadata": {},
   "outputs": [
    {
     "data": {
      "text/html": [
       "<div>\n",
       "<style scoped>\n",
       "    .dataframe tbody tr th:only-of-type {\n",
       "        vertical-align: middle;\n",
       "    }\n",
       "\n",
       "    .dataframe tbody tr th {\n",
       "        vertical-align: top;\n",
       "    }\n",
       "\n",
       "    .dataframe thead th {\n",
       "        text-align: right;\n",
       "    }\n",
       "</style>\n",
       "<table border=\"1\" class=\"dataframe\">\n",
       "  <thead>\n",
       "    <tr style=\"text-align: right;\">\n",
       "      <th></th>\n",
       "      <th>Open</th>\n",
       "      <th>High</th>\n",
       "      <th>Low</th>\n",
       "      <th>Close</th>\n",
       "      <th>Prev Close</th>\n",
       "    </tr>\n",
       "    <tr>\n",
       "      <th>Date</th>\n",
       "      <th></th>\n",
       "      <th></th>\n",
       "      <th></th>\n",
       "      <th></th>\n",
       "      <th></th>\n",
       "    </tr>\n",
       "  </thead>\n",
       "  <tbody>\n",
       "    <tr>\n",
       "      <th>2017-05-28</th>\n",
       "      <td>2054.080078</td>\n",
       "      <td>2267.340088</td>\n",
       "      <td>2054.080078</td>\n",
       "      <td>2155.800049</td>\n",
       "      <td>NaN</td>\n",
       "    </tr>\n",
       "    <tr>\n",
       "      <th>2017-05-29</th>\n",
       "      <td>2159.429932</td>\n",
       "      <td>2307.050049</td>\n",
       "      <td>2107.169922</td>\n",
       "      <td>2255.610107</td>\n",
       "      <td>2155.800049</td>\n",
       "    </tr>\n",
       "    <tr>\n",
       "      <th>2017-05-30</th>\n",
       "      <td>2255.360107</td>\n",
       "      <td>2301.959961</td>\n",
       "      <td>2124.570068</td>\n",
       "      <td>2175.469971</td>\n",
       "      <td>2255.610107</td>\n",
       "    </tr>\n",
       "  </tbody>\n",
       "</table>\n",
       "</div>"
      ],
      "text/plain": [
       "                   Open         High          Low        Close   Prev Close\n",
       "Date                                                                       \n",
       "2017-05-28  2054.080078  2267.340088  2054.080078  2155.800049          NaN\n",
       "2017-05-29  2159.429932  2307.050049  2107.169922  2255.610107  2155.800049\n",
       "2017-05-30  2255.360107  2301.959961  2124.570068  2175.469971  2255.610107"
      ]
     },
     "metadata": {},
     "output_type": "display_data"
    },
    {
     "data": {
      "text/html": [
       "<div>\n",
       "<style scoped>\n",
       "    .dataframe tbody tr th:only-of-type {\n",
       "        vertical-align: middle;\n",
       "    }\n",
       "\n",
       "    .dataframe tbody tr th {\n",
       "        vertical-align: top;\n",
       "    }\n",
       "\n",
       "    .dataframe thead th {\n",
       "        text-align: right;\n",
       "    }\n",
       "</style>\n",
       "<table border=\"1\" class=\"dataframe\">\n",
       "  <thead>\n",
       "    <tr style=\"text-align: right;\">\n",
       "      <th></th>\n",
       "      <th>Open</th>\n",
       "      <th>High</th>\n",
       "      <th>Low</th>\n",
       "      <th>Close</th>\n",
       "      <th>Prev Close</th>\n",
       "    </tr>\n",
       "    <tr>\n",
       "      <th>Date</th>\n",
       "      <th></th>\n",
       "      <th></th>\n",
       "      <th></th>\n",
       "      <th></th>\n",
       "      <th></th>\n",
       "    </tr>\n",
       "  </thead>\n",
       "  <tbody>\n",
       "    <tr>\n",
       "      <th>2023-05-26</th>\n",
       "      <td>26474.181641</td>\n",
       "      <td>26916.669922</td>\n",
       "      <td>26343.949219</td>\n",
       "      <td>26719.291016</td>\n",
       "      <td>26476.207031</td>\n",
       "    </tr>\n",
       "    <tr>\n",
       "      <th>2023-05-27</th>\n",
       "      <td>26720.181641</td>\n",
       "      <td>26888.882812</td>\n",
       "      <td>26621.140625</td>\n",
       "      <td>26868.353516</td>\n",
       "      <td>26719.291016</td>\n",
       "    </tr>\n",
       "    <tr>\n",
       "      <th>2023-05-28</th>\n",
       "      <td>26861.359375</td>\n",
       "      <td>27288.478516</td>\n",
       "      <td>26805.046875</td>\n",
       "      <td>27265.568359</td>\n",
       "      <td>26868.353516</td>\n",
       "    </tr>\n",
       "  </tbody>\n",
       "</table>\n",
       "</div>"
      ],
      "text/plain": [
       "                    Open          High           Low         Close  \\\n",
       "Date                                                                 \n",
       "2023-05-26  26474.181641  26916.669922  26343.949219  26719.291016   \n",
       "2023-05-27  26720.181641  26888.882812  26621.140625  26868.353516   \n",
       "2023-05-28  26861.359375  27288.478516  26805.046875  27265.568359   \n",
       "\n",
       "              Prev Close  \n",
       "Date                      \n",
       "2023-05-26  26476.207031  \n",
       "2023-05-27  26719.291016  \n",
       "2023-05-28  26868.353516  "
      ]
     },
     "execution_count": 1022,
     "metadata": {},
     "output_type": "execute_result"
    }
   ],
   "source": [
    "scrip=\"BTC-USD\"\n",
    "time_period=\"6y\"\n",
    "stock_full_df=get_crypto_data(scrip, time_period)\n",
    "display(stock_full_df.head(3))\n",
    "stock_full_df.tail(3)"
   ]
  },
  {
   "cell_type": "markdown",
   "id": "525bf20a",
   "metadata": {},
   "source": [
    "# Utility methods"
   ]
  },
  {
   "cell_type": "markdown",
   "id": "1cd49f8f",
   "metadata": {},
   "source": [
    "# Data treatment"
   ]
  },
  {
   "cell_type": "markdown",
   "id": "e9fae7ab",
   "metadata": {},
   "source": [
    "## Check for infinity values"
   ]
  },
  {
   "cell_type": "code",
   "execution_count": 1023,
   "id": "28dc674f",
   "metadata": {},
   "outputs": [],
   "source": [
    "def print_inf_values(input_df):\n",
    "    infinity_count = np.isinf(input_df.isin([np.inf, -np.inf])).values.sum()\n",
    "    print(f'No. of infinity values in the dataset:{infinity_count}')\n"
   ]
  },
  {
   "cell_type": "code",
   "execution_count": 1024,
   "id": "21dca409",
   "metadata": {},
   "outputs": [
    {
     "name": "stdout",
     "output_type": "stream",
     "text": [
      "No. of infinity values in the dataset:0\n"
     ]
    }
   ],
   "source": [
    "\n",
    "print_inf_values(stock_full_df)"
   ]
  },
  {
   "cell_type": "code",
   "execution_count": null,
   "id": "95474c05",
   "metadata": {},
   "outputs": [],
   "source": []
  },
  {
   "cell_type": "markdown",
   "id": "d49c5886",
   "metadata": {},
   "source": [
    "## Check for missing values"
   ]
  },
  {
   "cell_type": "code",
   "execution_count": 1025,
   "id": "b02e6314",
   "metadata": {},
   "outputs": [],
   "source": [
    "# Check for missing values in the dataframe and print them\n",
    "def print_missing_columns(input_df):\n",
    "    # Print missing percentage of only columns with missing values\n",
    "    missing_columns = input_df.columns[input_df.isnull().any()]\n",
    "    if not missing_columns.empty:\n",
    "        missing_count = input_df[missing_columns].isnull().sum()\n",
    "        missing_col_type = pd.Series([type(col) for col in input_df[missing_columns]],index = missing_columns) \n",
    "        unique_count = input_df[missing_columns].nunique()\n",
    "\n",
    "        missing_df = pd.concat({\n",
    "                        \"Missing\": missing_count, \n",
    "                        \"Missing %\": missing_count/len(input_df.index)*100,\n",
    "                        \"Type\": missing_col_type,\n",
    "                        \"Unique Count\": unique_count\n",
    "                       } , \n",
    "                       axis = 1).sort_values(by = 'Missing', ascending = False)\n",
    "\n",
    "        display(missing_df)\n",
    "    else:\n",
    "        display(\"NO MISSING VALUES IN THE DATAFRAME\")"
   ]
  },
  {
   "cell_type": "code",
   "execution_count": 1026,
   "id": "1ac48306",
   "metadata": {},
   "outputs": [
    {
     "data": {
      "text/html": [
       "<div>\n",
       "<style scoped>\n",
       "    .dataframe tbody tr th:only-of-type {\n",
       "        vertical-align: middle;\n",
       "    }\n",
       "\n",
       "    .dataframe tbody tr th {\n",
       "        vertical-align: top;\n",
       "    }\n",
       "\n",
       "    .dataframe thead th {\n",
       "        text-align: right;\n",
       "    }\n",
       "</style>\n",
       "<table border=\"1\" class=\"dataframe\">\n",
       "  <thead>\n",
       "    <tr style=\"text-align: right;\">\n",
       "      <th></th>\n",
       "      <th>Missing</th>\n",
       "      <th>Missing %</th>\n",
       "      <th>Type</th>\n",
       "      <th>Unique Count</th>\n",
       "    </tr>\n",
       "  </thead>\n",
       "  <tbody>\n",
       "    <tr>\n",
       "      <th>Prev Close</th>\n",
       "      <td>1</td>\n",
       "      <td>0.04562</td>\n",
       "      <td>&lt;class 'str'&gt;</td>\n",
       "      <td>2190</td>\n",
       "    </tr>\n",
       "  </tbody>\n",
       "</table>\n",
       "</div>"
      ],
      "text/plain": [
       "            Missing  Missing %           Type  Unique Count\n",
       "Prev Close        1    0.04562  <class 'str'>          2190"
      ]
     },
     "metadata": {},
     "output_type": "display_data"
    }
   ],
   "source": [
    "print_missing_columns(stock_full_df)"
   ]
  },
  {
   "cell_type": "markdown",
   "id": "2a6ce48a",
   "metadata": {},
   "source": [
    "Previous close of the first row is expected to be empty"
   ]
  },
  {
   "cell_type": "markdown",
   "id": "385cd025",
   "metadata": {},
   "source": [
    "# Add features to the data"
   ]
  },
  {
   "cell_type": "markdown",
   "id": "b2930582",
   "metadata": {},
   "source": [
    "## Simple Moving Average"
   ]
  },
  {
   "cell_type": "code",
   "execution_count": 1027,
   "id": "288fe9b6",
   "metadata": {},
   "outputs": [],
   "source": [
    "def apply_sma(df, col):\n",
    "    df['20_sma'] = df[col].rolling(window=20).mean()\n",
    "    df['50_sma'] = df[col].rolling(window=50).mean()\n",
    "    df['200_sma'] = df[col].rolling(window=200).mean()\n",
    "    return df"
   ]
  },
  {
   "cell_type": "markdown",
   "id": "30924085",
   "metadata": {},
   "source": [
    "## EMA"
   ]
  },
  {
   "cell_type": "code",
   "execution_count": 1028,
   "id": "a841a3c9",
   "metadata": {},
   "outputs": [],
   "source": [
    "def apply_ema(df, col):\n",
    "    df['20_ema'] = talib.EMA(df[col], timeperiod=20)\n",
    "    df['50_ema'] = talib.EMA(df[col], timeperiod=50)\n",
    "    df['200_ema'] = talib.EMA(df[col], timeperiod=200)\n",
    "    return df\n"
   ]
  },
  {
   "cell_type": "markdown",
   "id": "f2efe1ff",
   "metadata": {},
   "source": [
    "## RSI"
   ]
  },
  {
   "cell_type": "code",
   "execution_count": 1029,
   "id": "dd15234a",
   "metadata": {},
   "outputs": [],
   "source": [
    "\n",
    "def apply_rsi(df, col):\n",
    "    df['rsi'] = talib.RSI(df[col], RSI_PERIOD) \n",
    "    return df\n"
   ]
  },
  {
   "cell_type": "markdown",
   "id": "0c32aeeb",
   "metadata": {},
   "source": [
    "## MACD"
   ]
  },
  {
   "cell_type": "code",
   "execution_count": 1030,
   "id": "3116483f",
   "metadata": {},
   "outputs": [],
   "source": [
    "\n",
    "def apply_macd(df, col):\n",
    "    df['macd'], df['signal'], df['hist'] = talib.MACD(df[col], \n",
    "                                fastperiod=MACD_FAST_EMA, slowperiod=MACD_SLOW_EMA, signalperiod=MACD_SIGNAL_PERIOD)\n",
    "\n",
    "    return df"
   ]
  },
  {
   "cell_type": "markdown",
   "id": "8aa23e4b",
   "metadata": {},
   "source": [
    "## BOLLINGER BAND"
   ]
  },
  {
   "cell_type": "code",
   "execution_count": 1031,
   "id": "5d1432e0",
   "metadata": {},
   "outputs": [],
   "source": [
    "\n",
    "def apply_bollinger_band(df, col):\n",
    "    # 20-day moving average \n",
    "    df['sma_bb'] = df[col].rolling(window=20).mean()\n",
    "\n",
    "    # upper and lower bollinger bands: SMA +/- 2 * standard deviation\n",
    "    df['stddev'] = df[col].rolling(window=20).std()\n",
    "    df['upper_bb'] = df['sma_bb'] + (2 * df['stddev'])\n",
    "    df['lower_bb'] = df['sma_bb'] - (2 * df['stddev'])\n",
    "\n",
    "    return df\n"
   ]
  },
  {
   "cell_type": "markdown",
   "id": "eb85fd3d",
   "metadata": {},
   "source": [
    "## ROC - RATE OF CHANGE"
   ]
  },
  {
   "cell_type": "code",
   "execution_count": 1032,
   "id": "256546f3",
   "metadata": {},
   "outputs": [],
   "source": [
    "def apply_roc(df, col):\n",
    "    # ROC\n",
    "    df['roc'] = talib.ROC(df[col], timeperiod = ROC_TIMEPERIOD)\n",
    "\n",
    "    return df"
   ]
  },
  {
   "cell_type": "markdown",
   "id": "0813cd41",
   "metadata": {},
   "source": [
    "## PPO - Percentage Price Oscillator"
   ]
  },
  {
   "cell_type": "code",
   "execution_count": 1033,
   "id": "a9faa512",
   "metadata": {},
   "outputs": [],
   "source": [
    "def apply_ppo(df, col):\n",
    "    # PPO\n",
    "    df['ppo'] = talib.PPO(df[col])\n",
    "\n",
    "    return df"
   ]
  },
  {
   "cell_type": "markdown",
   "id": "1a48ed06",
   "metadata": {},
   "source": [
    "## Hilbert Transform - Trend vs Cycle Mode"
   ]
  },
  {
   "cell_type": "code",
   "execution_count": 1034,
   "id": "72d9bfd0",
   "metadata": {},
   "outputs": [],
   "source": [
    "def apply_trendmode(df, col):\n",
    "    # HT_TRENDMODE\n",
    "    df['ht_trend'] = talib.HT_TRENDMODE(df[col])\n",
    "\n",
    "    return df"
   ]
  },
  {
   "cell_type": "code",
   "execution_count": null,
   "id": "236ccc02",
   "metadata": {},
   "outputs": [],
   "source": [
    "\n"
   ]
  },
  {
   "cell_type": "markdown",
   "id": "352c3601",
   "metadata": {},
   "source": [
    "## Hilbert Transform - Dominant Cycle Phase\n"
   ]
  },
  {
   "cell_type": "code",
   "execution_count": 1035,
   "id": "3599b515",
   "metadata": {},
   "outputs": [],
   "source": [
    "def apply_domcycphase(df, col):\n",
    "    # HT_DCPHASE\n",
    "    df['ht_dcphase'] = talib.HT_DCPHASE(df[col])\n",
    "\n",
    "    return df"
   ]
  },
  {
   "cell_type": "code",
   "execution_count": null,
   "id": "e6af248d",
   "metadata": {},
   "outputs": [],
   "source": []
  },
  {
   "cell_type": "code",
   "execution_count": null,
   "id": "dcb82e68",
   "metadata": {},
   "outputs": [],
   "source": []
  },
  {
   "cell_type": "markdown",
   "id": "2a0ebb6a",
   "metadata": {},
   "source": [
    "## SUPERTREND"
   ]
  },
  {
   "cell_type": "code",
   "execution_count": 1036,
   "id": "30670260",
   "metadata": {},
   "outputs": [],
   "source": [
    "# Supertrend\n",
    "def tr(data):\n",
    "    data['previous_close'] = data['Close'].shift(1)\n",
    "    data['high-low'] = abs(data['High'] - data['Low'])\n",
    "    data['high-pc'] = abs(data['High'] - data['previous_close'])\n",
    "    data['low-pc'] = abs(data['Low'] - data['previous_close'])\n",
    "\n",
    "    tr = data[['high-low', 'high-pc', 'low-pc']].max(axis=1)\n",
    "\n",
    "    return tr\n",
    "\n",
    "def atr(data, period):\n",
    "    data['tr'] = tr(data)\n",
    "    atr = data['tr'].rolling(period).mean()\n",
    "\n",
    "    return atr\n",
    "\n",
    "def supertrend(df, period=7, atr_multiplier=3):\n",
    "    hl2 = (df['High'] + df['Low']) / 2\n",
    "    df['atr'] = atr(df, period)\n",
    "    df['upperband'] = hl2 + (atr_multiplier * df['atr'])\n",
    "    df['lowerband'] = hl2 - (atr_multiplier * df['atr'])\n",
    "    df['in_uptrend'] = True\n",
    "\n",
    "    for current in range(1, len(df.index)):\n",
    "        previous = current - 1\n",
    "\n",
    "        if df['Close'][current] > df['upperband'][previous]:\n",
    "            df['in_uptrend'][current] = True\n",
    "        elif df['Close'][current] < df['lowerband'][previous]:\n",
    "            df['in_uptrend'][current] = False\n",
    "        else:\n",
    "            df['in_uptrend'][current] = df['in_uptrend'][previous]\n",
    "\n",
    "            if df['in_uptrend'][current] and df['lowerband'][current] < df['lowerband'][previous]:\n",
    "                df['lowerband'][current] = df['lowerband'][previous]\n",
    "\n",
    "            if not df['in_uptrend'][current] and df['upperband'][current] > df['upperband'][previous]:\n",
    "                df['upperband'][current] = df['upperband'][previous]\n",
    "        \n",
    "    return df\n"
   ]
  },
  {
   "cell_type": "markdown",
   "id": "2fb87bbf",
   "metadata": {},
   "source": [
    "## CANDLESTICK PATTERNS"
   ]
  },
  {
   "cell_type": "code",
   "execution_count": 1037,
   "id": "98fb053f",
   "metadata": {},
   "outputs": [],
   "source": [
    "def apply_doji(df):\n",
    "    df['doji'] = talib.CDLDOJI(df['Open'], df['High'], df['Low'], df['Close'])\n",
    "    return df"
   ]
  },
  {
   "cell_type": "markdown",
   "id": "62b9d45c",
   "metadata": {},
   "source": [
    "NOTE: Can add more candlestick patterns here if required"
   ]
  },
  {
   "cell_type": "code",
   "execution_count": null,
   "id": "5ee798cd",
   "metadata": {},
   "outputs": [],
   "source": []
  },
  {
   "cell_type": "code",
   "execution_count": null,
   "id": "d1803000",
   "metadata": {},
   "outputs": [],
   "source": []
  },
  {
   "cell_type": "markdown",
   "id": "82ee645e",
   "metadata": {},
   "source": [
    "## Create the derived features"
   ]
  },
  {
   "cell_type": "code",
   "execution_count": 1038,
   "id": "5405a0e6",
   "metadata": {},
   "outputs": [],
   "source": [
    "def create_derived_features(df):\n",
    "    input_col = COL_TO_DERIVE_FEATURES\n",
    "    input_df = df.copy()\n",
    "    input_df = apply_sma(input_df, input_col)\n",
    "    input_df = apply_ema(input_df, input_col)\n",
    "    input_df = apply_rsi(input_df, input_col)\n",
    "    input_df = apply_macd(input_df, input_col)\n",
    "    input_df = apply_bollinger_band(input_df, input_col)\n",
    "    input_df = apply_roc(input_df, input_col)\n",
    "    input_df = apply_ppo(input_df, input_col)\n",
    "    input_df = apply_trendmode(input_df, input_col)\n",
    "    input_df = apply_domcycphase(input_df, input_col)\n",
    "    \n",
    "    input_df = apply_domcycphase(input_df, input_col)\n",
    "    \n",
    "\n",
    "    \n",
    "    #input_df = supertrend(input_df) # Needs high and low as well \n",
    "    #input_df = apply_doji(input_df)# Needs high and low as well \n",
    "    return input_df"
   ]
  },
  {
   "cell_type": "code",
   "execution_count": 1039,
   "id": "d99600f7",
   "metadata": {},
   "outputs": [],
   "source": [
    "stock_derived_complete_df = create_derived_features(stock_full_df)"
   ]
  },
  {
   "cell_type": "code",
   "execution_count": 1040,
   "id": "320db09e",
   "metadata": {
    "scrolled": true
   },
   "outputs": [
    {
     "data": {
      "text/html": [
       "<div>\n",
       "<style scoped>\n",
       "    .dataframe tbody tr th:only-of-type {\n",
       "        vertical-align: middle;\n",
       "    }\n",
       "\n",
       "    .dataframe tbody tr th {\n",
       "        vertical-align: top;\n",
       "    }\n",
       "\n",
       "    .dataframe thead th {\n",
       "        text-align: right;\n",
       "    }\n",
       "</style>\n",
       "<table border=\"1\" class=\"dataframe\">\n",
       "  <thead>\n",
       "    <tr style=\"text-align: right;\">\n",
       "      <th></th>\n",
       "      <th>Open</th>\n",
       "      <th>High</th>\n",
       "      <th>Low</th>\n",
       "      <th>Close</th>\n",
       "      <th>Prev Close</th>\n",
       "      <th>20_sma</th>\n",
       "      <th>50_sma</th>\n",
       "      <th>200_sma</th>\n",
       "      <th>20_ema</th>\n",
       "      <th>50_ema</th>\n",
       "      <th>...</th>\n",
       "      <th>signal</th>\n",
       "      <th>hist</th>\n",
       "      <th>sma_bb</th>\n",
       "      <th>stddev</th>\n",
       "      <th>upper_bb</th>\n",
       "      <th>lower_bb</th>\n",
       "      <th>roc</th>\n",
       "      <th>ppo</th>\n",
       "      <th>ht_trend</th>\n",
       "      <th>ht_dcphase</th>\n",
       "    </tr>\n",
       "    <tr>\n",
       "      <th>Date</th>\n",
       "      <th></th>\n",
       "      <th></th>\n",
       "      <th></th>\n",
       "      <th></th>\n",
       "      <th></th>\n",
       "      <th></th>\n",
       "      <th></th>\n",
       "      <th></th>\n",
       "      <th></th>\n",
       "      <th></th>\n",
       "      <th></th>\n",
       "      <th></th>\n",
       "      <th></th>\n",
       "      <th></th>\n",
       "      <th></th>\n",
       "      <th></th>\n",
       "      <th></th>\n",
       "      <th></th>\n",
       "      <th></th>\n",
       "      <th></th>\n",
       "      <th></th>\n",
       "    </tr>\n",
       "  </thead>\n",
       "  <tbody>\n",
       "    <tr>\n",
       "      <th>2017-05-28</th>\n",
       "      <td>2054.080078</td>\n",
       "      <td>2267.340088</td>\n",
       "      <td>2054.080078</td>\n",
       "      <td>2155.800049</td>\n",
       "      <td>NaN</td>\n",
       "      <td>NaN</td>\n",
       "      <td>NaN</td>\n",
       "      <td>NaN</td>\n",
       "      <td>NaN</td>\n",
       "      <td>NaN</td>\n",
       "      <td>...</td>\n",
       "      <td>NaN</td>\n",
       "      <td>NaN</td>\n",
       "      <td>NaN</td>\n",
       "      <td>NaN</td>\n",
       "      <td>NaN</td>\n",
       "      <td>NaN</td>\n",
       "      <td>NaN</td>\n",
       "      <td>NaN</td>\n",
       "      <td>0</td>\n",
       "      <td>NaN</td>\n",
       "    </tr>\n",
       "    <tr>\n",
       "      <th>2017-05-29</th>\n",
       "      <td>2159.429932</td>\n",
       "      <td>2307.050049</td>\n",
       "      <td>2107.169922</td>\n",
       "      <td>2255.610107</td>\n",
       "      <td>2155.800049</td>\n",
       "      <td>NaN</td>\n",
       "      <td>NaN</td>\n",
       "      <td>NaN</td>\n",
       "      <td>NaN</td>\n",
       "      <td>NaN</td>\n",
       "      <td>...</td>\n",
       "      <td>NaN</td>\n",
       "      <td>NaN</td>\n",
       "      <td>NaN</td>\n",
       "      <td>NaN</td>\n",
       "      <td>NaN</td>\n",
       "      <td>NaN</td>\n",
       "      <td>NaN</td>\n",
       "      <td>NaN</td>\n",
       "      <td>0</td>\n",
       "      <td>NaN</td>\n",
       "    </tr>\n",
       "  </tbody>\n",
       "</table>\n",
       "<p>2 rows × 23 columns</p>\n",
       "</div>"
      ],
      "text/plain": [
       "                   Open         High          Low        Close   Prev Close  \\\n",
       "Date                                                                          \n",
       "2017-05-28  2054.080078  2267.340088  2054.080078  2155.800049          NaN   \n",
       "2017-05-29  2159.429932  2307.050049  2107.169922  2255.610107  2155.800049   \n",
       "\n",
       "            20_sma  50_sma  200_sma  20_ema  50_ema  ...  signal  hist  \\\n",
       "Date                                                 ...                 \n",
       "2017-05-28     NaN     NaN      NaN     NaN     NaN  ...     NaN   NaN   \n",
       "2017-05-29     NaN     NaN      NaN     NaN     NaN  ...     NaN   NaN   \n",
       "\n",
       "            sma_bb  stddev  upper_bb  lower_bb  roc  ppo  ht_trend  ht_dcphase  \n",
       "Date                                                                            \n",
       "2017-05-28     NaN     NaN       NaN       NaN  NaN  NaN         0         NaN  \n",
       "2017-05-29     NaN     NaN       NaN       NaN  NaN  NaN         0         NaN  \n",
       "\n",
       "[2 rows x 23 columns]"
      ]
     },
     "metadata": {},
     "output_type": "display_data"
    },
    {
     "data": {
      "text/html": [
       "<div>\n",
       "<style scoped>\n",
       "    .dataframe tbody tr th:only-of-type {\n",
       "        vertical-align: middle;\n",
       "    }\n",
       "\n",
       "    .dataframe tbody tr th {\n",
       "        vertical-align: top;\n",
       "    }\n",
       "\n",
       "    .dataframe thead th {\n",
       "        text-align: right;\n",
       "    }\n",
       "</style>\n",
       "<table border=\"1\" class=\"dataframe\">\n",
       "  <thead>\n",
       "    <tr style=\"text-align: right;\">\n",
       "      <th></th>\n",
       "      <th>Open</th>\n",
       "      <th>High</th>\n",
       "      <th>Low</th>\n",
       "      <th>Close</th>\n",
       "      <th>Prev Close</th>\n",
       "      <th>20_sma</th>\n",
       "      <th>50_sma</th>\n",
       "      <th>200_sma</th>\n",
       "      <th>20_ema</th>\n",
       "      <th>50_ema</th>\n",
       "      <th>...</th>\n",
       "      <th>signal</th>\n",
       "      <th>hist</th>\n",
       "      <th>sma_bb</th>\n",
       "      <th>stddev</th>\n",
       "      <th>upper_bb</th>\n",
       "      <th>lower_bb</th>\n",
       "      <th>roc</th>\n",
       "      <th>ppo</th>\n",
       "      <th>ht_trend</th>\n",
       "      <th>ht_dcphase</th>\n",
       "    </tr>\n",
       "    <tr>\n",
       "      <th>Date</th>\n",
       "      <th></th>\n",
       "      <th></th>\n",
       "      <th></th>\n",
       "      <th></th>\n",
       "      <th></th>\n",
       "      <th></th>\n",
       "      <th></th>\n",
       "      <th></th>\n",
       "      <th></th>\n",
       "      <th></th>\n",
       "      <th></th>\n",
       "      <th></th>\n",
       "      <th></th>\n",
       "      <th></th>\n",
       "      <th></th>\n",
       "      <th></th>\n",
       "      <th></th>\n",
       "      <th></th>\n",
       "      <th></th>\n",
       "      <th></th>\n",
       "      <th></th>\n",
       "    </tr>\n",
       "  </thead>\n",
       "  <tbody>\n",
       "    <tr>\n",
       "      <th>2023-05-27</th>\n",
       "      <td>26720.181641</td>\n",
       "      <td>26888.882812</td>\n",
       "      <td>26621.140625</td>\n",
       "      <td>26868.353516</td>\n",
       "      <td>26719.291016</td>\n",
       "      <td>27089.574805</td>\n",
       "      <td>28235.861719</td>\n",
       "      <td>22740.777227</td>\n",
       "      <td>27175.184655</td>\n",
       "      <td>27425.016099</td>\n",
       "      <td>...</td>\n",
       "      <td>-404.153062</td>\n",
       "      <td>-16.898148</td>\n",
       "      <td>27089.574805</td>\n",
       "      <td>488.411200</td>\n",
       "      <td>28066.397205</td>\n",
       "      <td>26112.752405</td>\n",
       "      <td>-1.173812</td>\n",
       "      <td>-2.149707</td>\n",
       "      <td>1</td>\n",
       "      <td>53.389331</td>\n",
       "    </tr>\n",
       "    <tr>\n",
       "      <th>2023-05-28</th>\n",
       "      <td>26861.359375</td>\n",
       "      <td>27288.478516</td>\n",
       "      <td>26805.046875</td>\n",
       "      <td>27265.568359</td>\n",
       "      <td>26868.353516</td>\n",
       "      <td>27010.243555</td>\n",
       "      <td>28214.711602</td>\n",
       "      <td>22782.412637</td>\n",
       "      <td>27145.962642</td>\n",
       "      <td>27403.186194</td>\n",
       "      <td>...</td>\n",
       "      <td>-401.950732</td>\n",
       "      <td>8.809320</td>\n",
       "      <td>27010.243555</td>\n",
       "      <td>369.288585</td>\n",
       "      <td>27748.820725</td>\n",
       "      <td>26271.666384</td>\n",
       "      <td>-1.936031</td>\n",
       "      <td>-2.080459</td>\n",
       "      <td>1</td>\n",
       "      <td>44.878715</td>\n",
       "    </tr>\n",
       "  </tbody>\n",
       "</table>\n",
       "<p>2 rows × 23 columns</p>\n",
       "</div>"
      ],
      "text/plain": [
       "                    Open          High           Low         Close  \\\n",
       "Date                                                                 \n",
       "2023-05-27  26720.181641  26888.882812  26621.140625  26868.353516   \n",
       "2023-05-28  26861.359375  27288.478516  26805.046875  27265.568359   \n",
       "\n",
       "              Prev Close        20_sma        50_sma       200_sma  \\\n",
       "Date                                                                 \n",
       "2023-05-27  26719.291016  27089.574805  28235.861719  22740.777227   \n",
       "2023-05-28  26868.353516  27010.243555  28214.711602  22782.412637   \n",
       "\n",
       "                  20_ema        50_ema  ...      signal       hist  \\\n",
       "Date                                    ...                          \n",
       "2023-05-27  27175.184655  27425.016099  ... -404.153062 -16.898148   \n",
       "2023-05-28  27145.962642  27403.186194  ... -401.950732   8.809320   \n",
       "\n",
       "                  sma_bb      stddev      upper_bb      lower_bb       roc  \\\n",
       "Date                                                                         \n",
       "2023-05-27  27089.574805  488.411200  28066.397205  26112.752405 -1.173812   \n",
       "2023-05-28  27010.243555  369.288585  27748.820725  26271.666384 -1.936031   \n",
       "\n",
       "                 ppo  ht_trend  ht_dcphase  \n",
       "Date                                        \n",
       "2023-05-27 -2.149707         1   53.389331  \n",
       "2023-05-28 -2.080459         1   44.878715  \n",
       "\n",
       "[2 rows x 23 columns]"
      ]
     },
     "metadata": {},
     "output_type": "display_data"
    }
   ],
   "source": [
    "display(stock_derived_complete_df.head(2))\n",
    "display(stock_derived_complete_df.tail(2))"
   ]
  },
  {
   "cell_type": "markdown",
   "id": "942ac915",
   "metadata": {},
   "source": [
    "**After adding the derived features for the moving averages, consider the data of last 5 years for further model training**"
   ]
  },
  {
   "cell_type": "code",
   "execution_count": 1041,
   "id": "87b8cd3b",
   "metadata": {},
   "outputs": [
    {
     "data": {
      "text/plain": [
       "(1826, 23)"
      ]
     },
     "execution_count": 1041,
     "metadata": {},
     "output_type": "execute_result"
    }
   ],
   "source": [
    "\n",
    "start_date_5yrs = date.today() - relativedelta(years=5)\n",
    "# Consider last 5y data\n",
    "stock_derived_df = stock_derived_complete_df[stock_derived_complete_df.index > pd.to_datetime(start_date_5yrs)]\n",
    "stock_derived_df.shape"
   ]
  },
  {
   "cell_type": "code",
   "execution_count": 1042,
   "id": "d2e4e0f2",
   "metadata": {},
   "outputs": [],
   "source": [
    "stock_derived_df.to_csv(\"derived_df.csv\")"
   ]
  },
  {
   "cell_type": "code",
   "execution_count": 1043,
   "id": "f9695e19",
   "metadata": {},
   "outputs": [
    {
     "data": {
      "text/html": [
       "<div>\n",
       "<style scoped>\n",
       "    .dataframe tbody tr th:only-of-type {\n",
       "        vertical-align: middle;\n",
       "    }\n",
       "\n",
       "    .dataframe tbody tr th {\n",
       "        vertical-align: top;\n",
       "    }\n",
       "\n",
       "    .dataframe thead th {\n",
       "        text-align: right;\n",
       "    }\n",
       "</style>\n",
       "<table border=\"1\" class=\"dataframe\">\n",
       "  <thead>\n",
       "    <tr style=\"text-align: right;\">\n",
       "      <th></th>\n",
       "      <th>Open</th>\n",
       "      <th>High</th>\n",
       "      <th>Low</th>\n",
       "      <th>Close</th>\n",
       "      <th>Prev Close</th>\n",
       "      <th>20_sma</th>\n",
       "      <th>50_sma</th>\n",
       "      <th>200_sma</th>\n",
       "      <th>20_ema</th>\n",
       "      <th>50_ema</th>\n",
       "      <th>...</th>\n",
       "      <th>signal</th>\n",
       "      <th>hist</th>\n",
       "      <th>sma_bb</th>\n",
       "      <th>stddev</th>\n",
       "      <th>upper_bb</th>\n",
       "      <th>lower_bb</th>\n",
       "      <th>roc</th>\n",
       "      <th>ppo</th>\n",
       "      <th>ht_trend</th>\n",
       "      <th>ht_dcphase</th>\n",
       "    </tr>\n",
       "    <tr>\n",
       "      <th>Date</th>\n",
       "      <th></th>\n",
       "      <th></th>\n",
       "      <th></th>\n",
       "      <th></th>\n",
       "      <th></th>\n",
       "      <th></th>\n",
       "      <th></th>\n",
       "      <th></th>\n",
       "      <th></th>\n",
       "      <th></th>\n",
       "      <th></th>\n",
       "      <th></th>\n",
       "      <th></th>\n",
       "      <th></th>\n",
       "      <th></th>\n",
       "      <th></th>\n",
       "      <th></th>\n",
       "      <th></th>\n",
       "      <th></th>\n",
       "      <th></th>\n",
       "      <th></th>\n",
       "    </tr>\n",
       "  </thead>\n",
       "  <tbody>\n",
       "    <tr>\n",
       "      <th>2018-05-29</th>\n",
       "      <td>7129.459961</td>\n",
       "      <td>7526.419922</td>\n",
       "      <td>7090.680176</td>\n",
       "      <td>7472.589844</td>\n",
       "      <td>7135.990234</td>\n",
       "      <td>8184.365991</td>\n",
       "      <td>8499.903389</td>\n",
       "      <td>10378.231008</td>\n",
       "      <td>8051.954569</td>\n",
       "      <td>8416.230422</td>\n",
       "      <td>...</td>\n",
       "      <td>-268.526111</td>\n",
       "      <td>-131.285649</td>\n",
       "      <td>8184.365991</td>\n",
       "      <td>599.150435</td>\n",
       "      <td>9382.666862</td>\n",
       "      <td>6986.065121</td>\n",
       "      <td>-13.513315</td>\n",
       "      <td>-7.897597</td>\n",
       "      <td>1</td>\n",
       "      <td>3.559815</td>\n",
       "    </tr>\n",
       "    <tr>\n",
       "      <th>2018-05-30</th>\n",
       "      <td>7469.729980</td>\n",
       "      <td>7573.770020</td>\n",
       "      <td>7313.600098</td>\n",
       "      <td>7406.520020</td>\n",
       "      <td>7472.589844</td>\n",
       "      <td>8091.736499</td>\n",
       "      <td>8513.940586</td>\n",
       "      <td>10382.503257</td>\n",
       "      <td>7996.776976</td>\n",
       "      <td>8379.224909</td>\n",
       "      <td>...</td>\n",
       "      <td>-293.678208</td>\n",
       "      <td>-100.608387</td>\n",
       "      <td>8091.736499</td>\n",
       "      <td>555.082193</td>\n",
       "      <td>9201.900885</td>\n",
       "      <td>6981.572113</td>\n",
       "      <td>-9.392179</td>\n",
       "      <td>-7.557471</td>\n",
       "      <td>1</td>\n",
       "      <td>-0.000760</td>\n",
       "    </tr>\n",
       "  </tbody>\n",
       "</table>\n",
       "<p>2 rows × 23 columns</p>\n",
       "</div>"
      ],
      "text/plain": [
       "                   Open         High          Low        Close   Prev Close  \\\n",
       "Date                                                                          \n",
       "2018-05-29  7129.459961  7526.419922  7090.680176  7472.589844  7135.990234   \n",
       "2018-05-30  7469.729980  7573.770020  7313.600098  7406.520020  7472.589844   \n",
       "\n",
       "                 20_sma       50_sma       200_sma       20_ema       50_ema  \\\n",
       "Date                                                                           \n",
       "2018-05-29  8184.365991  8499.903389  10378.231008  8051.954569  8416.230422   \n",
       "2018-05-30  8091.736499  8513.940586  10382.503257  7996.776976  8379.224909   \n",
       "\n",
       "            ...      signal        hist       sma_bb      stddev     upper_bb  \\\n",
       "Date        ...                                                                 \n",
       "2018-05-29  ... -268.526111 -131.285649  8184.365991  599.150435  9382.666862   \n",
       "2018-05-30  ... -293.678208 -100.608387  8091.736499  555.082193  9201.900885   \n",
       "\n",
       "               lower_bb        roc       ppo  ht_trend  ht_dcphase  \n",
       "Date                                                                \n",
       "2018-05-29  6986.065121 -13.513315 -7.897597         1    3.559815  \n",
       "2018-05-30  6981.572113  -9.392179 -7.557471         1   -0.000760  \n",
       "\n",
       "[2 rows x 23 columns]"
      ]
     },
     "metadata": {},
     "output_type": "display_data"
    },
    {
     "data": {
      "text/html": [
       "<div>\n",
       "<style scoped>\n",
       "    .dataframe tbody tr th:only-of-type {\n",
       "        vertical-align: middle;\n",
       "    }\n",
       "\n",
       "    .dataframe tbody tr th {\n",
       "        vertical-align: top;\n",
       "    }\n",
       "\n",
       "    .dataframe thead th {\n",
       "        text-align: right;\n",
       "    }\n",
       "</style>\n",
       "<table border=\"1\" class=\"dataframe\">\n",
       "  <thead>\n",
       "    <tr style=\"text-align: right;\">\n",
       "      <th></th>\n",
       "      <th>Open</th>\n",
       "      <th>High</th>\n",
       "      <th>Low</th>\n",
       "      <th>Close</th>\n",
       "      <th>Prev Close</th>\n",
       "      <th>20_sma</th>\n",
       "      <th>50_sma</th>\n",
       "      <th>200_sma</th>\n",
       "      <th>20_ema</th>\n",
       "      <th>50_ema</th>\n",
       "      <th>...</th>\n",
       "      <th>signal</th>\n",
       "      <th>hist</th>\n",
       "      <th>sma_bb</th>\n",
       "      <th>stddev</th>\n",
       "      <th>upper_bb</th>\n",
       "      <th>lower_bb</th>\n",
       "      <th>roc</th>\n",
       "      <th>ppo</th>\n",
       "      <th>ht_trend</th>\n",
       "      <th>ht_dcphase</th>\n",
       "    </tr>\n",
       "    <tr>\n",
       "      <th>Date</th>\n",
       "      <th></th>\n",
       "      <th></th>\n",
       "      <th></th>\n",
       "      <th></th>\n",
       "      <th></th>\n",
       "      <th></th>\n",
       "      <th></th>\n",
       "      <th></th>\n",
       "      <th></th>\n",
       "      <th></th>\n",
       "      <th></th>\n",
       "      <th></th>\n",
       "      <th></th>\n",
       "      <th></th>\n",
       "      <th></th>\n",
       "      <th></th>\n",
       "      <th></th>\n",
       "      <th></th>\n",
       "      <th></th>\n",
       "      <th></th>\n",
       "      <th></th>\n",
       "    </tr>\n",
       "  </thead>\n",
       "  <tbody>\n",
       "    <tr>\n",
       "      <th>2023-05-27</th>\n",
       "      <td>26720.181641</td>\n",
       "      <td>26888.882812</td>\n",
       "      <td>26621.140625</td>\n",
       "      <td>26868.353516</td>\n",
       "      <td>26719.291016</td>\n",
       "      <td>27089.574805</td>\n",
       "      <td>28235.861719</td>\n",
       "      <td>22740.777227</td>\n",
       "      <td>27175.184655</td>\n",
       "      <td>27425.016099</td>\n",
       "      <td>...</td>\n",
       "      <td>-404.153062</td>\n",
       "      <td>-16.898148</td>\n",
       "      <td>27089.574805</td>\n",
       "      <td>488.411200</td>\n",
       "      <td>28066.397205</td>\n",
       "      <td>26112.752405</td>\n",
       "      <td>-1.173812</td>\n",
       "      <td>-2.149707</td>\n",
       "      <td>1</td>\n",
       "      <td>53.389331</td>\n",
       "    </tr>\n",
       "    <tr>\n",
       "      <th>2023-05-28</th>\n",
       "      <td>26861.359375</td>\n",
       "      <td>27288.478516</td>\n",
       "      <td>26805.046875</td>\n",
       "      <td>27265.568359</td>\n",
       "      <td>26868.353516</td>\n",
       "      <td>27010.243555</td>\n",
       "      <td>28214.711602</td>\n",
       "      <td>22782.412637</td>\n",
       "      <td>27145.962642</td>\n",
       "      <td>27403.186194</td>\n",
       "      <td>...</td>\n",
       "      <td>-401.950732</td>\n",
       "      <td>8.809320</td>\n",
       "      <td>27010.243555</td>\n",
       "      <td>369.288585</td>\n",
       "      <td>27748.820725</td>\n",
       "      <td>26271.666384</td>\n",
       "      <td>-1.936031</td>\n",
       "      <td>-2.080459</td>\n",
       "      <td>1</td>\n",
       "      <td>44.878715</td>\n",
       "    </tr>\n",
       "  </tbody>\n",
       "</table>\n",
       "<p>2 rows × 23 columns</p>\n",
       "</div>"
      ],
      "text/plain": [
       "                    Open          High           Low         Close  \\\n",
       "Date                                                                 \n",
       "2023-05-27  26720.181641  26888.882812  26621.140625  26868.353516   \n",
       "2023-05-28  26861.359375  27288.478516  26805.046875  27265.568359   \n",
       "\n",
       "              Prev Close        20_sma        50_sma       200_sma  \\\n",
       "Date                                                                 \n",
       "2023-05-27  26719.291016  27089.574805  28235.861719  22740.777227   \n",
       "2023-05-28  26868.353516  27010.243555  28214.711602  22782.412637   \n",
       "\n",
       "                  20_ema        50_ema  ...      signal       hist  \\\n",
       "Date                                    ...                          \n",
       "2023-05-27  27175.184655  27425.016099  ... -404.153062 -16.898148   \n",
       "2023-05-28  27145.962642  27403.186194  ... -401.950732   8.809320   \n",
       "\n",
       "                  sma_bb      stddev      upper_bb      lower_bb       roc  \\\n",
       "Date                                                                         \n",
       "2023-05-27  27089.574805  488.411200  28066.397205  26112.752405 -1.173812   \n",
       "2023-05-28  27010.243555  369.288585  27748.820725  26271.666384 -1.936031   \n",
       "\n",
       "                 ppo  ht_trend  ht_dcphase  \n",
       "Date                                        \n",
       "2023-05-27 -2.149707         1   53.389331  \n",
       "2023-05-28 -2.080459         1   44.878715  \n",
       "\n",
       "[2 rows x 23 columns]"
      ]
     },
     "metadata": {},
     "output_type": "display_data"
    }
   ],
   "source": [
    "display(stock_derived_df.head(2))\n",
    "display(stock_derived_df.tail(2))"
   ]
  },
  {
   "cell_type": "markdown",
   "id": "5a987955",
   "metadata": {},
   "source": [
    "# Drop rows with NaN"
   ]
  },
  {
   "cell_type": "code",
   "execution_count": 1045,
   "id": "d1c4d2a4",
   "metadata": {},
   "outputs": [
    {
     "data": {
      "text/plain": [
       "0"
      ]
     },
     "execution_count": 1045,
     "metadata": {},
     "output_type": "execute_result"
    }
   ],
   "source": [
    "stock_derived_df.isna().sum().sum()"
   ]
  },
  {
   "cell_type": "code",
   "execution_count": 1046,
   "id": "8f282754",
   "metadata": {},
   "outputs": [
    {
     "name": "stdout",
     "output_type": "stream",
     "text": [
      "Shape before dropping NaN values:(1826, 23)\n"
     ]
    }
   ],
   "source": [
    "# # Most models cannot handle NaN in the data. Drop the NaNs in the newly created columns (MA columns)\n",
    "print(f'Shape before dropping NaN values:{stock_derived_df.shape}')\n",
    "#stock_derived_df.dropna(inplace=True)\n",
    "#print(f'Shape after dropping NaN values:{stock_derived_df.shape}')"
   ]
  },
  {
   "cell_type": "code",
   "execution_count": 1047,
   "id": "9fcca5d6",
   "metadata": {},
   "outputs": [
    {
     "data": {
      "text/html": [
       "<div>\n",
       "<style scoped>\n",
       "    .dataframe tbody tr th:only-of-type {\n",
       "        vertical-align: middle;\n",
       "    }\n",
       "\n",
       "    .dataframe tbody tr th {\n",
       "        vertical-align: top;\n",
       "    }\n",
       "\n",
       "    .dataframe thead th {\n",
       "        text-align: right;\n",
       "    }\n",
       "</style>\n",
       "<table border=\"1\" class=\"dataframe\">\n",
       "  <thead>\n",
       "    <tr style=\"text-align: right;\">\n",
       "      <th></th>\n",
       "      <th>Open</th>\n",
       "      <th>High</th>\n",
       "      <th>Low</th>\n",
       "      <th>Close</th>\n",
       "      <th>Prev Close</th>\n",
       "      <th>20_sma</th>\n",
       "      <th>50_sma</th>\n",
       "      <th>200_sma</th>\n",
       "      <th>20_ema</th>\n",
       "      <th>50_ema</th>\n",
       "      <th>...</th>\n",
       "      <th>signal</th>\n",
       "      <th>hist</th>\n",
       "      <th>sma_bb</th>\n",
       "      <th>stddev</th>\n",
       "      <th>upper_bb</th>\n",
       "      <th>lower_bb</th>\n",
       "      <th>roc</th>\n",
       "      <th>ppo</th>\n",
       "      <th>ht_trend</th>\n",
       "      <th>ht_dcphase</th>\n",
       "    </tr>\n",
       "    <tr>\n",
       "      <th>Date</th>\n",
       "      <th></th>\n",
       "      <th></th>\n",
       "      <th></th>\n",
       "      <th></th>\n",
       "      <th></th>\n",
       "      <th></th>\n",
       "      <th></th>\n",
       "      <th></th>\n",
       "      <th></th>\n",
       "      <th></th>\n",
       "      <th></th>\n",
       "      <th></th>\n",
       "      <th></th>\n",
       "      <th></th>\n",
       "      <th></th>\n",
       "      <th></th>\n",
       "      <th></th>\n",
       "      <th></th>\n",
       "      <th></th>\n",
       "      <th></th>\n",
       "      <th></th>\n",
       "    </tr>\n",
       "  </thead>\n",
       "  <tbody>\n",
       "  </tbody>\n",
       "</table>\n",
       "<p>0 rows × 23 columns</p>\n",
       "</div>"
      ],
      "text/plain": [
       "Empty DataFrame\n",
       "Columns: [Open, High, Low, Close, Prev Close, 20_sma, 50_sma, 200_sma, 20_ema, 50_ema, 200_ema, rsi, macd, signal, hist, sma_bb, stddev, upper_bb, lower_bb, roc, ppo, ht_trend, ht_dcphase]\n",
       "Index: []\n",
       "\n",
       "[0 rows x 23 columns]"
      ]
     },
     "execution_count": 1047,
     "metadata": {},
     "output_type": "execute_result"
    }
   ],
   "source": [
    "stock_derived_df[stock_derived_df.isnull().any(axis=1)]"
   ]
  },
  {
   "cell_type": "code",
   "execution_count": 1048,
   "id": "5b116ec8",
   "metadata": {},
   "outputs": [
    {
     "data": {
      "text/plain": [
       "Index(['Open', 'High', 'Low', 'Close', 'Prev Close', '20_sma', '50_sma',\n",
       "       '200_sma', '20_ema', '50_ema', '200_ema', 'rsi', 'macd', 'signal',\n",
       "       'hist', 'sma_bb', 'stddev', 'upper_bb', 'lower_bb', 'roc', 'ppo',\n",
       "       'ht_trend', 'ht_dcphase'],\n",
       "      dtype='object')"
      ]
     },
     "execution_count": 1048,
     "metadata": {},
     "output_type": "execute_result"
    }
   ],
   "source": [
    "stock_derived_df.columns"
   ]
  },
  {
   "cell_type": "code",
   "execution_count": 1049,
   "id": "9378aa9a",
   "metadata": {},
   "outputs": [],
   "source": [
    "## Drop the columns that are not required to train the model\n",
    "COLS_TO_DROP=['Open', 'High', 'Low', 'Prev Close']\n",
    "stock_derived_df=stock_derived_df.drop(COLS_TO_DROP,axis=1)"
   ]
  },
  {
   "cell_type": "code",
   "execution_count": 1050,
   "id": "e6bd66df",
   "metadata": {},
   "outputs": [
    {
     "data": {
      "text/plain": [
       "(1826, 19)"
      ]
     },
     "execution_count": 1050,
     "metadata": {},
     "output_type": "execute_result"
    }
   ],
   "source": [
    "stock_derived_df.shape"
   ]
  },
  {
   "cell_type": "markdown",
   "id": "f6362ddb",
   "metadata": {},
   "source": [
    "# EDA"
   ]
  },
  {
   "cell_type": "markdown",
   "id": "4af42fe4",
   "metadata": {},
   "source": [
    "## Close price distribution"
   ]
  },
  {
   "cell_type": "code",
   "execution_count": 1051,
   "id": "9a3a822e",
   "metadata": {},
   "outputs": [
    {
     "data": {
      "text/plain": [
       "<AxesSubplot:xlabel='Close', ylabel='Density'>"
      ]
     },
     "execution_count": 1051,
     "metadata": {},
     "output_type": "execute_result"
    },
    {
     "data": {
      "image/png": "[encoded data removed]",
      "text/plain": [
       "<Figure size 432x288 with 1 Axes>"
      ]
     },
     "metadata": {
      "needs_background": "light"
     },
     "output_type": "display_data"
    }
   ],
   "source": [
    "sns.distplot(stock_derived_df[TARGET_COLUMN])"
   ]
  },
  {
   "cell_type": "markdown",
   "id": "adcbd5c3",
   "metadata": {},
   "source": [
    "# Check for multicollinearity"
   ]
  },
  {
   "cell_type": "code",
   "execution_count": null,
   "id": "505b3573",
   "metadata": {},
   "outputs": [],
   "source": []
  },
  {
   "cell_type": "code",
   "execution_count": 1052,
   "id": "affc2650",
   "metadata": {},
   "outputs": [
    {
     "data": {
      "image/png": "[encoded data removed]",
      "text/plain": [
       "<Figure size 1440x1080 with 2 Axes>"
      ]
     },
     "metadata": {
      "needs_background": "light"
     },
     "output_type": "display_data"
    }
   ],
   "source": [
    "def plot_correlation(df):\n",
    "    f = plt.figure(figsize=(20, 15))\n",
    "\n",
    "    ax = plt.matshow(corr, fignum=f.number,cmap='RdYlGn')\n",
    "    plt.xticks(range(df.shape[1]), df.columns, fontsize=14, rotation=45)\n",
    "    plt.yticks(range(df.shape[1]), df.columns, fontsize=14)\n",
    "    cb = plt.colorbar()\n",
    "    cb.ax.tick_params(labelsize=14)\n",
    "    #ax.set_ylim([0,2])\n",
    "    plt.title('Correlation Matrix', fontsize=16);\n",
    "    \n",
    "corr=stock_derived_df.corr()\n",
    "plot_correlation(stock_derived_df)\n"
   ]
  },
  {
   "cell_type": "code",
   "execution_count": 1053,
   "id": "fa11c5f2",
   "metadata": {},
   "outputs": [
    {
     "data": {
      "text/html": [
       "<style type=\"text/css\">\n",
       "#T_a157e_row0_col0, #T_a157e_row1_col1, #T_a157e_row1_col4, #T_a157e_row1_col11, #T_a157e_row1_col13, #T_a157e_row2_col2, #T_a157e_row2_col5, #T_a157e_row3_col3, #T_a157e_row4_col1, #T_a157e_row4_col4, #T_a157e_row4_col11, #T_a157e_row5_col2, #T_a157e_row5_col5, #T_a157e_row6_col6, #T_a157e_row7_col7, #T_a157e_row8_col8, #T_a157e_row9_col9, #T_a157e_row10_col10, #T_a157e_row11_col1, #T_a157e_row11_col4, #T_a157e_row11_col11, #T_a157e_row11_col13, #T_a157e_row12_col12, #T_a157e_row13_col1, #T_a157e_row13_col11, #T_a157e_row13_col13, #T_a157e_row14_col14, #T_a157e_row15_col15, #T_a157e_row16_col16, #T_a157e_row17_col17, #T_a157e_row18_col18 {\n",
       "  background-color: #b40426;\n",
       "  color: #f1f1f1;\n",
       "}\n",
       "#T_a157e_row0_col1, #T_a157e_row0_col11, #T_a157e_row0_col13, #T_a157e_row1_col0, #T_a157e_row2_col13, #T_a157e_row5_col14, #T_a157e_row11_col0, #T_a157e_row13_col0, #T_a157e_row13_col2, #T_a157e_row14_col5 {\n",
       "  background-color: #b8122a;\n",
       "  color: #f1f1f1;\n",
       "}\n",
       "#T_a157e_row0_col2, #T_a157e_row8_col9, #T_a157e_row9_col8 {\n",
       "  background-color: #c0282f;\n",
       "  color: #f1f1f1;\n",
       "}\n",
       "#T_a157e_row0_col3 {\n",
       "  background-color: #df634e;\n",
       "  color: #f1f1f1;\n",
       "}\n",
       "#T_a157e_row0_col4, #T_a157e_row1_col2, #T_a157e_row2_col1, #T_a157e_row2_col4, #T_a157e_row2_col11, #T_a157e_row3_col6, #T_a157e_row4_col0, #T_a157e_row4_col2, #T_a157e_row5_col13, #T_a157e_row11_col2, #T_a157e_row13_col5 {\n",
       "  background-color: #b70d28;\n",
       "  color: #f1f1f1;\n",
       "}\n",
       "#T_a157e_row0_col5, #T_a157e_row14_col0 {\n",
       "  background-color: #bd1f2d;\n",
       "  color: #f1f1f1;\n",
       "}\n",
       "#T_a157e_row0_col6 {\n",
       "  background-color: #d65244;\n",
       "  color: #f1f1f1;\n",
       "}\n",
       "#T_a157e_row0_col7, #T_a157e_row0_col16 {\n",
       "  background-color: #7ea1fa;\n",
       "  color: #f1f1f1;\n",
       "}\n",
       "#T_a157e_row0_col8 {\n",
       "  background-color: #a3c2fe;\n",
       "  color: #000000;\n",
       "}\n",
       "#T_a157e_row0_col9 {\n",
       "  background-color: #a9c6fd;\n",
       "  color: #000000;\n",
       "}\n",
       "#T_a157e_row0_col10, #T_a157e_row1_col7, #T_a157e_row11_col7, #T_a157e_row12_col10, #T_a157e_row16_col4, #T_a157e_row18_col4 {\n",
       "  background-color: #5f7fe8;\n",
       "  color: #f1f1f1;\n",
       "}\n",
       "#T_a157e_row0_col12, #T_a157e_row12_col2, #T_a157e_row12_col5 {\n",
       "  background-color: #f08a6c;\n",
       "  color: #f1f1f1;\n",
       "}\n",
       "#T_a157e_row0_col14, #T_a157e_row13_col14, #T_a157e_row14_col13 {\n",
       "  background-color: #bb1b2c;\n",
       "  color: #f1f1f1;\n",
       "}\n",
       "#T_a157e_row0_col15, #T_a157e_row18_col14 {\n",
       "  background-color: #6e90f2;\n",
       "  color: #f1f1f1;\n",
       "}\n",
       "#T_a157e_row0_col17, #T_a157e_row8_col13, #T_a157e_row17_col9 {\n",
       "  background-color: #7699f6;\n",
       "  color: #f1f1f1;\n",
       "}\n",
       "#T_a157e_row0_col18, #T_a157e_row3_col10 {\n",
       "  background-color: #5e7de7;\n",
       "  color: #f1f1f1;\n",
       "}\n",
       "#T_a157e_row1_col3, #T_a157e_row3_col1, #T_a157e_row3_col11, #T_a157e_row3_col14, #T_a157e_row6_col0, #T_a157e_row11_col3 {\n",
       "  background-color: #d95847;\n",
       "  color: #f1f1f1;\n",
       "}\n",
       "#T_a157e_row1_col5, #T_a157e_row1_col14, #T_a157e_row4_col5, #T_a157e_row4_col13, #T_a157e_row4_col14, #T_a157e_row5_col1, #T_a157e_row5_col4, #T_a157e_row5_col11, #T_a157e_row6_col3, #T_a157e_row11_col5, #T_a157e_row11_col14, #T_a157e_row13_col4, #T_a157e_row14_col1, #T_a157e_row14_col4, #T_a157e_row14_col11 {\n",
       "  background-color: #b50927;\n",
       "  color: #f1f1f1;\n",
       "}\n",
       "#T_a157e_row1_col6, #T_a157e_row5_col3, #T_a157e_row6_col1, #T_a157e_row6_col4, #T_a157e_row6_col11, #T_a157e_row6_col14, #T_a157e_row11_col6, #T_a157e_row14_col6 {\n",
       "  background-color: #cf453c;\n",
       "  color: #f1f1f1;\n",
       "}\n",
       "#T_a157e_row1_col8, #T_a157e_row11_col8, #T_a157e_row17_col6, #T_a157e_row17_col14 {\n",
       "  background-color: #81a4fb;\n",
       "  color: #f1f1f1;\n",
       "}\n",
       "#T_a157e_row1_col9, #T_a157e_row4_col9, #T_a157e_row11_col9, #T_a157e_row12_col9, #T_a157e_row18_col15 {\n",
       "  background-color: #8fb1fe;\n",
       "  color: #000000;\n",
       "}\n",
       "#T_a157e_row1_col10, #T_a157e_row6_col8, #T_a157e_row10_col12, #T_a157e_row11_col10 {\n",
       "  background-color: #3e51c5;\n",
       "  color: #f1f1f1;\n",
       "}\n",
       "#T_a157e_row1_col12, #T_a157e_row11_col12, #T_a157e_row16_col8 {\n",
       "  background-color: #f18d6f;\n",
       "  color: #f1f1f1;\n",
       "}\n",
       "#T_a157e_row1_col15, #T_a157e_row11_col15 {\n",
       "  background-color: #4c66d6;\n",
       "  color: #f1f1f1;\n",
       "}\n",
       "#T_a157e_row1_col16, #T_a157e_row10_col3, #T_a157e_row11_col16, #T_a157e_row16_col14, #T_a157e_row17_col0, #T_a157e_row18_col10 {\n",
       "  background-color: #6485ec;\n",
       "  color: #f1f1f1;\n",
       "}\n",
       "#T_a157e_row1_col17, #T_a157e_row2_col17, #T_a157e_row8_col4, #T_a157e_row11_col17, #T_a157e_row12_col16 {\n",
       "  background-color: #7396f5;\n",
       "  color: #f1f1f1;\n",
       "}\n",
       "#T_a157e_row1_col18, #T_a157e_row4_col18, #T_a157e_row6_col10, #T_a157e_row7_col0, #T_a157e_row7_col13, #T_a157e_row11_col18, #T_a157e_row16_col12, #T_a157e_row18_col6 {\n",
       "  background-color: #5673e0;\n",
       "  color: #f1f1f1;\n",
       "}\n",
       "#T_a157e_row2_col0 {\n",
       "  background-color: #c12b30;\n",
       "  color: #f1f1f1;\n",
       "}\n",
       "#T_a157e_row2_col3, #T_a157e_row3_col5 {\n",
       "  background-color: #d0473d;\n",
       "  color: #f1f1f1;\n",
       "}\n",
       "#T_a157e_row2_col6, #T_a157e_row6_col2 {\n",
       "  background-color: #c53334;\n",
       "  color: #f1f1f1;\n",
       "}\n",
       "#T_a157e_row2_col7, #T_a157e_row2_col16 {\n",
       "  background-color: #4b64d5;\n",
       "  color: #f1f1f1;\n",
       "}\n",
       "#T_a157e_row2_col8, #T_a157e_row14_col18 {\n",
       "  background-color: #5977e3;\n",
       "  color: #f1f1f1;\n",
       "}\n",
       "#T_a157e_row2_col9, #T_a157e_row4_col7, #T_a157e_row13_col7, #T_a157e_row14_col16, #T_a157e_row16_col13 {\n",
       "  background-color: #6282ea;\n",
       "  color: #f1f1f1;\n",
       "}\n",
       "#T_a157e_row2_col10, #T_a157e_row2_col18, #T_a157e_row5_col15, #T_a157e_row12_col18 {\n",
       "  background-color: #455cce;\n",
       "  color: #f1f1f1;\n",
       "}\n",
       "#T_a157e_row2_col12, #T_a157e_row5_col12, #T_a157e_row8_col16 {\n",
       "  background-color: #f29072;\n",
       "  color: #f1f1f1;\n",
       "}\n",
       "#T_a157e_row2_col14, #T_a157e_row14_col2 {\n",
       "  background-color: #ba162b;\n",
       "  color: #f1f1f1;\n",
       "}\n",
       "#T_a157e_row2_col15, #T_a157e_row13_col10, #T_a157e_row15_col2, #T_a157e_row16_col6 {\n",
       "  background-color: #4257c9;\n",
       "  color: #f1f1f1;\n",
       "}\n",
       "#T_a157e_row3_col0 {\n",
       "  background-color: #e46e56;\n",
       "  color: #f1f1f1;\n",
       "}\n",
       "#T_a157e_row3_col2, #T_a157e_row6_col13, #T_a157e_row13_col6 {\n",
       "  background-color: #d1493f;\n",
       "  color: #f1f1f1;\n",
       "}\n",
       "#T_a157e_row3_col4 {\n",
       "  background-color: #da5a49;\n",
       "  color: #f1f1f1;\n",
       "}\n",
       "#T_a157e_row3_col7, #T_a157e_row3_col8, #T_a157e_row3_col9, #T_a157e_row3_col15, #T_a157e_row3_col16, #T_a157e_row6_col15, #T_a157e_row7_col6, #T_a157e_row8_col3, #T_a157e_row8_col6, #T_a157e_row9_col3, #T_a157e_row10_col0, #T_a157e_row10_col1, #T_a157e_row10_col2, #T_a157e_row10_col4, #T_a157e_row10_col5, #T_a157e_row10_col11, #T_a157e_row10_col13, #T_a157e_row10_col14, #T_a157e_row14_col10, #T_a157e_row17_col18, #T_a157e_row18_col12, #T_a157e_row18_col17 {\n",
       "  background-color: #3b4cc0;\n",
       "  color: #f1f1f1;\n",
       "}\n",
       "#T_a157e_row3_col12 {\n",
       "  background-color: #f6bea4;\n",
       "  color: #000000;\n",
       "}\n",
       "#T_a157e_row3_col13 {\n",
       "  background-color: #dd5f4b;\n",
       "  color: #f1f1f1;\n",
       "}\n",
       "#T_a157e_row3_col17, #T_a157e_row9_col12, #T_a157e_row17_col15 {\n",
       "  background-color: #6a8bef;\n",
       "  color: #f1f1f1;\n",
       "}\n",
       "#T_a157e_row3_col18, #T_a157e_row6_col18 {\n",
       "  background-color: #3f53c6;\n",
       "  color: #f1f1f1;\n",
       "}\n",
       "#T_a157e_row4_col3, #T_a157e_row14_col3 {\n",
       "  background-color: #d85646;\n",
       "  color: #f1f1f1;\n",
       "}\n",
       "#T_a157e_row4_col6 {\n",
       "  background-color: #cd423b;\n",
       "  color: #f1f1f1;\n",
       "}\n",
       "#T_a157e_row4_col8, #T_a157e_row9_col0, #T_a157e_row9_col13, #T_a157e_row17_col1, #T_a157e_row17_col3, #T_a157e_row17_col11 {\n",
       "  background-color: #84a7fc;\n",
       "  color: #f1f1f1;\n",
       "}\n",
       "#T_a157e_row4_col10, #T_a157e_row5_col10, #T_a157e_row15_col6 {\n",
       "  background-color: #465ecf;\n",
       "  color: #f1f1f1;\n",
       "}\n",
       "#T_a157e_row4_col12, #T_a157e_row12_col0 {\n",
       "  background-color: #f08b6e;\n",
       "  color: #f1f1f1;\n",
       "}\n",
       "#T_a157e_row4_col15, #T_a157e_row7_col12, #T_a157e_row8_col5, #T_a157e_row9_col2 {\n",
       "  background-color: #516ddb;\n",
       "  color: #f1f1f1;\n",
       "}\n",
       "#T_a157e_row4_col16, #T_a157e_row12_col15, #T_a157e_row18_col1, #T_a157e_row18_col11 {\n",
       "  background-color: #6788ee;\n",
       "  color: #f1f1f1;\n",
       "}\n",
       "#T_a157e_row4_col17, #T_a157e_row12_col7, #T_a157e_row17_col8 {\n",
       "  background-color: #7597f6;\n",
       "  color: #f1f1f1;\n",
       "}\n",
       "#T_a157e_row5_col0 {\n",
       "  background-color: #be242e;\n",
       "  color: #f1f1f1;\n",
       "}\n",
       "#T_a157e_row5_col6, #T_a157e_row6_col5 {\n",
       "  background-color: #c43032;\n",
       "  color: #f1f1f1;\n",
       "}\n",
       "#T_a157e_row5_col7, #T_a157e_row10_col17, #T_a157e_row15_col4 {\n",
       "  background-color: #506bda;\n",
       "  color: #f1f1f1;\n",
       "}\n",
       "#T_a157e_row5_col8, #T_a157e_row16_col1, #T_a157e_row16_col11 {\n",
       "  background-color: #6384eb;\n",
       "  color: #f1f1f1;\n",
       "}\n",
       "#T_a157e_row5_col9, #T_a157e_row14_col17 {\n",
       "  background-color: #6c8ff1;\n",
       "  color: #f1f1f1;\n",
       "}\n",
       "#T_a157e_row5_col16, #T_a157e_row7_col4, #T_a157e_row15_col1, #T_a157e_row15_col11, #T_a157e_row15_col12, #T_a157e_row15_col13, #T_a157e_row15_col14, #T_a157e_row18_col5 {\n",
       "  background-color: #536edd;\n",
       "  color: #f1f1f1;\n",
       "}\n",
       "#T_a157e_row5_col17, #T_a157e_row9_col10 {\n",
       "  background-color: #7295f4;\n",
       "  color: #f1f1f1;\n",
       "}\n",
       "#T_a157e_row5_col18, #T_a157e_row15_col3, #T_a157e_row16_col5 {\n",
       "  background-color: #4a63d3;\n",
       "  color: #f1f1f1;\n",
       "}\n",
       "#T_a157e_row6_col7, #T_a157e_row7_col3, #T_a157e_row9_col6 {\n",
       "  background-color: #3c4ec2;\n",
       "  color: #f1f1f1;\n",
       "}\n",
       "#T_a157e_row6_col9, #T_a157e_row7_col5 {\n",
       "  background-color: #4055c8;\n",
       "  color: #f1f1f1;\n",
       "}\n",
       "#T_a157e_row6_col12 {\n",
       "  background-color: #f7b396;\n",
       "  color: #000000;\n",
       "}\n",
       "#T_a157e_row6_col16, #T_a157e_row7_col2 {\n",
       "  background-color: #3d50c3;\n",
       "  color: #f1f1f1;\n",
       "}\n",
       "#T_a157e_row6_col17, #T_a157e_row17_col16 {\n",
       "  background-color: #6b8df0;\n",
       "  color: #f1f1f1;\n",
       "}\n",
       "#T_a157e_row7_col1, #T_a157e_row7_col11, #T_a157e_row7_col14, #T_a157e_row10_col6 {\n",
       "  background-color: #5875e1;\n",
       "  color: #f1f1f1;\n",
       "}\n",
       "#T_a157e_row7_col8 {\n",
       "  background-color: #f7ad90;\n",
       "  color: #000000;\n",
       "}\n",
       "#T_a157e_row7_col9, #T_a157e_row18_col16 {\n",
       "  background-color: #f3c7b1;\n",
       "  color: #000000;\n",
       "}\n",
       "#T_a157e_row7_col10 {\n",
       "  background-color: #e4d9d2;\n",
       "  color: #000000;\n",
       "}\n",
       "#T_a157e_row7_col15 {\n",
       "  background-color: #e67259;\n",
       "  color: #f1f1f1;\n",
       "}\n",
       "#T_a157e_row7_col16 {\n",
       "  background-color: #f39577;\n",
       "  color: #000000;\n",
       "}\n",
       "#T_a157e_row7_col17, #T_a157e_row8_col12, #T_a157e_row13_col16, #T_a157e_row17_col10 {\n",
       "  background-color: #6687ed;\n",
       "  color: #f1f1f1;\n",
       "}\n",
       "#T_a157e_row7_col18, #T_a157e_row9_col15 {\n",
       "  background-color: #c7d7f0;\n",
       "  color: #000000;\n",
       "}\n",
       "#T_a157e_row8_col0, #T_a157e_row14_col8, #T_a157e_row17_col2, #T_a157e_row17_col4, #T_a157e_row17_col7 {\n",
       "  background-color: #7da0f9;\n",
       "  color: #f1f1f1;\n",
       "}\n",
       "#T_a157e_row8_col1, #T_a157e_row8_col11, #T_a157e_row10_col9 {\n",
       "  background-color: #779af7;\n",
       "  color: #f1f1f1;\n",
       "}\n",
       "#T_a157e_row8_col2 {\n",
       "  background-color: #4961d2;\n",
       "  color: #f1f1f1;\n",
       "}\n",
       "#T_a157e_row8_col7 {\n",
       "  background-color: #f7af91;\n",
       "  color: #000000;\n",
       "}\n",
       "#T_a157e_row8_col10 {\n",
       "  background-color: #c3d5f4;\n",
       "  color: #000000;\n",
       "}\n",
       "#T_a157e_row8_col14 {\n",
       "  background-color: #799cf8;\n",
       "  color: #f1f1f1;\n",
       "}\n",
       "#T_a157e_row8_col15 {\n",
       "  background-color: #edd1c2;\n",
       "  color: #000000;\n",
       "}\n",
       "#T_a157e_row8_col17, #T_a157e_row9_col17, #T_a157e_row14_col7 {\n",
       "  background-color: #5b7ae5;\n",
       "  color: #f1f1f1;\n",
       "}\n",
       "#T_a157e_row8_col18 {\n",
       "  background-color: #ccd9ed;\n",
       "  color: #000000;\n",
       "}\n",
       "#T_a157e_row9_col1, #T_a157e_row9_col11 {\n",
       "  background-color: #85a8fc;\n",
       "  color: #f1f1f1;\n",
       "}\n",
       "#T_a157e_row9_col4 {\n",
       "  background-color: #80a3fa;\n",
       "  color: #f1f1f1;\n",
       "}\n",
       "#T_a157e_row9_col5, #T_a157e_row16_col17, #T_a157e_row18_col3 {\n",
       "  background-color: #5a78e4;\n",
       "  color: #f1f1f1;\n",
       "}\n",
       "#T_a157e_row9_col7 {\n",
       "  background-color: #f3c8b2;\n",
       "  color: #000000;\n",
       "}\n",
       "#T_a157e_row9_col14 {\n",
       "  background-color: #88abfd;\n",
       "  color: #000000;\n",
       "}\n",
       "#T_a157e_row9_col16 {\n",
       "  background-color: #f59d7e;\n",
       "  color: #000000;\n",
       "}\n",
       "#T_a157e_row9_col18 {\n",
       "  background-color: #d2dbe8;\n",
       "  color: #000000;\n",
       "}\n",
       "#T_a157e_row10_col7 {\n",
       "  background-color: #e5d8d1;\n",
       "  color: #000000;\n",
       "}\n",
       "#T_a157e_row10_col8 {\n",
       "  background-color: #c6d6f1;\n",
       "  color: #000000;\n",
       "}\n",
       "#T_a157e_row10_col15 {\n",
       "  background-color: #f7a98b;\n",
       "  color: #000000;\n",
       "}\n",
       "#T_a157e_row10_col16 {\n",
       "  background-color: #b3cdfb;\n",
       "  color: #000000;\n",
       "}\n",
       "#T_a157e_row10_col18, #T_a157e_row13_col15, #T_a157e_row18_col2 {\n",
       "  background-color: #4f69d9;\n",
       "  color: #f1f1f1;\n",
       "}\n",
       "#T_a157e_row12_col1, #T_a157e_row12_col11 {\n",
       "  background-color: #ed8366;\n",
       "  color: #f1f1f1;\n",
       "}\n",
       "#T_a157e_row12_col3 {\n",
       "  background-color: #f7b093;\n",
       "  color: #000000;\n",
       "}\n",
       "#T_a157e_row12_col4 {\n",
       "  background-color: #ee8468;\n",
       "  color: #f1f1f1;\n",
       "}\n",
       "#T_a157e_row12_col6 {\n",
       "  background-color: #f7a688;\n",
       "  color: #000000;\n",
       "}\n",
       "#T_a157e_row12_col8 {\n",
       "  background-color: #8badfd;\n",
       "  color: #000000;\n",
       "}\n",
       "#T_a157e_row12_col13 {\n",
       "  background-color: #e36c55;\n",
       "  color: #f1f1f1;\n",
       "}\n",
       "#T_a157e_row12_col14 {\n",
       "  background-color: #f5a081;\n",
       "  color: #000000;\n",
       "}\n",
       "#T_a157e_row12_col17 {\n",
       "  background-color: #94b6ff;\n",
       "  color: #000000;\n",
       "}\n",
       "#T_a157e_row13_col3 {\n",
       "  background-color: #dc5d4a;\n",
       "  color: #f1f1f1;\n",
       "}\n",
       "#T_a157e_row13_col8 {\n",
       "  background-color: #82a6fb;\n",
       "  color: #f1f1f1;\n",
       "}\n",
       "#T_a157e_row13_col9 {\n",
       "  background-color: #90b2fe;\n",
       "  color: #000000;\n",
       "}\n",
       "#T_a157e_row13_col12 {\n",
       "  background-color: #e7745b;\n",
       "  color: #f1f1f1;\n",
       "}\n",
       "#T_a157e_row13_col17, #T_a157e_row17_col5 {\n",
       "  background-color: #7a9df8;\n",
       "  color: #f1f1f1;\n",
       "}\n",
       "#T_a157e_row13_col18, #T_a157e_row15_col0 {\n",
       "  background-color: #5470de;\n",
       "  color: #f1f1f1;\n",
       "}\n",
       "#T_a157e_row14_col9 {\n",
       "  background-color: #8db0fe;\n",
       "  color: #000000;\n",
       "}\n",
       "#T_a157e_row14_col12 {\n",
       "  background-color: #f7ac8e;\n",
       "  color: #000000;\n",
       "}\n",
       "#T_a157e_row14_col15 {\n",
       "  background-color: #485fd1;\n",
       "  color: #f1f1f1;\n",
       "}\n",
       "#T_a157e_row15_col5, #T_a157e_row16_col2, #T_a157e_row16_col3 {\n",
       "  background-color: #445acc;\n",
       "  color: #f1f1f1;\n",
       "}\n",
       "#T_a157e_row15_col7 {\n",
       "  background-color: #e57058;\n",
       "  color: #f1f1f1;\n",
       "}\n",
       "#T_a157e_row15_col8 {\n",
       "  background-color: #f1ccb8;\n",
       "  color: #000000;\n",
       "}\n",
       "#T_a157e_row15_col9 {\n",
       "  background-color: #d1dae9;\n",
       "  color: #000000;\n",
       "}\n",
       "#T_a157e_row15_col10 {\n",
       "  background-color: #f6a586;\n",
       "  color: #000000;\n",
       "}\n",
       "#T_a157e_row15_col16 {\n",
       "  background-color: #f0cdbb;\n",
       "  color: #000000;\n",
       "}\n",
       "#T_a157e_row15_col17, #T_a157e_row18_col13 {\n",
       "  background-color: #6180e9;\n",
       "  color: #f1f1f1;\n",
       "}\n",
       "#T_a157e_row15_col18, #T_a157e_row17_col13 {\n",
       "  background-color: #86a9fc;\n",
       "  color: #f1f1f1;\n",
       "}\n",
       "#T_a157e_row16_col0 {\n",
       "  background-color: #5d7ce6;\n",
       "  color: #f1f1f1;\n",
       "}\n",
       "#T_a157e_row16_col7 {\n",
       "  background-color: #f29274;\n",
       "  color: #f1f1f1;\n",
       "}\n",
       "#T_a157e_row16_col9 {\n",
       "  background-color: #f49a7b;\n",
       "  color: #000000;\n",
       "}\n",
       "#T_a157e_row16_col10 {\n",
       "  background-color: #b6cefa;\n",
       "  color: #000000;\n",
       "}\n",
       "#T_a157e_row16_col15 {\n",
       "  background-color: #eed0c0;\n",
       "  color: #000000;\n",
       "}\n",
       "#T_a157e_row16_col18 {\n",
       "  background-color: #f1cdba;\n",
       "  color: #000000;\n",
       "}\n",
       "#T_a157e_row17_col12 {\n",
       "  background-color: #89acfd;\n",
       "  color: #000000;\n",
       "}\n",
       "#T_a157e_row18_col0 {\n",
       "  background-color: #4e68d8;\n",
       "  color: #f1f1f1;\n",
       "}\n",
       "#T_a157e_row18_col7 {\n",
       "  background-color: #d5dbe5;\n",
       "  color: #000000;\n",
       "}\n",
       "#T_a157e_row18_col8 {\n",
       "  background-color: #d9dce1;\n",
       "  color: #000000;\n",
       "}\n",
       "#T_a157e_row18_col9 {\n",
       "  background-color: #dedcdb;\n",
       "  color: #000000;\n",
       "}\n",
       "</style>\n",
       "<table id=\"T_a157e_\">\n",
       "  <thead>\n",
       "    <tr>\n",
       "      <th class=\"blank level0\" >&nbsp;</th>\n",
       "      <th class=\"col_heading level0 col0\" >Close</th>\n",
       "      <th class=\"col_heading level0 col1\" >20_sma</th>\n",
       "      <th class=\"col_heading level0 col2\" >50_sma</th>\n",
       "      <th class=\"col_heading level0 col3\" >200_sma</th>\n",
       "      <th class=\"col_heading level0 col4\" >20_ema</th>\n",
       "      <th class=\"col_heading level0 col5\" >50_ema</th>\n",
       "      <th class=\"col_heading level0 col6\" >200_ema</th>\n",
       "      <th class=\"col_heading level0 col7\" >rsi</th>\n",
       "      <th class=\"col_heading level0 col8\" >macd</th>\n",
       "      <th class=\"col_heading level0 col9\" >signal</th>\n",
       "      <th class=\"col_heading level0 col10\" >hist</th>\n",
       "      <th class=\"col_heading level0 col11\" >sma_bb</th>\n",
       "      <th class=\"col_heading level0 col12\" >stddev</th>\n",
       "      <th class=\"col_heading level0 col13\" >upper_bb</th>\n",
       "      <th class=\"col_heading level0 col14\" >lower_bb</th>\n",
       "      <th class=\"col_heading level0 col15\" >roc</th>\n",
       "      <th class=\"col_heading level0 col16\" >ppo</th>\n",
       "      <th class=\"col_heading level0 col17\" >ht_trend</th>\n",
       "      <th class=\"col_heading level0 col18\" >ht_dcphase</th>\n",
       "    </tr>\n",
       "  </thead>\n",
       "  <tbody>\n",
       "    <tr>\n",
       "      <th id=\"T_a157e_level0_row0\" class=\"row_heading level0 row0\" >Close</th>\n",
       "      <td id=\"T_a157e_row0_col0\" class=\"data row0 col0\" >1.0</td>\n",
       "      <td id=\"T_a157e_row0_col1\" class=\"data row0 col1\" >1.0</td>\n",
       "      <td id=\"T_a157e_row0_col2\" class=\"data row0 col2\" >1.0</td>\n",
       "      <td id=\"T_a157e_row0_col3\" class=\"data row0 col3\" >0.8</td>\n",
       "      <td id=\"T_a157e_row0_col4\" class=\"data row0 col4\" >1.0</td>\n",
       "      <td id=\"T_a157e_row0_col5\" class=\"data row0 col5\" >1.0</td>\n",
       "      <td id=\"T_a157e_row0_col6\" class=\"data row0 col6\" >0.9</td>\n",
       "      <td id=\"T_a157e_row0_col7\" class=\"data row0 col7\" >0.1</td>\n",
       "      <td id=\"T_a157e_row0_col8\" class=\"data row0 col8\" >0.2</td>\n",
       "      <td id=\"T_a157e_row0_col9\" class=\"data row0 col9\" >0.2</td>\n",
       "      <td id=\"T_a157e_row0_col10\" class=\"data row0 col10\" >-0.0</td>\n",
       "      <td id=\"T_a157e_row0_col11\" class=\"data row0 col11\" >1.0</td>\n",
       "      <td id=\"T_a157e_row0_col12\" class=\"data row0 col12\" >0.8</td>\n",
       "      <td id=\"T_a157e_row0_col13\" class=\"data row0 col13\" >1.0</td>\n",
       "      <td id=\"T_a157e_row0_col14\" class=\"data row0 col14\" >1.0</td>\n",
       "      <td id=\"T_a157e_row0_col15\" class=\"data row0 col15\" >0.1</td>\n",
       "      <td id=\"T_a157e_row0_col16\" class=\"data row0 col16\" >0.1</td>\n",
       "      <td id=\"T_a157e_row0_col17\" class=\"data row0 col17\" >0.1</td>\n",
       "      <td id=\"T_a157e_row0_col18\" class=\"data row0 col18\" >0.0</td>\n",
       "    </tr>\n",
       "    <tr>\n",
       "      <th id=\"T_a157e_level0_row1\" class=\"row_heading level0 row1\" >20_sma</th>\n",
       "      <td id=\"T_a157e_row1_col0\" class=\"data row1 col0\" >1.0</td>\n",
       "      <td id=\"T_a157e_row1_col1\" class=\"data row1 col1\" >1.0</td>\n",
       "      <td id=\"T_a157e_row1_col2\" class=\"data row1 col2\" >1.0</td>\n",
       "      <td id=\"T_a157e_row1_col3\" class=\"data row1 col3\" >0.9</td>\n",
       "      <td id=\"T_a157e_row1_col4\" class=\"data row1 col4\" >1.0</td>\n",
       "      <td id=\"T_a157e_row1_col5\" class=\"data row1 col5\" >1.0</td>\n",
       "      <td id=\"T_a157e_row1_col6\" class=\"data row1 col6\" >0.9</td>\n",
       "      <td id=\"T_a157e_row1_col7\" class=\"data row1 col7\" >-0.0</td>\n",
       "      <td id=\"T_a157e_row1_col8\" class=\"data row1 col8\" >0.1</td>\n",
       "      <td id=\"T_a157e_row1_col9\" class=\"data row1 col9\" >0.1</td>\n",
       "      <td id=\"T_a157e_row1_col10\" class=\"data row1 col10\" >-0.1</td>\n",
       "      <td id=\"T_a157e_row1_col11\" class=\"data row1 col11\" >1.0</td>\n",
       "      <td id=\"T_a157e_row1_col12\" class=\"data row1 col12\" >0.8</td>\n",
       "      <td id=\"T_a157e_row1_col13\" class=\"data row1 col13\" >1.0</td>\n",
       "      <td id=\"T_a157e_row1_col14\" class=\"data row1 col14\" >1.0</td>\n",
       "      <td id=\"T_a157e_row1_col15\" class=\"data row1 col15\" >-0.1</td>\n",
       "      <td id=\"T_a157e_row1_col16\" class=\"data row1 col16\" >0.0</td>\n",
       "      <td id=\"T_a157e_row1_col17\" class=\"data row1 col17\" >0.1</td>\n",
       "      <td id=\"T_a157e_row1_col18\" class=\"data row1 col18\" >0.0</td>\n",
       "    </tr>\n",
       "    <tr>\n",
       "      <th id=\"T_a157e_level0_row2\" class=\"row_heading level0 row2\" >50_sma</th>\n",
       "      <td id=\"T_a157e_row2_col0\" class=\"data row2 col0\" >1.0</td>\n",
       "      <td id=\"T_a157e_row2_col1\" class=\"data row2 col1\" >1.0</td>\n",
       "      <td id=\"T_a157e_row2_col2\" class=\"data row2 col2\" >1.0</td>\n",
       "      <td id=\"T_a157e_row2_col3\" class=\"data row2 col3\" >0.9</td>\n",
       "      <td id=\"T_a157e_row2_col4\" class=\"data row2 col4\" >1.0</td>\n",
       "      <td id=\"T_a157e_row2_col5\" class=\"data row2 col5\" >1.0</td>\n",
       "      <td id=\"T_a157e_row2_col6\" class=\"data row2 col6\" >0.9</td>\n",
       "      <td id=\"T_a157e_row2_col7\" class=\"data row2 col7\" >-0.1</td>\n",
       "      <td id=\"T_a157e_row2_col8\" class=\"data row2 col8\" >-0.1</td>\n",
       "      <td id=\"T_a157e_row2_col9\" class=\"data row2 col9\" >-0.0</td>\n",
       "      <td id=\"T_a157e_row2_col10\" class=\"data row2 col10\" >-0.1</td>\n",
       "      <td id=\"T_a157e_row2_col11\" class=\"data row2 col11\" >1.0</td>\n",
       "      <td id=\"T_a157e_row2_col12\" class=\"data row2 col12\" >0.8</td>\n",
       "      <td id=\"T_a157e_row2_col13\" class=\"data row2 col13\" >1.0</td>\n",
       "      <td id=\"T_a157e_row2_col14\" class=\"data row2 col14\" >1.0</td>\n",
       "      <td id=\"T_a157e_row2_col15\" class=\"data row2 col15\" >-0.1</td>\n",
       "      <td id=\"T_a157e_row2_col16\" class=\"data row2 col16\" >-0.1</td>\n",
       "      <td id=\"T_a157e_row2_col17\" class=\"data row2 col17\" >0.1</td>\n",
       "      <td id=\"T_a157e_row2_col18\" class=\"data row2 col18\" >-0.0</td>\n",
       "    </tr>\n",
       "    <tr>\n",
       "      <th id=\"T_a157e_level0_row3\" class=\"row_heading level0 row3\" >200_sma</th>\n",
       "      <td id=\"T_a157e_row3_col0\" class=\"data row3 col0\" >0.8</td>\n",
       "      <td id=\"T_a157e_row3_col1\" class=\"data row3 col1\" >0.9</td>\n",
       "      <td id=\"T_a157e_row3_col2\" class=\"data row3 col2\" >0.9</td>\n",
       "      <td id=\"T_a157e_row3_col3\" class=\"data row3 col3\" >1.0</td>\n",
       "      <td id=\"T_a157e_row3_col4\" class=\"data row3 col4\" >0.9</td>\n",
       "      <td id=\"T_a157e_row3_col5\" class=\"data row3 col5\" >0.9</td>\n",
       "      <td id=\"T_a157e_row3_col6\" class=\"data row3 col6\" >1.0</td>\n",
       "      <td id=\"T_a157e_row3_col7\" class=\"data row3 col7\" >-0.2</td>\n",
       "      <td id=\"T_a157e_row3_col8\" class=\"data row3 col8\" >-0.2</td>\n",
       "      <td id=\"T_a157e_row3_col9\" class=\"data row3 col9\" >-0.2</td>\n",
       "      <td id=\"T_a157e_row3_col10\" class=\"data row3 col10\" >-0.0</td>\n",
       "      <td id=\"T_a157e_row3_col11\" class=\"data row3 col11\" >0.9</td>\n",
       "      <td id=\"T_a157e_row3_col12\" class=\"data row3 col12\" >0.6</td>\n",
       "      <td id=\"T_a157e_row3_col13\" class=\"data row3 col13\" >0.9</td>\n",
       "      <td id=\"T_a157e_row3_col14\" class=\"data row3 col14\" >0.9</td>\n",
       "      <td id=\"T_a157e_row3_col15\" class=\"data row3 col15\" >-0.1</td>\n",
       "      <td id=\"T_a157e_row3_col16\" class=\"data row3 col16\" >-0.1</td>\n",
       "      <td id=\"T_a157e_row3_col17\" class=\"data row3 col17\" >0.1</td>\n",
       "      <td id=\"T_a157e_row3_col18\" class=\"data row3 col18\" >-0.1</td>\n",
       "    </tr>\n",
       "    <tr>\n",
       "      <th id=\"T_a157e_level0_row4\" class=\"row_heading level0 row4\" >20_ema</th>\n",
       "      <td id=\"T_a157e_row4_col0\" class=\"data row4 col0\" >1.0</td>\n",
       "      <td id=\"T_a157e_row4_col1\" class=\"data row4 col1\" >1.0</td>\n",
       "      <td id=\"T_a157e_row4_col2\" class=\"data row4 col2\" >1.0</td>\n",
       "      <td id=\"T_a157e_row4_col3\" class=\"data row4 col3\" >0.9</td>\n",
       "      <td id=\"T_a157e_row4_col4\" class=\"data row4 col4\" >1.0</td>\n",
       "      <td id=\"T_a157e_row4_col5\" class=\"data row4 col5\" >1.0</td>\n",
       "      <td id=\"T_a157e_row4_col6\" class=\"data row4 col6\" >0.9</td>\n",
       "      <td id=\"T_a157e_row4_col7\" class=\"data row4 col7\" >-0.0</td>\n",
       "      <td id=\"T_a157e_row4_col8\" class=\"data row4 col8\" >0.1</td>\n",
       "      <td id=\"T_a157e_row4_col9\" class=\"data row4 col9\" >0.1</td>\n",
       "      <td id=\"T_a157e_row4_col10\" class=\"data row4 col10\" >-0.1</td>\n",
       "      <td id=\"T_a157e_row4_col11\" class=\"data row4 col11\" >1.0</td>\n",
       "      <td id=\"T_a157e_row4_col12\" class=\"data row4 col12\" >0.8</td>\n",
       "      <td id=\"T_a157e_row4_col13\" class=\"data row4 col13\" >1.0</td>\n",
       "      <td id=\"T_a157e_row4_col14\" class=\"data row4 col14\" >1.0</td>\n",
       "      <td id=\"T_a157e_row4_col15\" class=\"data row4 col15\" >-0.0</td>\n",
       "      <td id=\"T_a157e_row4_col16\" class=\"data row4 col16\" >0.0</td>\n",
       "      <td id=\"T_a157e_row4_col17\" class=\"data row4 col17\" >0.1</td>\n",
       "      <td id=\"T_a157e_row4_col18\" class=\"data row4 col18\" >0.0</td>\n",
       "    </tr>\n",
       "    <tr>\n",
       "      <th id=\"T_a157e_level0_row5\" class=\"row_heading level0 row5\" >50_ema</th>\n",
       "      <td id=\"T_a157e_row5_col0\" class=\"data row5 col0\" >1.0</td>\n",
       "      <td id=\"T_a157e_row5_col1\" class=\"data row5 col1\" >1.0</td>\n",
       "      <td id=\"T_a157e_row5_col2\" class=\"data row5 col2\" >1.0</td>\n",
       "      <td id=\"T_a157e_row5_col3\" class=\"data row5 col3\" >0.9</td>\n",
       "      <td id=\"T_a157e_row5_col4\" class=\"data row5 col4\" >1.0</td>\n",
       "      <td id=\"T_a157e_row5_col5\" class=\"data row5 col5\" >1.0</td>\n",
       "      <td id=\"T_a157e_row5_col6\" class=\"data row5 col6\" >0.9</td>\n",
       "      <td id=\"T_a157e_row5_col7\" class=\"data row5 col7\" >-0.1</td>\n",
       "      <td id=\"T_a157e_row5_col8\" class=\"data row5 col8\" >-0.0</td>\n",
       "      <td id=\"T_a157e_row5_col9\" class=\"data row5 col9\" >0.0</td>\n",
       "      <td id=\"T_a157e_row5_col10\" class=\"data row5 col10\" >-0.1</td>\n",
       "      <td id=\"T_a157e_row5_col11\" class=\"data row5 col11\" >1.0</td>\n",
       "      <td id=\"T_a157e_row5_col12\" class=\"data row5 col12\" >0.8</td>\n",
       "      <td id=\"T_a157e_row5_col13\" class=\"data row5 col13\" >1.0</td>\n",
       "      <td id=\"T_a157e_row5_col14\" class=\"data row5 col14\" >1.0</td>\n",
       "      <td id=\"T_a157e_row5_col15\" class=\"data row5 col15\" >-0.1</td>\n",
       "      <td id=\"T_a157e_row5_col16\" class=\"data row5 col16\" >-0.1</td>\n",
       "      <td id=\"T_a157e_row5_col17\" class=\"data row5 col17\" >0.1</td>\n",
       "      <td id=\"T_a157e_row5_col18\" class=\"data row5 col18\" >-0.0</td>\n",
       "    </tr>\n",
       "    <tr>\n",
       "      <th id=\"T_a157e_level0_row6\" class=\"row_heading level0 row6\" >200_ema</th>\n",
       "      <td id=\"T_a157e_row6_col0\" class=\"data row6 col0\" >0.9</td>\n",
       "      <td id=\"T_a157e_row6_col1\" class=\"data row6 col1\" >0.9</td>\n",
       "      <td id=\"T_a157e_row6_col2\" class=\"data row6 col2\" >0.9</td>\n",
       "      <td id=\"T_a157e_row6_col3\" class=\"data row6 col3\" >1.0</td>\n",
       "      <td id=\"T_a157e_row6_col4\" class=\"data row6 col4\" >0.9</td>\n",
       "      <td id=\"T_a157e_row6_col5\" class=\"data row6 col5\" >0.9</td>\n",
       "      <td id=\"T_a157e_row6_col6\" class=\"data row6 col6\" >1.0</td>\n",
       "      <td id=\"T_a157e_row6_col7\" class=\"data row6 col7\" >-0.2</td>\n",
       "      <td id=\"T_a157e_row6_col8\" class=\"data row6 col8\" >-0.2</td>\n",
       "      <td id=\"T_a157e_row6_col9\" class=\"data row6 col9\" >-0.2</td>\n",
       "      <td id=\"T_a157e_row6_col10\" class=\"data row6 col10\" >-0.1</td>\n",
       "      <td id=\"T_a157e_row6_col11\" class=\"data row6 col11\" >0.9</td>\n",
       "      <td id=\"T_a157e_row6_col12\" class=\"data row6 col12\" >0.7</td>\n",
       "      <td id=\"T_a157e_row6_col13\" class=\"data row6 col13\" >0.9</td>\n",
       "      <td id=\"T_a157e_row6_col14\" class=\"data row6 col14\" >0.9</td>\n",
       "      <td id=\"T_a157e_row6_col15\" class=\"data row6 col15\" >-0.1</td>\n",
       "      <td id=\"T_a157e_row6_col16\" class=\"data row6 col16\" >-0.1</td>\n",
       "      <td id=\"T_a157e_row6_col17\" class=\"data row6 col17\" >0.1</td>\n",
       "      <td id=\"T_a157e_row6_col18\" class=\"data row6 col18\" >-0.1</td>\n",
       "    </tr>\n",
       "    <tr>\n",
       "      <th id=\"T_a157e_level0_row7\" class=\"row_heading level0 row7\" >rsi</th>\n",
       "      <td id=\"T_a157e_row7_col0\" class=\"data row7 col0\" >0.1</td>\n",
       "      <td id=\"T_a157e_row7_col1\" class=\"data row7 col1\" >-0.0</td>\n",
       "      <td id=\"T_a157e_row7_col2\" class=\"data row7 col2\" >-0.1</td>\n",
       "      <td id=\"T_a157e_row7_col3\" class=\"data row7 col3\" >-0.2</td>\n",
       "      <td id=\"T_a157e_row7_col4\" class=\"data row7 col4\" >-0.0</td>\n",
       "      <td id=\"T_a157e_row7_col5\" class=\"data row7 col5\" >-0.1</td>\n",
       "      <td id=\"T_a157e_row7_col6\" class=\"data row7 col6\" >-0.2</td>\n",
       "      <td id=\"T_a157e_row7_col7\" class=\"data row7 col7\" >1.0</td>\n",
       "      <td id=\"T_a157e_row7_col8\" class=\"data row7 col8\" >0.6</td>\n",
       "      <td id=\"T_a157e_row7_col9\" class=\"data row7 col9\" >0.5</td>\n",
       "      <td id=\"T_a157e_row7_col10\" class=\"data row7 col10\" >0.5</td>\n",
       "      <td id=\"T_a157e_row7_col11\" class=\"data row7 col11\" >-0.0</td>\n",
       "      <td id=\"T_a157e_row7_col12\" class=\"data row7 col12\" >0.0</td>\n",
       "      <td id=\"T_a157e_row7_col13\" class=\"data row7 col13\" >-0.0</td>\n",
       "      <td id=\"T_a157e_row7_col14\" class=\"data row7 col14\" >-0.1</td>\n",
       "      <td id=\"T_a157e_row7_col15\" class=\"data row7 col15\" >0.8</td>\n",
       "      <td id=\"T_a157e_row7_col16\" class=\"data row7 col16\" >0.7</td>\n",
       "      <td id=\"T_a157e_row7_col17\" class=\"data row7 col17\" >0.1</td>\n",
       "      <td id=\"T_a157e_row7_col18\" class=\"data row7 col18\" >0.4</td>\n",
       "    </tr>\n",
       "    <tr>\n",
       "      <th id=\"T_a157e_level0_row8\" class=\"row_heading level0 row8\" >macd</th>\n",
       "      <td id=\"T_a157e_row8_col0\" class=\"data row8 col0\" >0.2</td>\n",
       "      <td id=\"T_a157e_row8_col1\" class=\"data row8 col1\" >0.1</td>\n",
       "      <td id=\"T_a157e_row8_col2\" class=\"data row8 col2\" >-0.1</td>\n",
       "      <td id=\"T_a157e_row8_col3\" class=\"data row8 col3\" >-0.2</td>\n",
       "      <td id=\"T_a157e_row8_col4\" class=\"data row8 col4\" >0.1</td>\n",
       "      <td id=\"T_a157e_row8_col5\" class=\"data row8 col5\" >-0.0</td>\n",
       "      <td id=\"T_a157e_row8_col6\" class=\"data row8 col6\" >-0.2</td>\n",
       "      <td id=\"T_a157e_row8_col7\" class=\"data row8 col7\" >0.6</td>\n",
       "      <td id=\"T_a157e_row8_col8\" class=\"data row8 col8\" >1.0</td>\n",
       "      <td id=\"T_a157e_row8_col9\" class=\"data row8 col9\" >1.0</td>\n",
       "      <td id=\"T_a157e_row8_col10\" class=\"data row8 col10\" >0.3</td>\n",
       "      <td id=\"T_a157e_row8_col11\" class=\"data row8 col11\" >0.1</td>\n",
       "      <td id=\"T_a157e_row8_col12\" class=\"data row8 col12\" >0.1</td>\n",
       "      <td id=\"T_a157e_row8_col13\" class=\"data row8 col13\" >0.1</td>\n",
       "      <td id=\"T_a157e_row8_col14\" class=\"data row8 col14\" >0.1</td>\n",
       "      <td id=\"T_a157e_row8_col15\" class=\"data row8 col15\" >0.5</td>\n",
       "      <td id=\"T_a157e_row8_col16\" class=\"data row8 col16\" >0.7</td>\n",
       "      <td id=\"T_a157e_row8_col17\" class=\"data row8 col17\" >0.0</td>\n",
       "      <td id=\"T_a157e_row8_col18\" class=\"data row8 col18\" >0.4</td>\n",
       "    </tr>\n",
       "    <tr>\n",
       "      <th id=\"T_a157e_level0_row9\" class=\"row_heading level0 row9\" >signal</th>\n",
       "      <td id=\"T_a157e_row9_col0\" class=\"data row9 col0\" >0.2</td>\n",
       "      <td id=\"T_a157e_row9_col1\" class=\"data row9 col1\" >0.1</td>\n",
       "      <td id=\"T_a157e_row9_col2\" class=\"data row9 col2\" >-0.0</td>\n",
       "      <td id=\"T_a157e_row9_col3\" class=\"data row9 col3\" >-0.2</td>\n",
       "      <td id=\"T_a157e_row9_col4\" class=\"data row9 col4\" >0.1</td>\n",
       "      <td id=\"T_a157e_row9_col5\" class=\"data row9 col5\" >0.0</td>\n",
       "      <td id=\"T_a157e_row9_col6\" class=\"data row9 col6\" >-0.2</td>\n",
       "      <td id=\"T_a157e_row9_col7\" class=\"data row9 col7\" >0.5</td>\n",
       "      <td id=\"T_a157e_row9_col8\" class=\"data row9 col8\" >1.0</td>\n",
       "      <td id=\"T_a157e_row9_col9\" class=\"data row9 col9\" >1.0</td>\n",
       "      <td id=\"T_a157e_row9_col10\" class=\"data row9 col10\" >0.0</td>\n",
       "      <td id=\"T_a157e_row9_col11\" class=\"data row9 col11\" >0.1</td>\n",
       "      <td id=\"T_a157e_row9_col12\" class=\"data row9 col12\" >0.1</td>\n",
       "      <td id=\"T_a157e_row9_col13\" class=\"data row9 col13\" >0.1</td>\n",
       "      <td id=\"T_a157e_row9_col14\" class=\"data row9 col14\" >0.1</td>\n",
       "      <td id=\"T_a157e_row9_col15\" class=\"data row9 col15\" >0.4</td>\n",
       "      <td id=\"T_a157e_row9_col16\" class=\"data row9 col16\" >0.7</td>\n",
       "      <td id=\"T_a157e_row9_col17\" class=\"data row9 col17\" >0.0</td>\n",
       "      <td id=\"T_a157e_row9_col18\" class=\"data row9 col18\" >0.4</td>\n",
       "    </tr>\n",
       "    <tr>\n",
       "      <th id=\"T_a157e_level0_row10\" class=\"row_heading level0 row10\" >hist</th>\n",
       "      <td id=\"T_a157e_row10_col0\" class=\"data row10 col0\" >-0.0</td>\n",
       "      <td id=\"T_a157e_row10_col1\" class=\"data row10 col1\" >-0.1</td>\n",
       "      <td id=\"T_a157e_row10_col2\" class=\"data row10 col2\" >-0.1</td>\n",
       "      <td id=\"T_a157e_row10_col3\" class=\"data row10 col3\" >-0.0</td>\n",
       "      <td id=\"T_a157e_row10_col4\" class=\"data row10 col4\" >-0.1</td>\n",
       "      <td id=\"T_a157e_row10_col5\" class=\"data row10 col5\" >-0.1</td>\n",
       "      <td id=\"T_a157e_row10_col6\" class=\"data row10 col6\" >-0.1</td>\n",
       "      <td id=\"T_a157e_row10_col7\" class=\"data row10 col7\" >0.5</td>\n",
       "      <td id=\"T_a157e_row10_col8\" class=\"data row10 col8\" >0.3</td>\n",
       "      <td id=\"T_a157e_row10_col9\" class=\"data row10 col9\" >0.0</td>\n",
       "      <td id=\"T_a157e_row10_col10\" class=\"data row10 col10\" >1.0</td>\n",
       "      <td id=\"T_a157e_row10_col11\" class=\"data row10 col11\" >-0.1</td>\n",
       "      <td id=\"T_a157e_row10_col12\" class=\"data row10 col12\" >-0.0</td>\n",
       "      <td id=\"T_a157e_row10_col13\" class=\"data row10 col13\" >-0.1</td>\n",
       "      <td id=\"T_a157e_row10_col14\" class=\"data row10 col14\" >-0.2</td>\n",
       "      <td id=\"T_a157e_row10_col15\" class=\"data row10 col15\" >0.7</td>\n",
       "      <td id=\"T_a157e_row10_col16\" class=\"data row10 col16\" >0.3</td>\n",
       "      <td id=\"T_a157e_row10_col17\" class=\"data row10 col17\" >-0.0</td>\n",
       "      <td id=\"T_a157e_row10_col18\" class=\"data row10 col18\" >-0.0</td>\n",
       "    </tr>\n",
       "    <tr>\n",
       "      <th id=\"T_a157e_level0_row11\" class=\"row_heading level0 row11\" >sma_bb</th>\n",
       "      <td id=\"T_a157e_row11_col0\" class=\"data row11 col0\" >1.0</td>\n",
       "      <td id=\"T_a157e_row11_col1\" class=\"data row11 col1\" >1.0</td>\n",
       "      <td id=\"T_a157e_row11_col2\" class=\"data row11 col2\" >1.0</td>\n",
       "      <td id=\"T_a157e_row11_col3\" class=\"data row11 col3\" >0.9</td>\n",
       "      <td id=\"T_a157e_row11_col4\" class=\"data row11 col4\" >1.0</td>\n",
       "      <td id=\"T_a157e_row11_col5\" class=\"data row11 col5\" >1.0</td>\n",
       "      <td id=\"T_a157e_row11_col6\" class=\"data row11 col6\" >0.9</td>\n",
       "      <td id=\"T_a157e_row11_col7\" class=\"data row11 col7\" >-0.0</td>\n",
       "      <td id=\"T_a157e_row11_col8\" class=\"data row11 col8\" >0.1</td>\n",
       "      <td id=\"T_a157e_row11_col9\" class=\"data row11 col9\" >0.1</td>\n",
       "      <td id=\"T_a157e_row11_col10\" class=\"data row11 col10\" >-0.1</td>\n",
       "      <td id=\"T_a157e_row11_col11\" class=\"data row11 col11\" >1.0</td>\n",
       "      <td id=\"T_a157e_row11_col12\" class=\"data row11 col12\" >0.8</td>\n",
       "      <td id=\"T_a157e_row11_col13\" class=\"data row11 col13\" >1.0</td>\n",
       "      <td id=\"T_a157e_row11_col14\" class=\"data row11 col14\" >1.0</td>\n",
       "      <td id=\"T_a157e_row11_col15\" class=\"data row11 col15\" >-0.1</td>\n",
       "      <td id=\"T_a157e_row11_col16\" class=\"data row11 col16\" >0.0</td>\n",
       "      <td id=\"T_a157e_row11_col17\" class=\"data row11 col17\" >0.1</td>\n",
       "      <td id=\"T_a157e_row11_col18\" class=\"data row11 col18\" >0.0</td>\n",
       "    </tr>\n",
       "    <tr>\n",
       "      <th id=\"T_a157e_level0_row12\" class=\"row_heading level0 row12\" >stddev</th>\n",
       "      <td id=\"T_a157e_row12_col0\" class=\"data row12 col0\" >0.8</td>\n",
       "      <td id=\"T_a157e_row12_col1\" class=\"data row12 col1\" >0.8</td>\n",
       "      <td id=\"T_a157e_row12_col2\" class=\"data row12 col2\" >0.8</td>\n",
       "      <td id=\"T_a157e_row12_col3\" class=\"data row12 col3\" >0.6</td>\n",
       "      <td id=\"T_a157e_row12_col4\" class=\"data row12 col4\" >0.8</td>\n",
       "      <td id=\"T_a157e_row12_col5\" class=\"data row12 col5\" >0.8</td>\n",
       "      <td id=\"T_a157e_row12_col6\" class=\"data row12 col6\" >0.7</td>\n",
       "      <td id=\"T_a157e_row12_col7\" class=\"data row12 col7\" >0.0</td>\n",
       "      <td id=\"T_a157e_row12_col8\" class=\"data row12 col8\" >0.1</td>\n",
       "      <td id=\"T_a157e_row12_col9\" class=\"data row12 col9\" >0.1</td>\n",
       "      <td id=\"T_a157e_row12_col10\" class=\"data row12 col10\" >-0.0</td>\n",
       "      <td id=\"T_a157e_row12_col11\" class=\"data row12 col11\" >0.8</td>\n",
       "      <td id=\"T_a157e_row12_col12\" class=\"data row12 col12\" >1.0</td>\n",
       "      <td id=\"T_a157e_row12_col13\" class=\"data row12 col13\" >0.8</td>\n",
       "      <td id=\"T_a157e_row12_col14\" class=\"data row12 col14\" >0.7</td>\n",
       "      <td id=\"T_a157e_row12_col15\" class=\"data row12 col15\" >0.0</td>\n",
       "      <td id=\"T_a157e_row12_col16\" class=\"data row12 col16\" >0.1</td>\n",
       "      <td id=\"T_a157e_row12_col17\" class=\"data row12 col17\" >0.2</td>\n",
       "      <td id=\"T_a157e_row12_col18\" class=\"data row12 col18\" >-0.0</td>\n",
       "    </tr>\n",
       "    <tr>\n",
       "      <th id=\"T_a157e_level0_row13\" class=\"row_heading level0 row13\" >upper_bb</th>\n",
       "      <td id=\"T_a157e_row13_col0\" class=\"data row13 col0\" >1.0</td>\n",
       "      <td id=\"T_a157e_row13_col1\" class=\"data row13 col1\" >1.0</td>\n",
       "      <td id=\"T_a157e_row13_col2\" class=\"data row13 col2\" >1.0</td>\n",
       "      <td id=\"T_a157e_row13_col3\" class=\"data row13 col3\" >0.9</td>\n",
       "      <td id=\"T_a157e_row13_col4\" class=\"data row13 col4\" >1.0</td>\n",
       "      <td id=\"T_a157e_row13_col5\" class=\"data row13 col5\" >1.0</td>\n",
       "      <td id=\"T_a157e_row13_col6\" class=\"data row13 col6\" >0.9</td>\n",
       "      <td id=\"T_a157e_row13_col7\" class=\"data row13 col7\" >-0.0</td>\n",
       "      <td id=\"T_a157e_row13_col8\" class=\"data row13 col8\" >0.1</td>\n",
       "      <td id=\"T_a157e_row13_col9\" class=\"data row13 col9\" >0.1</td>\n",
       "      <td id=\"T_a157e_row13_col10\" class=\"data row13 col10\" >-0.1</td>\n",
       "      <td id=\"T_a157e_row13_col11\" class=\"data row13 col11\" >1.0</td>\n",
       "      <td id=\"T_a157e_row13_col12\" class=\"data row13 col12\" >0.8</td>\n",
       "      <td id=\"T_a157e_row13_col13\" class=\"data row13 col13\" >1.0</td>\n",
       "      <td id=\"T_a157e_row13_col14\" class=\"data row13 col14\" >1.0</td>\n",
       "      <td id=\"T_a157e_row13_col15\" class=\"data row13 col15\" >-0.0</td>\n",
       "      <td id=\"T_a157e_row13_col16\" class=\"data row13 col16\" >0.0</td>\n",
       "      <td id=\"T_a157e_row13_col17\" class=\"data row13 col17\" >0.1</td>\n",
       "      <td id=\"T_a157e_row13_col18\" class=\"data row13 col18\" >0.0</td>\n",
       "    </tr>\n",
       "    <tr>\n",
       "      <th id=\"T_a157e_level0_row14\" class=\"row_heading level0 row14\" >lower_bb</th>\n",
       "      <td id=\"T_a157e_row14_col0\" class=\"data row14 col0\" >1.0</td>\n",
       "      <td id=\"T_a157e_row14_col1\" class=\"data row14 col1\" >1.0</td>\n",
       "      <td id=\"T_a157e_row14_col2\" class=\"data row14 col2\" >1.0</td>\n",
       "      <td id=\"T_a157e_row14_col3\" class=\"data row14 col3\" >0.9</td>\n",
       "      <td id=\"T_a157e_row14_col4\" class=\"data row14 col4\" >1.0</td>\n",
       "      <td id=\"T_a157e_row14_col5\" class=\"data row14 col5\" >1.0</td>\n",
       "      <td id=\"T_a157e_row14_col6\" class=\"data row14 col6\" >0.9</td>\n",
       "      <td id=\"T_a157e_row14_col7\" class=\"data row14 col7\" >-0.1</td>\n",
       "      <td id=\"T_a157e_row14_col8\" class=\"data row14 col8\" >0.1</td>\n",
       "      <td id=\"T_a157e_row14_col9\" class=\"data row14 col9\" >0.1</td>\n",
       "      <td id=\"T_a157e_row14_col10\" class=\"data row14 col10\" >-0.2</td>\n",
       "      <td id=\"T_a157e_row14_col11\" class=\"data row14 col11\" >1.0</td>\n",
       "      <td id=\"T_a157e_row14_col12\" class=\"data row14 col12\" >0.7</td>\n",
       "      <td id=\"T_a157e_row14_col13\" class=\"data row14 col13\" >1.0</td>\n",
       "      <td id=\"T_a157e_row14_col14\" class=\"data row14 col14\" >1.0</td>\n",
       "      <td id=\"T_a157e_row14_col15\" class=\"data row14 col15\" >-0.1</td>\n",
       "      <td id=\"T_a157e_row14_col16\" class=\"data row14 col16\" >-0.0</td>\n",
       "      <td id=\"T_a157e_row14_col17\" class=\"data row14 col17\" >0.1</td>\n",
       "      <td id=\"T_a157e_row14_col18\" class=\"data row14 col18\" >0.0</td>\n",
       "    </tr>\n",
       "    <tr>\n",
       "      <th id=\"T_a157e_level0_row15\" class=\"row_heading level0 row15\" >roc</th>\n",
       "      <td id=\"T_a157e_row15_col0\" class=\"data row15 col0\" >0.1</td>\n",
       "      <td id=\"T_a157e_row15_col1\" class=\"data row15 col1\" >-0.1</td>\n",
       "      <td id=\"T_a157e_row15_col2\" class=\"data row15 col2\" >-0.1</td>\n",
       "      <td id=\"T_a157e_row15_col3\" class=\"data row15 col3\" >-0.1</td>\n",
       "      <td id=\"T_a157e_row15_col4\" class=\"data row15 col4\" >-0.0</td>\n",
       "      <td id=\"T_a157e_row15_col5\" class=\"data row15 col5\" >-0.1</td>\n",
       "      <td id=\"T_a157e_row15_col6\" class=\"data row15 col6\" >-0.1</td>\n",
       "      <td id=\"T_a157e_row15_col7\" class=\"data row15 col7\" >0.8</td>\n",
       "      <td id=\"T_a157e_row15_col8\" class=\"data row15 col8\" >0.5</td>\n",
       "      <td id=\"T_a157e_row15_col9\" class=\"data row15 col9\" >0.4</td>\n",
       "      <td id=\"T_a157e_row15_col10\" class=\"data row15 col10\" >0.7</td>\n",
       "      <td id=\"T_a157e_row15_col11\" class=\"data row15 col11\" >-0.1</td>\n",
       "      <td id=\"T_a157e_row15_col12\" class=\"data row15 col12\" >0.0</td>\n",
       "      <td id=\"T_a157e_row15_col13\" class=\"data row15 col13\" >-0.0</td>\n",
       "      <td id=\"T_a157e_row15_col14\" class=\"data row15 col14\" >-0.1</td>\n",
       "      <td id=\"T_a157e_row15_col15\" class=\"data row15 col15\" >1.0</td>\n",
       "      <td id=\"T_a157e_row15_col16\" class=\"data row15 col16\" >0.5</td>\n",
       "      <td id=\"T_a157e_row15_col17\" class=\"data row15 col17\" >0.0</td>\n",
       "      <td id=\"T_a157e_row15_col18\" class=\"data row15 col18\" >0.2</td>\n",
       "    </tr>\n",
       "    <tr>\n",
       "      <th id=\"T_a157e_level0_row16\" class=\"row_heading level0 row16\" >ppo</th>\n",
       "      <td id=\"T_a157e_row16_col0\" class=\"data row16 col0\" >0.1</td>\n",
       "      <td id=\"T_a157e_row16_col1\" class=\"data row16 col1\" >0.0</td>\n",
       "      <td id=\"T_a157e_row16_col2\" class=\"data row16 col2\" >-0.1</td>\n",
       "      <td id=\"T_a157e_row16_col3\" class=\"data row16 col3\" >-0.1</td>\n",
       "      <td id=\"T_a157e_row16_col4\" class=\"data row16 col4\" >0.0</td>\n",
       "      <td id=\"T_a157e_row16_col5\" class=\"data row16 col5\" >-0.1</td>\n",
       "      <td id=\"T_a157e_row16_col6\" class=\"data row16 col6\" >-0.1</td>\n",
       "      <td id=\"T_a157e_row16_col7\" class=\"data row16 col7\" >0.7</td>\n",
       "      <td id=\"T_a157e_row16_col8\" class=\"data row16 col8\" >0.7</td>\n",
       "      <td id=\"T_a157e_row16_col9\" class=\"data row16 col9\" >0.7</td>\n",
       "      <td id=\"T_a157e_row16_col10\" class=\"data row16 col10\" >0.3</td>\n",
       "      <td id=\"T_a157e_row16_col11\" class=\"data row16 col11\" >0.0</td>\n",
       "      <td id=\"T_a157e_row16_col12\" class=\"data row16 col12\" >0.1</td>\n",
       "      <td id=\"T_a157e_row16_col13\" class=\"data row16 col13\" >0.0</td>\n",
       "      <td id=\"T_a157e_row16_col14\" class=\"data row16 col14\" >-0.0</td>\n",
       "      <td id=\"T_a157e_row16_col15\" class=\"data row16 col15\" >0.5</td>\n",
       "      <td id=\"T_a157e_row16_col16\" class=\"data row16 col16\" >1.0</td>\n",
       "      <td id=\"T_a157e_row16_col17\" class=\"data row16 col17\" >0.0</td>\n",
       "      <td id=\"T_a157e_row16_col18\" class=\"data row16 col18\" >0.6</td>\n",
       "    </tr>\n",
       "    <tr>\n",
       "      <th id=\"T_a157e_level0_row17\" class=\"row_heading level0 row17\" >ht_trend</th>\n",
       "      <td id=\"T_a157e_row17_col0\" class=\"data row17 col0\" >0.1</td>\n",
       "      <td id=\"T_a157e_row17_col1\" class=\"data row17 col1\" >0.1</td>\n",
       "      <td id=\"T_a157e_row17_col2\" class=\"data row17 col2\" >0.1</td>\n",
       "      <td id=\"T_a157e_row17_col3\" class=\"data row17 col3\" >0.1</td>\n",
       "      <td id=\"T_a157e_row17_col4\" class=\"data row17 col4\" >0.1</td>\n",
       "      <td id=\"T_a157e_row17_col5\" class=\"data row17 col5\" >0.1</td>\n",
       "      <td id=\"T_a157e_row17_col6\" class=\"data row17 col6\" >0.1</td>\n",
       "      <td id=\"T_a157e_row17_col7\" class=\"data row17 col7\" >0.1</td>\n",
       "      <td id=\"T_a157e_row17_col8\" class=\"data row17 col8\" >0.0</td>\n",
       "      <td id=\"T_a157e_row17_col9\" class=\"data row17 col9\" >0.0</td>\n",
       "      <td id=\"T_a157e_row17_col10\" class=\"data row17 col10\" >-0.0</td>\n",
       "      <td id=\"T_a157e_row17_col11\" class=\"data row17 col11\" >0.1</td>\n",
       "      <td id=\"T_a157e_row17_col12\" class=\"data row17 col12\" >0.2</td>\n",
       "      <td id=\"T_a157e_row17_col13\" class=\"data row17 col13\" >0.1</td>\n",
       "      <td id=\"T_a157e_row17_col14\" class=\"data row17 col14\" >0.1</td>\n",
       "      <td id=\"T_a157e_row17_col15\" class=\"data row17 col15\" >0.0</td>\n",
       "      <td id=\"T_a157e_row17_col16\" class=\"data row17 col16\" >0.0</td>\n",
       "      <td id=\"T_a157e_row17_col17\" class=\"data row17 col17\" >1.0</td>\n",
       "      <td id=\"T_a157e_row17_col18\" class=\"data row17 col18\" >-0.1</td>\n",
       "    </tr>\n",
       "    <tr>\n",
       "      <th id=\"T_a157e_level0_row18\" class=\"row_heading level0 row18\" >ht_dcphase</th>\n",
       "      <td id=\"T_a157e_row18_col0\" class=\"data row18 col0\" >0.0</td>\n",
       "      <td id=\"T_a157e_row18_col1\" class=\"data row18 col1\" >0.0</td>\n",
       "      <td id=\"T_a157e_row18_col2\" class=\"data row18 col2\" >-0.0</td>\n",
       "      <td id=\"T_a157e_row18_col3\" class=\"data row18 col3\" >-0.1</td>\n",
       "      <td id=\"T_a157e_row18_col4\" class=\"data row18 col4\" >0.0</td>\n",
       "      <td id=\"T_a157e_row18_col5\" class=\"data row18 col5\" >-0.0</td>\n",
       "      <td id=\"T_a157e_row18_col6\" class=\"data row18 col6\" >-0.1</td>\n",
       "      <td id=\"T_a157e_row18_col7\" class=\"data row18 col7\" >0.4</td>\n",
       "      <td id=\"T_a157e_row18_col8\" class=\"data row18 col8\" >0.4</td>\n",
       "      <td id=\"T_a157e_row18_col9\" class=\"data row18 col9\" >0.4</td>\n",
       "      <td id=\"T_a157e_row18_col10\" class=\"data row18 col10\" >-0.0</td>\n",
       "      <td id=\"T_a157e_row18_col11\" class=\"data row18 col11\" >0.0</td>\n",
       "      <td id=\"T_a157e_row18_col12\" class=\"data row18 col12\" >-0.0</td>\n",
       "      <td id=\"T_a157e_row18_col13\" class=\"data row18 col13\" >0.0</td>\n",
       "      <td id=\"T_a157e_row18_col14\" class=\"data row18 col14\" >0.0</td>\n",
       "      <td id=\"T_a157e_row18_col15\" class=\"data row18 col15\" >0.2</td>\n",
       "      <td id=\"T_a157e_row18_col16\" class=\"data row18 col16\" >0.6</td>\n",
       "      <td id=\"T_a157e_row18_col17\" class=\"data row18 col17\" >-0.1</td>\n",
       "      <td id=\"T_a157e_row18_col18\" class=\"data row18 col18\" >1.0</td>\n",
       "    </tr>\n",
       "  </tbody>\n",
       "</table>\n"
      ],
      "text/plain": [
       "<pandas.io.formats.style.Styler at 0x2dc9eb100>"
      ]
     },
     "execution_count": 1053,
     "metadata": {},
     "output_type": "execute_result"
    }
   ],
   "source": [
    "corr.style.background_gradient(cmap='coolwarm').set_precision(1)"
   ]
  },
  {
   "cell_type": "code",
   "execution_count": null,
   "id": "fe210b05",
   "metadata": {},
   "outputs": [],
   "source": []
  },
  {
   "cell_type": "markdown",
   "id": "e898021c",
   "metadata": {},
   "source": [
    "# Train/Test split"
   ]
  },
  {
   "cell_type": "code",
   "execution_count": 1054,
   "id": "ea93a788",
   "metadata": {},
   "outputs": [],
   "source": [
    "def split_data(data_df,target):\n",
    "    train = data_df.iloc[0:-DATA_TEST_DAYS]\n",
    "    test = data_df.iloc[-DATA_TEST_DAYS:]\n",
    "    train_X = train.drop(target, axis=1)\n",
    "    train_y = train[target]\n",
    "    test_X = test.drop(target, axis=1)\n",
    "    test_y = test[target]\n",
    "    return train_X, train_y, test_X, test_y"
   ]
  },
  {
   "cell_type": "markdown",
   "id": "544fa832",
   "metadata": {},
   "source": [
    "# Scale the data"
   ]
  },
  {
   "cell_type": "code",
   "execution_count": 1057,
   "id": "e04e9f68",
   "metadata": {},
   "outputs": [],
   "source": [
    "#Scale the features\n",
    "def fit_transform_scaler(df_X):\n",
    "    global minmax_scaler\n",
    "    df_X_transformed = minmax_scaler.fit_transform(df_X)\n",
    "    df_X_scaled = pd.DataFrame(columns=df_X.columns, data=df_X_transformed, index=df_X.index)\n",
    "    return df_X_scaled\n",
    "\n",
    "def transform_scaler(df_X):\n",
    "    global minmax_scaler\n",
    "    df_X_transformed = minmax_scaler.transform(df_X)\n",
    "    df_X_scaled = pd.DataFrame(columns=df_X.columns, data=df_X_transformed, index=df_X.index)\n",
    "    return df_X_scaled\n"
   ]
  },
  {
   "cell_type": "markdown",
   "id": "def0c728",
   "metadata": {},
   "source": [
    "# Create final df for comparison\n"
   ]
  },
  {
   "cell_type": "code",
   "execution_count": 1060,
   "id": "c8d0ef2b",
   "metadata": {},
   "outputs": [],
   "source": [
    "def create_result_df(test_y):\n",
    "    days = []\n",
    "    for day in range(1,DATA_TEST_DAYS+1):\n",
    "        days.append(f'day {day}')\n",
    "\n",
    "    # Fill with the actual close value\n",
    "    final_df = pd.DataFrame(index=days)\n",
    "    if not test_y.empty:\n",
    "        test_y.index = final_df.index\n",
    "        final_df = pd.concat([final_df,test_y],axis=1) \n",
    "    \n",
    "    final_metrics = pd.DataFrame({'Metric': ['R2 Score','RSS','RMSE']})\n",
    "    return final_df, final_metrics\n",
    "\n",
    "# create_result_df(test_y)"
   ]
  },
  {
   "cell_type": "markdown",
   "id": "df4752c6",
   "metadata": {},
   "source": [
    "# Utility - Model Evaluation"
   ]
  },
  {
   "cell_type": "markdown",
   "id": "5eb5d8a9",
   "metadata": {},
   "source": [
    "## Predict with model"
   ]
  },
  {
   "cell_type": "code",
   "execution_count": 1061,
   "id": "03af2f4d",
   "metadata": {},
   "outputs": [],
   "source": [
    "\n",
    "# def get_scaled_derived_features(df, prev_df):\n",
    "#     df = get_derived_features(df, prev_df)\n",
    "#     df = get_scaled_feaures(df)\n",
    "#     return df\n",
    "def predict_with_model(model, prev_close, prev_close_df,start_date, period, model_name, final_df,yactual,debug_mode = False):    \n",
    "    y_final_pred = np.array([])\n",
    "    days = pd.date_range(start_date, start_date + timedelta(period-1), freq='D')\n",
    "    for day in range(0,period):\n",
    "        curr_date = days[day]\n",
    "        prev_close_df = prev_close_df.tail(MAX_ROWS_TO_DERIVE_FEATURES)\n",
    "        prev_close_df = prev_close_df.append(pd.DataFrame({'Prev Close':prev_close} , index=[curr_date]))\n",
    "        test_df = create_derived_features(prev_close_df)\n",
    "        test_df_1day = test_df.tail(1)\n",
    "        test_final = test_df_1day.copy()\n",
    "        if debug_mode:\n",
    "            print(f'DEBUG: day {day}')\n",
    "            display(test_final)\n",
    "              \n",
    "        if SCALE_FEATURES:\n",
    "            test_final = transform_scaler(test_df.tail(1))\n",
    "        \n",
    "        if model_name == 'PROPHET':\n",
    "            test_final['ds'] = test_final.index\n",
    "                \n",
    "        if model_name == 'MINIROCKET':\n",
    "            test_final = from_2d_array_to_nested(test_final)\n",
    "                \n",
    "        \n",
    "        y_pred = model.predict(test_final)\n",
    "        \n",
    "        if model_name == 'PROPHET':\n",
    "            y_pred = y_pred['yhat'].values\n",
    "        \n",
    "        # Consider the predicted close as previous close for the next day prediction\n",
    "        # prev_close = y_pred\n",
    "        # Consider the actual close as previous close for the next day prediction\n",
    "        prev_close = yactual[day]\n",
    "        \n",
    "        y_final_pred = np.append(y_final_pred, y_pred)\n",
    "        if debug_mode:\n",
    "            print(f\"Prediction for day {day}:{y_pred}\")\n",
    "\n",
    "    return y_final_pred\n",
    "\n"
   ]
  },
  {
   "cell_type": "code",
   "execution_count": null,
   "id": "533c0b13",
   "metadata": {},
   "outputs": [],
   "source": []
  },
  {
   "cell_type": "markdown",
   "id": "73fb6738",
   "metadata": {},
   "source": [
    "## Evaluate Metrics"
   ]
  },
  {
   "cell_type": "code",
   "execution_count": 1062,
   "id": "bb574d1a",
   "metadata": {},
   "outputs": [],
   "source": [
    "# Print & return the R2 score, RSS, MSE and RMSE for the given test data\n",
    "def compute_metrics( y_test, y_pred_test, model_name, final_metrics):\n",
    "    metric = []\n",
    "\n",
    "    r2_test_lr = r2_score(y_test, y_pred_test)\n",
    "    metric.append(r2_test_lr)\n",
    "\n",
    "\n",
    "    rss2_lr = np.sum(np.square(y_test - y_pred_test))\n",
    "    metric.append(rss2_lr)\n",
    "\n",
    "    mse_test_lr = mean_squared_error(y_test, y_pred_test)\n",
    "    metric.append(mse_test_lr**0.5)\n",
    "     \n",
    "    if VERBOSE:\n",
    "        print(f'R2 - test: {r2_test_lr}')\n",
    "        print(f'RSS - test: {rss2_lr}')\n",
    "        print(f'MSE - test: {mse_test_lr}, RMSE = {math.sqrt(mse_test_lr)}')\n",
    "    \n",
    "    final_metrics[f'{model_name}'] = metric\n",
    "    \n",
    "    return final_metrics"
   ]
  },
  {
   "cell_type": "markdown",
   "id": "1fe9cb4c",
   "metadata": {},
   "source": [
    "## Plot predictions"
   ]
  },
  {
   "cell_type": "code",
   "execution_count": 1063,
   "id": "6b16f10d",
   "metadata": {},
   "outputs": [],
   "source": [
    "def plot_predictions(df,scrip_name,metrics_df, cols_to_plot=None):\n",
    "#     plt.plot(df) \n",
    "#     plt.legend(df.columns)\n",
    "#     plt.show()\n",
    "    if cols_to_plot is None:\n",
    "        # Plot the top 5 model results\n",
    "        \n",
    "        cols_to_plot = metrics_df[metrics_df['Metric'] == 'RMSE'].set_index('Metric').T.drop(['Avg','Median']).sort_values(by='RMSE').head(5).index.values.tolist()\n",
    "    \n",
    "    print(f\"Columns to plot:{cols_to_plot}\")\n",
    "    fig = px.line(df, x=df.index, y=cols_to_plot,\n",
    "                  title=f\"PREDICTIONS - {scrip_name}\", markers=True)\n",
    "    fig.show()\n",
    "        "
   ]
  },
  {
   "cell_type": "code",
   "execution_count": 1064,
   "id": "46b5be98",
   "metadata": {},
   "outputs": [],
   "source": [
    "def plot_metric_bar(metrics_df,metric_col):\n",
    "    bardf = metrics_df.set_index('Metric').T\n",
    "    f, ax = plt.subplots(figsize=(16,8))\n",
    "\n",
    "    sns.barplot(x=bardf.index,y=metric_col,data = bardf, palette = 'colorblind')\n",
    "    ax.set( xlabel='MODEL',ylabel=metric_col,title = f'{metric_col} for different models')\n",
    "    \n",
    "    show_yvalue = True\n",
    "    ylimmax = None\n",
    "    xticks_rotate = None\n",
    "    \n",
    "    if ylimmax is not None:\n",
    "        plt.ylim(ymax = ylimmax)\n",
    "    \n",
    "    if xticks_rotate is not None:\n",
    "        plt.xticks(rotation=xticks_rotate, ha='right')\n",
    "        \n",
    "        \n",
    "    if show_yvalue:\n",
    "        \n",
    "        for i in ax.containers:\n",
    "            ax.bar_label(i,)\n",
    "            "
   ]
  },
  {
   "cell_type": "markdown",
   "id": "a887a169",
   "metadata": {},
   "source": [
    "## Final prediction & metric computation"
   ]
  },
  {
   "cell_type": "code",
   "execution_count": 1065,
   "id": "d7a01bf3",
   "metadata": {},
   "outputs": [],
   "source": [
    "def final_prediction_with_model(model, model_name, Xtrain, ytrain, \n",
    "                                final_df, final_metrics, start_date, ytest = None):\n",
    "    \n",
    "    y_pred = predict_with_model(model, ytrain[-1], Xtrain[['Prev Close']], \n",
    "                                start_date, DATA_TEST_DAYS,\n",
    "                                model_name, final_df,ytest)\n",
    "    \n",
    "    \n",
    "    \n",
    "    final_df[f'{model_name} close'] = y_pred\n",
    "    if ytest is not None:\n",
    "        final_metrics = compute_metrics(ytest,y_pred,model_name,final_metrics)\n",
    "        \n",
    "    return final_df, final_metrics\n",
    "\n",
    "    "
   ]
  },
  {
   "cell_type": "markdown",
   "id": "422559a4",
   "metadata": {},
   "source": [
    "## CONSOLIDATE ALL MODEL RESULTS"
   ]
  },
  {
   "cell_type": "code",
   "execution_count": 1066,
   "id": "20c55424",
   "metadata": {},
   "outputs": [],
   "source": [
    "def consolidate_model_results(final_df, final_metrics):\n",
    "    model_cols = list(final_df.columns)\n",
    "    model_cols.remove('Close')\n",
    "    final_df['Avg close'] =  final_df[model_cols].mean(axis=1)\n",
    "    final_df['Median close'] =  final_df[model_cols].median(axis=1)\n",
    "    final_metrics = compute_metrics(final_df['Close'],final_df['Avg close'],'Avg',final_metrics)\n",
    "    final_metrics = compute_metrics(final_df['Close'],final_df['Median close'],'Median',final_metrics)\n",
    "\n",
    "    return final_df, final_metrics\n",
    "    "
   ]
  },
  {
   "cell_type": "code",
   "execution_count": null,
   "id": "f35a4880",
   "metadata": {},
   "outputs": [],
   "source": []
  },
  {
   "cell_type": "markdown",
   "id": "00437615",
   "metadata": {},
   "source": [
    "# Create & Evaluate Models"
   ]
  },
  {
   "cell_type": "markdown",
   "id": "77e479dc",
   "metadata": {},
   "source": [
    "## RANDOM FOREST REGRESSOR"
   ]
  },
  {
   "cell_type": "code",
   "execution_count": 1067,
   "id": "dd9ba7e1",
   "metadata": {},
   "outputs": [],
   "source": [
    "\n",
    "\n",
    "def train_tuned_rf_regressor(Xtrain, ytrain):\n",
    "     \n",
    "    if VERBOSE:\n",
    "        print(f'Hyperparameter Tuning for RandomForest Regressor')\n",
    "    rfr = RandomForestRegressor(random_state = RANDOM_STATE)\n",
    "    n_estimators = [int(x) for x in np.linspace(start = 5 , stop = 15, num = 10)] # returns 10 numbers \n",
    "    max_features = ['auto', 'log2']\n",
    "    max_depth = [int(x) for x in np.linspace(5, 10, num = 2)] \n",
    "    max_depth.append(None)\n",
    "    bootstrap = [True, False]\n",
    "    r_grid = {'n_estimators': n_estimators,'max_features': max_features,\n",
    "              'max_depth': max_depth,'bootstrap': bootstrap}\n",
    "    rf_tuned = RandomizedSearchCV(estimator=rfr, param_distributions=r_grid, n_iter = 100, \n",
    "                                  scoring=HPT_SCORING, cv = CV_FOLDS, \n",
    "                                  verbose=2, random_state=RANDOM_STATE, n_jobs=-1, return_train_score=True)\n",
    "\n",
    "    rf_tuned.fit(Xtrain, ytrain)  \n",
    "     \n",
    "    if VERBOSE:\n",
    "        print(f'HPT params for RandomForest: {rf_tuned.best_params_}')\n",
    "    return rf_tuned.best_estimator_\n",
    "    \n",
    "\n",
    "def train_rf_regressor(Xtrain, ytrain, tune = False):\n",
    "    model = None\n",
    "    if tune:\n",
    "        model = train_tuned_rf_regressor(Xtrain, ytrain)\n",
    "    else:\n",
    "        model = RandomForestRegressor(n_estimators = 100, max_features = 'auto', \n",
    "                                  max_depth = 5, bootstrap = True, random_state = RANDOM_STATE)\n",
    "        \n",
    "        model.fit(Xtrain, ytrain)  \n",
    "    return model"
   ]
  },
  {
   "cell_type": "code",
   "execution_count": null,
   "id": "04bed59b",
   "metadata": {},
   "outputs": [],
   "source": []
  },
  {
   "cell_type": "markdown",
   "id": "7a18e67b",
   "metadata": {},
   "source": [
    "## LINEAR REGRESSOR"
   ]
  },
  {
   "cell_type": "code",
   "execution_count": 1068,
   "id": "d231c517",
   "metadata": {},
   "outputs": [],
   "source": [
    "def train_tuned_lr_regressor(Xtrain, ytrain):\n",
    "     \n",
    "    if VERBOSE:\n",
    "        print(f'Hyperparameter Tuning for Linear Regressor')\n",
    "    raise Exception(\"HYPERPARAMETER TUNING NOT HANDLED FOR LINEAR REGRESSOR\")\n",
    "    \n",
    "\n",
    "def train_lr_regressor(Xtrain, ytrain, tune = False):\n",
    "    model = None\n",
    "    if tune:\n",
    "        model = train_tuned_lr_regressor(Xtrain, ytrain)\n",
    "    else:\n",
    "        model = LinearRegression()\n",
    "        \n",
    "        model.fit(Xtrain, ytrain)  \n",
    "    return model"
   ]
  },
  {
   "cell_type": "code",
   "execution_count": null,
   "id": "3a168f79",
   "metadata": {},
   "outputs": [],
   "source": []
  },
  {
   "cell_type": "markdown",
   "id": "baa69059",
   "metadata": {},
   "source": [
    "## SVM REGRESSOR"
   ]
  },
  {
   "cell_type": "code",
   "execution_count": 1069,
   "id": "71cdaf85",
   "metadata": {},
   "outputs": [],
   "source": [
    "def train_tuned_sv_regressor(Xtrain, ytrain):\n",
    "     \n",
    "    if VERBOSE:\n",
    "        print(f'Hyperparameter Tuning for Support Vector Regressor')\n",
    "    raise Exception(\"HYPERPARAMETER TUNING NOT HANDLED FOR SUPPORT VECTOR REGRESSOR\")\n",
    "    \n",
    "\n",
    "def train_sv_regressor(Xtrain, ytrain, tune = False):\n",
    "    model = None\n",
    "    if tune:\n",
    "        model = train_tuned_sv_regressor(Xtrain, ytrain)\n",
    "    else:\n",
    "        model = SVR(kernel = 'rbf')\n",
    "        \n",
    "        model.fit(Xtrain, ytrain)  \n",
    "    return model"
   ]
  },
  {
   "cell_type": "code",
   "execution_count": null,
   "id": "9cab4568",
   "metadata": {},
   "outputs": [],
   "source": []
  },
  {
   "cell_type": "markdown",
   "id": "57d197e7",
   "metadata": {},
   "source": [
    "## GRADIENT BOOST REGRESSOR"
   ]
  },
  {
   "cell_type": "code",
   "execution_count": 1070,
   "id": "7194167b",
   "metadata": {},
   "outputs": [],
   "source": [
    "def train_tuned_gb_regressor(Xtrain, ytrain):\n",
    "     \n",
    "    if VERBOSE:\n",
    "        print(f'Hyperparameter Tuning for Gradient Boosting Regressor')\n",
    "    \n",
    "     \n",
    "    gbr = GradientBoostingRegressor(random_state=123)\n",
    "    search_grid = {'n_estimators':[10, 50, 100,500,1000,2000],\n",
    "                 'learning_rate':[0.0001, 0.001, 0.01, 0.1, 1.0],\n",
    "                 'max_depth':[1,2,4,7,9],\n",
    "                 'subsample':[.5,.75,1],\n",
    "                 'random_state':[123]}\n",
    "   \n",
    "    # gb_tuned = GridSearchCV(estimator=gbr,param_grid=search_grid,scoring=HPT_SCORING,n_jobs=1,cv=CV_FOLDS,verbose=0)\n",
    "    \n",
    "    gb_tuned = RandomizedSearchCV(estimator=gbr,param_distributions=search_grid,scoring=HPT_SCORING,n_jobs=1,cv=CV_FOLDS, n_iter = 20,verbose=0)\n",
    "    \n",
    "    gb_tuned.fit(Xtrain, ytrain)  \n",
    "    if VERBOSE:\n",
    "        print(f'HPT params for GradientBoosting: {gb_tuned.best_params_}')\n",
    "    return gb_tuned.best_estimator_\n",
    "\n",
    "\n",
    " \n",
    "\n",
    "def train_gb_regressor(Xtrain, ytrain, tune = False):\n",
    "    model = None\n",
    "    if tune:\n",
    "        model = train_tuned_gb_regressor(Xtrain, ytrain)\n",
    "    else:\n",
    "        model = GradientBoostingRegressor(learning_rate = 1.0,max_depth = 9,  \n",
    "                                          n_estimators = 10, subsample = 0.5, \n",
    "                                          random_state = RANDOM_STATE)\n",
    "        \n",
    "        model.fit(Xtrain, ytrain)  \n",
    "    return model"
   ]
  },
  {
   "cell_type": "code",
   "execution_count": null,
   "id": "b3670800",
   "metadata": {},
   "outputs": [],
   "source": []
  },
  {
   "cell_type": "markdown",
   "id": "f29a0922",
   "metadata": {},
   "source": [
    "## XGB REGRESSOR\n"
   ]
  },
  {
   "cell_type": "code",
   "execution_count": 1071,
   "id": "559b4131",
   "metadata": {},
   "outputs": [],
   "source": [
    "def train_tuned_xgb_regressor(Xtrain, ytrain):\n",
    "    print(f'Hyperparameter Tuning for XGB Regressor')\n",
    "    xgb=xg.XGBRegressor(seed=123)\n",
    "    search_grid={'n_estimators':[10, 50, 100,500,1000,2000],\n",
    "                 'learning_rate':[0.0001, 0.001, 0.01, 0.1, 1.0],\n",
    "                 'max_depth':[1,2,4,7,9],\n",
    "                 'subsample':[.5,.75,1],\n",
    "                 'random_state':[RANDOM_STATE]}\n",
    "\n",
    "\n",
    "    #xgb_tuned=GridSearchCV(estimator=xgb,param_grid=search_grid,scoring=HPT_SCORING,n_jobs=1,cv=CV_FOLDS,verbose=0)\n",
    "    xgb_tuned=RandomizedSearchCV(estimator=xgb,param_distributions=search_grid,scoring=HPT_SCORING,n_jobs=1,cv=CV_FOLDS,n_iter=20,verbose=0)\n",
    "    \n",
    "    xgb_tuned.fit(Xtrain, ytrain)  \n",
    "    if VERBOSE:\n",
    "        print(f'HPT params for XGBRegressor: {xgb_tuned.best_params_}')\n",
    "    return xgb_tuned.best_estimator_\n",
    "\n",
    " \n",
    "\n",
    "def train_xgb_regressor(Xtrain, ytrain, tune = False):\n",
    "    model = None\n",
    "    if tune:\n",
    "        model = train_tuned_xgb_regressor(Xtrain, ytrain)\n",
    "    else:\n",
    "        model = xg.XGBRegressor(objective ='reg:squarederror',\n",
    "                                n_estimators = 100, learning_rate = 0.1,\n",
    "                                max_depth = 3, subsample = 1.0, seed = RANDOM_STATE) \n",
    "        \n",
    "        model.fit(Xtrain, ytrain)  \n",
    "    return model"
   ]
  },
  {
   "cell_type": "code",
   "execution_count": null,
   "id": "0e5a45c6",
   "metadata": {},
   "outputs": [],
   "source": []
  },
  {
   "cell_type": "code",
   "execution_count": null,
   "id": "e2562f0f",
   "metadata": {},
   "outputs": [],
   "source": []
  },
  {
   "cell_type": "markdown",
   "id": "95826283",
   "metadata": {},
   "source": [
    "# PROPHET MODEL"
   ]
  },
  {
   "cell_type": "code",
   "execution_count": 1072,
   "id": "a7600450",
   "metadata": {},
   "outputs": [],
   "source": [
    "import os\n",
    "class suppress_stdout_stderr(object):\n",
    "    '''\n",
    "    A context manager for doing a \"deep suppression\" of stdout and stderr in\n",
    "    Python, i.e. will suppress all print, even if the print originates in a\n",
    "    compiled C/Fortran sub-function.\n",
    "       This will not suppress raised exceptions, since exceptions are printed\n",
    "    to stderr just before a script exits, and after the context manager has\n",
    "    exited (at least, I think that is why it lets exceptions through).\n",
    "\n",
    "    '''\n",
    "    def __init__(self):\n",
    "        # Open a pair of null files\n",
    "        self.null_fds = [os.open(os.devnull, os.O_RDWR) for x in range(2)]\n",
    "        # Save the actual stdout (1) and stderr (2) file descriptors.\n",
    "        self.save_fds = [os.dup(1), os.dup(2)]\n",
    "\n",
    "    def __enter__(self):\n",
    "        # Assign the null pointers to stdout and stderr.\n",
    "        os.dup2(self.null_fds[0], 1)\n",
    "        os.dup2(self.null_fds[1], 2)\n",
    "\n",
    "    def __exit__(self, *_):\n",
    "        # Re-assign the real stdout/stderr back to (1) and (2)\n",
    "        os.dup2(self.save_fds[0], 1)\n",
    "        os.dup2(self.save_fds[1], 2)\n",
    "        # Close the null files\n",
    "        for fd in self.null_fds + self.save_fds:\n",
    "            os.close(fd)"
   ]
  },
  {
   "cell_type": "code",
   "execution_count": 1073,
   "id": "d90fb4a1",
   "metadata": {},
   "outputs": [],
   "source": [
    "def train_tuned_prophet_regressor(Xtrain, ytrain):\n",
    "     \n",
    "    if VERBOSE:\n",
    "        print(f'Hyperparameter Tuning for Prophet Regressor')\n",
    "    raise Exception(\"HYPERPARAMETER TUNING NOT HANDLED FOR PROPHET REGRESSOR\")\n",
    "    \n",
    "\n",
    "def train_prophet_regressor(Xtrain, ytrain, tune = False):\n",
    "    model = Prophet()\n",
    "    \n",
    "    #feat_cols = list(Xtrain.columns)\n",
    "    #feat_cols.remove('Close')\n",
    "    \n",
    "    for col in Xtrain.columns:\n",
    "        model.add_regressor(col)\n",
    "        \n",
    "    Xtrain_prophet = Xtrain.copy()\n",
    "    Xtrain_prophet['y'] = ytrain\n",
    "    Xtrain_prophet['ds'] = Xtrain.index\n",
    "    \n",
    "    with suppress_stdout_stderr():\n",
    "        model.fit(Xtrain_prophet)  \n",
    "    return model"
   ]
  },
  {
   "cell_type": "markdown",
   "id": "ff3240b2",
   "metadata": {},
   "source": [
    "# MINIROCKET MODEL"
   ]
  },
  {
   "cell_type": "code",
   "execution_count": 1074,
   "id": "93877bd6",
   "metadata": {},
   "outputs": [],
   "source": [
    "def train_minirocket_regressor(Xtrain, ytrain, tune = False):\n",
    "    rmse_scorer = make_scorer(mean_squared_error, greater_is_better=False)\n",
    "    model = MiniRocketVotingRegressor(n_estimators=20, scoring=rmse_scorer, verbose=False)    \n",
    "\n",
    "    X_train_nested = from_2d_array_to_nested(Xtrain)\n",
    "    \n",
    "    with suppress_stdout_stderr():\n",
    "        model.fit(X_train_nested, ytrain)\n",
    "    \n",
    "    return model"
   ]
  },
  {
   "cell_type": "code",
   "execution_count": null,
   "id": "00d65d3f",
   "metadata": {},
   "outputs": [],
   "source": []
  },
  {
   "cell_type": "markdown",
   "id": "91f36d21",
   "metadata": {},
   "source": [
    "# RUN ALL MODELS"
   ]
  },
  {
   "cell_type": "code",
   "execution_count": 1075,
   "id": "f6f82126",
   "metadata": {},
   "outputs": [],
   "source": [
    "def run_models(Xtrain, ytrain, final_df, final_metrics, start_date, ytest = None):\n",
    "    if VERBOSE:\n",
    "        print(f'RUNNING RANDOM FOREST REGRESSOR')\n",
    "    rf_model = train_rf_regressor(Xtrain, ytrain, tune=TUNE_RF_MODEL)\n",
    "    final_df, final_metrics = final_prediction_with_model(rf_model, 'RF',Xtrain, ytrain, \n",
    "                                                          final_df, final_metrics,\n",
    "                                                          start_date, ytest )\n",
    "    \n",
    "    \n",
    "    if VERBOSE:\n",
    "        print(f'\\nRUNNING LINEAR REGRESSOR')\n",
    "    lr_model = train_lr_regressor(Xtrain, ytrain, tune=TUNE_LR_MODEL)\n",
    "    final_df, final_metrics = final_prediction_with_model(lr_model, 'LR',Xtrain, ytrain, \n",
    "                                                          final_df, final_metrics, \n",
    "                                                          start_date, ytest )\n",
    "    \n",
    "    \n",
    "#     if VERBOSE:\n",
    "#         print(f'\\nRUNNING SUPPORT VECTOR REGRESSOR')\n",
    "#     svr_model = train_sv_regressor(Xtrain, ytrain, tune=TUNE_SVR_MODEL)\n",
    "#     final_df, final_metrics = final_prediction_with_model(svr_model, 'SVR',Xtrain, ytrain, \n",
    "#                                                           final_df, final_metrics, \n",
    "#                                                           start_date, ytest )\n",
    "    \n",
    "    \n",
    "    if VERBOSE:\n",
    "        print(f'\\nRUNNING GRADIENT BOOSTING REGRESSOR')\n",
    "    gb_model = train_gb_regressor(Xtrain, ytrain, tune=TUNE_GB_MODEL)\n",
    "    final_df, final_metrics = final_prediction_with_model(gb_model, 'GB',Xtrain, ytrain, \n",
    "                                                          final_df, final_metrics, \n",
    "                                                          start_date, ytest )\n",
    "    \n",
    "    \n",
    "    if VERBOSE:\n",
    "        print(f'\\nRUNNING XGB REGRESSOR')\n",
    "    xgb_model = train_xgb_regressor(Xtrain, ytrain, tune=TUNE_XGB_MODEL)\n",
    "    final_df, final_metrics = final_prediction_with_model(xgb_model, 'XGB',Xtrain, ytrain, \n",
    "                                                          final_df, final_metrics, \n",
    "                                                          start_date, ytest )\n",
    "    \n",
    "    \n",
    "    if VERBOSE:\n",
    "        print(f'RUNNING PROPHET REGRESSOR')\n",
    "    prophet_model = train_prophet_regressor(Xtrain, ytrain, tune=TUNE_PROPHET_MODEL)\n",
    "    final_df, final_metrics = final_prediction_with_model(prophet_model, 'PROPHET',Xtrain, ytrain, \n",
    "                                                          final_df, final_metrics, \n",
    "                                                          start_date, ytest )\n",
    "    \n",
    "    if VERBOSE:\n",
    "        print(f'RUNNING MINIROCKET REGRESSOR. HPT:{TUNE_MINIROCKET_MODEL}')\n",
    "    minirocket_model = train_minirocket_regressor(Xtrain, ytrain, tune=TUNE_MINIROCKET_MODEL)\n",
    "    final_df, final_metrics = final_prediction_with_model(minirocket_model, 'MINIROCKET',Xtrain, ytrain, \n",
    "                                                          final_df, final_metrics, \n",
    "                                                          start_date, ytest )\n",
    "    \n",
    "    # Consolidate the result from all the models\n",
    "    final_df, final_metrics = consolidate_model_results(final_df, final_metrics)\n",
    "    return final_df, final_metrics\n",
    "    "
   ]
  },
  {
   "cell_type": "code",
   "execution_count": 1076,
   "id": "b355ea65",
   "metadata": {
    "scrolled": true
   },
   "outputs": [],
   "source": [
    "def run_models_for_stock(stock_name, is_index=False, is_crypto=False):\n",
    "    print(f\"{stock_name} - Downloading Data\")\n",
    "    if not is_crypto:\n",
    "        stock_full_df = get_stock_data(stock_name,is_index=is_index)\n",
    "    else:\n",
    "        stock_full_df = get_crypto_data(stock_name)\n",
    "    if VERBOSE:\n",
    "        print(f\"Initial downloaded data\")\n",
    "        display(stock_full_df.head(2))\n",
    "        display(stock_full_df.tail(2))\n",
    "        print(f\"EDA - {stock_name}\")\n",
    "        \n",
    "        print_inf_values(stock_full_df)\n",
    "        print_missing_columns(stock_full_df)\n",
    "        print(f\"Creating Derived Features - {stock_name}\")\n",
    "    stock_df = stock_full_df[['Prev Close','Close']]\n",
    "    stock_df = create_derived_features(stock_df)\n",
    "    \n",
    "    # Most models cannot handle NaN in the data. Drop the NaNs in the newly created columns (MA columns)\n",
    "    if VERBOSE:\n",
    "        display(stock_df.tail())\n",
    "        print(f'Shape before droping NaN values:{stock_df.shape}')\n",
    "    stock_df.dropna(inplace=True)\n",
    "    if VERBOSE:\n",
    "        print(f'Shape after droping NaN values:{stock_df.shape}')\n",
    "        print('Train-Test split')\n",
    "    \n",
    "    train_X, train_y, test_X, test_y = split_data(stock_df, TARGET_COLUMN)\n",
    "    if VERBOSE:\n",
    "        print(f'Train Size: {train_X.shape}, train target shape:{train_y.shape}')\n",
    "        print(f'Test Size: {test_X.shape}, test target shape:{test_y.shape}')\n",
    "    \n",
    "    if SCALE_FEATURES:\n",
    "        if VERBOSE:\n",
    "            print('Scaling Data')\n",
    "        train_X = fit_transform_scaler(train_X) \n",
    "\n",
    "    final_df, final_metrics = create_result_df(test_y)\n",
    "    test_start_date = test_X.iloc[0].name\n",
    "\n",
    "    if VERBOSE:\n",
    "        print(f'Test start date: {test_start_date}')\n",
    "    \n",
    "    final_df, final_metrics = run_models(train_X, train_y, final_df, final_metrics, test_start_date, test_y)\n",
    "    \n",
    "    if VERBOSE:\n",
    "        print(f'\\nFINAL RESULTS - {stock_name}\\n')\n",
    "        \n",
    "    final_df.rename(columns = {'Close':'Actual close'}, inplace = True)  \n",
    "\n",
    "    plot_predictions(final_df, stock_name, final_metrics, MODEL_COLUMNS_TO_PLOT)\n",
    "    plot_metric_bar(final_metrics,'RMSE')\n",
    "    display(final_metrics.round(3))\n",
    "    display(final_df)\n",
    "    \n",
    "    return final_df, final_metrics\n",
    "    \n",
    "    \n",
    "\n"
   ]
  },
  {
   "cell_type": "code",
   "execution_count": null,
   "id": "8204d796",
   "metadata": {},
   "outputs": [],
   "source": []
  },
  {
   "cell_type": "code",
   "execution_count": null,
   "id": "24c1ead5",
   "metadata": {},
   "outputs": [],
   "source": []
  },
  {
   "cell_type": "markdown",
   "id": "df0719f9",
   "metadata": {},
   "source": [
    "# FINAL RESULTS"
   ]
  },
  {
   "cell_type": "code",
   "execution_count": 1077,
   "id": "d176d41d",
   "metadata": {},
   "outputs": [],
   "source": [
    "MODEL_COLUMNS_TO_PLOT=['Actual close','LR close','GB close','XGB close','PROPHET close','MINIROCKET close']\n",
    "\n",
    "HPT_SCORING = 'neg_mean_squared_error'\n",
    "CV_FOLDS = 5\n",
    "\n",
    "TUNE_RF_MODEL = True\n",
    "TUNE_LR_MODEL = False\n",
    "TUNE_SVR_MODEL = False\n",
    "TUNE_GB_MODEL = True\n",
    "TUNE_XGB_MODEL = True\n",
    "TUNE_PROPHET_MODEL = False\n",
    "TUNE_MINIROCKET_MODEL = False\n",
    "VERBOSE = True\n",
    "\n",
    "\n",
    "SCALE_FEATURES = False"
   ]
  },
  {
   "cell_type": "markdown",
   "id": "cc0f1a90",
   "metadata": {},
   "source": [
    "TESTING CRYPTO STOCKS"
   ]
  },
  {
   "cell_type": "code",
   "execution_count": 1078,
   "id": "2ea5c38f",
   "metadata": {
    "scrolled": false
   },
   "outputs": [
    {
     "name": "stdout",
     "output_type": "stream",
     "text": [
      "BTC-USD - Downloading Data\n",
      "Initial downloaded data\n"
     ]
    },
    {
     "data": {
      "text/html": [
       "<div>\n",
       "<style scoped>\n",
       "    .dataframe tbody tr th:only-of-type {\n",
       "        vertical-align: middle;\n",
       "    }\n",
       "\n",
       "    .dataframe tbody tr th {\n",
       "        vertical-align: top;\n",
       "    }\n",
       "\n",
       "    .dataframe thead th {\n",
       "        text-align: right;\n",
       "    }\n",
       "</style>\n",
       "<table border=\"1\" class=\"dataframe\">\n",
       "  <thead>\n",
       "    <tr style=\"text-align: right;\">\n",
       "      <th></th>\n",
       "      <th>Open</th>\n",
       "      <th>High</th>\n",
       "      <th>Low</th>\n",
       "      <th>Close</th>\n",
       "      <th>Prev Close</th>\n",
       "    </tr>\n",
       "    <tr>\n",
       "      <th>Date</th>\n",
       "      <th></th>\n",
       "      <th></th>\n",
       "      <th></th>\n",
       "      <th></th>\n",
       "      <th></th>\n",
       "    </tr>\n",
       "  </thead>\n",
       "  <tbody>\n",
       "    <tr>\n",
       "      <th>2018-05-28</th>\n",
       "      <td>7371.310059</td>\n",
       "      <td>7419.049805</td>\n",
       "      <td>7100.890137</td>\n",
       "      <td>7135.990234</td>\n",
       "      <td>NaN</td>\n",
       "    </tr>\n",
       "    <tr>\n",
       "      <th>2018-05-29</th>\n",
       "      <td>7129.459961</td>\n",
       "      <td>7526.419922</td>\n",
       "      <td>7090.680176</td>\n",
       "      <td>7472.589844</td>\n",
       "      <td>7135.990234</td>\n",
       "    </tr>\n",
       "  </tbody>\n",
       "</table>\n",
       "</div>"
      ],
      "text/plain": [
       "                   Open         High          Low        Close   Prev Close\n",
       "Date                                                                       \n",
       "2018-05-28  7371.310059  7419.049805  7100.890137  7135.990234          NaN\n",
       "2018-05-29  7129.459961  7526.419922  7090.680176  7472.589844  7135.990234"
      ]
     },
     "metadata": {},
     "output_type": "display_data"
    },
    {
     "data": {
      "text/html": [
       "<div>\n",
       "<style scoped>\n",
       "    .dataframe tbody tr th:only-of-type {\n",
       "        vertical-align: middle;\n",
       "    }\n",
       "\n",
       "    .dataframe tbody tr th {\n",
       "        vertical-align: top;\n",
       "    }\n",
       "\n",
       "    .dataframe thead th {\n",
       "        text-align: right;\n",
       "    }\n",
       "</style>\n",
       "<table border=\"1\" class=\"dataframe\">\n",
       "  <thead>\n",
       "    <tr style=\"text-align: right;\">\n",
       "      <th></th>\n",
       "      <th>Open</th>\n",
       "      <th>High</th>\n",
       "      <th>Low</th>\n",
       "      <th>Close</th>\n",
       "      <th>Prev Close</th>\n",
       "    </tr>\n",
       "    <tr>\n",
       "      <th>Date</th>\n",
       "      <th></th>\n",
       "      <th></th>\n",
       "      <th></th>\n",
       "      <th></th>\n",
       "      <th></th>\n",
       "    </tr>\n",
       "  </thead>\n",
       "  <tbody>\n",
       "    <tr>\n",
       "      <th>2023-05-27</th>\n",
       "      <td>26720.181641</td>\n",
       "      <td>26888.882812</td>\n",
       "      <td>26621.140625</td>\n",
       "      <td>26868.353516</td>\n",
       "      <td>26719.291016</td>\n",
       "    </tr>\n",
       "    <tr>\n",
       "      <th>2023-05-28</th>\n",
       "      <td>26861.359375</td>\n",
       "      <td>27288.478516</td>\n",
       "      <td>26805.046875</td>\n",
       "      <td>27265.568359</td>\n",
       "      <td>26868.353516</td>\n",
       "    </tr>\n",
       "  </tbody>\n",
       "</table>\n",
       "</div>"
      ],
      "text/plain": [
       "                    Open          High           Low         Close  \\\n",
       "Date                                                                 \n",
       "2023-05-27  26720.181641  26888.882812  26621.140625  26868.353516   \n",
       "2023-05-28  26861.359375  27288.478516  26805.046875  27265.568359   \n",
       "\n",
       "              Prev Close  \n",
       "Date                      \n",
       "2023-05-27  26719.291016  \n",
       "2023-05-28  26868.353516  "
      ]
     },
     "metadata": {},
     "output_type": "display_data"
    },
    {
     "name": "stdout",
     "output_type": "stream",
     "text": [
      "EDA - BTC-USD\n",
      "No. of infinity values in the dataset:0\n"
     ]
    },
    {
     "data": {
      "text/html": [
       "<div>\n",
       "<style scoped>\n",
       "    .dataframe tbody tr th:only-of-type {\n",
       "        vertical-align: middle;\n",
       "    }\n",
       "\n",
       "    .dataframe tbody tr th {\n",
       "        vertical-align: top;\n",
       "    }\n",
       "\n",
       "    .dataframe thead th {\n",
       "        text-align: right;\n",
       "    }\n",
       "</style>\n",
       "<table border=\"1\" class=\"dataframe\">\n",
       "  <thead>\n",
       "    <tr style=\"text-align: right;\">\n",
       "      <th></th>\n",
       "      <th>Missing</th>\n",
       "      <th>Missing %</th>\n",
       "      <th>Type</th>\n",
       "      <th>Unique Count</th>\n",
       "    </tr>\n",
       "  </thead>\n",
       "  <tbody>\n",
       "    <tr>\n",
       "      <th>Prev Close</th>\n",
       "      <td>1</td>\n",
       "      <td>0.054735</td>\n",
       "      <td>&lt;class 'str'&gt;</td>\n",
       "      <td>1825</td>\n",
       "    </tr>\n",
       "  </tbody>\n",
       "</table>\n",
       "</div>"
      ],
      "text/plain": [
       "            Missing  Missing %           Type  Unique Count\n",
       "Prev Close        1   0.054735  <class 'str'>          1825"
      ]
     },
     "metadata": {},
     "output_type": "display_data"
    },
    {
     "name": "stdout",
     "output_type": "stream",
     "text": [
      "Creating Derived Features - BTC-USD\n"
     ]
    },
    {
     "data": {
      "text/html": [
       "<div>\n",
       "<style scoped>\n",
       "    .dataframe tbody tr th:only-of-type {\n",
       "        vertical-align: middle;\n",
       "    }\n",
       "\n",
       "    .dataframe tbody tr th {\n",
       "        vertical-align: top;\n",
       "    }\n",
       "\n",
       "    .dataframe thead th {\n",
       "        text-align: right;\n",
       "    }\n",
       "</style>\n",
       "<table border=\"1\" class=\"dataframe\">\n",
       "  <thead>\n",
       "    <tr style=\"text-align: right;\">\n",
       "      <th></th>\n",
       "      <th>Prev Close</th>\n",
       "      <th>Close</th>\n",
       "      <th>20_sma</th>\n",
       "      <th>50_sma</th>\n",
       "      <th>200_sma</th>\n",
       "      <th>20_ema</th>\n",
       "      <th>50_ema</th>\n",
       "      <th>200_ema</th>\n",
       "      <th>rsi</th>\n",
       "      <th>macd</th>\n",
       "      <th>signal</th>\n",
       "      <th>hist</th>\n",
       "      <th>sma_bb</th>\n",
       "      <th>stddev</th>\n",
       "      <th>upper_bb</th>\n",
       "      <th>lower_bb</th>\n",
       "      <th>roc</th>\n",
       "      <th>ppo</th>\n",
       "      <th>ht_trend</th>\n",
       "      <th>ht_dcphase</th>\n",
       "    </tr>\n",
       "    <tr>\n",
       "      <th>Date</th>\n",
       "      <th></th>\n",
       "      <th></th>\n",
       "      <th></th>\n",
       "      <th></th>\n",
       "      <th></th>\n",
       "      <th></th>\n",
       "      <th></th>\n",
       "      <th></th>\n",
       "      <th></th>\n",
       "      <th></th>\n",
       "      <th></th>\n",
       "      <th></th>\n",
       "      <th></th>\n",
       "      <th></th>\n",
       "      <th></th>\n",
       "      <th></th>\n",
       "      <th></th>\n",
       "      <th></th>\n",
       "      <th></th>\n",
       "      <th></th>\n",
       "    </tr>\n",
       "  </thead>\n",
       "  <tbody>\n",
       "    <tr>\n",
       "      <th>2023-05-24</th>\n",
       "      <td>27225.726562</td>\n",
       "      <td>26334.818359</td>\n",
       "      <td>27477.394922</td>\n",
       "      <td>28333.059688</td>\n",
       "      <td>22657.185615</td>\n",
       "      <td>27403.589204</td>\n",
       "      <td>27541.026088</td>\n",
       "      <td>24968.219555</td>\n",
       "      <td>46.178235</td>\n",
       "      <td>-385.684217</td>\n",
       "      <td>-383.192167</td>\n",
       "      <td>-2.492050</td>\n",
       "      <td>27477.394922</td>\n",
       "      <td>820.905366</td>\n",
       "      <td>29119.205653</td>\n",
       "      <td>25835.584191</td>\n",
       "      <td>1.648922</td>\n",
       "      <td>-2.980001</td>\n",
       "      <td>1</td>\n",
       "      <td>51.448286</td>\n",
       "    </tr>\n",
       "    <tr>\n",
       "      <th>2023-05-25</th>\n",
       "      <td>26334.818359</td>\n",
       "      <td>26476.207031</td>\n",
       "      <td>27351.750293</td>\n",
       "      <td>28296.394258</td>\n",
       "      <td>22682.446250</td>\n",
       "      <td>27301.801505</td>\n",
       "      <td>27493.723824</td>\n",
       "      <td>24981.817553</td>\n",
       "      <td>38.323938</td>\n",
       "      <td>-422.568854</td>\n",
       "      <td>-391.067505</td>\n",
       "      <td>-31.501349</td>\n",
       "      <td>27351.750293</td>\n",
       "      <td>791.926715</td>\n",
       "      <td>28935.603724</td>\n",
       "      <td>25767.896862</td>\n",
       "      <td>-2.212425</td>\n",
       "      <td>-2.716570</td>\n",
       "      <td>1</td>\n",
       "      <td>55.982307</td>\n",
       "    </tr>\n",
       "    <tr>\n",
       "      <th>2023-05-26</th>\n",
       "      <td>26476.207031</td>\n",
       "      <td>26719.291016</td>\n",
       "      <td>27198.841406</td>\n",
       "      <td>28262.358711</td>\n",
       "      <td>22710.194854</td>\n",
       "      <td>27223.173460</td>\n",
       "      <td>27453.821204</td>\n",
       "      <td>24996.687100</td>\n",
       "      <td>40.066179</td>\n",
       "      <td>-435.372606</td>\n",
       "      <td>-399.928525</td>\n",
       "      <td>-35.444081</td>\n",
       "      <td>27198.841406</td>\n",
       "      <td>626.219683</td>\n",
       "      <td>28451.280772</td>\n",
       "      <td>25946.402040</td>\n",
       "      <td>-2.634849</td>\n",
       "      <td>-2.433618</td>\n",
       "      <td>1</td>\n",
       "      <td>54.867428</td>\n",
       "    </tr>\n",
       "    <tr>\n",
       "      <th>2023-05-27</th>\n",
       "      <td>26719.291016</td>\n",
       "      <td>26868.353516</td>\n",
       "      <td>27089.574805</td>\n",
       "      <td>28235.861719</td>\n",
       "      <td>22740.777227</td>\n",
       "      <td>27175.184655</td>\n",
       "      <td>27425.016099</td>\n",
       "      <td>25013.827437</td>\n",
       "      <td>43.045036</td>\n",
       "      <td>-421.051209</td>\n",
       "      <td>-404.153062</td>\n",
       "      <td>-16.898148</td>\n",
       "      <td>27089.574805</td>\n",
       "      <td>488.411200</td>\n",
       "      <td>28066.397205</td>\n",
       "      <td>26112.752405</td>\n",
       "      <td>-1.173812</td>\n",
       "      <td>-2.149707</td>\n",
       "      <td>1</td>\n",
       "      <td>53.389331</td>\n",
       "    </tr>\n",
       "    <tr>\n",
       "      <th>2023-05-28</th>\n",
       "      <td>26868.353516</td>\n",
       "      <td>27265.568359</td>\n",
       "      <td>27010.243555</td>\n",
       "      <td>28214.711602</td>\n",
       "      <td>22782.412637</td>\n",
       "      <td>27145.962642</td>\n",
       "      <td>27403.186194</td>\n",
       "      <td>25032.280433</td>\n",
       "      <td>44.855043</td>\n",
       "      <td>-393.141412</td>\n",
       "      <td>-401.950732</td>\n",
       "      <td>8.809320</td>\n",
       "      <td>27010.243555</td>\n",
       "      <td>369.288585</td>\n",
       "      <td>27748.820725</td>\n",
       "      <td>26271.666384</td>\n",
       "      <td>-1.936031</td>\n",
       "      <td>-2.080459</td>\n",
       "      <td>1</td>\n",
       "      <td>44.878715</td>\n",
       "    </tr>\n",
       "  </tbody>\n",
       "</table>\n",
       "</div>"
      ],
      "text/plain": [
       "              Prev Close         Close        20_sma        50_sma  \\\n",
       "Date                                                                 \n",
       "2023-05-24  27225.726562  26334.818359  27477.394922  28333.059688   \n",
       "2023-05-25  26334.818359  26476.207031  27351.750293  28296.394258   \n",
       "2023-05-26  26476.207031  26719.291016  27198.841406  28262.358711   \n",
       "2023-05-27  26719.291016  26868.353516  27089.574805  28235.861719   \n",
       "2023-05-28  26868.353516  27265.568359  27010.243555  28214.711602   \n",
       "\n",
       "                 200_sma        20_ema        50_ema       200_ema        rsi  \\\n",
       "Date                                                                            \n",
       "2023-05-24  22657.185615  27403.589204  27541.026088  24968.219555  46.178235   \n",
       "2023-05-25  22682.446250  27301.801505  27493.723824  24981.817553  38.323938   \n",
       "2023-05-26  22710.194854  27223.173460  27453.821204  24996.687100  40.066179   \n",
       "2023-05-27  22740.777227  27175.184655  27425.016099  25013.827437  43.045036   \n",
       "2023-05-28  22782.412637  27145.962642  27403.186194  25032.280433  44.855043   \n",
       "\n",
       "                  macd      signal       hist        sma_bb      stddev  \\\n",
       "Date                                                                      \n",
       "2023-05-24 -385.684217 -383.192167  -2.492050  27477.394922  820.905366   \n",
       "2023-05-25 -422.568854 -391.067505 -31.501349  27351.750293  791.926715   \n",
       "2023-05-26 -435.372606 -399.928525 -35.444081  27198.841406  626.219683   \n",
       "2023-05-27 -421.051209 -404.153062 -16.898148  27089.574805  488.411200   \n",
       "2023-05-28 -393.141412 -401.950732   8.809320  27010.243555  369.288585   \n",
       "\n",
       "                upper_bb      lower_bb       roc       ppo  ht_trend  \\\n",
       "Date                                                                   \n",
       "2023-05-24  29119.205653  25835.584191  1.648922 -2.980001         1   \n",
       "2023-05-25  28935.603724  25767.896862 -2.212425 -2.716570         1   \n",
       "2023-05-26  28451.280772  25946.402040 -2.634849 -2.433618         1   \n",
       "2023-05-27  28066.397205  26112.752405 -1.173812 -2.149707         1   \n",
       "2023-05-28  27748.820725  26271.666384 -1.936031 -2.080459         1   \n",
       "\n",
       "            ht_dcphase  \n",
       "Date                    \n",
       "2023-05-24   51.448286  \n",
       "2023-05-25   55.982307  \n",
       "2023-05-26   54.867428  \n",
       "2023-05-27   53.389331  \n",
       "2023-05-28   44.878715  "
      ]
     },
     "metadata": {},
     "output_type": "display_data"
    },
    {
     "name": "stdout",
     "output_type": "stream",
     "text": [
      "Shape before droping NaN values:(1827, 20)\n",
      "Shape after droping NaN values:(1627, 20)\n",
      "Train-Test split\n",
      "Train Size: (1622, 19), train target shape:(1622,)\n",
      "Test Size: (5, 19), test target shape:(5,)\n",
      "Test start date: 2023-05-24 00:00:00\n",
      "RUNNING RANDOM FOREST REGRESSOR\n",
      "Hyperparameter Tuning for RandomForest Regressor\n",
      "Fitting 5 folds for each of 100 candidates, totalling 500 fits\n",
      "HPT params for RandomForest: {'n_estimators': 15, 'max_features': 'auto', 'max_depth': 5, 'bootstrap': True}\n",
      "R2 - test: -3.6029584968420734\n",
      "RSS - test: 2424050.047224781\n",
      "MSE - test: 484810.0094449562, RMSE = 696.28299522892\n",
      "\n",
      "RUNNING LINEAR REGRESSOR\n",
      "R2 - test: -1.2096671076202061\n",
      "RSS - test: 1163674.1153005406\n",
      "MSE - test: 232734.82306010812, RMSE = 482.4259767675328\n",
      "\n",
      "RUNNING GRADIENT BOOSTING REGRESSOR\n",
      "Hyperparameter Tuning for Gradient Boosting Regressor\n",
      "HPT params for GradientBoosting: {'subsample': 0.5, 'random_state': 123, 'n_estimators': 50, 'max_depth': 2, 'learning_rate': 0.1}\n",
      "R2 - test: -14.641958521841186\n",
      "RSS - test: 8237504.274603089\n",
      "MSE - test: 1647500.8549206178, RMSE = 1283.5500983290904\n",
      "\n",
      "RUNNING XGB REGRESSOR\n",
      "Hyperparameter Tuning for XGB Regressor\n",
      "[CV] END bootstrap=False, max_depth=None, max_features=log2, n_estimators=12; total time=   0.0s\n",
      "[CV] END bootstrap=False, max_depth=None, max_features=log2, n_estimators=7; total time=   0.0s\n",
      "[CV] END bootstrap=True, max_depth=10, max_features=log2, n_estimators=6; total time=   0.0s\n",
      "[CV] END bootstrap=True, max_depth=10, max_features=auto, n_estimators=9; total time=   0.1s\n",
      "[CV] END bootstrap=False, max_depth=5, max_features=auto, n_estimators=7; total time=   0.1s\n",
      "[CV] END bootstrap=True, max_depth=10, max_features=log2, n_estimators=8; total time=   0.0s\n",
      "[CV] END bootstrap=True, max_depth=5, max_features=auto, n_estimators=13; total time=   0.1s\n",
      "[CV] END bootstrap=False, max_depth=10, max_features=auto, n_estimators=12; total time=   0.1s\n",
      "[CV] END bootstrap=False, max_depth=10, max_features=auto, n_estimators=12; total time=   0.1s\n",
      "[CV] END bootstrap=False, max_depth=None, max_features=auto, n_estimators=10; total time=   0.2s\n",
      "[CV] END bootstrap=False, max_depth=5, max_features=auto, n_estimators=8; total time=   0.1s\n",
      "[CV] END bootstrap=False, max_depth=5, max_features=auto, n_estimators=8; total time=   0.1s\n",
      "[CV] END bootstrap=False, max_depth=5, max_features=auto, n_estimators=8; total time=   0.1s\n",
      "[CV] END bootstrap=False, max_depth=5, max_features=auto, n_estimators=5; total time=   0.0s\n",
      "[CV] END bootstrap=True, max_depth=None, max_features=auto, n_estimators=7; total time=   0.1s\n",
      "[CV] END bootstrap=True, max_depth=None, max_features=auto, n_estimators=7; total time=   0.1s\n",
      "[CV] END bootstrap=True, max_depth=None, max_features=auto, n_estimators=7; total time=   0.1s\n",
      "[CV] END bootstrap=True, max_depth=None, max_features=auto, n_estimators=7; total time=   0.1s\n",
      "[CV] END bootstrap=True, max_depth=None, max_features=auto, n_estimators=7; total time=   0.1s\n",
      "[CV] END bootstrap=False, max_depth=None, max_features=auto, n_estimators=5; total time=   0.1s\n",
      "[CV] END bootstrap=False, max_depth=None, max_features=auto, n_estimators=5; total time=   0.1s\n",
      "[CV] END bootstrap=False, max_depth=None, max_features=auto, n_estimators=6; total time=   0.1s\n",
      "[CV] END bootstrap=False, max_depth=None, max_features=auto, n_estimators=6; total time=   0.1s\n",
      "[CV] END bootstrap=False, max_depth=None, max_features=auto, n_estimators=6; total time=   0.1s\n",
      "[CV] END bootstrap=True, max_depth=10, max_features=log2, n_estimators=5; total time=   0.0s\n",
      "[CV] END bootstrap=True, max_depth=10, max_features=log2, n_estimators=5; total time=   0.0s\n",
      "[CV] END bootstrap=True, max_depth=10, max_features=log2, n_estimators=5; total time=   0.0s\n",
      "[CV] END bootstrap=True, max_depth=10, max_features=log2, n_estimators=5; total time=   0.0s\n",
      "[CV] END bootstrap=True, max_depth=10, max_features=log2, n_estimators=5; total time=   0.0s\n",
      "[CV] END bootstrap=True, max_depth=None, max_features=auto, n_estimators=5; total time=   0.0s\n",
      "[CV] END bootstrap=True, max_depth=None, max_features=auto, n_estimators=5; total time=   0.0s\n",
      "[CV] END bootstrap=True, max_depth=None, max_features=auto, n_estimators=5; total time=   0.0s\n",
      "[CV] END bootstrap=True, max_depth=None, max_features=auto, n_estimators=5; total time=   0.0s\n",
      "[CV] END bootstrap=False, max_depth=5, max_features=log2, n_estimators=11; total time=   0.0s\n",
      "[CV] END bootstrap=False, max_depth=5, max_features=log2, n_estimators=11; total time=   0.0s\n",
      "[CV] END bootstrap=False, max_depth=5, max_features=log2, n_estimators=11; total time=   0.0s\n",
      "[CV] END bootstrap=False, max_depth=5, max_features=log2, n_estimators=11; total time=   0.0s\n",
      "[CV] END bootstrap=False, max_depth=10, max_features=log2, n_estimators=6; total time=   0.0s\n",
      "[CV] END bootstrap=False, max_depth=None, max_features=log2, n_estimators=13; total time=   0.0s\n",
      "[CV] END bootstrap=False, max_depth=None, max_features=log2, n_estimators=13; total time=   0.1s\n",
      "[CV] END bootstrap=False, max_depth=None, max_features=log2, n_estimators=13; total time=   0.1s\n",
      "[CV] END bootstrap=False, max_depth=None, max_features=log2, n_estimators=13; total time=   0.1s\n",
      "[CV] END bootstrap=False, max_depth=None, max_features=log2, n_estimators=13; total time=   0.1s\n",
      "[CV] END bootstrap=True, max_depth=10, max_features=log2, n_estimators=15; total time=   0.0s\n",
      "[CV] END bootstrap=True, max_depth=10, max_features=log2, n_estimators=15; total time=   0.0s\n",
      "[CV] END bootstrap=True, max_depth=5, max_features=auto, n_estimators=9; total time=   0.1s\n",
      "[CV] END bootstrap=False, max_depth=None, max_features=auto, n_estimators=9; total time=   0.1s\n",
      "[CV] END bootstrap=False, max_depth=5, max_features=auto, n_estimators=7; total time=   0.1s\n",
      "[CV] END bootstrap=True, max_depth=10, max_features=log2, n_estimators=8; total time=   0.0s\n",
      "[CV] END bootstrap=True, max_depth=5, max_features=auto, n_estimators=5; total time=   0.0s\n",
      "[CV] END bootstrap=True, max_depth=5, max_features=auto, n_estimators=5; total time=   0.0s\n",
      "[CV] END bootstrap=False, max_depth=10, max_features=auto, n_estimators=12; total time=   0.1s\n",
      "[CV] END bootstrap=False, max_depth=10, max_features=auto, n_estimators=12; total time=   0.1s\n",
      "[CV] END bootstrap=False, max_depth=None, max_features=auto, n_estimators=10; total time=   0.1s\n",
      "[CV] END bootstrap=False, max_depth=None, max_features=auto, n_estimators=10; total time=   0.2s\n",
      "[CV] END bootstrap=False, max_depth=None, max_features=auto, n_estimators=10; total time=   0.1s\n",
      "[CV] END bootstrap=False, max_depth=None, max_features=auto, n_estimators=10; total time=   0.1s\n",
      "[CV] END bootstrap=True, max_depth=10, max_features=auto, n_estimators=5; total time=   0.0s\n",
      "[CV] END bootstrap=True, max_depth=10, max_features=auto, n_estimators=5; total time=   0.0s\n",
      "[CV] END bootstrap=True, max_depth=10, max_features=auto, n_estimators=5; total time=   0.0s\n",
      "[CV] END bootstrap=True, max_depth=10, max_features=auto, n_estimators=5; total time=   0.0s\n",
      "[CV] END bootstrap=True, max_depth=10, max_features=auto, n_estimators=5; total time=   0.0s\n",
      "[CV] END bootstrap=True, max_depth=None, max_features=log2, n_estimators=5; total time=   0.0s\n",
      "[CV] END bootstrap=True, max_depth=None, max_features=log2, n_estimators=5; total time=   0.0s\n",
      "[CV] END bootstrap=True, max_depth=None, max_features=log2, n_estimators=5; total time=   0.0s\n",
      "[CV] END bootstrap=True, max_depth=5, max_features=auto, n_estimators=11; total time=   0.1s\n",
      "[CV] END bootstrap=True, max_depth=10, max_features=auto, n_estimators=11; total time=   0.1s\n",
      "[CV] END bootstrap=True, max_depth=10, max_features=auto, n_estimators=11; total time=   0.1s\n",
      "[CV] END bootstrap=True, max_depth=10, max_features=auto, n_estimators=11; total time=   0.1s\n",
      "[CV] END bootstrap=True, max_depth=10, max_features=auto, n_estimators=11; total time=   0.1s\n",
      "[CV] END bootstrap=True, max_depth=10, max_features=auto, n_estimators=11; total time=   0.1s\n",
      "[CV] END bootstrap=False, max_depth=None, max_features=auto, n_estimators=6; total time=   0.1s\n",
      "[CV] END bootstrap=False, max_depth=None, max_features=auto, n_estimators=6; total time=   0.1s\n",
      "[CV] END bootstrap=True, max_depth=5, max_features=auto, n_estimators=7; total time=   0.0s\n",
      "[CV] END bootstrap=True, max_depth=5, max_features=auto, n_estimators=7; total time=   0.0s\n",
      "[CV] END bootstrap=True, max_depth=5, max_features=auto, n_estimators=7; total time=   0.0s\n",
      "[CV] END bootstrap=True, max_depth=5, max_features=auto, n_estimators=7; total time=   0.0s\n",
      "[CV] END bootstrap=True, max_depth=5, max_features=auto, n_estimators=7; total time=   0.0s\n",
      "[CV] END bootstrap=False, max_depth=5, max_features=auto, n_estimators=12; total time=   0.1s\n",
      "[CV] END bootstrap=False, max_depth=5, max_features=auto, n_estimators=12; total time=   0.1s\n",
      "[CV] END bootstrap=False, max_depth=5, max_features=auto, n_estimators=12; total time=   0.1s\n",
      "[CV] END bootstrap=True, max_depth=5, max_features=auto, n_estimators=9; total time=   0.0s\n",
      "[CV] END bootstrap=False, max_depth=None, max_features=log2, n_estimators=7; total time=   0.0s\n",
      "[CV] END bootstrap=True, max_depth=10, max_features=log2, n_estimators=6; total time=   0.0s\n",
      "[CV] END bootstrap=True, max_depth=10, max_features=auto, n_estimators=9; total time=   0.1s\n",
      "[CV] END bootstrap=False, max_depth=5, max_features=auto, n_estimators=7; total time=   0.1s\n",
      "[CV] END bootstrap=True, max_depth=5, max_features=auto, n_estimators=13; total time=   0.1s\n",
      "[CV] END bootstrap=True, max_depth=5, max_features=log2, n_estimators=8; total time=   0.0s\n",
      "[CV] END bootstrap=True, max_depth=5, max_features=log2, n_estimators=8; total time=   0.0s\n",
      "[CV] END bootstrap=True, max_depth=None, max_features=log2, n_estimators=6; total time=   0.0s\n",
      "[CV] END bootstrap=True, max_depth=None, max_features=log2, n_estimators=6; total time=   0.0s\n",
      "[CV] END bootstrap=False, max_depth=5, max_features=log2, n_estimators=7; total time=   0.0s\n",
      "[CV] END bootstrap=False, max_depth=5, max_features=log2, n_estimators=7; total time=   0.0s\n",
      "[CV] END bootstrap=False, max_depth=5, max_features=auto, n_estimators=10; total time=   0.1s\n",
      "[CV] END bootstrap=False, max_depth=5, max_features=auto, n_estimators=10; total time=   0.1s\n",
      "[CV] END bootstrap=False, max_depth=5, max_features=auto, n_estimators=10; total time=   0.1s\n",
      "[CV] END bootstrap=True, max_depth=None, max_features=log2, n_estimators=11; total time=   0.0s\n",
      "[CV] END bootstrap=True, max_depth=5, max_features=auto, n_estimators=15; total time=   0.1s\n",
      "[CV] END bootstrap=True, max_depth=5, max_features=auto, n_estimators=15; total time=   0.1s\n",
      "[CV] END bootstrap=True, max_depth=5, max_features=auto, n_estimators=15; total time=   0.1s\n",
      "[CV] END bootstrap=True, max_depth=5, max_features=auto, n_estimators=15; total time=   0.1s\n",
      "[CV] END bootstrap=False, max_depth=None, max_features=log2, n_estimators=6; total time=   0.0s\n",
      "[CV] END bootstrap=False, max_depth=None, max_features=log2, n_estimators=6; total time=   0.0s\n",
      "[CV] END bootstrap=False, max_depth=None, max_features=log2, n_estimators=6; total time=   0.0s\n",
      "[CV] END bootstrap=False, max_depth=None, max_features=log2, n_estimators=6; total time=   0.0s\n",
      "[CV] END bootstrap=False, max_depth=None, max_features=log2, n_estimators=9; total time=   0.0s\n",
      "[CV] END bootstrap=False, max_depth=None, max_features=log2, n_estimators=9; total time=   0.0s\n",
      "[CV] END bootstrap=False, max_depth=None, max_features=log2, n_estimators=9; total time=   0.0s\n",
      "[CV] END bootstrap=False, max_depth=None, max_features=log2, n_estimators=9; total time=   0.0s\n",
      "[CV] END bootstrap=True, max_depth=10, max_features=log2, n_estimators=12; total time=   0.0s\n",
      "[CV] END bootstrap=True, max_depth=10, max_features=log2, n_estimators=12; total time=   0.0s\n",
      "[CV] END bootstrap=True, max_depth=10, max_features=log2, n_estimators=12; total time=   0.0s\n",
      "[CV] END bootstrap=True, max_depth=10, max_features=log2, n_estimators=12; total time=   0.0s\n",
      "[CV] END bootstrap=True, max_depth=None, max_features=auto, n_estimators=8; total time=   0.1s\n",
      "[CV] END bootstrap=True, max_depth=None, max_features=auto, n_estimators=8; total time=   0.1s\n",
      "[CV] END bootstrap=True, max_depth=None, max_features=auto, n_estimators=8; total time=   0.1s\n",
      "[CV] END bootstrap=True, max_depth=None, max_features=auto, n_estimators=8; total time=   0.1s\n",
      "[CV] END bootstrap=True, max_depth=5, max_features=log2, n_estimators=5; total time=   0.0s\n",
      "[CV] END bootstrap=True, max_depth=None, max_features=log2, n_estimators=13; total time=   0.0s\n",
      "[CV] END bootstrap=True, max_depth=None, max_features=log2, n_estimators=13; total time=   0.0s\n",
      "[CV] END bootstrap=True, max_depth=None, max_features=log2, n_estimators=13; total time=   0.0s\n",
      "[CV] END bootstrap=True, max_depth=None, max_features=log2, n_estimators=13; total time=   0.0s\n",
      "[CV] END bootstrap=True, max_depth=None, max_features=log2, n_estimators=13; total time=   0.0s\n",
      "[CV] END bootstrap=False, max_depth=10, max_features=auto, n_estimators=6; total time=   0.1s\n",
      "[CV] END bootstrap=False, max_depth=10, max_features=auto, n_estimators=6; total time=   0.1s\n",
      "[CV] END bootstrap=True, max_depth=5, max_features=auto, n_estimators=12; total time=   0.0s\n",
      "[CV] END bootstrap=True, max_depth=5, max_features=auto, n_estimators=12; total time=   0.1s\n",
      "[CV] END bootstrap=True, max_depth=5, max_features=auto, n_estimators=12; total time=   0.1s\n",
      "[CV] END bootstrap=True, max_depth=5, max_features=auto, n_estimators=12; total time=   0.1s\n",
      "[CV] END bootstrap=True, max_depth=5, max_features=auto, n_estimators=12; total time=   0.1s\n",
      "[CV] END bootstrap=True, max_depth=None, max_features=auto, n_estimators=13; total time=   0.1s\n",
      "[CV] END bootstrap=True, max_depth=None, max_features=auto, n_estimators=13; total time=   0.1s\n",
      "[CV] END bootstrap=True, max_depth=None, max_features=auto, n_estimators=13; total time=   0.1s\n"
     ]
    },
    {
     "name": "stderr",
     "output_type": "stream",
     "text": [
      "/Users/lakshmi/miniforge3/envs/tradingtf/lib/python3.8/site-packages/sklearn/ensemble/_forest.py:416: FutureWarning: `max_features='auto'` has been deprecated in 1.1 and will be removed in 1.3. To keep the past behaviour, explicitly set `max_features=1.0` or remove this parameter as it is also the default value for RandomForestRegressors and ExtraTreesRegressors.\n",
      "  warn(\n",
      "/Users/lakshmi/miniforge3/envs/tradingtf/lib/python3.8/site-packages/sklearn/ensemble/_forest.py:416: FutureWarning: `max_features='auto'` has been deprecated in 1.1 and will be removed in 1.3. To keep the past behaviour, explicitly set `max_features=1.0` or remove this parameter as it is also the default value for RandomForestRegressors and ExtraTreesRegressors.\n",
      "  warn(\n",
      "/Users/lakshmi/miniforge3/envs/tradingtf/lib/python3.8/site-packages/sklearn/ensemble/_forest.py:416: FutureWarning: `max_features='auto'` has been deprecated in 1.1 and will be removed in 1.3. To keep the past behaviour, explicitly set `max_features=1.0` or remove this parameter as it is also the default value for RandomForestRegressors and ExtraTreesRegressors.\n",
      "  warn(\n",
      "/Users/lakshmi/miniforge3/envs/tradingtf/lib/python3.8/site-packages/sklearn/ensemble/_forest.py:416: FutureWarning: `max_features='auto'` has been deprecated in 1.1 and will be removed in 1.3. To keep the past behaviour, explicitly set `max_features=1.0` or remove this parameter as it is also the default value for RandomForestRegressors and ExtraTreesRegressors.\n",
      "  warn(\n",
      "/Users/lakshmi/miniforge3/envs/tradingtf/lib/python3.8/site-packages/sklearn/ensemble/_forest.py:416: FutureWarning: `max_features='auto'` has been deprecated in 1.1 and will be removed in 1.3. To keep the past behaviour, explicitly set `max_features=1.0` or remove this parameter as it is also the default value for RandomForestRegressors and ExtraTreesRegressors.\n",
      "  warn(\n",
      "/Users/lakshmi/miniforge3/envs/tradingtf/lib/python3.8/site-packages/sklearn/ensemble/_forest.py:416: FutureWarning: `max_features='auto'` has been deprecated in 1.1 and will be removed in 1.3. To keep the past behaviour, explicitly set `max_features=1.0` or remove this parameter as it is also the default value for RandomForestRegressors and ExtraTreesRegressors.\n",
      "  warn(\n",
      "/Users/lakshmi/miniforge3/envs/tradingtf/lib/python3.8/site-packages/sklearn/ensemble/_forest.py:416: FutureWarning: `max_features='auto'` has been deprecated in 1.1 and will be removed in 1.3. To keep the past behaviour, explicitly set `max_features=1.0` or remove this parameter as it is also the default value for RandomForestRegressors and ExtraTreesRegressors.\n",
      "  warn(\n",
      "/Users/lakshmi/miniforge3/envs/tradingtf/lib/python3.8/site-packages/sklearn/ensemble/_forest.py:416: FutureWarning: `max_features='auto'` has been deprecated in 1.1 and will be removed in 1.3. To keep the past behaviour, explicitly set `max_features=1.0` or remove this parameter as it is also the default value for RandomForestRegressors and ExtraTreesRegressors.\n",
      "  warn(\n",
      "/Users/lakshmi/miniforge3/envs/tradingtf/lib/python3.8/site-packages/sklearn/ensemble/_forest.py:416: FutureWarning: `max_features='auto'` has been deprecated in 1.1 and will be removed in 1.3. To keep the past behaviour, explicitly set `max_features=1.0` or remove this parameter as it is also the default value for RandomForestRegressors and ExtraTreesRegressors.\n",
      "  warn(\n",
      "/Users/lakshmi/miniforge3/envs/tradingtf/lib/python3.8/site-packages/sklearn/ensemble/_forest.py:416: FutureWarning: `max_features='auto'` has been deprecated in 1.1 and will be removed in 1.3. To keep the past behaviour, explicitly set `max_features=1.0` or remove this parameter as it is also the default value for RandomForestRegressors and ExtraTreesRegressors.\n",
      "  warn(\n",
      "/Users/lakshmi/miniforge3/envs/tradingtf/lib/python3.8/site-packages/sklearn/ensemble/_forest.py:416: FutureWarning: `max_features='auto'` has been deprecated in 1.1 and will be removed in 1.3. To keep the past behaviour, explicitly set `max_features=1.0` or remove this parameter as it is also the default value for RandomForestRegressors and ExtraTreesRegressors.\n",
      "  warn(\n",
      "/Users/lakshmi/miniforge3/envs/tradingtf/lib/python3.8/site-packages/sklearn/ensemble/_forest.py:416: FutureWarning: `max_features='auto'` has been deprecated in 1.1 and will be removed in 1.3. To keep the past behaviour, explicitly set `max_features=1.0` or remove this parameter as it is also the default value for RandomForestRegressors and ExtraTreesRegressors.\n",
      "  warn(\n",
      "/Users/lakshmi/miniforge3/envs/tradingtf/lib/python3.8/site-packages/sklearn/ensemble/_forest.py:416: FutureWarning: `max_features='auto'` has been deprecated in 1.1 and will be removed in 1.3. To keep the past behaviour, explicitly set `max_features=1.0` or remove this parameter as it is also the default value for RandomForestRegressors and ExtraTreesRegressors.\n",
      "  warn(\n",
      "/Users/lakshmi/miniforge3/envs/tradingtf/lib/python3.8/site-packages/sklearn/ensemble/_forest.py:416: FutureWarning: `max_features='auto'` has been deprecated in 1.1 and will be removed in 1.3. To keep the past behaviour, explicitly set `max_features=1.0` or remove this parameter as it is also the default value for RandomForestRegressors and ExtraTreesRegressors.\n",
      "  warn(\n",
      "/Users/lakshmi/miniforge3/envs/tradingtf/lib/python3.8/site-packages/sklearn/ensemble/_forest.py:416: FutureWarning: `max_features='auto'` has been deprecated in 1.1 and will be removed in 1.3. To keep the past behaviour, explicitly set `max_features=1.0` or remove this parameter as it is also the default value for RandomForestRegressors and ExtraTreesRegressors.\n",
      "  warn(\n",
      "/Users/lakshmi/miniforge3/envs/tradingtf/lib/python3.8/site-packages/sklearn/ensemble/_forest.py:416: FutureWarning: `max_features='auto'` has been deprecated in 1.1 and will be removed in 1.3. To keep the past behaviour, explicitly set `max_features=1.0` or remove this parameter as it is also the default value for RandomForestRegressors and ExtraTreesRegressors.\n",
      "  warn(\n",
      "/Users/lakshmi/miniforge3/envs/tradingtf/lib/python3.8/site-packages/sklearn/ensemble/_forest.py:416: FutureWarning: `max_features='auto'` has been deprecated in 1.1 and will be removed in 1.3. To keep the past behaviour, explicitly set `max_features=1.0` or remove this parameter as it is also the default value for RandomForestRegressors and ExtraTreesRegressors.\n",
      "  warn(\n",
      "/Users/lakshmi/miniforge3/envs/tradingtf/lib/python3.8/site-packages/sklearn/ensemble/_forest.py:416: FutureWarning: `max_features='auto'` has been deprecated in 1.1 and will be removed in 1.3. To keep the past behaviour, explicitly set `max_features=1.0` or remove this parameter as it is also the default value for RandomForestRegressors and ExtraTreesRegressors.\n",
      "  warn(\n",
      "/Users/lakshmi/miniforge3/envs/tradingtf/lib/python3.8/site-packages/sklearn/ensemble/_forest.py:416: FutureWarning: `max_features='auto'` has been deprecated in 1.1 and will be removed in 1.3. To keep the past behaviour, explicitly set `max_features=1.0` or remove this parameter as it is also the default value for RandomForestRegressors and ExtraTreesRegressors.\n",
      "  warn(\n",
      "/Users/lakshmi/miniforge3/envs/tradingtf/lib/python3.8/site-packages/sklearn/ensemble/_forest.py:416: FutureWarning: `max_features='auto'` has been deprecated in 1.1 and will be removed in 1.3. To keep the past behaviour, explicitly set `max_features=1.0` or remove this parameter as it is also the default value for RandomForestRegressors and ExtraTreesRegressors.\n",
      "  warn(\n",
      "/Users/lakshmi/miniforge3/envs/tradingtf/lib/python3.8/site-packages/sklearn/ensemble/_forest.py:416: FutureWarning: `max_features='auto'` has been deprecated in 1.1 and will be removed in 1.3. To keep the past behaviour, explicitly set `max_features=1.0` or remove this parameter as it is also the default value for RandomForestRegressors and ExtraTreesRegressors.\n",
      "  warn(\n",
      "/Users/lakshmi/miniforge3/envs/tradingtf/lib/python3.8/site-packages/sklearn/ensemble/_forest.py:416: FutureWarning: `max_features='auto'` has been deprecated in 1.1 and will be removed in 1.3. To keep the past behaviour, explicitly set `max_features=1.0` or remove this parameter as it is also the default value for RandomForestRegressors and ExtraTreesRegressors.\n",
      "  warn(\n",
      "/Users/lakshmi/miniforge3/envs/tradingtf/lib/python3.8/site-packages/sklearn/ensemble/_forest.py:416: FutureWarning: `max_features='auto'` has been deprecated in 1.1 and will be removed in 1.3. To keep the past behaviour, explicitly set `max_features=1.0` or remove this parameter as it is also the default value for RandomForestRegressors and ExtraTreesRegressors.\n",
      "  warn(\n",
      "/Users/lakshmi/miniforge3/envs/tradingtf/lib/python3.8/site-packages/sklearn/ensemble/_forest.py:416: FutureWarning: `max_features='auto'` has been deprecated in 1.1 and will be removed in 1.3. To keep the past behaviour, explicitly set `max_features=1.0` or remove this parameter as it is also the default value for RandomForestRegressors and ExtraTreesRegressors.\n",
      "  warn(\n",
      "/Users/lakshmi/miniforge3/envs/tradingtf/lib/python3.8/site-packages/sklearn/ensemble/_forest.py:416: FutureWarning: `max_features='auto'` has been deprecated in 1.1 and will be removed in 1.3. To keep the past behaviour, explicitly set `max_features=1.0` or remove this parameter as it is also the default value for RandomForestRegressors and ExtraTreesRegressors.\n",
      "  warn(\n",
      "/Users/lakshmi/miniforge3/envs/tradingtf/lib/python3.8/site-packages/sklearn/ensemble/_forest.py:416: FutureWarning: `max_features='auto'` has been deprecated in 1.1 and will be removed in 1.3. To keep the past behaviour, explicitly set `max_features=1.0` or remove this parameter as it is also the default value for RandomForestRegressors and ExtraTreesRegressors.\n",
      "  warn(\n",
      "/Users/lakshmi/miniforge3/envs/tradingtf/lib/python3.8/site-packages/sklearn/ensemble/_forest.py:416: FutureWarning: `max_features='auto'` has been deprecated in 1.1 and will be removed in 1.3. To keep the past behaviour, explicitly set `max_features=1.0` or remove this parameter as it is also the default value for RandomForestRegressors and ExtraTreesRegressors.\n",
      "  warn(\n",
      "/Users/lakshmi/miniforge3/envs/tradingtf/lib/python3.8/site-packages/sklearn/ensemble/_forest.py:416: FutureWarning: `max_features='auto'` has been deprecated in 1.1 and will be removed in 1.3. To keep the past behaviour, explicitly set `max_features=1.0` or remove this parameter as it is also the default value for RandomForestRegressors and ExtraTreesRegressors.\n",
      "  warn(\n",
      "/Users/lakshmi/miniforge3/envs/tradingtf/lib/python3.8/site-packages/sklearn/ensemble/_forest.py:416: FutureWarning: `max_features='auto'` has been deprecated in 1.1 and will be removed in 1.3. To keep the past behaviour, explicitly set `max_features=1.0` or remove this parameter as it is also the default value for RandomForestRegressors and ExtraTreesRegressors.\n",
      "  warn(\n",
      "/Users/lakshmi/miniforge3/envs/tradingtf/lib/python3.8/site-packages/sklearn/ensemble/_forest.py:416: FutureWarning: `max_features='auto'` has been deprecated in 1.1 and will be removed in 1.3. To keep the past behaviour, explicitly set `max_features=1.0` or remove this parameter as it is also the default value for RandomForestRegressors and ExtraTreesRegressors.\n",
      "  warn(\n",
      "/Users/lakshmi/miniforge3/envs/tradingtf/lib/python3.8/site-packages/sklearn/ensemble/_forest.py:416: FutureWarning: `max_features='auto'` has been deprecated in 1.1 and will be removed in 1.3. To keep the past behaviour, explicitly set `max_features=1.0` or remove this parameter as it is also the default value for RandomForestRegressors and ExtraTreesRegressors.\n",
      "  warn(\n",
      "/Users/lakshmi/miniforge3/envs/tradingtf/lib/python3.8/site-packages/sklearn/ensemble/_forest.py:416: FutureWarning: `max_features='auto'` has been deprecated in 1.1 and will be removed in 1.3. To keep the past behaviour, explicitly set `max_features=1.0` or remove this parameter as it is also the default value for RandomForestRegressors and ExtraTreesRegressors.\n",
      "  warn(\n",
      "/Users/lakshmi/miniforge3/envs/tradingtf/lib/python3.8/site-packages/sklearn/ensemble/_forest.py:416: FutureWarning: `max_features='auto'` has been deprecated in 1.1 and will be removed in 1.3. To keep the past behaviour, explicitly set `max_features=1.0` or remove this parameter as it is also the default value for RandomForestRegressors and ExtraTreesRegressors.\n",
      "  warn(\n",
      "/Users/lakshmi/miniforge3/envs/tradingtf/lib/python3.8/site-packages/sklearn/ensemble/_forest.py:416: FutureWarning: `max_features='auto'` has been deprecated in 1.1 and will be removed in 1.3. To keep the past behaviour, explicitly set `max_features=1.0` or remove this parameter as it is also the default value for RandomForestRegressors and ExtraTreesRegressors.\n",
      "  warn(\n",
      "/Users/lakshmi/miniforge3/envs/tradingtf/lib/python3.8/site-packages/sklearn/ensemble/_forest.py:416: FutureWarning: `max_features='auto'` has been deprecated in 1.1 and will be removed in 1.3. To keep the past behaviour, explicitly set `max_features=1.0` or remove this parameter as it is also the default value for RandomForestRegressors and ExtraTreesRegressors.\n",
      "  warn(\n",
      "/Users/lakshmi/miniforge3/envs/tradingtf/lib/python3.8/site-packages/sklearn/ensemble/_forest.py:416: FutureWarning: `max_features='auto'` has been deprecated in 1.1 and will be removed in 1.3. To keep the past behaviour, explicitly set `max_features=1.0` or remove this parameter as it is also the default value for RandomForestRegressors and ExtraTreesRegressors.\n",
      "  warn(\n",
      "/Users/lakshmi/miniforge3/envs/tradingtf/lib/python3.8/site-packages/sklearn/ensemble/_forest.py:416: FutureWarning: `max_features='auto'` has been deprecated in 1.1 and will be removed in 1.3. To keep the past behaviour, explicitly set `max_features=1.0` or remove this parameter as it is also the default value for RandomForestRegressors and ExtraTreesRegressors.\n",
      "  warn(\n",
      "/Users/lakshmi/miniforge3/envs/tradingtf/lib/python3.8/site-packages/sklearn/ensemble/_forest.py:416: FutureWarning: `max_features='auto'` has been deprecated in 1.1 and will be removed in 1.3. To keep the past behaviour, explicitly set `max_features=1.0` or remove this parameter as it is also the default value for RandomForestRegressors and ExtraTreesRegressors.\n",
      "  warn(\n",
      "/Users/lakshmi/miniforge3/envs/tradingtf/lib/python3.8/site-packages/sklearn/ensemble/_forest.py:416: FutureWarning: `max_features='auto'` has been deprecated in 1.1 and will be removed in 1.3. To keep the past behaviour, explicitly set `max_features=1.0` or remove this parameter as it is also the default value for RandomForestRegressors and ExtraTreesRegressors.\n",
      "  warn(\n",
      "/Users/lakshmi/miniforge3/envs/tradingtf/lib/python3.8/site-packages/sklearn/ensemble/_forest.py:416: FutureWarning: `max_features='auto'` has been deprecated in 1.1 and will be removed in 1.3. To keep the past behaviour, explicitly set `max_features=1.0` or remove this parameter as it is also the default value for RandomForestRegressors and ExtraTreesRegressors.\n",
      "  warn(\n",
      "/Users/lakshmi/miniforge3/envs/tradingtf/lib/python3.8/site-packages/sklearn/ensemble/_forest.py:416: FutureWarning: `max_features='auto'` has been deprecated in 1.1 and will be removed in 1.3. To keep the past behaviour, explicitly set `max_features=1.0` or remove this parameter as it is also the default value for RandomForestRegressors and ExtraTreesRegressors.\n",
      "  warn(\n",
      "/Users/lakshmi/miniforge3/envs/tradingtf/lib/python3.8/site-packages/sklearn/ensemble/_forest.py:416: FutureWarning: `max_features='auto'` has been deprecated in 1.1 and will be removed in 1.3. To keep the past behaviour, explicitly set `max_features=1.0` or remove this parameter as it is also the default value for RandomForestRegressors and ExtraTreesRegressors.\n",
      "  warn(\n",
      "/Users/lakshmi/miniforge3/envs/tradingtf/lib/python3.8/site-packages/sklearn/ensemble/_forest.py:416: FutureWarning: `max_features='auto'` has been deprecated in 1.1 and will be removed in 1.3. To keep the past behaviour, explicitly set `max_features=1.0` or remove this parameter as it is also the default value for RandomForestRegressors and ExtraTreesRegressors.\n",
      "  warn(\n",
      "/Users/lakshmi/miniforge3/envs/tradingtf/lib/python3.8/site-packages/sklearn/ensemble/_forest.py:416: FutureWarning: `max_features='auto'` has been deprecated in 1.1 and will be removed in 1.3. To keep the past behaviour, explicitly set `max_features=1.0` or remove this parameter as it is also the default value for RandomForestRegressors and ExtraTreesRegressors.\n",
      "  warn(\n",
      "/Users/lakshmi/miniforge3/envs/tradingtf/lib/python3.8/site-packages/sklearn/ensemble/_forest.py:416: FutureWarning: `max_features='auto'` has been deprecated in 1.1 and will be removed in 1.3. To keep the past behaviour, explicitly set `max_features=1.0` or remove this parameter as it is also the default value for RandomForestRegressors and ExtraTreesRegressors.\n",
      "  warn(\n",
      "/Users/lakshmi/miniforge3/envs/tradingtf/lib/python3.8/site-packages/sklearn/ensemble/_forest.py:416: FutureWarning: `max_features='auto'` has been deprecated in 1.1 and will be removed in 1.3. To keep the past behaviour, explicitly set `max_features=1.0` or remove this parameter as it is also the default value for RandomForestRegressors and ExtraTreesRegressors.\n",
      "  warn(\n",
      "/Users/lakshmi/miniforge3/envs/tradingtf/lib/python3.8/site-packages/sklearn/ensemble/_forest.py:416: FutureWarning: `max_features='auto'` has been deprecated in 1.1 and will be removed in 1.3. To keep the past behaviour, explicitly set `max_features=1.0` or remove this parameter as it is also the default value for RandomForestRegressors and ExtraTreesRegressors.\n",
      "  warn(\n",
      "/Users/lakshmi/miniforge3/envs/tradingtf/lib/python3.8/site-packages/sklearn/ensemble/_forest.py:416: FutureWarning: `max_features='auto'` has been deprecated in 1.1 and will be removed in 1.3. To keep the past behaviour, explicitly set `max_features=1.0` or remove this parameter as it is also the default value for RandomForestRegressors and ExtraTreesRegressors.\n",
      "  warn(\n",
      "/Users/lakshmi/miniforge3/envs/tradingtf/lib/python3.8/site-packages/sklearn/ensemble/_forest.py:416: FutureWarning: `max_features='auto'` has been deprecated in 1.1 and will be removed in 1.3. To keep the past behaviour, explicitly set `max_features=1.0` or remove this parameter as it is also the default value for RandomForestRegressors and ExtraTreesRegressors.\n",
      "  warn(\n",
      "/Users/lakshmi/miniforge3/envs/tradingtf/lib/python3.8/site-packages/sklearn/ensemble/_forest.py:416: FutureWarning: `max_features='auto'` has been deprecated in 1.1 and will be removed in 1.3. To keep the past behaviour, explicitly set `max_features=1.0` or remove this parameter as it is also the default value for RandomForestRegressors and ExtraTreesRegressors.\n",
      "  warn(\n",
      "/Users/lakshmi/miniforge3/envs/tradingtf/lib/python3.8/site-packages/sklearn/ensemble/_forest.py:416: FutureWarning: `max_features='auto'` has been deprecated in 1.1 and will be removed in 1.3. To keep the past behaviour, explicitly set `max_features=1.0` or remove this parameter as it is also the default value for RandomForestRegressors and ExtraTreesRegressors.\n",
      "  warn(\n",
      "/Users/lakshmi/miniforge3/envs/tradingtf/lib/python3.8/site-packages/sklearn/ensemble/_forest.py:416: FutureWarning: `max_features='auto'` has been deprecated in 1.1 and will be removed in 1.3. To keep the past behaviour, explicitly set `max_features=1.0` or remove this parameter as it is also the default value for RandomForestRegressors and ExtraTreesRegressors.\n",
      "  warn(\n",
      "/Users/lakshmi/miniforge3/envs/tradingtf/lib/python3.8/site-packages/sklearn/ensemble/_forest.py:416: FutureWarning: `max_features='auto'` has been deprecated in 1.1 and will be removed in 1.3. To keep the past behaviour, explicitly set `max_features=1.0` or remove this parameter as it is also the default value for RandomForestRegressors and ExtraTreesRegressors.\n",
      "  warn(\n",
      "/Users/lakshmi/miniforge3/envs/tradingtf/lib/python3.8/site-packages/sklearn/ensemble/_forest.py:416: FutureWarning: `max_features='auto'` has been deprecated in 1.1 and will be removed in 1.3. To keep the past behaviour, explicitly set `max_features=1.0` or remove this parameter as it is also the default value for RandomForestRegressors and ExtraTreesRegressors.\n",
      "  warn(\n",
      "/Users/lakshmi/miniforge3/envs/tradingtf/lib/python3.8/site-packages/sklearn/ensemble/_forest.py:416: FutureWarning: `max_features='auto'` has been deprecated in 1.1 and will be removed in 1.3. To keep the past behaviour, explicitly set `max_features=1.0` or remove this parameter as it is also the default value for RandomForestRegressors and ExtraTreesRegressors.\n",
      "  warn(\n",
      "/Users/lakshmi/miniforge3/envs/tradingtf/lib/python3.8/site-packages/sklearn/ensemble/_forest.py:416: FutureWarning: `max_features='auto'` has been deprecated in 1.1 and will be removed in 1.3. To keep the past behaviour, explicitly set `max_features=1.0` or remove this parameter as it is also the default value for RandomForestRegressors and ExtraTreesRegressors.\n",
      "  warn(\n",
      "/Users/lakshmi/miniforge3/envs/tradingtf/lib/python3.8/site-packages/sklearn/ensemble/_forest.py:416: FutureWarning: `max_features='auto'` has been deprecated in 1.1 and will be removed in 1.3. To keep the past behaviour, explicitly set `max_features=1.0` or remove this parameter as it is also the default value for RandomForestRegressors and ExtraTreesRegressors.\n",
      "  warn(\n",
      "/Users/lakshmi/miniforge3/envs/tradingtf/lib/python3.8/site-packages/sklearn/ensemble/_forest.py:416: FutureWarning: `max_features='auto'` has been deprecated in 1.1 and will be removed in 1.3. To keep the past behaviour, explicitly set `max_features=1.0` or remove this parameter as it is also the default value for RandomForestRegressors and ExtraTreesRegressors.\n",
      "  warn(\n",
      "/Users/lakshmi/miniforge3/envs/tradingtf/lib/python3.8/site-packages/sklearn/ensemble/_forest.py:416: FutureWarning: `max_features='auto'` has been deprecated in 1.1 and will be removed in 1.3. To keep the past behaviour, explicitly set `max_features=1.0` or remove this parameter as it is also the default value for RandomForestRegressors and ExtraTreesRegressors.\n",
      "  warn(\n",
      "/Users/lakshmi/miniforge3/envs/tradingtf/lib/python3.8/site-packages/sklearn/ensemble/_forest.py:416: FutureWarning: `max_features='auto'` has been deprecated in 1.1 and will be removed in 1.3. To keep the past behaviour, explicitly set `max_features=1.0` or remove this parameter as it is also the default value for RandomForestRegressors and ExtraTreesRegressors.\n",
      "  warn(\n",
      "/Users/lakshmi/miniforge3/envs/tradingtf/lib/python3.8/site-packages/sklearn/ensemble/_forest.py:416: FutureWarning: `max_features='auto'` has been deprecated in 1.1 and will be removed in 1.3. To keep the past behaviour, explicitly set `max_features=1.0` or remove this parameter as it is also the default value for RandomForestRegressors and ExtraTreesRegressors.\n",
      "  warn(\n",
      "/Users/lakshmi/miniforge3/envs/tradingtf/lib/python3.8/site-packages/sklearn/ensemble/_forest.py:416: FutureWarning: `max_features='auto'` has been deprecated in 1.1 and will be removed in 1.3. To keep the past behaviour, explicitly set `max_features=1.0` or remove this parameter as it is also the default value for RandomForestRegressors and ExtraTreesRegressors.\n",
      "  warn(\n",
      "/Users/lakshmi/miniforge3/envs/tradingtf/lib/python3.8/site-packages/sklearn/ensemble/_forest.py:416: FutureWarning: `max_features='auto'` has been deprecated in 1.1 and will be removed in 1.3. To keep the past behaviour, explicitly set `max_features=1.0` or remove this parameter as it is also the default value for RandomForestRegressors and ExtraTreesRegressors.\n",
      "  warn(\n",
      "/Users/lakshmi/miniforge3/envs/tradingtf/lib/python3.8/site-packages/sklearn/ensemble/_forest.py:416: FutureWarning: `max_features='auto'` has been deprecated in 1.1 and will be removed in 1.3. To keep the past behaviour, explicitly set `max_features=1.0` or remove this parameter as it is also the default value for RandomForestRegressors and ExtraTreesRegressors.\n",
      "  warn(\n",
      "/Users/lakshmi/miniforge3/envs/tradingtf/lib/python3.8/site-packages/sklearn/ensemble/_forest.py:416: FutureWarning: `max_features='auto'` has been deprecated in 1.1 and will be removed in 1.3. To keep the past behaviour, explicitly set `max_features=1.0` or remove this parameter as it is also the default value for RandomForestRegressors and ExtraTreesRegressors.\n",
      "  warn(\n",
      "/Users/lakshmi/miniforge3/envs/tradingtf/lib/python3.8/site-packages/sklearn/ensemble/_forest.py:416: FutureWarning: `max_features='auto'` has been deprecated in 1.1 and will be removed in 1.3. To keep the past behaviour, explicitly set `max_features=1.0` or remove this parameter as it is also the default value for RandomForestRegressors and ExtraTreesRegressors.\n",
      "  warn(\n",
      "/Users/lakshmi/miniforge3/envs/tradingtf/lib/python3.8/site-packages/sklearn/ensemble/_forest.py:416: FutureWarning: `max_features='auto'` has been deprecated in 1.1 and will be removed in 1.3. To keep the past behaviour, explicitly set `max_features=1.0` or remove this parameter as it is also the default value for RandomForestRegressors and ExtraTreesRegressors.\n",
      "  warn(\n",
      "/Users/lakshmi/miniforge3/envs/tradingtf/lib/python3.8/site-packages/sklearn/ensemble/_forest.py:416: FutureWarning: `max_features='auto'` has been deprecated in 1.1 and will be removed in 1.3. To keep the past behaviour, explicitly set `max_features=1.0` or remove this parameter as it is also the default value for RandomForestRegressors and ExtraTreesRegressors.\n",
      "  warn(\n",
      "/Users/lakshmi/miniforge3/envs/tradingtf/lib/python3.8/site-packages/sklearn/ensemble/_forest.py:416: FutureWarning: `max_features='auto'` has been deprecated in 1.1 and will be removed in 1.3. To keep the past behaviour, explicitly set `max_features=1.0` or remove this parameter as it is also the default value for RandomForestRegressors and ExtraTreesRegressors.\n",
      "  warn(\n",
      "/Users/lakshmi/miniforge3/envs/tradingtf/lib/python3.8/site-packages/sklearn/ensemble/_forest.py:416: FutureWarning: `max_features='auto'` has been deprecated in 1.1 and will be removed in 1.3. To keep the past behaviour, explicitly set `max_features=1.0` or remove this parameter as it is also the default value for RandomForestRegressors and ExtraTreesRegressors.\n",
      "  warn(\n",
      "/Users/lakshmi/miniforge3/envs/tradingtf/lib/python3.8/site-packages/sklearn/ensemble/_forest.py:416: FutureWarning: `max_features='auto'` has been deprecated in 1.1 and will be removed in 1.3. To keep the past behaviour, explicitly set `max_features=1.0` or remove this parameter as it is also the default value for RandomForestRegressors and ExtraTreesRegressors.\n",
      "  warn(\n",
      "/Users/lakshmi/miniforge3/envs/tradingtf/lib/python3.8/site-packages/sklearn/ensemble/_forest.py:416: FutureWarning: `max_features='auto'` has been deprecated in 1.1 and will be removed in 1.3. To keep the past behaviour, explicitly set `max_features=1.0` or remove this parameter as it is also the default value for RandomForestRegressors and ExtraTreesRegressors.\n",
      "  warn(\n",
      "/Users/lakshmi/miniforge3/envs/tradingtf/lib/python3.8/site-packages/sklearn/ensemble/_forest.py:416: FutureWarning: `max_features='auto'` has been deprecated in 1.1 and will be removed in 1.3. To keep the past behaviour, explicitly set `max_features=1.0` or remove this parameter as it is also the default value for RandomForestRegressors and ExtraTreesRegressors.\n",
      "  warn(\n",
      "/Users/lakshmi/miniforge3/envs/tradingtf/lib/python3.8/site-packages/sklearn/ensemble/_forest.py:416: FutureWarning: `max_features='auto'` has been deprecated in 1.1 and will be removed in 1.3. To keep the past behaviour, explicitly set `max_features=1.0` or remove this parameter as it is also the default value for RandomForestRegressors and ExtraTreesRegressors.\n",
      "  warn(\n",
      "/Users/lakshmi/miniforge3/envs/tradingtf/lib/python3.8/site-packages/sklearn/ensemble/_forest.py:416: FutureWarning: `max_features='auto'` has been deprecated in 1.1 and will be removed in 1.3. To keep the past behaviour, explicitly set `max_features=1.0` or remove this parameter as it is also the default value for RandomForestRegressors and ExtraTreesRegressors.\n",
      "  warn(\n",
      "/Users/lakshmi/miniforge3/envs/tradingtf/lib/python3.8/site-packages/sklearn/ensemble/_forest.py:416: FutureWarning: `max_features='auto'` has been deprecated in 1.1 and will be removed in 1.3. To keep the past behaviour, explicitly set `max_features=1.0` or remove this parameter as it is also the default value for RandomForestRegressors and ExtraTreesRegressors.\n",
      "  warn(\n",
      "/Users/lakshmi/miniforge3/envs/tradingtf/lib/python3.8/site-packages/sklearn/ensemble/_forest.py:416: FutureWarning: `max_features='auto'` has been deprecated in 1.1 and will be removed in 1.3. To keep the past behaviour, explicitly set `max_features=1.0` or remove this parameter as it is also the default value for RandomForestRegressors and ExtraTreesRegressors.\n",
      "  warn(\n",
      "/Users/lakshmi/miniforge3/envs/tradingtf/lib/python3.8/site-packages/sklearn/ensemble/_forest.py:416: FutureWarning: `max_features='auto'` has been deprecated in 1.1 and will be removed in 1.3. To keep the past behaviour, explicitly set `max_features=1.0` or remove this parameter as it is also the default value for RandomForestRegressors and ExtraTreesRegressors.\n",
      "  warn(\n",
      "/Users/lakshmi/miniforge3/envs/tradingtf/lib/python3.8/site-packages/sklearn/ensemble/_forest.py:416: FutureWarning: `max_features='auto'` has been deprecated in 1.1 and will be removed in 1.3. To keep the past behaviour, explicitly set `max_features=1.0` or remove this parameter as it is also the default value for RandomForestRegressors and ExtraTreesRegressors.\n",
      "  warn(\n",
      "/Users/lakshmi/miniforge3/envs/tradingtf/lib/python3.8/site-packages/sklearn/ensemble/_forest.py:416: FutureWarning: `max_features='auto'` has been deprecated in 1.1 and will be removed in 1.3. To keep the past behaviour, explicitly set `max_features=1.0` or remove this parameter as it is also the default value for RandomForestRegressors and ExtraTreesRegressors.\n",
      "  warn(\n",
      "/Users/lakshmi/miniforge3/envs/tradingtf/lib/python3.8/site-packages/sklearn/ensemble/_forest.py:416: FutureWarning: `max_features='auto'` has been deprecated in 1.1 and will be removed in 1.3. To keep the past behaviour, explicitly set `max_features=1.0` or remove this parameter as it is also the default value for RandomForestRegressors and ExtraTreesRegressors.\n",
      "  warn(\n"
     ]
    },
    {
     "name": "stdout",
     "output_type": "stream",
     "text": [
      "[CV] END bootstrap=False, max_depth=None, max_features=log2, n_estimators=12; total time=   0.0s\n",
      "[CV] END bootstrap=False, max_depth=None, max_features=auto, n_estimators=9; total time=   0.1s\n",
      "[CV] END bootstrap=False, max_depth=None, max_features=log2, n_estimators=5; total time=   0.0s\n",
      "[CV] END bootstrap=True, max_depth=5, max_features=log2, n_estimators=11; total time=   0.0s\n",
      "[CV] END bootstrap=True, max_depth=10, max_features=log2, n_estimators=10; total time=   0.0s\n",
      "[CV] END bootstrap=True, max_depth=5, max_features=auto, n_estimators=13; total time=   0.1s\n",
      "[CV] END bootstrap=True, max_depth=5, max_features=log2, n_estimators=8; total time=   0.0s\n",
      "[CV] END bootstrap=True, max_depth=5, max_features=log2, n_estimators=8; total time=   0.0s\n",
      "[CV] END bootstrap=True, max_depth=None, max_features=log2, n_estimators=6; total time=   0.0s\n",
      "[CV] END bootstrap=True, max_depth=None, max_features=log2, n_estimators=6; total time=   0.0s\n",
      "[CV] END bootstrap=True, max_depth=10, max_features=auto, n_estimators=15; total time=   0.1s\n",
      "[CV] END bootstrap=False, max_depth=10, max_features=auto, n_estimators=10; total time=   0.1s\n",
      "[CV] END bootstrap=False, max_depth=10, max_features=auto, n_estimators=10; total time=   0.1s\n",
      "[CV] END bootstrap=False, max_depth=10, max_features=auto, n_estimators=10; total time=   0.1s\n",
      "[CV] END bootstrap=False, max_depth=5, max_features=log2, n_estimators=15; total time=   0.0s\n",
      "[CV] END bootstrap=False, max_depth=5, max_features=log2, n_estimators=15; total time=   0.0s\n",
      "[CV] END bootstrap=False, max_depth=5, max_features=log2, n_estimators=15; total time=   0.0s\n",
      "[CV] END bootstrap=False, max_depth=5, max_features=log2, n_estimators=15; total time=   0.0s\n",
      "[CV] END bootstrap=False, max_depth=None, max_features=log2, n_estimators=11; total time=   0.0s\n",
      "[CV] END bootstrap=False, max_depth=None, max_features=log2, n_estimators=11; total time=   0.0s\n",
      "[CV] END bootstrap=False, max_depth=None, max_features=log2, n_estimators=11; total time=   0.0s\n",
      "[CV] END bootstrap=False, max_depth=None, max_features=log2, n_estimators=11; total time=   0.0s\n",
      "[CV] END bootstrap=False, max_depth=None, max_features=log2, n_estimators=11; total time=   0.0s\n",
      "[CV] END bootstrap=True, max_depth=None, max_features=auto, n_estimators=6; total time=   0.0s\n",
      "[CV] END bootstrap=True, max_depth=None, max_features=auto, n_estimators=6; total time=   0.0s\n",
      "[CV] END bootstrap=True, max_depth=None, max_features=auto, n_estimators=6; total time=   0.0s\n",
      "[CV] END bootstrap=True, max_depth=5, max_features=log2, n_estimators=6; total time=   0.0s\n",
      "[CV] END bootstrap=True, max_depth=5, max_features=log2, n_estimators=6; total time=   0.0s\n",
      "[CV] END bootstrap=True, max_depth=5, max_features=log2, n_estimators=6; total time=   0.0s\n",
      "[CV] END bootstrap=True, max_depth=5, max_features=log2, n_estimators=6; total time=   0.0s\n",
      "[CV] END bootstrap=True, max_depth=5, max_features=log2, n_estimators=6; total time=   0.0s\n",
      "[CV] END bootstrap=False, max_depth=10, max_features=log2, n_estimators=5; total time=   0.0s\n",
      "[CV] END bootstrap=False, max_depth=10, max_features=log2, n_estimators=5; total time=   0.0s\n",
      "[CV] END bootstrap=False, max_depth=10, max_features=log2, n_estimators=5; total time=   0.0s\n",
      "[CV] END bootstrap=False, max_depth=10, max_features=auto, n_estimators=7; total time=   0.1s\n",
      "[CV] END bootstrap=False, max_depth=10, max_features=auto, n_estimators=7; total time=   0.1s\n",
      "[CV] END bootstrap=False, max_depth=10, max_features=auto, n_estimators=7; total time=   0.1s\n",
      "[CV] END bootstrap=False, max_depth=10, max_features=auto, n_estimators=7; total time=   0.1s\n",
      "[CV] END bootstrap=False, max_depth=10, max_features=auto, n_estimators=7; total time=   0.1s\n",
      "[CV] END bootstrap=True, max_depth=5, max_features=log2, n_estimators=10; total time=   0.0s\n",
      "[CV] END bootstrap=True, max_depth=5, max_features=log2, n_estimators=10; total time=   0.0s\n",
      "[CV] END bootstrap=True, max_depth=5, max_features=log2, n_estimators=10; total time=   0.0s\n",
      "[CV] END bootstrap=True, max_depth=None, max_features=auto, n_estimators=13; total time=   0.1s\n",
      "[CV] END bootstrap=True, max_depth=None, max_features=auto, n_estimators=13; total time=   0.1s\n",
      "[CV] END bootstrap=False, max_depth=5, max_features=auto, n_estimators=6; total time=   0.0s\n",
      "[CV] END bootstrap=False, max_depth=5, max_features=auto, n_estimators=6; total time=   0.0s\n",
      "[CV] END bootstrap=False, max_depth=5, max_features=auto, n_estimators=6; total time=   0.0s\n",
      "[CV] END bootstrap=False, max_depth=5, max_features=auto, n_estimators=6; total time=   0.0s\n",
      "[CV] END bootstrap=False, max_depth=5, max_features=auto, n_estimators=6; total time=   0.0s\n",
      "[CV] END bootstrap=False, max_depth=None, max_features=auto, n_estimators=12; total time=   0.1s\n",
      "[CV] END bootstrap=False, max_depth=None, max_features=log2, n_estimators=12; total time=   0.0s\n",
      "[CV] END bootstrap=False, max_depth=None, max_features=log2, n_estimators=7; total time=   0.0s\n",
      "[CV] END bootstrap=True, max_depth=10, max_features=log2, n_estimators=6; total time=   0.0s\n",
      "[CV] END bootstrap=True, max_depth=10, max_features=auto, n_estimators=9; total time=   0.1s\n",
      "[CV] END bootstrap=False, max_depth=5, max_features=auto, n_estimators=7; total time=   0.1s\n",
      "[CV] END bootstrap=True, max_depth=10, max_features=log2, n_estimators=10; total time=   0.0s\n",
      "[CV] END bootstrap=True, max_depth=5, max_features=auto, n_estimators=10; total time=   0.1s\n",
      "[CV] END bootstrap=True, max_depth=5, max_features=auto, n_estimators=10; total time=   0.0s\n",
      "[CV] END bootstrap=False, max_depth=10, max_features=log2, n_estimators=9; total time=   0.0s\n",
      "[CV] END bootstrap=False, max_depth=10, max_features=log2, n_estimators=9; total time=   0.0s\n",
      "[CV] END bootstrap=True, max_depth=None, max_features=log2, n_estimators=8; total time=   0.0s\n",
      "[CV] END bootstrap=True, max_depth=10, max_features=auto, n_estimators=13; total time=   0.1s\n",
      "[CV] END bootstrap=True, max_depth=10, max_features=auto, n_estimators=13; total time=   0.1s\n",
      "[CV] END bootstrap=True, max_depth=10, max_features=auto, n_estimators=13; total time=   0.1s\n",
      "[CV] END bootstrap=False, max_depth=None, max_features=log2, n_estimators=15; total time=   0.1s\n",
      "[CV] END bootstrap=False, max_depth=None, max_features=log2, n_estimators=15; total time=   0.1s\n",
      "[CV] END bootstrap=False, max_depth=None, max_features=log2, n_estimators=15; total time=   0.1s\n",
      "[CV] END bootstrap=False, max_depth=None, max_features=log2, n_estimators=15; total time=   0.1s\n",
      "[CV] END bootstrap=True, max_depth=None, max_features=auto, n_estimators=6; total time=   0.1s\n",
      "[CV] END bootstrap=True, max_depth=None, max_features=auto, n_estimators=6; total time=   0.0s\n",
      "[CV] END bootstrap=True, max_depth=None, max_features=auto, n_estimators=9; total time=   0.1s\n",
      "[CV] END bootstrap=True, max_depth=None, max_features=auto, n_estimators=9; total time=   0.1s\n",
      "[CV] END bootstrap=True, max_depth=None, max_features=auto, n_estimators=9; total time=   0.1s\n",
      "[CV] END bootstrap=True, max_depth=None, max_features=auto, n_estimators=9; total time=   0.1s\n",
      "[CV] END bootstrap=True, max_depth=None, max_features=auto, n_estimators=9; total time=   0.1s\n",
      "[CV] END bootstrap=False, max_depth=None, max_features=log2, n_estimators=6; total time=   0.0s\n",
      "[CV] END bootstrap=True, max_depth=10, max_features=auto, n_estimators=7; total time=   0.1s\n",
      "[CV] END bootstrap=True, max_depth=10, max_features=auto, n_estimators=7; total time=   0.1s\n",
      "[CV] END bootstrap=True, max_depth=10, max_features=auto, n_estimators=7; total time=   0.1s\n",
      "[CV] END bootstrap=True, max_depth=10, max_features=auto, n_estimators=7; total time=   0.0s\n",
      "[CV] END bootstrap=True, max_depth=5, max_features=log2, n_estimators=5; total time=   0.0s\n",
      "[CV] END bootstrap=True, max_depth=5, max_features=log2, n_estimators=5; total time=   0.0s\n",
      "[CV] END bootstrap=True, max_depth=5, max_features=log2, n_estimators=5; total time=   0.0s\n",
      "[CV] END bootstrap=True, max_depth=5, max_features=log2, n_estimators=5; total time=   0.0s\n",
      "[CV] END bootstrap=False, max_depth=5, max_features=auto, n_estimators=15; total time=   0.1s\n",
      "[CV] END bootstrap=False, max_depth=5, max_features=auto, n_estimators=15; total time=   0.1s\n",
      "[CV] END bootstrap=True, max_depth=5, max_features=auto, n_estimators=8; total time=   0.0s\n",
      "[CV] END bootstrap=True, max_depth=5, max_features=auto, n_estimators=8; total time=   0.0s\n",
      "[CV] END bootstrap=True, max_depth=5, max_features=auto, n_estimators=8; total time=   0.0s\n",
      "[CV] END bootstrap=True, max_depth=5, max_features=auto, n_estimators=8; total time=   0.0s\n",
      "[CV] END bootstrap=True, max_depth=5, max_features=auto, n_estimators=8; total time=   0.0s\n",
      "[CV] END bootstrap=True, max_depth=None, max_features=auto, n_estimators=5; total time=   0.0s\n",
      "[CV] END bootstrap=False, max_depth=5, max_features=auto, n_estimators=12; total time=   0.1s\n",
      "[CV] END bootstrap=False, max_depth=5, max_features=auto, n_estimators=12; total time=   0.1s\n",
      "[CV] END bootstrap=True, max_depth=None, max_features=log2, n_estimators=10; total time=   0.0s\n",
      "[CV] END bootstrap=True, max_depth=None, max_features=log2, n_estimators=10; total time=   0.0s\n",
      "[CV] END bootstrap=True, max_depth=None, max_features=log2, n_estimators=10; total time=   0.0s\n",
      "[CV] END bootstrap=True, max_depth=None, max_features=log2, n_estimators=10; total time=   0.0s\n",
      "[CV] END bootstrap=True, max_depth=None, max_features=log2, n_estimators=10; total time=   0.0s\n",
      "[CV] END bootstrap=True, max_depth=None, max_features=auto, n_estimators=15; total time=   0.1s\n",
      "[CV] END bootstrap=True, max_depth=5, max_features=auto, n_estimators=9; total time=   0.0s\n",
      "[CV] END bootstrap=False, max_depth=None, max_features=log2, n_estimators=7; total time=   0.0s\n",
      "[CV] END bootstrap=True, max_depth=10, max_features=log2, n_estimators=6; total time=   0.0s\n",
      "[CV] END bootstrap=True, max_depth=10, max_features=auto, n_estimators=9; total time=   0.1s\n",
      "[CV] END bootstrap=False, max_depth=None, max_features=log2, n_estimators=5; total time=   0.0s\n",
      "[CV] END bootstrap=False, max_depth=5, max_features=auto, n_estimators=7; total time=   0.1s\n",
      "[CV] END bootstrap=True, max_depth=10, max_features=log2, n_estimators=8; total time=   0.0s\n",
      "[CV] END bootstrap=True, max_depth=5, max_features=auto, n_estimators=10; total time=   0.0s\n",
      "[CV] END bootstrap=True, max_depth=5, max_features=auto, n_estimators=5; total time=   0.0s\n",
      "[CV] END bootstrap=False, max_depth=10, max_features=auto, n_estimators=12; total time=   0.1s\n",
      "[CV] END bootstrap=True, max_depth=None, max_features=log2, n_estimators=6; total time=   0.0s\n",
      "[CV] END bootstrap=True, max_depth=10, max_features=auto, n_estimators=13; total time=   0.1s\n",
      "[CV] END bootstrap=True, max_depth=10, max_features=auto, n_estimators=13; total time=   0.1s\n",
      "[CV] END bootstrap=True, max_depth=10, max_features=log2, n_estimators=13; total time=   0.0s\n",
      "[CV] END bootstrap=True, max_depth=10, max_features=log2, n_estimators=13; total time=   0.0s\n",
      "[CV] END bootstrap=False, max_depth=None, max_features=log2, n_estimators=15; total time=   0.1s\n",
      "[CV] END bootstrap=False, max_depth=10, max_features=log2, n_estimators=8; total time=   0.0s\n",
      "[CV] END bootstrap=False, max_depth=10, max_features=log2, n_estimators=8; total time=   0.0s\n",
      "[CV] END bootstrap=False, max_depth=10, max_features=log2, n_estimators=8; total time=   0.0s\n",
      "[CV] END bootstrap=True, max_depth=10, max_features=auto, n_estimators=6; total time=   0.0s\n",
      "[CV] END bootstrap=True, max_depth=10, max_features=auto, n_estimators=6; total time=   0.0s\n",
      "[CV] END bootstrap=True, max_depth=10, max_features=auto, n_estimators=6; total time=   0.0s\n",
      "[CV] END bootstrap=True, max_depth=10, max_features=auto, n_estimators=6; total time=   0.0s\n",
      "[CV] END bootstrap=False, max_depth=5, max_features=auto, n_estimators=5; total time=   0.0s\n",
      "[CV] END bootstrap=False, max_depth=5, max_features=auto, n_estimators=5; total time=   0.0s\n",
      "[CV] END bootstrap=False, max_depth=5, max_features=auto, n_estimators=5; total time=   0.0s\n",
      "[CV] END bootstrap=False, max_depth=5, max_features=auto, n_estimators=5; total time=   0.0s\n",
      "[CV] END bootstrap=True, max_depth=None, max_features=auto, n_estimators=8; total time=   0.1s\n",
      "[CV] END bootstrap=True, max_depth=5, max_features=auto, n_estimators=6; total time=   0.0s\n",
      "[CV] END bootstrap=True, max_depth=5, max_features=auto, n_estimators=6; total time=   0.0s\n",
      "[CV] END bootstrap=True, max_depth=5, max_features=auto, n_estimators=6; total time=   0.0s\n",
      "[CV] END bootstrap=True, max_depth=5, max_features=auto, n_estimators=6; total time=   0.0s\n",
      "[CV] END bootstrap=True, max_depth=5, max_features=auto, n_estimators=6; total time=   0.0s\n",
      "[CV] END bootstrap=False, max_depth=10, max_features=auto, n_estimators=13; total time=   0.1s\n",
      "[CV] END bootstrap=False, max_depth=10, max_features=auto, n_estimators=13; total time=   0.1s\n",
      "[CV] END bootstrap=False, max_depth=5, max_features=log2, n_estimators=11; total time=   0.0s\n",
      "[CV] END bootstrap=True, max_depth=10, max_features=log2, n_estimators=9; total time=   0.0s\n",
      "[CV] END bootstrap=True, max_depth=10, max_features=log2, n_estimators=9; total time=   0.0s\n",
      "[CV] END bootstrap=True, max_depth=10, max_features=log2, n_estimators=9; total time=   0.0s\n",
      "[CV] END bootstrap=True, max_depth=10, max_features=log2, n_estimators=9; total time=   0.0s\n",
      "[CV] END bootstrap=True, max_depth=10, max_features=log2, n_estimators=9; total time=   0.0s\n",
      "[CV] END bootstrap=True, max_depth=10, max_features=auto, n_estimators=12; total time=   0.1s\n",
      "[CV] END bootstrap=True, max_depth=10, max_features=auto, n_estimators=12; total time=   0.1s\n",
      "[CV] END bootstrap=True, max_depth=10, max_features=log2, n_estimators=15; total time=   0.0s\n",
      "[CV] END bootstrap=True, max_depth=10, max_features=log2, n_estimators=15; total time=   0.0s\n",
      "[CV] END bootstrap=True, max_depth=10, max_features=log2, n_estimators=15; total time=   0.0s\n",
      "[CV] END bootstrap=False, max_depth=10, max_features=auto, n_estimators=9; total time=   0.1s\n",
      "[CV] END bootstrap=False, max_depth=10, max_features=auto, n_estimators=9; total time=   0.1s\n",
      "[CV] END bootstrap=False, max_depth=10, max_features=auto, n_estimators=9; total time=   0.1s\n",
      "[CV] END bootstrap=False, max_depth=10, max_features=auto, n_estimators=9; total time=   0.1s\n",
      "[CV] END bootstrap=False, max_depth=10, max_features=auto, n_estimators=9; total time=   0.1s\n",
      "[CV] END bootstrap=True, max_depth=5, max_features=auto, n_estimators=9; total time=   0.0s\n",
      "[CV] END bootstrap=False, max_depth=None, max_features=log2, n_estimators=7; total time=   0.0s\n",
      "[CV] END bootstrap=True, max_depth=10, max_features=log2, n_estimators=6; total time=   0.0s\n",
      "[CV] END bootstrap=True, max_depth=10, max_features=auto, n_estimators=9; total time=   0.1s\n",
      "[CV] END bootstrap=False, max_depth=None, max_features=log2, n_estimators=5; total time=   0.0s\n",
      "[CV] END bootstrap=True, max_depth=5, max_features=log2, n_estimators=11; total time=   0.0s\n",
      "[CV] END bootstrap=True, max_depth=10, max_features=log2, n_estimators=10; total time=   0.0s\n",
      "[CV] END bootstrap=True, max_depth=10, max_features=log2, n_estimators=8; total time=   0.0s\n",
      "[CV] END bootstrap=True, max_depth=5, max_features=auto, n_estimators=10; total time=   0.1s\n",
      "[CV] END bootstrap=True, max_depth=5, max_features=auto, n_estimators=10; total time=   0.0s\n",
      "[CV] END bootstrap=False, max_depth=10, max_features=log2, n_estimators=9; total time=   0.0s\n",
      "[CV] END bootstrap=False, max_depth=10, max_features=log2, n_estimators=9; total time=   0.0s\n",
      "[CV] END bootstrap=True, max_depth=None, max_features=log2, n_estimators=11; total time=   0.0s\n",
      "[CV] END bootstrap=True, max_depth=None, max_features=log2, n_estimators=11; total time=   0.0s\n",
      "[CV] END bootstrap=True, max_depth=None, max_features=log2, n_estimators=11; total time=   0.0s\n",
      "[CV] END bootstrap=True, max_depth=None, max_features=log2, n_estimators=11; total time=   0.0s\n",
      "[CV] END bootstrap=True, max_depth=5, max_features=log2, n_estimators=15; total time=   0.0s\n",
      "[CV] END bootstrap=True, max_depth=5, max_features=log2, n_estimators=15; total time=   0.0s\n",
      "[CV] END bootstrap=True, max_depth=5, max_features=log2, n_estimators=15; total time=   0.0s\n",
      "[CV] END bootstrap=True, max_depth=5, max_features=log2, n_estimators=15; total time=   0.0s\n",
      "[CV] END bootstrap=True, max_depth=10, max_features=auto, n_estimators=8; total time=   0.1s\n",
      "[CV] END bootstrap=True, max_depth=10, max_features=auto, n_estimators=8; total time=   0.1s\n",
      "[CV] END bootstrap=True, max_depth=10, max_features=auto, n_estimators=8; total time=   0.1s\n",
      "[CV] END bootstrap=True, max_depth=5, max_features=auto, n_estimators=15; total time=   0.1s\n",
      "[CV] END bootstrap=False, max_depth=5, max_features=log2, n_estimators=9; total time=   0.0s\n",
      "[CV] END bootstrap=False, max_depth=5, max_features=log2, n_estimators=9; total time=   0.0s\n",
      "[CV] END bootstrap=True, max_depth=None, max_features=log2, n_estimators=15; total time=   0.0s\n",
      "[CV] END bootstrap=True, max_depth=None, max_features=log2, n_estimators=15; total time=   0.0s\n",
      "[CV] END bootstrap=True, max_depth=None, max_features=log2, n_estimators=15; total time=   0.0s\n",
      "[CV] END bootstrap=True, max_depth=None, max_features=log2, n_estimators=15; total time=   0.0s\n",
      "[CV] END bootstrap=True, max_depth=None, max_features=log2, n_estimators=15; total time=   0.0s\n",
      "[CV] END bootstrap=True, max_depth=10, max_features=auto, n_estimators=6; total time=   0.0s\n",
      "[CV] END bootstrap=True, max_depth=None, max_features=log2, n_estimators=5; total time=   0.0s\n",
      "[CV] END bootstrap=True, max_depth=None, max_features=log2, n_estimators=5; total time=   0.0s\n",
      "[CV] END bootstrap=False, max_depth=None, max_features=log2, n_estimators=10; total time=   0.0s\n",
      "[CV] END bootstrap=False, max_depth=None, max_features=log2, n_estimators=10; total time=   0.0s\n",
      "[CV] END bootstrap=False, max_depth=None, max_features=log2, n_estimators=10; total time=   0.0s\n",
      "[CV] END bootstrap=False, max_depth=None, max_features=log2, n_estimators=10; total time=   0.0s\n",
      "[CV] END bootstrap=False, max_depth=None, max_features=log2, n_estimators=10; total time=   0.0s\n",
      "[CV] END bootstrap=True, max_depth=10, max_features=log2, n_estimators=12; total time=   0.0s\n",
      "[CV] END bootstrap=True, max_depth=5, max_features=log2, n_estimators=10; total time=   0.0s\n",
      "[CV] END bootstrap=True, max_depth=5, max_features=log2, n_estimators=10; total time=   0.0s\n",
      "[CV] END bootstrap=True, max_depth=5, max_features=log2, n_estimators=13; total time=   0.0s\n",
      "[CV] END bootstrap=True, max_depth=5, max_features=log2, n_estimators=13; total time=   0.0s\n",
      "[CV] END bootstrap=True, max_depth=5, max_features=log2, n_estimators=13; total time=   0.0s\n",
      "[CV] END bootstrap=True, max_depth=5, max_features=log2, n_estimators=13; total time=   0.0s\n",
      "[CV] END bootstrap=True, max_depth=5, max_features=log2, n_estimators=13; total time=   0.0s\n",
      "[CV] END bootstrap=True, max_depth=10, max_features=auto, n_estimators=7; total time=   0.0s\n",
      "[CV] END bootstrap=False, max_depth=10, max_features=auto, n_estimators=6; total time=   0.1s\n",
      "[CV] END bootstrap=False, max_depth=10, max_features=auto, n_estimators=6; total time=   0.1s\n",
      "[CV] END bootstrap=False, max_depth=10, max_features=auto, n_estimators=6; total time=   0.1s\n",
      "[CV] END bootstrap=False, max_depth=5, max_features=log2, n_estimators=10; total time=   0.0s\n",
      "[CV] END bootstrap=False, max_depth=5, max_features=log2, n_estimators=10; total time=   0.0s\n",
      "[CV] END bootstrap=False, max_depth=5, max_features=log2, n_estimators=10; total time=   0.0s\n",
      "[CV] END bootstrap=False, max_depth=5, max_features=log2, n_estimators=10; total time=   0.0s\n",
      "[CV] END bootstrap=False, max_depth=5, max_features=log2, n_estimators=10; total time=   0.0s\n",
      "[CV] END bootstrap=False, max_depth=None, max_features=auto, n_estimators=12; total time=   0.2s\n",
      "[CV] END bootstrap=False, max_depth=None, max_features=auto, n_estimators=12; total time=   0.2s\n",
      "[CV] END bootstrap=False, max_depth=None, max_features=auto, n_estimators=12; total time=   0.1s\n",
      "[CV] END bootstrap=False, max_depth=None, max_features=auto, n_estimators=12; total time=   0.1s\n",
      "[CV] END bootstrap=False, max_depth=10, max_features=log2, n_estimators=6; total time=   0.0s\n",
      "[CV] END bootstrap=False, max_depth=10, max_features=log2, n_estimators=6; total time=   0.0s\n",
      "[CV] END bootstrap=False, max_depth=10, max_features=log2, n_estimators=6; total time=   0.0s\n",
      "[CV] END bootstrap=False, max_depth=10, max_features=log2, n_estimators=6; total time=   0.0s\n"
     ]
    },
    {
     "name": "stderr",
     "output_type": "stream",
     "text": [
      "/Users/lakshmi/miniforge3/envs/tradingtf/lib/python3.8/site-packages/sklearn/ensemble/_forest.py:416: FutureWarning: `max_features='auto'` has been deprecated in 1.1 and will be removed in 1.3. To keep the past behaviour, explicitly set `max_features=1.0` or remove this parameter as it is also the default value for RandomForestRegressors and ExtraTreesRegressors.\n",
      "  warn(\n",
      "/Users/lakshmi/miniforge3/envs/tradingtf/lib/python3.8/site-packages/sklearn/ensemble/_forest.py:416: FutureWarning: `max_features='auto'` has been deprecated in 1.1 and will be removed in 1.3. To keep the past behaviour, explicitly set `max_features=1.0` or remove this parameter as it is also the default value for RandomForestRegressors and ExtraTreesRegressors.\n",
      "  warn(\n",
      "/Users/lakshmi/miniforge3/envs/tradingtf/lib/python3.8/site-packages/sklearn/ensemble/_forest.py:416: FutureWarning: `max_features='auto'` has been deprecated in 1.1 and will be removed in 1.3. To keep the past behaviour, explicitly set `max_features=1.0` or remove this parameter as it is also the default value for RandomForestRegressors and ExtraTreesRegressors.\n",
      "  warn(\n",
      "/Users/lakshmi/miniforge3/envs/tradingtf/lib/python3.8/site-packages/sklearn/ensemble/_forest.py:416: FutureWarning: `max_features='auto'` has been deprecated in 1.1 and will be removed in 1.3. To keep the past behaviour, explicitly set `max_features=1.0` or remove this parameter as it is also the default value for RandomForestRegressors and ExtraTreesRegressors.\n",
      "  warn(\n",
      "/Users/lakshmi/miniforge3/envs/tradingtf/lib/python3.8/site-packages/sklearn/ensemble/_forest.py:416: FutureWarning: `max_features='auto'` has been deprecated in 1.1 and will be removed in 1.3. To keep the past behaviour, explicitly set `max_features=1.0` or remove this parameter as it is also the default value for RandomForestRegressors and ExtraTreesRegressors.\n",
      "  warn(\n",
      "/Users/lakshmi/miniforge3/envs/tradingtf/lib/python3.8/site-packages/sklearn/ensemble/_forest.py:416: FutureWarning: `max_features='auto'` has been deprecated in 1.1 and will be removed in 1.3. To keep the past behaviour, explicitly set `max_features=1.0` or remove this parameter as it is also the default value for RandomForestRegressors and ExtraTreesRegressors.\n",
      "  warn(\n",
      "/Users/lakshmi/miniforge3/envs/tradingtf/lib/python3.8/site-packages/sklearn/ensemble/_forest.py:416: FutureWarning: `max_features='auto'` has been deprecated in 1.1 and will be removed in 1.3. To keep the past behaviour, explicitly set `max_features=1.0` or remove this parameter as it is also the default value for RandomForestRegressors and ExtraTreesRegressors.\n",
      "  warn(\n",
      "/Users/lakshmi/miniforge3/envs/tradingtf/lib/python3.8/site-packages/sklearn/ensemble/_forest.py:416: FutureWarning: `max_features='auto'` has been deprecated in 1.1 and will be removed in 1.3. To keep the past behaviour, explicitly set `max_features=1.0` or remove this parameter as it is also the default value for RandomForestRegressors and ExtraTreesRegressors.\n",
      "  warn(\n",
      "/Users/lakshmi/miniforge3/envs/tradingtf/lib/python3.8/site-packages/sklearn/ensemble/_forest.py:416: FutureWarning: `max_features='auto'` has been deprecated in 1.1 and will be removed in 1.3. To keep the past behaviour, explicitly set `max_features=1.0` or remove this parameter as it is also the default value for RandomForestRegressors and ExtraTreesRegressors.\n",
      "  warn(\n",
      "/Users/lakshmi/miniforge3/envs/tradingtf/lib/python3.8/site-packages/sklearn/ensemble/_forest.py:416: FutureWarning: `max_features='auto'` has been deprecated in 1.1 and will be removed in 1.3. To keep the past behaviour, explicitly set `max_features=1.0` or remove this parameter as it is also the default value for RandomForestRegressors and ExtraTreesRegressors.\n",
      "  warn(\n",
      "/Users/lakshmi/miniforge3/envs/tradingtf/lib/python3.8/site-packages/sklearn/ensemble/_forest.py:416: FutureWarning: `max_features='auto'` has been deprecated in 1.1 and will be removed in 1.3. To keep the past behaviour, explicitly set `max_features=1.0` or remove this parameter as it is also the default value for RandomForestRegressors and ExtraTreesRegressors.\n",
      "  warn(\n",
      "/Users/lakshmi/miniforge3/envs/tradingtf/lib/python3.8/site-packages/sklearn/ensemble/_forest.py:416: FutureWarning: `max_features='auto'` has been deprecated in 1.1 and will be removed in 1.3. To keep the past behaviour, explicitly set `max_features=1.0` or remove this parameter as it is also the default value for RandomForestRegressors and ExtraTreesRegressors.\n",
      "  warn(\n",
      "/Users/lakshmi/miniforge3/envs/tradingtf/lib/python3.8/site-packages/sklearn/ensemble/_forest.py:416: FutureWarning: `max_features='auto'` has been deprecated in 1.1 and will be removed in 1.3. To keep the past behaviour, explicitly set `max_features=1.0` or remove this parameter as it is also the default value for RandomForestRegressors and ExtraTreesRegressors.\n",
      "  warn(\n",
      "/Users/lakshmi/miniforge3/envs/tradingtf/lib/python3.8/site-packages/sklearn/ensemble/_forest.py:416: FutureWarning: `max_features='auto'` has been deprecated in 1.1 and will be removed in 1.3. To keep the past behaviour, explicitly set `max_features=1.0` or remove this parameter as it is also the default value for RandomForestRegressors and ExtraTreesRegressors.\n",
      "  warn(\n",
      "/Users/lakshmi/miniforge3/envs/tradingtf/lib/python3.8/site-packages/sklearn/ensemble/_forest.py:416: FutureWarning: `max_features='auto'` has been deprecated in 1.1 and will be removed in 1.3. To keep the past behaviour, explicitly set `max_features=1.0` or remove this parameter as it is also the default value for RandomForestRegressors and ExtraTreesRegressors.\n",
      "  warn(\n",
      "/Users/lakshmi/miniforge3/envs/tradingtf/lib/python3.8/site-packages/sklearn/ensemble/_forest.py:416: FutureWarning: `max_features='auto'` has been deprecated in 1.1 and will be removed in 1.3. To keep the past behaviour, explicitly set `max_features=1.0` or remove this parameter as it is also the default value for RandomForestRegressors and ExtraTreesRegressors.\n",
      "  warn(\n",
      "/Users/lakshmi/miniforge3/envs/tradingtf/lib/python3.8/site-packages/sklearn/ensemble/_forest.py:416: FutureWarning: `max_features='auto'` has been deprecated in 1.1 and will be removed in 1.3. To keep the past behaviour, explicitly set `max_features=1.0` or remove this parameter as it is also the default value for RandomForestRegressors and ExtraTreesRegressors.\n",
      "  warn(\n",
      "/Users/lakshmi/miniforge3/envs/tradingtf/lib/python3.8/site-packages/sklearn/ensemble/_forest.py:416: FutureWarning: `max_features='auto'` has been deprecated in 1.1 and will be removed in 1.3. To keep the past behaviour, explicitly set `max_features=1.0` or remove this parameter as it is also the default value for RandomForestRegressors and ExtraTreesRegressors.\n",
      "  warn(\n",
      "/Users/lakshmi/miniforge3/envs/tradingtf/lib/python3.8/site-packages/sklearn/ensemble/_forest.py:416: FutureWarning: `max_features='auto'` has been deprecated in 1.1 and will be removed in 1.3. To keep the past behaviour, explicitly set `max_features=1.0` or remove this parameter as it is also the default value for RandomForestRegressors and ExtraTreesRegressors.\n",
      "  warn(\n",
      "/Users/lakshmi/miniforge3/envs/tradingtf/lib/python3.8/site-packages/sklearn/ensemble/_forest.py:416: FutureWarning: `max_features='auto'` has been deprecated in 1.1 and will be removed in 1.3. To keep the past behaviour, explicitly set `max_features=1.0` or remove this parameter as it is also the default value for RandomForestRegressors and ExtraTreesRegressors.\n",
      "  warn(\n",
      "/Users/lakshmi/miniforge3/envs/tradingtf/lib/python3.8/site-packages/sklearn/ensemble/_forest.py:416: FutureWarning: `max_features='auto'` has been deprecated in 1.1 and will be removed in 1.3. To keep the past behaviour, explicitly set `max_features=1.0` or remove this parameter as it is also the default value for RandomForestRegressors and ExtraTreesRegressors.\n",
      "  warn(\n",
      "/Users/lakshmi/miniforge3/envs/tradingtf/lib/python3.8/site-packages/sklearn/ensemble/_forest.py:416: FutureWarning: `max_features='auto'` has been deprecated in 1.1 and will be removed in 1.3. To keep the past behaviour, explicitly set `max_features=1.0` or remove this parameter as it is also the default value for RandomForestRegressors and ExtraTreesRegressors.\n",
      "  warn(\n",
      "/Users/lakshmi/miniforge3/envs/tradingtf/lib/python3.8/site-packages/sklearn/ensemble/_forest.py:416: FutureWarning: `max_features='auto'` has been deprecated in 1.1 and will be removed in 1.3. To keep the past behaviour, explicitly set `max_features=1.0` or remove this parameter as it is also the default value for RandomForestRegressors and ExtraTreesRegressors.\n",
      "  warn(\n",
      "/Users/lakshmi/miniforge3/envs/tradingtf/lib/python3.8/site-packages/sklearn/ensemble/_forest.py:416: FutureWarning: `max_features='auto'` has been deprecated in 1.1 and will be removed in 1.3. To keep the past behaviour, explicitly set `max_features=1.0` or remove this parameter as it is also the default value for RandomForestRegressors and ExtraTreesRegressors.\n",
      "  warn(\n",
      "/Users/lakshmi/miniforge3/envs/tradingtf/lib/python3.8/site-packages/sklearn/ensemble/_forest.py:416: FutureWarning: `max_features='auto'` has been deprecated in 1.1 and will be removed in 1.3. To keep the past behaviour, explicitly set `max_features=1.0` or remove this parameter as it is also the default value for RandomForestRegressors and ExtraTreesRegressors.\n",
      "  warn(\n",
      "/Users/lakshmi/miniforge3/envs/tradingtf/lib/python3.8/site-packages/sklearn/ensemble/_forest.py:416: FutureWarning: `max_features='auto'` has been deprecated in 1.1 and will be removed in 1.3. To keep the past behaviour, explicitly set `max_features=1.0` or remove this parameter as it is also the default value for RandomForestRegressors and ExtraTreesRegressors.\n",
      "  warn(\n",
      "/Users/lakshmi/miniforge3/envs/tradingtf/lib/python3.8/site-packages/sklearn/ensemble/_forest.py:416: FutureWarning: `max_features='auto'` has been deprecated in 1.1 and will be removed in 1.3. To keep the past behaviour, explicitly set `max_features=1.0` or remove this parameter as it is also the default value for RandomForestRegressors and ExtraTreesRegressors.\n",
      "  warn(\n",
      "/Users/lakshmi/miniforge3/envs/tradingtf/lib/python3.8/site-packages/sklearn/ensemble/_forest.py:416: FutureWarning: `max_features='auto'` has been deprecated in 1.1 and will be removed in 1.3. To keep the past behaviour, explicitly set `max_features=1.0` or remove this parameter as it is also the default value for RandomForestRegressors and ExtraTreesRegressors.\n",
      "  warn(\n",
      "/Users/lakshmi/miniforge3/envs/tradingtf/lib/python3.8/site-packages/sklearn/ensemble/_forest.py:416: FutureWarning: `max_features='auto'` has been deprecated in 1.1 and will be removed in 1.3. To keep the past behaviour, explicitly set `max_features=1.0` or remove this parameter as it is also the default value for RandomForestRegressors and ExtraTreesRegressors.\n",
      "  warn(\n",
      "/Users/lakshmi/miniforge3/envs/tradingtf/lib/python3.8/site-packages/sklearn/ensemble/_forest.py:416: FutureWarning: `max_features='auto'` has been deprecated in 1.1 and will be removed in 1.3. To keep the past behaviour, explicitly set `max_features=1.0` or remove this parameter as it is also the default value for RandomForestRegressors and ExtraTreesRegressors.\n",
      "  warn(\n",
      "/Users/lakshmi/miniforge3/envs/tradingtf/lib/python3.8/site-packages/sklearn/ensemble/_forest.py:416: FutureWarning: `max_features='auto'` has been deprecated in 1.1 and will be removed in 1.3. To keep the past behaviour, explicitly set `max_features=1.0` or remove this parameter as it is also the default value for RandomForestRegressors and ExtraTreesRegressors.\n",
      "  warn(\n",
      "/Users/lakshmi/miniforge3/envs/tradingtf/lib/python3.8/site-packages/sklearn/ensemble/_forest.py:416: FutureWarning: `max_features='auto'` has been deprecated in 1.1 and will be removed in 1.3. To keep the past behaviour, explicitly set `max_features=1.0` or remove this parameter as it is also the default value for RandomForestRegressors and ExtraTreesRegressors.\n",
      "  warn(\n",
      "/Users/lakshmi/miniforge3/envs/tradingtf/lib/python3.8/site-packages/sklearn/ensemble/_forest.py:416: FutureWarning: `max_features='auto'` has been deprecated in 1.1 and will be removed in 1.3. To keep the past behaviour, explicitly set `max_features=1.0` or remove this parameter as it is also the default value for RandomForestRegressors and ExtraTreesRegressors.\n",
      "  warn(\n",
      "/Users/lakshmi/miniforge3/envs/tradingtf/lib/python3.8/site-packages/sklearn/ensemble/_forest.py:416: FutureWarning: `max_features='auto'` has been deprecated in 1.1 and will be removed in 1.3. To keep the past behaviour, explicitly set `max_features=1.0` or remove this parameter as it is also the default value for RandomForestRegressors and ExtraTreesRegressors.\n",
      "  warn(\n",
      "/Users/lakshmi/miniforge3/envs/tradingtf/lib/python3.8/site-packages/sklearn/ensemble/_forest.py:416: FutureWarning: `max_features='auto'` has been deprecated in 1.1 and will be removed in 1.3. To keep the past behaviour, explicitly set `max_features=1.0` or remove this parameter as it is also the default value for RandomForestRegressors and ExtraTreesRegressors.\n",
      "  warn(\n",
      "/Users/lakshmi/miniforge3/envs/tradingtf/lib/python3.8/site-packages/sklearn/ensemble/_forest.py:416: FutureWarning: `max_features='auto'` has been deprecated in 1.1 and will be removed in 1.3. To keep the past behaviour, explicitly set `max_features=1.0` or remove this parameter as it is also the default value for RandomForestRegressors and ExtraTreesRegressors.\n",
      "  warn(\n",
      "/Users/lakshmi/miniforge3/envs/tradingtf/lib/python3.8/site-packages/sklearn/ensemble/_forest.py:416: FutureWarning: `max_features='auto'` has been deprecated in 1.1 and will be removed in 1.3. To keep the past behaviour, explicitly set `max_features=1.0` or remove this parameter as it is also the default value for RandomForestRegressors and ExtraTreesRegressors.\n",
      "  warn(\n",
      "/Users/lakshmi/miniforge3/envs/tradingtf/lib/python3.8/site-packages/sklearn/ensemble/_forest.py:416: FutureWarning: `max_features='auto'` has been deprecated in 1.1 and will be removed in 1.3. To keep the past behaviour, explicitly set `max_features=1.0` or remove this parameter as it is also the default value for RandomForestRegressors and ExtraTreesRegressors.\n",
      "  warn(\n",
      "/Users/lakshmi/miniforge3/envs/tradingtf/lib/python3.8/site-packages/sklearn/ensemble/_forest.py:416: FutureWarning: `max_features='auto'` has been deprecated in 1.1 and will be removed in 1.3. To keep the past behaviour, explicitly set `max_features=1.0` or remove this parameter as it is also the default value for RandomForestRegressors and ExtraTreesRegressors.\n",
      "  warn(\n",
      "/Users/lakshmi/miniforge3/envs/tradingtf/lib/python3.8/site-packages/sklearn/ensemble/_forest.py:416: FutureWarning: `max_features='auto'` has been deprecated in 1.1 and will be removed in 1.3. To keep the past behaviour, explicitly set `max_features=1.0` or remove this parameter as it is also the default value for RandomForestRegressors and ExtraTreesRegressors.\n",
      "  warn(\n",
      "/Users/lakshmi/miniforge3/envs/tradingtf/lib/python3.8/site-packages/sklearn/ensemble/_forest.py:416: FutureWarning: `max_features='auto'` has been deprecated in 1.1 and will be removed in 1.3. To keep the past behaviour, explicitly set `max_features=1.0` or remove this parameter as it is also the default value for RandomForestRegressors and ExtraTreesRegressors.\n",
      "  warn(\n",
      "/Users/lakshmi/miniforge3/envs/tradingtf/lib/python3.8/site-packages/sklearn/ensemble/_forest.py:416: FutureWarning: `max_features='auto'` has been deprecated in 1.1 and will be removed in 1.3. To keep the past behaviour, explicitly set `max_features=1.0` or remove this parameter as it is also the default value for RandomForestRegressors and ExtraTreesRegressors.\n",
      "  warn(\n",
      "/Users/lakshmi/miniforge3/envs/tradingtf/lib/python3.8/site-packages/sklearn/ensemble/_forest.py:416: FutureWarning: `max_features='auto'` has been deprecated in 1.1 and will be removed in 1.3. To keep the past behaviour, explicitly set `max_features=1.0` or remove this parameter as it is also the default value for RandomForestRegressors and ExtraTreesRegressors.\n",
      "  warn(\n",
      "/Users/lakshmi/miniforge3/envs/tradingtf/lib/python3.8/site-packages/sklearn/ensemble/_forest.py:416: FutureWarning: `max_features='auto'` has been deprecated in 1.1 and will be removed in 1.3. To keep the past behaviour, explicitly set `max_features=1.0` or remove this parameter as it is also the default value for RandomForestRegressors and ExtraTreesRegressors.\n",
      "  warn(\n",
      "/Users/lakshmi/miniforge3/envs/tradingtf/lib/python3.8/site-packages/sklearn/ensemble/_forest.py:416: FutureWarning: `max_features='auto'` has been deprecated in 1.1 and will be removed in 1.3. To keep the past behaviour, explicitly set `max_features=1.0` or remove this parameter as it is also the default value for RandomForestRegressors and ExtraTreesRegressors.\n",
      "  warn(\n",
      "/Users/lakshmi/miniforge3/envs/tradingtf/lib/python3.8/site-packages/sklearn/ensemble/_forest.py:416: FutureWarning: `max_features='auto'` has been deprecated in 1.1 and will be removed in 1.3. To keep the past behaviour, explicitly set `max_features=1.0` or remove this parameter as it is also the default value for RandomForestRegressors and ExtraTreesRegressors.\n",
      "  warn(\n",
      "/Users/lakshmi/miniforge3/envs/tradingtf/lib/python3.8/site-packages/sklearn/ensemble/_forest.py:416: FutureWarning: `max_features='auto'` has been deprecated in 1.1 and will be removed in 1.3. To keep the past behaviour, explicitly set `max_features=1.0` or remove this parameter as it is also the default value for RandomForestRegressors and ExtraTreesRegressors.\n",
      "  warn(\n",
      "/Users/lakshmi/miniforge3/envs/tradingtf/lib/python3.8/site-packages/sklearn/ensemble/_forest.py:416: FutureWarning: `max_features='auto'` has been deprecated in 1.1 and will be removed in 1.3. To keep the past behaviour, explicitly set `max_features=1.0` or remove this parameter as it is also the default value for RandomForestRegressors and ExtraTreesRegressors.\n",
      "  warn(\n",
      "/Users/lakshmi/miniforge3/envs/tradingtf/lib/python3.8/site-packages/sklearn/ensemble/_forest.py:416: FutureWarning: `max_features='auto'` has been deprecated in 1.1 and will be removed in 1.3. To keep the past behaviour, explicitly set `max_features=1.0` or remove this parameter as it is also the default value for RandomForestRegressors and ExtraTreesRegressors.\n",
      "  warn(\n",
      "/Users/lakshmi/miniforge3/envs/tradingtf/lib/python3.8/site-packages/sklearn/ensemble/_forest.py:416: FutureWarning: `max_features='auto'` has been deprecated in 1.1 and will be removed in 1.3. To keep the past behaviour, explicitly set `max_features=1.0` or remove this parameter as it is also the default value for RandomForestRegressors and ExtraTreesRegressors.\n",
      "  warn(\n",
      "/Users/lakshmi/miniforge3/envs/tradingtf/lib/python3.8/site-packages/sklearn/ensemble/_forest.py:416: FutureWarning: `max_features='auto'` has been deprecated in 1.1 and will be removed in 1.3. To keep the past behaviour, explicitly set `max_features=1.0` or remove this parameter as it is also the default value for RandomForestRegressors and ExtraTreesRegressors.\n",
      "  warn(\n",
      "/Users/lakshmi/miniforge3/envs/tradingtf/lib/python3.8/site-packages/sklearn/ensemble/_forest.py:416: FutureWarning: `max_features='auto'` has been deprecated in 1.1 and will be removed in 1.3. To keep the past behaviour, explicitly set `max_features=1.0` or remove this parameter as it is also the default value for RandomForestRegressors and ExtraTreesRegressors.\n",
      "  warn(\n",
      "/Users/lakshmi/miniforge3/envs/tradingtf/lib/python3.8/site-packages/sklearn/ensemble/_forest.py:416: FutureWarning: `max_features='auto'` has been deprecated in 1.1 and will be removed in 1.3. To keep the past behaviour, explicitly set `max_features=1.0` or remove this parameter as it is also the default value for RandomForestRegressors and ExtraTreesRegressors.\n",
      "  warn(\n",
      "/Users/lakshmi/miniforge3/envs/tradingtf/lib/python3.8/site-packages/sklearn/ensemble/_forest.py:416: FutureWarning: `max_features='auto'` has been deprecated in 1.1 and will be removed in 1.3. To keep the past behaviour, explicitly set `max_features=1.0` or remove this parameter as it is also the default value for RandomForestRegressors and ExtraTreesRegressors.\n",
      "  warn(\n",
      "/Users/lakshmi/miniforge3/envs/tradingtf/lib/python3.8/site-packages/sklearn/ensemble/_forest.py:416: FutureWarning: `max_features='auto'` has been deprecated in 1.1 and will be removed in 1.3. To keep the past behaviour, explicitly set `max_features=1.0` or remove this parameter as it is also the default value for RandomForestRegressors and ExtraTreesRegressors.\n",
      "  warn(\n",
      "/Users/lakshmi/miniforge3/envs/tradingtf/lib/python3.8/site-packages/sklearn/ensemble/_forest.py:416: FutureWarning: `max_features='auto'` has been deprecated in 1.1 and will be removed in 1.3. To keep the past behaviour, explicitly set `max_features=1.0` or remove this parameter as it is also the default value for RandomForestRegressors and ExtraTreesRegressors.\n",
      "  warn(\n",
      "/Users/lakshmi/miniforge3/envs/tradingtf/lib/python3.8/site-packages/sklearn/ensemble/_forest.py:416: FutureWarning: `max_features='auto'` has been deprecated in 1.1 and will be removed in 1.3. To keep the past behaviour, explicitly set `max_features=1.0` or remove this parameter as it is also the default value for RandomForestRegressors and ExtraTreesRegressors.\n",
      "  warn(\n",
      "/Users/lakshmi/miniforge3/envs/tradingtf/lib/python3.8/site-packages/sklearn/ensemble/_forest.py:416: FutureWarning: `max_features='auto'` has been deprecated in 1.1 and will be removed in 1.3. To keep the past behaviour, explicitly set `max_features=1.0` or remove this parameter as it is also the default value for RandomForestRegressors and ExtraTreesRegressors.\n",
      "  warn(\n",
      "/Users/lakshmi/miniforge3/envs/tradingtf/lib/python3.8/site-packages/sklearn/ensemble/_forest.py:416: FutureWarning: `max_features='auto'` has been deprecated in 1.1 and will be removed in 1.3. To keep the past behaviour, explicitly set `max_features=1.0` or remove this parameter as it is also the default value for RandomForestRegressors and ExtraTreesRegressors.\n",
      "  warn(\n",
      "/Users/lakshmi/miniforge3/envs/tradingtf/lib/python3.8/site-packages/sklearn/ensemble/_forest.py:416: FutureWarning: `max_features='auto'` has been deprecated in 1.1 and will be removed in 1.3. To keep the past behaviour, explicitly set `max_features=1.0` or remove this parameter as it is also the default value for RandomForestRegressors and ExtraTreesRegressors.\n",
      "  warn(\n",
      "/Users/lakshmi/miniforge3/envs/tradingtf/lib/python3.8/site-packages/sklearn/ensemble/_forest.py:416: FutureWarning: `max_features='auto'` has been deprecated in 1.1 and will be removed in 1.3. To keep the past behaviour, explicitly set `max_features=1.0` or remove this parameter as it is also the default value for RandomForestRegressors and ExtraTreesRegressors.\n",
      "  warn(\n",
      "/Users/lakshmi/miniforge3/envs/tradingtf/lib/python3.8/site-packages/sklearn/ensemble/_forest.py:416: FutureWarning: `max_features='auto'` has been deprecated in 1.1 and will be removed in 1.3. To keep the past behaviour, explicitly set `max_features=1.0` or remove this parameter as it is also the default value for RandomForestRegressors and ExtraTreesRegressors.\n",
      "  warn(\n",
      "/Users/lakshmi/miniforge3/envs/tradingtf/lib/python3.8/site-packages/sklearn/ensemble/_forest.py:416: FutureWarning: `max_features='auto'` has been deprecated in 1.1 and will be removed in 1.3. To keep the past behaviour, explicitly set `max_features=1.0` or remove this parameter as it is also the default value for RandomForestRegressors and ExtraTreesRegressors.\n",
      "  warn(\n",
      "/Users/lakshmi/miniforge3/envs/tradingtf/lib/python3.8/site-packages/sklearn/ensemble/_forest.py:416: FutureWarning: `max_features='auto'` has been deprecated in 1.1 and will be removed in 1.3. To keep the past behaviour, explicitly set `max_features=1.0` or remove this parameter as it is also the default value for RandomForestRegressors and ExtraTreesRegressors.\n",
      "  warn(\n",
      "/Users/lakshmi/miniforge3/envs/tradingtf/lib/python3.8/site-packages/sklearn/ensemble/_forest.py:416: FutureWarning: `max_features='auto'` has been deprecated in 1.1 and will be removed in 1.3. To keep the past behaviour, explicitly set `max_features=1.0` or remove this parameter as it is also the default value for RandomForestRegressors and ExtraTreesRegressors.\n",
      "  warn(\n",
      "/Users/lakshmi/miniforge3/envs/tradingtf/lib/python3.8/site-packages/sklearn/ensemble/_forest.py:416: FutureWarning: `max_features='auto'` has been deprecated in 1.1 and will be removed in 1.3. To keep the past behaviour, explicitly set `max_features=1.0` or remove this parameter as it is also the default value for RandomForestRegressors and ExtraTreesRegressors.\n",
      "  warn(\n",
      "/Users/lakshmi/miniforge3/envs/tradingtf/lib/python3.8/site-packages/sklearn/ensemble/_forest.py:416: FutureWarning: `max_features='auto'` has been deprecated in 1.1 and will be removed in 1.3. To keep the past behaviour, explicitly set `max_features=1.0` or remove this parameter as it is also the default value for RandomForestRegressors and ExtraTreesRegressors.\n",
      "  warn(\n",
      "/Users/lakshmi/miniforge3/envs/tradingtf/lib/python3.8/site-packages/sklearn/ensemble/_forest.py:416: FutureWarning: `max_features='auto'` has been deprecated in 1.1 and will be removed in 1.3. To keep the past behaviour, explicitly set `max_features=1.0` or remove this parameter as it is also the default value for RandomForestRegressors and ExtraTreesRegressors.\n",
      "  warn(\n",
      "/Users/lakshmi/miniforge3/envs/tradingtf/lib/python3.8/site-packages/sklearn/ensemble/_forest.py:416: FutureWarning: `max_features='auto'` has been deprecated in 1.1 and will be removed in 1.3. To keep the past behaviour, explicitly set `max_features=1.0` or remove this parameter as it is also the default value for RandomForestRegressors and ExtraTreesRegressors.\n",
      "  warn(\n",
      "/Users/lakshmi/miniforge3/envs/tradingtf/lib/python3.8/site-packages/sklearn/ensemble/_forest.py:416: FutureWarning: `max_features='auto'` has been deprecated in 1.1 and will be removed in 1.3. To keep the past behaviour, explicitly set `max_features=1.0` or remove this parameter as it is also the default value for RandomForestRegressors and ExtraTreesRegressors.\n",
      "  warn(\n",
      "/Users/lakshmi/miniforge3/envs/tradingtf/lib/python3.8/site-packages/sklearn/ensemble/_forest.py:416: FutureWarning: `max_features='auto'` has been deprecated in 1.1 and will be removed in 1.3. To keep the past behaviour, explicitly set `max_features=1.0` or remove this parameter as it is also the default value for RandomForestRegressors and ExtraTreesRegressors.\n",
      "  warn(\n",
      "/Users/lakshmi/miniforge3/envs/tradingtf/lib/python3.8/site-packages/sklearn/ensemble/_forest.py:416: FutureWarning: `max_features='auto'` has been deprecated in 1.1 and will be removed in 1.3. To keep the past behaviour, explicitly set `max_features=1.0` or remove this parameter as it is also the default value for RandomForestRegressors and ExtraTreesRegressors.\n",
      "  warn(\n",
      "/Users/lakshmi/miniforge3/envs/tradingtf/lib/python3.8/site-packages/sklearn/ensemble/_forest.py:416: FutureWarning: `max_features='auto'` has been deprecated in 1.1 and will be removed in 1.3. To keep the past behaviour, explicitly set `max_features=1.0` or remove this parameter as it is also the default value for RandomForestRegressors and ExtraTreesRegressors.\n",
      "  warn(\n",
      "/Users/lakshmi/miniforge3/envs/tradingtf/lib/python3.8/site-packages/sklearn/ensemble/_forest.py:416: FutureWarning: `max_features='auto'` has been deprecated in 1.1 and will be removed in 1.3. To keep the past behaviour, explicitly set `max_features=1.0` or remove this parameter as it is also the default value for RandomForestRegressors and ExtraTreesRegressors.\n",
      "  warn(\n",
      "/Users/lakshmi/miniforge3/envs/tradingtf/lib/python3.8/site-packages/sklearn/ensemble/_forest.py:416: FutureWarning: `max_features='auto'` has been deprecated in 1.1 and will be removed in 1.3. To keep the past behaviour, explicitly set `max_features=1.0` or remove this parameter as it is also the default value for RandomForestRegressors and ExtraTreesRegressors.\n",
      "  warn(\n",
      "/Users/lakshmi/miniforge3/envs/tradingtf/lib/python3.8/site-packages/sklearn/ensemble/_forest.py:416: FutureWarning: `max_features='auto'` has been deprecated in 1.1 and will be removed in 1.3. To keep the past behaviour, explicitly set `max_features=1.0` or remove this parameter as it is also the default value for RandomForestRegressors and ExtraTreesRegressors.\n",
      "  warn(\n",
      "/Users/lakshmi/miniforge3/envs/tradingtf/lib/python3.8/site-packages/sklearn/ensemble/_forest.py:416: FutureWarning: `max_features='auto'` has been deprecated in 1.1 and will be removed in 1.3. To keep the past behaviour, explicitly set `max_features=1.0` or remove this parameter as it is also the default value for RandomForestRegressors and ExtraTreesRegressors.\n",
      "  warn(\n",
      "/Users/lakshmi/miniforge3/envs/tradingtf/lib/python3.8/site-packages/sklearn/ensemble/_forest.py:416: FutureWarning: `max_features='auto'` has been deprecated in 1.1 and will be removed in 1.3. To keep the past behaviour, explicitly set `max_features=1.0` or remove this parameter as it is also the default value for RandomForestRegressors and ExtraTreesRegressors.\n",
      "  warn(\n",
      "/Users/lakshmi/miniforge3/envs/tradingtf/lib/python3.8/site-packages/sklearn/ensemble/_forest.py:416: FutureWarning: `max_features='auto'` has been deprecated in 1.1 and will be removed in 1.3. To keep the past behaviour, explicitly set `max_features=1.0` or remove this parameter as it is also the default value for RandomForestRegressors and ExtraTreesRegressors.\n",
      "  warn(\n",
      "/Users/lakshmi/miniforge3/envs/tradingtf/lib/python3.8/site-packages/sklearn/ensemble/_forest.py:416: FutureWarning: `max_features='auto'` has been deprecated in 1.1 and will be removed in 1.3. To keep the past behaviour, explicitly set `max_features=1.0` or remove this parameter as it is also the default value for RandomForestRegressors and ExtraTreesRegressors.\n",
      "  warn(\n",
      "/Users/lakshmi/miniforge3/envs/tradingtf/lib/python3.8/site-packages/sklearn/ensemble/_forest.py:416: FutureWarning: `max_features='auto'` has been deprecated in 1.1 and will be removed in 1.3. To keep the past behaviour, explicitly set `max_features=1.0` or remove this parameter as it is also the default value for RandomForestRegressors and ExtraTreesRegressors.\n",
      "  warn(\n",
      "/Users/lakshmi/miniforge3/envs/tradingtf/lib/python3.8/site-packages/sklearn/ensemble/_forest.py:416: FutureWarning: `max_features='auto'` has been deprecated in 1.1 and will be removed in 1.3. To keep the past behaviour, explicitly set `max_features=1.0` or remove this parameter as it is also the default value for RandomForestRegressors and ExtraTreesRegressors.\n",
      "  warn(\n",
      "/Users/lakshmi/miniforge3/envs/tradingtf/lib/python3.8/site-packages/sklearn/ensemble/_forest.py:416: FutureWarning: `max_features='auto'` has been deprecated in 1.1 and will be removed in 1.3. To keep the past behaviour, explicitly set `max_features=1.0` or remove this parameter as it is also the default value for RandomForestRegressors and ExtraTreesRegressors.\n",
      "  warn(\n",
      "/Users/lakshmi/miniforge3/envs/tradingtf/lib/python3.8/site-packages/sklearn/ensemble/_forest.py:416: FutureWarning: `max_features='auto'` has been deprecated in 1.1 and will be removed in 1.3. To keep the past behaviour, explicitly set `max_features=1.0` or remove this parameter as it is also the default value for RandomForestRegressors and ExtraTreesRegressors.\n",
      "  warn(\n",
      "/Users/lakshmi/miniforge3/envs/tradingtf/lib/python3.8/site-packages/sklearn/ensemble/_forest.py:416: FutureWarning: `max_features='auto'` has been deprecated in 1.1 and will be removed in 1.3. To keep the past behaviour, explicitly set `max_features=1.0` or remove this parameter as it is also the default value for RandomForestRegressors and ExtraTreesRegressors.\n",
      "  warn(\n",
      "/Users/lakshmi/miniforge3/envs/tradingtf/lib/python3.8/site-packages/sklearn/ensemble/_forest.py:416: FutureWarning: `max_features='auto'` has been deprecated in 1.1 and will be removed in 1.3. To keep the past behaviour, explicitly set `max_features=1.0` or remove this parameter as it is also the default value for RandomForestRegressors and ExtraTreesRegressors.\n",
      "  warn(\n",
      "/Users/lakshmi/miniforge3/envs/tradingtf/lib/python3.8/site-packages/sklearn/ensemble/_forest.py:416: FutureWarning: `max_features='auto'` has been deprecated in 1.1 and will be removed in 1.3. To keep the past behaviour, explicitly set `max_features=1.0` or remove this parameter as it is also the default value for RandomForestRegressors and ExtraTreesRegressors.\n",
      "  warn(\n",
      "/Users/lakshmi/miniforge3/envs/tradingtf/lib/python3.8/site-packages/sklearn/ensemble/_forest.py:416: FutureWarning: `max_features='auto'` has been deprecated in 1.1 and will be removed in 1.3. To keep the past behaviour, explicitly set `max_features=1.0` or remove this parameter as it is also the default value for RandomForestRegressors and ExtraTreesRegressors.\n",
      "  warn(\n",
      "/Users/lakshmi/miniforge3/envs/tradingtf/lib/python3.8/site-packages/sklearn/ensemble/_forest.py:416: FutureWarning: `max_features='auto'` has been deprecated in 1.1 and will be removed in 1.3. To keep the past behaviour, explicitly set `max_features=1.0` or remove this parameter as it is also the default value for RandomForestRegressors and ExtraTreesRegressors.\n",
      "  warn(\n",
      "/Users/lakshmi/miniforge3/envs/tradingtf/lib/python3.8/site-packages/sklearn/ensemble/_forest.py:416: FutureWarning: `max_features='auto'` has been deprecated in 1.1 and will be removed in 1.3. To keep the past behaviour, explicitly set `max_features=1.0` or remove this parameter as it is also the default value for RandomForestRegressors and ExtraTreesRegressors.\n",
      "  warn(\n",
      "/Users/lakshmi/miniforge3/envs/tradingtf/lib/python3.8/site-packages/sklearn/ensemble/_forest.py:416: FutureWarning: `max_features='auto'` has been deprecated in 1.1 and will be removed in 1.3. To keep the past behaviour, explicitly set `max_features=1.0` or remove this parameter as it is also the default value for RandomForestRegressors and ExtraTreesRegressors.\n",
      "  warn(\n",
      "/Users/lakshmi/miniforge3/envs/tradingtf/lib/python3.8/site-packages/sklearn/ensemble/_forest.py:416: FutureWarning: `max_features='auto'` has been deprecated in 1.1 and will be removed in 1.3. To keep the past behaviour, explicitly set `max_features=1.0` or remove this parameter as it is also the default value for RandomForestRegressors and ExtraTreesRegressors.\n",
      "  warn(\n",
      "/Users/lakshmi/miniforge3/envs/tradingtf/lib/python3.8/site-packages/sklearn/ensemble/_forest.py:416: FutureWarning: `max_features='auto'` has been deprecated in 1.1 and will be removed in 1.3. To keep the past behaviour, explicitly set `max_features=1.0` or remove this parameter as it is also the default value for RandomForestRegressors and ExtraTreesRegressors.\n",
      "  warn(\n",
      "/Users/lakshmi/miniforge3/envs/tradingtf/lib/python3.8/site-packages/sklearn/ensemble/_forest.py:416: FutureWarning: `max_features='auto'` has been deprecated in 1.1 and will be removed in 1.3. To keep the past behaviour, explicitly set `max_features=1.0` or remove this parameter as it is also the default value for RandomForestRegressors and ExtraTreesRegressors.\n",
      "  warn(\n",
      "/Users/lakshmi/miniforge3/envs/tradingtf/lib/python3.8/site-packages/sklearn/ensemble/_forest.py:416: FutureWarning: `max_features='auto'` has been deprecated in 1.1 and will be removed in 1.3. To keep the past behaviour, explicitly set `max_features=1.0` or remove this parameter as it is also the default value for RandomForestRegressors and ExtraTreesRegressors.\n",
      "  warn(\n",
      "/Users/lakshmi/miniforge3/envs/tradingtf/lib/python3.8/site-packages/sklearn/ensemble/_forest.py:416: FutureWarning: `max_features='auto'` has been deprecated in 1.1 and will be removed in 1.3. To keep the past behaviour, explicitly set `max_features=1.0` or remove this parameter as it is also the default value for RandomForestRegressors and ExtraTreesRegressors.\n",
      "  warn(\n",
      "/Users/lakshmi/miniforge3/envs/tradingtf/lib/python3.8/site-packages/sklearn/ensemble/_forest.py:416: FutureWarning: `max_features='auto'` has been deprecated in 1.1 and will be removed in 1.3. To keep the past behaviour, explicitly set `max_features=1.0` or remove this parameter as it is also the default value for RandomForestRegressors and ExtraTreesRegressors.\n",
      "  warn(\n",
      "/Users/lakshmi/miniforge3/envs/tradingtf/lib/python3.8/site-packages/sklearn/ensemble/_forest.py:416: FutureWarning: `max_features='auto'` has been deprecated in 1.1 and will be removed in 1.3. To keep the past behaviour, explicitly set `max_features=1.0` or remove this parameter as it is also the default value for RandomForestRegressors and ExtraTreesRegressors.\n",
      "  warn(\n",
      "/Users/lakshmi/miniforge3/envs/tradingtf/lib/python3.8/site-packages/sklearn/ensemble/_forest.py:416: FutureWarning: `max_features='auto'` has been deprecated in 1.1 and will be removed in 1.3. To keep the past behaviour, explicitly set `max_features=1.0` or remove this parameter as it is also the default value for RandomForestRegressors and ExtraTreesRegressors.\n",
      "  warn(\n"
     ]
    },
    {
     "name": "stdout",
     "output_type": "stream",
     "text": [
      "[CV] END bootstrap=False, max_depth=None, max_features=log2, n_estimators=12; total time=   0.1s\n",
      "[CV] END bootstrap=False, max_depth=None, max_features=auto, n_estimators=9; total time=   0.1s\n",
      "[CV] END bootstrap=True, max_depth=5, max_features=log2, n_estimators=11; total time=   0.0s\n",
      "[CV] END bootstrap=True, max_depth=10, max_features=log2, n_estimators=8; total time=   0.0s\n",
      "[CV] END bootstrap=True, max_depth=5, max_features=auto, n_estimators=13; total time=   0.1s\n",
      "[CV] END bootstrap=True, max_depth=5, max_features=log2, n_estimators=8; total time=   0.0s\n",
      "[CV] END bootstrap=False, max_depth=5, max_features=log2, n_estimators=12; total time=   0.0s\n",
      "[CV] END bootstrap=False, max_depth=10, max_features=log2, n_estimators=9; total time=   0.0s\n",
      "[CV] END bootstrap=False, max_depth=5, max_features=log2, n_estimators=7; total time=   0.0s\n",
      "[CV] END bootstrap=True, max_depth=None, max_features=log2, n_estimators=8; total time=   0.0s\n",
      "[CV] END bootstrap=True, max_depth=None, max_features=log2, n_estimators=8; total time=   0.0s\n",
      "[CV] END bootstrap=True, max_depth=None, max_features=log2, n_estimators=8; total time=   0.0s\n",
      "[CV] END bootstrap=True, max_depth=None, max_features=log2, n_estimators=8; total time=   0.0s\n",
      "[CV] END bootstrap=True, max_depth=10, max_features=log2, n_estimators=13; total time=   0.0s\n",
      "[CV] END bootstrap=True, max_depth=10, max_features=log2, n_estimators=13; total time=   0.0s\n",
      "[CV] END bootstrap=True, max_depth=10, max_features=log2, n_estimators=13; total time=   0.0s\n",
      "[CV] END bootstrap=True, max_depth=5, max_features=log2, n_estimators=15; total time=   0.0s\n",
      "[CV] END bootstrap=False, max_depth=5, max_features=auto, n_estimators=8; total time=   0.1s\n",
      "[CV] END bootstrap=False, max_depth=5, max_features=auto, n_estimators=8; total time=   0.1s\n",
      "[CV] END bootstrap=True, max_depth=10, max_features=auto, n_estimators=8; total time=   0.1s\n",
      "[CV] END bootstrap=True, max_depth=10, max_features=auto, n_estimators=8; total time=   0.1s\n",
      "[CV] END bootstrap=True, max_depth=None, max_features=auto, n_estimators=10; total time=   0.1s\n",
      "[CV] END bootstrap=True, max_depth=None, max_features=auto, n_estimators=10; total time=   0.1s\n",
      "[CV] END bootstrap=True, max_depth=None, max_features=auto, n_estimators=10; total time=   0.1s\n",
      "[CV] END bootstrap=True, max_depth=None, max_features=auto, n_estimators=10; total time=   0.1s\n",
      "[CV] END bootstrap=True, max_depth=None, max_features=auto, n_estimators=10; total time=   0.1s\n",
      "[CV] END bootstrap=False, max_depth=5, max_features=log2, n_estimators=9; total time=   0.0s\n",
      "[CV] END bootstrap=False, max_depth=5, max_features=log2, n_estimators=9; total time=   0.0s\n",
      "[CV] END bootstrap=False, max_depth=5, max_features=log2, n_estimators=9; total time=   0.0s\n",
      "[CV] END bootstrap=True, max_depth=5, max_features=log2, n_estimators=9; total time=   0.0s\n",
      "[CV] END bootstrap=True, max_depth=5, max_features=log2, n_estimators=9; total time=   0.0s\n",
      "[CV] END bootstrap=True, max_depth=5, max_features=log2, n_estimators=9; total time=   0.0s\n",
      "[CV] END bootstrap=True, max_depth=5, max_features=log2, n_estimators=9; total time=   0.0s\n",
      "[CV] END bootstrap=True, max_depth=5, max_features=auto, n_estimators=11; total time=   0.1s\n",
      "[CV] END bootstrap=True, max_depth=5, max_features=auto, n_estimators=11; total time=   0.1s\n",
      "[CV] END bootstrap=True, max_depth=5, max_features=auto, n_estimators=11; total time=   0.1s\n",
      "[CV] END bootstrap=True, max_depth=5, max_features=auto, n_estimators=11; total time=   0.0s\n",
      "[CV] END bootstrap=False, max_depth=5, max_features=auto, n_estimators=9; total time=   0.1s\n",
      "[CV] END bootstrap=False, max_depth=5, max_features=auto, n_estimators=9; total time=   0.1s\n",
      "[CV] END bootstrap=False, max_depth=5, max_features=auto, n_estimators=9; total time=   0.1s\n",
      "[CV] END bootstrap=False, max_depth=5, max_features=auto, n_estimators=9; total time=   0.1s\n",
      "[CV] END bootstrap=False, max_depth=5, max_features=auto, n_estimators=9; total time=   0.1s\n",
      "[CV] END bootstrap=False, max_depth=5, max_features=auto, n_estimators=15; total time=   0.1s\n",
      "[CV] END bootstrap=False, max_depth=5, max_features=auto, n_estimators=15; total time=   0.1s\n",
      "[CV] END bootstrap=False, max_depth=5, max_features=auto, n_estimators=15; total time=   0.1s\n",
      "[CV] END bootstrap=False, max_depth=None, max_features=auto, n_estimators=8; total time=   0.1s\n",
      "[CV] END bootstrap=False, max_depth=None, max_features=auto, n_estimators=8; total time=   0.1s\n",
      "[CV] END bootstrap=False, max_depth=None, max_features=auto, n_estimators=8; total time=   0.1s\n",
      "[CV] END bootstrap=True, max_depth=10, max_features=log2, n_estimators=11; total time=   0.0s\n",
      "[CV] END bootstrap=True, max_depth=10, max_features=log2, n_estimators=11; total time=   0.0s\n",
      "[CV] END bootstrap=True, max_depth=10, max_features=log2, n_estimators=11; total time=   0.0s\n",
      "[CV] END bootstrap=True, max_depth=10, max_features=log2, n_estimators=11; total time=   0.0s\n",
      "[CV] END bootstrap=True, max_depth=10, max_features=log2, n_estimators=11; total time=   0.0s\n",
      "[CV] END bootstrap=True, max_depth=5, max_features=auto, n_estimators=9; total time=   0.0s\n",
      "[CV] END bootstrap=False, max_depth=None, max_features=auto, n_estimators=9; total time=   0.1s\n",
      "[CV] END bootstrap=False, max_depth=None, max_features=log2, n_estimators=5; total time=   0.0s\n",
      "[CV] END bootstrap=True, max_depth=5, max_features=log2, n_estimators=11; total time=   0.0s\n",
      "[CV] END bootstrap=True, max_depth=10, max_features=log2, n_estimators=10; total time=   0.0s\n",
      "[CV] END bootstrap=True, max_depth=5, max_features=auto, n_estimators=13; total time=   0.1s\n",
      "[CV] END bootstrap=False, max_depth=5, max_features=log2, n_estimators=12; total time=   0.0s\n",
      "[CV] END bootstrap=False, max_depth=5, max_features=log2, n_estimators=12; total time=   0.0s\n",
      "[CV] END bootstrap=True, max_depth=10, max_features=auto, n_estimators=15; total time=   0.1s\n",
      "[CV] END bootstrap=True, max_depth=10, max_features=auto, n_estimators=15; total time=   0.1s\n",
      "[CV] END bootstrap=True, max_depth=10, max_features=auto, n_estimators=15; total time=   0.1s\n",
      "[CV] END bootstrap=True, max_depth=10, max_features=auto, n_estimators=15; total time=   0.1s\n",
      "[CV] END bootstrap=False, max_depth=10, max_features=log2, n_estimators=15; total time=   0.0s\n",
      "[CV] END bootstrap=False, max_depth=10, max_features=log2, n_estimators=15; total time=   0.1s\n",
      "[CV] END bootstrap=False, max_depth=10, max_features=log2, n_estimators=15; total time=   0.0s\n",
      "[CV] END bootstrap=False, max_depth=5, max_features=log2, n_estimators=15; total time=   0.0s\n",
      "[CV] END bootstrap=False, max_depth=None, max_features=log2, n_estimators=9; total time=   0.0s\n",
      "[CV] END bootstrap=False, max_depth=5, max_features=log2, n_estimators=5; total time=   0.0s\n",
      "[CV] END bootstrap=False, max_depth=5, max_features=log2, n_estimators=5; total time=   0.0s\n",
      "[CV] END bootstrap=False, max_depth=5, max_features=log2, n_estimators=5; total time=   0.0s\n",
      "[CV] END bootstrap=False, max_depth=5, max_features=log2, n_estimators=5; total time=   0.0s\n",
      "[CV] END bootstrap=False, max_depth=5, max_features=log2, n_estimators=5; total time=   0.0s\n",
      "[CV] END bootstrap=True, max_depth=5, max_features=log2, n_estimators=7; total time=   0.0s\n",
      "[CV] END bootstrap=True, max_depth=5, max_features=log2, n_estimators=7; total time=   0.0s\n",
      "[CV] END bootstrap=True, max_depth=5, max_features=log2, n_estimators=7; total time=   0.0s\n",
      "[CV] END bootstrap=True, max_depth=5, max_features=log2, n_estimators=7; total time=   0.0s\n",
      "[CV] END bootstrap=True, max_depth=5, max_features=log2, n_estimators=7; total time=   0.0s\n",
      "[CV] END bootstrap=False, max_depth=10, max_features=log2, n_estimators=10; total time=   0.0s\n",
      "[CV] END bootstrap=False, max_depth=10, max_features=log2, n_estimators=10; total time=   0.0s\n",
      "[CV] END bootstrap=False, max_depth=10, max_features=log2, n_estimators=10; total time=   0.0s\n",
      "[CV] END bootstrap=False, max_depth=10, max_features=log2, n_estimators=10; total time=   0.0s\n",
      "[CV] END bootstrap=False, max_depth=10, max_features=log2, n_estimators=10; total time=   0.0s\n",
      "[CV] END bootstrap=False, max_depth=10, max_features=log2, n_estimators=5; total time=   0.0s\n",
      "[CV] END bootstrap=False, max_depth=10, max_features=log2, n_estimators=5; total time=   0.0s\n",
      "[CV] END bootstrap=False, max_depth=10, max_features=auto, n_estimators=15; total time=   0.2s\n",
      "[CV] END bootstrap=False, max_depth=10, max_features=auto, n_estimators=15; total time=   0.2s\n",
      "[CV] END bootstrap=False, max_depth=10, max_features=auto, n_estimators=15; total time=   0.2s\n",
      "[CV] END bootstrap=False, max_depth=10, max_features=auto, n_estimators=15; total time=   0.2s\n",
      "[CV] END bootstrap=False, max_depth=10, max_features=auto, n_estimators=15; total time=   0.2s\n",
      "[CV] END bootstrap=True, max_depth=5, max_features=log2, n_estimators=9; total time=   0.0s\n",
      "[CV] END bootstrap=False, max_depth=5, max_features=auto, n_estimators=13; total time=   0.1s\n",
      "[CV] END bootstrap=False, max_depth=10, max_features=auto, n_estimators=5; total time=   0.0s\n",
      "[CV] END bootstrap=False, max_depth=10, max_features=auto, n_estimators=5; total time=   0.0s\n",
      "[CV] END bootstrap=False, max_depth=10, max_features=auto, n_estimators=5; total time=   0.0s\n",
      "[CV] END bootstrap=False, max_depth=10, max_features=auto, n_estimators=5; total time=   0.0s\n",
      "[CV] END bootstrap=False, max_depth=10, max_features=auto, n_estimators=5; total time=   0.0s\n",
      "[CV] END bootstrap=False, max_depth=None, max_features=auto, n_estimators=8; total time=   0.1s\n",
      "[CV] END bootstrap=False, max_depth=None, max_features=auto, n_estimators=8; total time=   0.1s\n",
      "[CV] END bootstrap=False, max_depth=None, max_features=log2, n_estimators=12; total time=   0.1s\n",
      "[CV] END bootstrap=False, max_depth=None, max_features=auto, n_estimators=9; total time=   0.1s\n",
      "[CV] END bootstrap=False, max_depth=None, max_features=log2, n_estimators=5; total time=   0.0s\n",
      "[CV] END bootstrap=True, max_depth=5, max_features=log2, n_estimators=11; total time=   0.0s\n",
      "[CV] END bootstrap=True, max_depth=10, max_features=log2, n_estimators=10; total time=   0.0s\n",
      "[CV] END bootstrap=True, max_depth=5, max_features=auto, n_estimators=5; total time=   0.0s\n",
      "[CV] END bootstrap=True, max_depth=5, max_features=auto, n_estimators=5; total time=   0.0s\n",
      "[CV] END bootstrap=False, max_depth=5, max_features=log2, n_estimators=12; total time=   0.0s\n",
      "[CV] END bootstrap=False, max_depth=5, max_features=log2, n_estimators=12; total time=   0.0s\n",
      "[CV] END bootstrap=False, max_depth=5, max_features=log2, n_estimators=7; total time=   0.0s\n",
      "[CV] END bootstrap=False, max_depth=5, max_features=log2, n_estimators=7; total time=   0.0s\n",
      "[CV] END bootstrap=False, max_depth=10, max_features=auto, n_estimators=10; total time=   0.1s\n",
      "[CV] END bootstrap=False, max_depth=10, max_features=auto, n_estimators=10; total time=   0.1s\n",
      "[CV] END bootstrap=False, max_depth=5, max_features=auto, n_estimators=10; total time=   0.1s\n",
      "[CV] END bootstrap=False, max_depth=5, max_features=auto, n_estimators=10; total time=   0.1s\n",
      "[CV] END bootstrap=False, max_depth=10, max_features=log2, n_estimators=8; total time=   0.0s\n",
      "[CV] END bootstrap=False, max_depth=10, max_features=log2, n_estimators=8; total time=   0.0s\n",
      "[CV] END bootstrap=False, max_depth=10, max_features=log2, n_estimators=15; total time=   0.1s\n",
      "[CV] END bootstrap=False, max_depth=10, max_features=log2, n_estimators=15; total time=   0.1s\n",
      "[CV] END bootstrap=False, max_depth=None, max_features=auto, n_estimators=5; total time=   0.1s\n",
      "[CV] END bootstrap=False, max_depth=None, max_features=auto, n_estimators=5; total time=   0.1s\n",
      "[CV] END bootstrap=False, max_depth=None, max_features=auto, n_estimators=5; total time=   0.1s\n",
      "[CV] END bootstrap=False, max_depth=5, max_features=log2, n_estimators=6; total time=   0.0s\n",
      "[CV] END bootstrap=False, max_depth=5, max_features=log2, n_estimators=6; total time=   0.0s\n",
      "[CV] END bootstrap=False, max_depth=5, max_features=log2, n_estimators=6; total time=   0.0s\n",
      "[CV] END bootstrap=False, max_depth=5, max_features=log2, n_estimators=6; total time=   0.0s\n",
      "[CV] END bootstrap=False, max_depth=5, max_features=log2, n_estimators=6; total time=   0.0s\n",
      "[CV] END bootstrap=False, max_depth=10, max_features=auto, n_estimators=13; total time=   0.1s\n",
      "[CV] END bootstrap=False, max_depth=10, max_features=auto, n_estimators=13; total time=   0.2s\n",
      "[CV] END bootstrap=False, max_depth=10, max_features=auto, n_estimators=13; total time=   0.1s\n",
      "[CV] END bootstrap=True, max_depth=None, max_features=log2, n_estimators=9; total time=   0.0s\n",
      "[CV] END bootstrap=True, max_depth=None, max_features=log2, n_estimators=9; total time=   0.0s\n",
      "[CV] END bootstrap=True, max_depth=None, max_features=log2, n_estimators=9; total time=   0.0s\n",
      "[CV] END bootstrap=True, max_depth=None, max_features=log2, n_estimators=9; total time=   0.0s\n",
      "[CV] END bootstrap=True, max_depth=None, max_features=log2, n_estimators=9; total time=   0.0s\n",
      "[CV] END bootstrap=True, max_depth=10, max_features=auto, n_estimators=12; total time=   0.1s\n",
      "[CV] END bootstrap=True, max_depth=10, max_features=auto, n_estimators=12; total time=   0.1s\n",
      "[CV] END bootstrap=True, max_depth=10, max_features=auto, n_estimators=12; total time=   0.1s\n",
      "[CV] END bootstrap=True, max_depth=None, max_features=log2, n_estimators=7; total time=   0.0s\n",
      "[CV] END bootstrap=True, max_depth=None, max_features=log2, n_estimators=7; total time=   0.0s\n",
      "[CV] END bootstrap=True, max_depth=None, max_features=log2, n_estimators=7; total time=   0.0s\n",
      "[CV] END bootstrap=True, max_depth=None, max_features=log2, n_estimators=7; total time=   0.0s\n",
      "[CV] END bootstrap=True, max_depth=None, max_features=log2, n_estimators=7; total time=   0.0s\n",
      "[CV] END bootstrap=True, max_depth=None, max_features=auto, n_estimators=15; total time=   0.1s\n",
      "[CV] END bootstrap=True, max_depth=None, max_features=auto, n_estimators=15; total time=   0.1s\n",
      "[CV] END bootstrap=True, max_depth=None, max_features=auto, n_estimators=15; total time=   0.1s\n",
      "[CV] END bootstrap=True, max_depth=None, max_features=auto, n_estimators=15; total time=   0.1s\n",
      "[CV] END bootstrap=False, max_depth=5, max_features=auto, n_estimators=13; total time=   0.1s\n",
      "[CV] END bootstrap=False, max_depth=5, max_features=auto, n_estimators=13; total time=   0.1s\n",
      "[CV] END bootstrap=False, max_depth=5, max_features=auto, n_estimators=13; total time=   0.1s\n",
      "[CV] END bootstrap=False, max_depth=5, max_features=auto, n_estimators=13; total time=   0.1s\n"
     ]
    },
    {
     "name": "stderr",
     "output_type": "stream",
     "text": [
      "/Users/lakshmi/miniforge3/envs/tradingtf/lib/python3.8/site-packages/sklearn/ensemble/_forest.py:416: FutureWarning: `max_features='auto'` has been deprecated in 1.1 and will be removed in 1.3. To keep the past behaviour, explicitly set `max_features=1.0` or remove this parameter as it is also the default value for RandomForestRegressors and ExtraTreesRegressors.\n",
      "  warn(\n",
      "/Users/lakshmi/miniforge3/envs/tradingtf/lib/python3.8/site-packages/sklearn/ensemble/_forest.py:416: FutureWarning: `max_features='auto'` has been deprecated in 1.1 and will be removed in 1.3. To keep the past behaviour, explicitly set `max_features=1.0` or remove this parameter as it is also the default value for RandomForestRegressors and ExtraTreesRegressors.\n",
      "  warn(\n",
      "/Users/lakshmi/miniforge3/envs/tradingtf/lib/python3.8/site-packages/sklearn/ensemble/_forest.py:416: FutureWarning: `max_features='auto'` has been deprecated in 1.1 and will be removed in 1.3. To keep the past behaviour, explicitly set `max_features=1.0` or remove this parameter as it is also the default value for RandomForestRegressors and ExtraTreesRegressors.\n",
      "  warn(\n",
      "/Users/lakshmi/miniforge3/envs/tradingtf/lib/python3.8/site-packages/sklearn/ensemble/_forest.py:416: FutureWarning: `max_features='auto'` has been deprecated in 1.1 and will be removed in 1.3. To keep the past behaviour, explicitly set `max_features=1.0` or remove this parameter as it is also the default value for RandomForestRegressors and ExtraTreesRegressors.\n",
      "  warn(\n",
      "/Users/lakshmi/miniforge3/envs/tradingtf/lib/python3.8/site-packages/sklearn/ensemble/_forest.py:416: FutureWarning: `max_features='auto'` has been deprecated in 1.1 and will be removed in 1.3. To keep the past behaviour, explicitly set `max_features=1.0` or remove this parameter as it is also the default value for RandomForestRegressors and ExtraTreesRegressors.\n",
      "  warn(\n",
      "/Users/lakshmi/miniforge3/envs/tradingtf/lib/python3.8/site-packages/sklearn/ensemble/_forest.py:416: FutureWarning: `max_features='auto'` has been deprecated in 1.1 and will be removed in 1.3. To keep the past behaviour, explicitly set `max_features=1.0` or remove this parameter as it is also the default value for RandomForestRegressors and ExtraTreesRegressors.\n",
      "  warn(\n",
      "/Users/lakshmi/miniforge3/envs/tradingtf/lib/python3.8/site-packages/sklearn/ensemble/_forest.py:416: FutureWarning: `max_features='auto'` has been deprecated in 1.1 and will be removed in 1.3. To keep the past behaviour, explicitly set `max_features=1.0` or remove this parameter as it is also the default value for RandomForestRegressors and ExtraTreesRegressors.\n",
      "  warn(\n",
      "/Users/lakshmi/miniforge3/envs/tradingtf/lib/python3.8/site-packages/sklearn/ensemble/_forest.py:416: FutureWarning: `max_features='auto'` has been deprecated in 1.1 and will be removed in 1.3. To keep the past behaviour, explicitly set `max_features=1.0` or remove this parameter as it is also the default value for RandomForestRegressors and ExtraTreesRegressors.\n",
      "  warn(\n",
      "/Users/lakshmi/miniforge3/envs/tradingtf/lib/python3.8/site-packages/sklearn/ensemble/_forest.py:416: FutureWarning: `max_features='auto'` has been deprecated in 1.1 and will be removed in 1.3. To keep the past behaviour, explicitly set `max_features=1.0` or remove this parameter as it is also the default value for RandomForestRegressors and ExtraTreesRegressors.\n",
      "  warn(\n",
      "/Users/lakshmi/miniforge3/envs/tradingtf/lib/python3.8/site-packages/sklearn/ensemble/_forest.py:416: FutureWarning: `max_features='auto'` has been deprecated in 1.1 and will be removed in 1.3. To keep the past behaviour, explicitly set `max_features=1.0` or remove this parameter as it is also the default value for RandomForestRegressors and ExtraTreesRegressors.\n",
      "  warn(\n",
      "/Users/lakshmi/miniforge3/envs/tradingtf/lib/python3.8/site-packages/sklearn/ensemble/_forest.py:416: FutureWarning: `max_features='auto'` has been deprecated in 1.1 and will be removed in 1.3. To keep the past behaviour, explicitly set `max_features=1.0` or remove this parameter as it is also the default value for RandomForestRegressors and ExtraTreesRegressors.\n",
      "  warn(\n",
      "/Users/lakshmi/miniforge3/envs/tradingtf/lib/python3.8/site-packages/sklearn/ensemble/_forest.py:416: FutureWarning: `max_features='auto'` has been deprecated in 1.1 and will be removed in 1.3. To keep the past behaviour, explicitly set `max_features=1.0` or remove this parameter as it is also the default value for RandomForestRegressors and ExtraTreesRegressors.\n",
      "  warn(\n",
      "/Users/lakshmi/miniforge3/envs/tradingtf/lib/python3.8/site-packages/sklearn/ensemble/_forest.py:416: FutureWarning: `max_features='auto'` has been deprecated in 1.1 and will be removed in 1.3. To keep the past behaviour, explicitly set `max_features=1.0` or remove this parameter as it is also the default value for RandomForestRegressors and ExtraTreesRegressors.\n",
      "  warn(\n",
      "/Users/lakshmi/miniforge3/envs/tradingtf/lib/python3.8/site-packages/sklearn/ensemble/_forest.py:416: FutureWarning: `max_features='auto'` has been deprecated in 1.1 and will be removed in 1.3. To keep the past behaviour, explicitly set `max_features=1.0` or remove this parameter as it is also the default value for RandomForestRegressors and ExtraTreesRegressors.\n",
      "  warn(\n",
      "/Users/lakshmi/miniforge3/envs/tradingtf/lib/python3.8/site-packages/sklearn/ensemble/_forest.py:416: FutureWarning: `max_features='auto'` has been deprecated in 1.1 and will be removed in 1.3. To keep the past behaviour, explicitly set `max_features=1.0` or remove this parameter as it is also the default value for RandomForestRegressors and ExtraTreesRegressors.\n",
      "  warn(\n",
      "/Users/lakshmi/miniforge3/envs/tradingtf/lib/python3.8/site-packages/sklearn/ensemble/_forest.py:416: FutureWarning: `max_features='auto'` has been deprecated in 1.1 and will be removed in 1.3. To keep the past behaviour, explicitly set `max_features=1.0` or remove this parameter as it is also the default value for RandomForestRegressors and ExtraTreesRegressors.\n",
      "  warn(\n",
      "/Users/lakshmi/miniforge3/envs/tradingtf/lib/python3.8/site-packages/sklearn/ensemble/_forest.py:416: FutureWarning: `max_features='auto'` has been deprecated in 1.1 and will be removed in 1.3. To keep the past behaviour, explicitly set `max_features=1.0` or remove this parameter as it is also the default value for RandomForestRegressors and ExtraTreesRegressors.\n",
      "  warn(\n",
      "/Users/lakshmi/miniforge3/envs/tradingtf/lib/python3.8/site-packages/sklearn/ensemble/_forest.py:416: FutureWarning: `max_features='auto'` has been deprecated in 1.1 and will be removed in 1.3. To keep the past behaviour, explicitly set `max_features=1.0` or remove this parameter as it is also the default value for RandomForestRegressors and ExtraTreesRegressors.\n",
      "  warn(\n",
      "/Users/lakshmi/miniforge3/envs/tradingtf/lib/python3.8/site-packages/sklearn/ensemble/_forest.py:416: FutureWarning: `max_features='auto'` has been deprecated in 1.1 and will be removed in 1.3. To keep the past behaviour, explicitly set `max_features=1.0` or remove this parameter as it is also the default value for RandomForestRegressors and ExtraTreesRegressors.\n",
      "  warn(\n",
      "/Users/lakshmi/miniforge3/envs/tradingtf/lib/python3.8/site-packages/sklearn/ensemble/_forest.py:416: FutureWarning: `max_features='auto'` has been deprecated in 1.1 and will be removed in 1.3. To keep the past behaviour, explicitly set `max_features=1.0` or remove this parameter as it is also the default value for RandomForestRegressors and ExtraTreesRegressors.\n",
      "  warn(\n",
      "/Users/lakshmi/miniforge3/envs/tradingtf/lib/python3.8/site-packages/sklearn/ensemble/_forest.py:416: FutureWarning: `max_features='auto'` has been deprecated in 1.1 and will be removed in 1.3. To keep the past behaviour, explicitly set `max_features=1.0` or remove this parameter as it is also the default value for RandomForestRegressors and ExtraTreesRegressors.\n",
      "  warn(\n",
      "/Users/lakshmi/miniforge3/envs/tradingtf/lib/python3.8/site-packages/sklearn/ensemble/_forest.py:416: FutureWarning: `max_features='auto'` has been deprecated in 1.1 and will be removed in 1.3. To keep the past behaviour, explicitly set `max_features=1.0` or remove this parameter as it is also the default value for RandomForestRegressors and ExtraTreesRegressors.\n",
      "  warn(\n",
      "/Users/lakshmi/miniforge3/envs/tradingtf/lib/python3.8/site-packages/sklearn/ensemble/_forest.py:416: FutureWarning: `max_features='auto'` has been deprecated in 1.1 and will be removed in 1.3. To keep the past behaviour, explicitly set `max_features=1.0` or remove this parameter as it is also the default value for RandomForestRegressors and ExtraTreesRegressors.\n",
      "  warn(\n",
      "/Users/lakshmi/miniforge3/envs/tradingtf/lib/python3.8/site-packages/sklearn/ensemble/_forest.py:416: FutureWarning: `max_features='auto'` has been deprecated in 1.1 and will be removed in 1.3. To keep the past behaviour, explicitly set `max_features=1.0` or remove this parameter as it is also the default value for RandomForestRegressors and ExtraTreesRegressors.\n",
      "  warn(\n",
      "/Users/lakshmi/miniforge3/envs/tradingtf/lib/python3.8/site-packages/sklearn/ensemble/_forest.py:416: FutureWarning: `max_features='auto'` has been deprecated in 1.1 and will be removed in 1.3. To keep the past behaviour, explicitly set `max_features=1.0` or remove this parameter as it is also the default value for RandomForestRegressors and ExtraTreesRegressors.\n",
      "  warn(\n",
      "/Users/lakshmi/miniforge3/envs/tradingtf/lib/python3.8/site-packages/sklearn/ensemble/_forest.py:416: FutureWarning: `max_features='auto'` has been deprecated in 1.1 and will be removed in 1.3. To keep the past behaviour, explicitly set `max_features=1.0` or remove this parameter as it is also the default value for RandomForestRegressors and ExtraTreesRegressors.\n",
      "  warn(\n",
      "/Users/lakshmi/miniforge3/envs/tradingtf/lib/python3.8/site-packages/sklearn/ensemble/_forest.py:416: FutureWarning: `max_features='auto'` has been deprecated in 1.1 and will be removed in 1.3. To keep the past behaviour, explicitly set `max_features=1.0` or remove this parameter as it is also the default value for RandomForestRegressors and ExtraTreesRegressors.\n",
      "  warn(\n",
      "/Users/lakshmi/miniforge3/envs/tradingtf/lib/python3.8/site-packages/sklearn/ensemble/_forest.py:416: FutureWarning: `max_features='auto'` has been deprecated in 1.1 and will be removed in 1.3. To keep the past behaviour, explicitly set `max_features=1.0` or remove this parameter as it is also the default value for RandomForestRegressors and ExtraTreesRegressors.\n",
      "  warn(\n",
      "/Users/lakshmi/miniforge3/envs/tradingtf/lib/python3.8/site-packages/sklearn/ensemble/_forest.py:416: FutureWarning: `max_features='auto'` has been deprecated in 1.1 and will be removed in 1.3. To keep the past behaviour, explicitly set `max_features=1.0` or remove this parameter as it is also the default value for RandomForestRegressors and ExtraTreesRegressors.\n",
      "  warn(\n",
      "/Users/lakshmi/miniforge3/envs/tradingtf/lib/python3.8/site-packages/sklearn/ensemble/_forest.py:416: FutureWarning: `max_features='auto'` has been deprecated in 1.1 and will be removed in 1.3. To keep the past behaviour, explicitly set `max_features=1.0` or remove this parameter as it is also the default value for RandomForestRegressors and ExtraTreesRegressors.\n",
      "  warn(\n",
      "/Users/lakshmi/miniforge3/envs/tradingtf/lib/python3.8/site-packages/sklearn/ensemble/_forest.py:416: FutureWarning: `max_features='auto'` has been deprecated in 1.1 and will be removed in 1.3. To keep the past behaviour, explicitly set `max_features=1.0` or remove this parameter as it is also the default value for RandomForestRegressors and ExtraTreesRegressors.\n",
      "  warn(\n",
      "/Users/lakshmi/miniforge3/envs/tradingtf/lib/python3.8/site-packages/sklearn/ensemble/_forest.py:416: FutureWarning: `max_features='auto'` has been deprecated in 1.1 and will be removed in 1.3. To keep the past behaviour, explicitly set `max_features=1.0` or remove this parameter as it is also the default value for RandomForestRegressors and ExtraTreesRegressors.\n",
      "  warn(\n",
      "/Users/lakshmi/miniforge3/envs/tradingtf/lib/python3.8/site-packages/sklearn/ensemble/_forest.py:416: FutureWarning: `max_features='auto'` has been deprecated in 1.1 and will be removed in 1.3. To keep the past behaviour, explicitly set `max_features=1.0` or remove this parameter as it is also the default value for RandomForestRegressors and ExtraTreesRegressors.\n",
      "  warn(\n",
      "/Users/lakshmi/miniforge3/envs/tradingtf/lib/python3.8/site-packages/sklearn/ensemble/_forest.py:416: FutureWarning: `max_features='auto'` has been deprecated in 1.1 and will be removed in 1.3. To keep the past behaviour, explicitly set `max_features=1.0` or remove this parameter as it is also the default value for RandomForestRegressors and ExtraTreesRegressors.\n",
      "  warn(\n",
      "/Users/lakshmi/miniforge3/envs/tradingtf/lib/python3.8/site-packages/sklearn/ensemble/_forest.py:416: FutureWarning: `max_features='auto'` has been deprecated in 1.1 and will be removed in 1.3. To keep the past behaviour, explicitly set `max_features=1.0` or remove this parameter as it is also the default value for RandomForestRegressors and ExtraTreesRegressors.\n",
      "  warn(\n",
      "/Users/lakshmi/miniforge3/envs/tradingtf/lib/python3.8/site-packages/sklearn/ensemble/_forest.py:416: FutureWarning: `max_features='auto'` has been deprecated in 1.1 and will be removed in 1.3. To keep the past behaviour, explicitly set `max_features=1.0` or remove this parameter as it is also the default value for RandomForestRegressors and ExtraTreesRegressors.\n",
      "  warn(\n",
      "/Users/lakshmi/miniforge3/envs/tradingtf/lib/python3.8/site-packages/sklearn/ensemble/_forest.py:416: FutureWarning: `max_features='auto'` has been deprecated in 1.1 and will be removed in 1.3. To keep the past behaviour, explicitly set `max_features=1.0` or remove this parameter as it is also the default value for RandomForestRegressors and ExtraTreesRegressors.\n",
      "  warn(\n",
      "/Users/lakshmi/miniforge3/envs/tradingtf/lib/python3.8/site-packages/sklearn/ensemble/_forest.py:416: FutureWarning: `max_features='auto'` has been deprecated in 1.1 and will be removed in 1.3. To keep the past behaviour, explicitly set `max_features=1.0` or remove this parameter as it is also the default value for RandomForestRegressors and ExtraTreesRegressors.\n",
      "  warn(\n",
      "/Users/lakshmi/miniforge3/envs/tradingtf/lib/python3.8/site-packages/sklearn/ensemble/_forest.py:416: FutureWarning: `max_features='auto'` has been deprecated in 1.1 and will be removed in 1.3. To keep the past behaviour, explicitly set `max_features=1.0` or remove this parameter as it is also the default value for RandomForestRegressors and ExtraTreesRegressors.\n",
      "  warn(\n",
      "/Users/lakshmi/miniforge3/envs/tradingtf/lib/python3.8/site-packages/sklearn/ensemble/_forest.py:416: FutureWarning: `max_features='auto'` has been deprecated in 1.1 and will be removed in 1.3. To keep the past behaviour, explicitly set `max_features=1.0` or remove this parameter as it is also the default value for RandomForestRegressors and ExtraTreesRegressors.\n",
      "  warn(\n",
      "/Users/lakshmi/miniforge3/envs/tradingtf/lib/python3.8/site-packages/sklearn/ensemble/_forest.py:416: FutureWarning: `max_features='auto'` has been deprecated in 1.1 and will be removed in 1.3. To keep the past behaviour, explicitly set `max_features=1.0` or remove this parameter as it is also the default value for RandomForestRegressors and ExtraTreesRegressors.\n",
      "  warn(\n",
      "/Users/lakshmi/miniforge3/envs/tradingtf/lib/python3.8/site-packages/sklearn/ensemble/_forest.py:416: FutureWarning: `max_features='auto'` has been deprecated in 1.1 and will be removed in 1.3. To keep the past behaviour, explicitly set `max_features=1.0` or remove this parameter as it is also the default value for RandomForestRegressors and ExtraTreesRegressors.\n",
      "  warn(\n",
      "/Users/lakshmi/miniforge3/envs/tradingtf/lib/python3.8/site-packages/sklearn/ensemble/_forest.py:416: FutureWarning: `max_features='auto'` has been deprecated in 1.1 and will be removed in 1.3. To keep the past behaviour, explicitly set `max_features=1.0` or remove this parameter as it is also the default value for RandomForestRegressors and ExtraTreesRegressors.\n",
      "  warn(\n",
      "/Users/lakshmi/miniforge3/envs/tradingtf/lib/python3.8/site-packages/sklearn/ensemble/_forest.py:416: FutureWarning: `max_features='auto'` has been deprecated in 1.1 and will be removed in 1.3. To keep the past behaviour, explicitly set `max_features=1.0` or remove this parameter as it is also the default value for RandomForestRegressors and ExtraTreesRegressors.\n",
      "  warn(\n",
      "/Users/lakshmi/miniforge3/envs/tradingtf/lib/python3.8/site-packages/sklearn/ensemble/_forest.py:416: FutureWarning: `max_features='auto'` has been deprecated in 1.1 and will be removed in 1.3. To keep the past behaviour, explicitly set `max_features=1.0` or remove this parameter as it is also the default value for RandomForestRegressors and ExtraTreesRegressors.\n",
      "  warn(\n",
      "/Users/lakshmi/miniforge3/envs/tradingtf/lib/python3.8/site-packages/sklearn/ensemble/_forest.py:416: FutureWarning: `max_features='auto'` has been deprecated in 1.1 and will be removed in 1.3. To keep the past behaviour, explicitly set `max_features=1.0` or remove this parameter as it is also the default value for RandomForestRegressors and ExtraTreesRegressors.\n",
      "  warn(\n",
      "/Users/lakshmi/miniforge3/envs/tradingtf/lib/python3.8/site-packages/sklearn/ensemble/_forest.py:416: FutureWarning: `max_features='auto'` has been deprecated in 1.1 and will be removed in 1.3. To keep the past behaviour, explicitly set `max_features=1.0` or remove this parameter as it is also the default value for RandomForestRegressors and ExtraTreesRegressors.\n",
      "  warn(\n",
      "/Users/lakshmi/miniforge3/envs/tradingtf/lib/python3.8/site-packages/sklearn/ensemble/_forest.py:416: FutureWarning: `max_features='auto'` has been deprecated in 1.1 and will be removed in 1.3. To keep the past behaviour, explicitly set `max_features=1.0` or remove this parameter as it is also the default value for RandomForestRegressors and ExtraTreesRegressors.\n",
      "  warn(\n",
      "/Users/lakshmi/miniforge3/envs/tradingtf/lib/python3.8/site-packages/sklearn/ensemble/_forest.py:416: FutureWarning: `max_features='auto'` has been deprecated in 1.1 and will be removed in 1.3. To keep the past behaviour, explicitly set `max_features=1.0` or remove this parameter as it is also the default value for RandomForestRegressors and ExtraTreesRegressors.\n",
      "  warn(\n",
      "/Users/lakshmi/miniforge3/envs/tradingtf/lib/python3.8/site-packages/sklearn/ensemble/_forest.py:416: FutureWarning: `max_features='auto'` has been deprecated in 1.1 and will be removed in 1.3. To keep the past behaviour, explicitly set `max_features=1.0` or remove this parameter as it is also the default value for RandomForestRegressors and ExtraTreesRegressors.\n",
      "  warn(\n",
      "/Users/lakshmi/miniforge3/envs/tradingtf/lib/python3.8/site-packages/sklearn/ensemble/_forest.py:416: FutureWarning: `max_features='auto'` has been deprecated in 1.1 and will be removed in 1.3. To keep the past behaviour, explicitly set `max_features=1.0` or remove this parameter as it is also the default value for RandomForestRegressors and ExtraTreesRegressors.\n",
      "  warn(\n",
      "/Users/lakshmi/miniforge3/envs/tradingtf/lib/python3.8/site-packages/sklearn/ensemble/_forest.py:416: FutureWarning: `max_features='auto'` has been deprecated in 1.1 and will be removed in 1.3. To keep the past behaviour, explicitly set `max_features=1.0` or remove this parameter as it is also the default value for RandomForestRegressors and ExtraTreesRegressors.\n",
      "  warn(\n",
      "/Users/lakshmi/miniforge3/envs/tradingtf/lib/python3.8/site-packages/sklearn/ensemble/_forest.py:416: FutureWarning: `max_features='auto'` has been deprecated in 1.1 and will be removed in 1.3. To keep the past behaviour, explicitly set `max_features=1.0` or remove this parameter as it is also the default value for RandomForestRegressors and ExtraTreesRegressors.\n",
      "  warn(\n",
      "/Users/lakshmi/miniforge3/envs/tradingtf/lib/python3.8/site-packages/sklearn/ensemble/_forest.py:416: FutureWarning: `max_features='auto'` has been deprecated in 1.1 and will be removed in 1.3. To keep the past behaviour, explicitly set `max_features=1.0` or remove this parameter as it is also the default value for RandomForestRegressors and ExtraTreesRegressors.\n",
      "  warn(\n",
      "/Users/lakshmi/miniforge3/envs/tradingtf/lib/python3.8/site-packages/sklearn/ensemble/_forest.py:416: FutureWarning: `max_features='auto'` has been deprecated in 1.1 and will be removed in 1.3. To keep the past behaviour, explicitly set `max_features=1.0` or remove this parameter as it is also the default value for RandomForestRegressors and ExtraTreesRegressors.\n",
      "  warn(\n",
      "/Users/lakshmi/miniforge3/envs/tradingtf/lib/python3.8/site-packages/sklearn/ensemble/_forest.py:416: FutureWarning: `max_features='auto'` has been deprecated in 1.1 and will be removed in 1.3. To keep the past behaviour, explicitly set `max_features=1.0` or remove this parameter as it is also the default value for RandomForestRegressors and ExtraTreesRegressors.\n",
      "  warn(\n",
      "/Users/lakshmi/miniforge3/envs/tradingtf/lib/python3.8/site-packages/sklearn/ensemble/_forest.py:416: FutureWarning: `max_features='auto'` has been deprecated in 1.1 and will be removed in 1.3. To keep the past behaviour, explicitly set `max_features=1.0` or remove this parameter as it is also the default value for RandomForestRegressors and ExtraTreesRegressors.\n",
      "  warn(\n",
      "/Users/lakshmi/miniforge3/envs/tradingtf/lib/python3.8/site-packages/sklearn/ensemble/_forest.py:416: FutureWarning: `max_features='auto'` has been deprecated in 1.1 and will be removed in 1.3. To keep the past behaviour, explicitly set `max_features=1.0` or remove this parameter as it is also the default value for RandomForestRegressors and ExtraTreesRegressors.\n",
      "  warn(\n",
      "/Users/lakshmi/miniforge3/envs/tradingtf/lib/python3.8/site-packages/sklearn/ensemble/_forest.py:416: FutureWarning: `max_features='auto'` has been deprecated in 1.1 and will be removed in 1.3. To keep the past behaviour, explicitly set `max_features=1.0` or remove this parameter as it is also the default value for RandomForestRegressors and ExtraTreesRegressors.\n",
      "  warn(\n",
      "/Users/lakshmi/miniforge3/envs/tradingtf/lib/python3.8/site-packages/sklearn/ensemble/_forest.py:416: FutureWarning: `max_features='auto'` has been deprecated in 1.1 and will be removed in 1.3. To keep the past behaviour, explicitly set `max_features=1.0` or remove this parameter as it is also the default value for RandomForestRegressors and ExtraTreesRegressors.\n",
      "  warn(\n",
      "/Users/lakshmi/miniforge3/envs/tradingtf/lib/python3.8/site-packages/sklearn/ensemble/_forest.py:416: FutureWarning: `max_features='auto'` has been deprecated in 1.1 and will be removed in 1.3. To keep the past behaviour, explicitly set `max_features=1.0` or remove this parameter as it is also the default value for RandomForestRegressors and ExtraTreesRegressors.\n",
      "  warn(\n",
      "/Users/lakshmi/miniforge3/envs/tradingtf/lib/python3.8/site-packages/sklearn/ensemble/_forest.py:416: FutureWarning: `max_features='auto'` has been deprecated in 1.1 and will be removed in 1.3. To keep the past behaviour, explicitly set `max_features=1.0` or remove this parameter as it is also the default value for RandomForestRegressors and ExtraTreesRegressors.\n",
      "  warn(\n",
      "/Users/lakshmi/miniforge3/envs/tradingtf/lib/python3.8/site-packages/sklearn/ensemble/_forest.py:416: FutureWarning: `max_features='auto'` has been deprecated in 1.1 and will be removed in 1.3. To keep the past behaviour, explicitly set `max_features=1.0` or remove this parameter as it is also the default value for RandomForestRegressors and ExtraTreesRegressors.\n",
      "  warn(\n",
      "/Users/lakshmi/miniforge3/envs/tradingtf/lib/python3.8/site-packages/sklearn/ensemble/_forest.py:416: FutureWarning: `max_features='auto'` has been deprecated in 1.1 and will be removed in 1.3. To keep the past behaviour, explicitly set `max_features=1.0` or remove this parameter as it is also the default value for RandomForestRegressors and ExtraTreesRegressors.\n",
      "  warn(\n",
      "/Users/lakshmi/miniforge3/envs/tradingtf/lib/python3.8/site-packages/sklearn/ensemble/_forest.py:416: FutureWarning: `max_features='auto'` has been deprecated in 1.1 and will be removed in 1.3. To keep the past behaviour, explicitly set `max_features=1.0` or remove this parameter as it is also the default value for RandomForestRegressors and ExtraTreesRegressors.\n",
      "  warn(\n",
      "/Users/lakshmi/miniforge3/envs/tradingtf/lib/python3.8/site-packages/sklearn/ensemble/_forest.py:416: FutureWarning: `max_features='auto'` has been deprecated in 1.1 and will be removed in 1.3. To keep the past behaviour, explicitly set `max_features=1.0` or remove this parameter as it is also the default value for RandomForestRegressors and ExtraTreesRegressors.\n",
      "  warn(\n",
      "/Users/lakshmi/miniforge3/envs/tradingtf/lib/python3.8/site-packages/sklearn/ensemble/_forest.py:416: FutureWarning: `max_features='auto'` has been deprecated in 1.1 and will be removed in 1.3. To keep the past behaviour, explicitly set `max_features=1.0` or remove this parameter as it is also the default value for RandomForestRegressors and ExtraTreesRegressors.\n",
      "  warn(\n",
      "/Users/lakshmi/miniforge3/envs/tradingtf/lib/python3.8/site-packages/sklearn/ensemble/_forest.py:416: FutureWarning: `max_features='auto'` has been deprecated in 1.1 and will be removed in 1.3. To keep the past behaviour, explicitly set `max_features=1.0` or remove this parameter as it is also the default value for RandomForestRegressors and ExtraTreesRegressors.\n",
      "  warn(\n",
      "/Users/lakshmi/miniforge3/envs/tradingtf/lib/python3.8/site-packages/sklearn/ensemble/_forest.py:416: FutureWarning: `max_features='auto'` has been deprecated in 1.1 and will be removed in 1.3. To keep the past behaviour, explicitly set `max_features=1.0` or remove this parameter as it is also the default value for RandomForestRegressors and ExtraTreesRegressors.\n",
      "  warn(\n",
      "/Users/lakshmi/miniforge3/envs/tradingtf/lib/python3.8/site-packages/sklearn/ensemble/_forest.py:416: FutureWarning: `max_features='auto'` has been deprecated in 1.1 and will be removed in 1.3. To keep the past behaviour, explicitly set `max_features=1.0` or remove this parameter as it is also the default value for RandomForestRegressors and ExtraTreesRegressors.\n",
      "  warn(\n"
     ]
    },
    {
     "name": "stdout",
     "output_type": "stream",
     "text": [
      "HPT params for XGBRegressor: {'subsample': 0.5, 'random_state': 123, 'n_estimators': 100, 'max_depth': 2, 'learning_rate': 0.1}\n",
      "R2 - test: -4.3058508152228745\n",
      "RSS - test: 2794213.314769745\n",
      "MSE - test: 558842.662953949, RMSE = 747.5577990723854\n",
      "RUNNING PROPHET REGRESSOR\n",
      "R2 - test: -1.1754751828655143\n",
      "RSS - test: 1145667.6664322356\n",
      "MSE - test: 229133.5332864471, RMSE = 478.6789459402274\n",
      "RUNNING MINIROCKET REGRESSOR. HPT:True\n",
      "R2 - test: -4.995604702925763\n",
      "RSS - test: 3157457.5076528136\n",
      "MSE - test: 631491.5015305628, RMSE = 794.6643955347205\n",
      "R2 - test: -2.5882754099415677\n",
      "RSS - test: 1889688.8127259621\n",
      "MSE - test: 377937.76254519244, RMSE = 614.7664292600829\n",
      "R2 - test: -2.2141167466256126\n",
      "RSS - test: 1692646.1224425612\n",
      "MSE - test: 338529.22448851226, RMSE = 581.8326430241881\n",
      "\n",
      "FINAL RESULTS - BTC-USD\n",
      "\n",
      "Columns to plot:['Actual close', 'LR close', 'XGB close', 'PROPHET close', 'MINIROCKET close']\n"
     ]
    },
    {
     "data": {
      "application/vnd.plotly.v1+json": {
       "config": {
        "plotlyServerURL": "https://plot.ly"
       },
       "data": [
        {
         "hovertemplate": "variable=Actual close<br>index=%{x}<br>value=%{y}<extra></extra>",
         "legendgroup": "Actual close",
         "line": {
          "color": "#636efa",
          "dash": "solid"
         },
         "marker": {
          "symbol": "circle"
         },
         "mode": "markers+lines",
         "name": "Actual close",
         "orientation": "v",
         "showlegend": true,
         "type": "scatter",
         "x": [
          "day 1",
          "day 2",
          "day 3",
          "day 4",
          "day 5"
         ],
         "xaxis": "x",
         "y": [
          26334.818359375,
          26476.20703125,
          26719.291015625,
          26868.353515625,
          27265.568359375
         ],
         "yaxis": "y"
        },
        {
         "hovertemplate": "variable=LR close<br>index=%{x}<br>value=%{y}<extra></extra>",
         "legendgroup": "LR close",
         "line": {
          "color": "#EF553B",
          "dash": "solid"
         },
         "marker": {
          "symbol": "circle"
         },
         "mode": "markers+lines",
         "name": "LR close",
         "orientation": "v",
         "showlegend": true,
         "type": "scatter",
         "x": [
          "day 1",
          "day 2",
          "day 3",
          "day 4",
          "day 5"
         ],
         "xaxis": "x",
         "y": [
          27154.92264176646,
          26273.590666033524,
          26383.680551125814,
          26605.728377004656,
          26747.4531766854
         ],
         "yaxis": "y"
        },
        {
         "hovertemplate": "variable=XGB close<br>index=%{x}<br>value=%{y}<extra></extra>",
         "legendgroup": "XGB close",
         "line": {
          "color": "#00cc96",
          "dash": "solid"
         },
         "marker": {
          "symbol": "circle"
         },
         "mode": "markers+lines",
         "name": "XGB close",
         "orientation": "v",
         "showlegend": true,
         "type": "scatter",
         "x": [
          "day 1",
          "day 2",
          "day 3",
          "day 4",
          "day 5"
         ],
         "xaxis": "x",
         "y": [
          27242.451171875,
          25896.03515625,
          25896.03515625,
          25896.03515625,
          27162.3046875
         ],
         "yaxis": "y"
        },
        {
         "hovertemplate": "variable=PROPHET close<br>index=%{x}<br>value=%{y}<extra></extra>",
         "legendgroup": "PROPHET close",
         "line": {
          "color": "#ab63fa",
          "dash": "solid"
         },
         "marker": {
          "symbol": "circle"
         },
         "mode": "markers+lines",
         "name": "PROPHET close",
         "orientation": "v",
         "showlegend": true,
         "type": "scatter",
         "x": [
          "day 1",
          "day 2",
          "day 3",
          "day 4",
          "day 5"
         ],
         "xaxis": "x",
         "y": [
          27200.01996063062,
          26221.826992871498,
          26448.45920566382,
          26668.245781297635,
          26797.60289369722
         ],
         "yaxis": "y"
        },
        {
         "hovertemplate": "variable=MINIROCKET close<br>index=%{x}<br>value=%{y}<extra></extra>",
         "legendgroup": "MINIROCKET close",
         "line": {
          "color": "#FFA15A",
          "dash": "solid"
         },
         "marker": {
          "symbol": "circle"
         },
         "mode": "markers+lines",
         "name": "MINIROCKET close",
         "orientation": "v",
         "showlegend": true,
         "type": "scatter",
         "x": [
          "day 1",
          "day 2",
          "day 3",
          "day 4",
          "day 5"
         ],
         "xaxis": "x",
         "y": [
          27788.967269681783,
          27242.971537498506,
          27079.86543610685,
          27355.51661892089,
          27561.60694528094
         ],
         "yaxis": "y"
        }
       ],
       "layout": {
        "legend": {
         "title": {
          "text": "variable"
         },
         "tracegroupgap": 0
        },
        "template": {
         "data": {
          "bar": [
           {
            "error_x": {
             "color": "#2a3f5f"
            },
            "error_y": {
             "color": "#2a3f5f"
            },
            "marker": {
             "line": {
              "color": "#E5ECF6",
              "width": 0.5
             },
             "pattern": {
              "fillmode": "overlay",
              "size": 10,
              "solidity": 0.2
             }
            },
            "type": "bar"
           }
          ],
          "barpolar": [
           {
            "marker": {
             "line": {
              "color": "#E5ECF6",
              "width": 0.5
             },
             "pattern": {
              "fillmode": "overlay",
              "size": 10,
              "solidity": 0.2
             }
            },
            "type": "barpolar"
           }
          ],
          "carpet": [
           {
            "aaxis": {
             "endlinecolor": "#2a3f5f",
             "gridcolor": "white",
             "linecolor": "white",
             "minorgridcolor": "white",
             "startlinecolor": "#2a3f5f"
            },
            "baxis": {
             "endlinecolor": "#2a3f5f",
             "gridcolor": "white",
             "linecolor": "white",
             "minorgridcolor": "white",
             "startlinecolor": "#2a3f5f"
            },
            "type": "carpet"
           }
          ],
          "choropleth": [
           {
            "colorbar": {
             "outlinewidth": 0,
             "ticks": ""
            },
            "type": "choropleth"
           }
          ],
          "contour": [
           {
            "colorbar": {
             "outlinewidth": 0,
             "ticks": ""
            },
            "colorscale": [
             [
              0,
              "#0d0887"
             ],
             [
              0.1111111111111111,
              "#46039f"
             ],
             [
              0.2222222222222222,
              "#7201a8"
             ],
             [
              0.3333333333333333,
              "#9c179e"
             ],
             [
              0.4444444444444444,
              "#bd3786"
             ],
             [
              0.5555555555555556,
              "#d8576b"
             ],
             [
              0.6666666666666666,
              "#ed7953"
             ],
             [
              0.7777777777777778,
              "#fb9f3a"
             ],
             [
              0.8888888888888888,
              "#fdca26"
             ],
             [
              1,
              "#f0f921"
             ]
            ],
            "type": "contour"
           }
          ],
          "contourcarpet": [
           {
            "colorbar": {
             "outlinewidth": 0,
             "ticks": ""
            },
            "type": "contourcarpet"
           }
          ],
          "heatmap": [
           {
            "colorbar": {
             "outlinewidth": 0,
             "ticks": ""
            },
            "colorscale": [
             [
              0,
              "#0d0887"
             ],
             [
              0.1111111111111111,
              "#46039f"
             ],
             [
              0.2222222222222222,
              "#7201a8"
             ],
             [
              0.3333333333333333,
              "#9c179e"
             ],
             [
              0.4444444444444444,
              "#bd3786"
             ],
             [
              0.5555555555555556,
              "#d8576b"
             ],
             [
              0.6666666666666666,
              "#ed7953"
             ],
             [
              0.7777777777777778,
              "#fb9f3a"
             ],
             [
              0.8888888888888888,
              "#fdca26"
             ],
             [
              1,
              "#f0f921"
             ]
            ],
            "type": "heatmap"
           }
          ],
          "heatmapgl": [
           {
            "colorbar": {
             "outlinewidth": 0,
             "ticks": ""
            },
            "colorscale": [
             [
              0,
              "#0d0887"
             ],
             [
              0.1111111111111111,
              "#46039f"
             ],
             [
              0.2222222222222222,
              "#7201a8"
             ],
             [
              0.3333333333333333,
              "#9c179e"
             ],
             [
              0.4444444444444444,
              "#bd3786"
             ],
             [
              0.5555555555555556,
              "#d8576b"
             ],
             [
              0.6666666666666666,
              "#ed7953"
             ],
             [
              0.7777777777777778,
              "#fb9f3a"
             ],
             [
              0.8888888888888888,
              "#fdca26"
             ],
             [
              1,
              "#f0f921"
             ]
            ],
            "type": "heatmapgl"
           }
          ],
          "histogram": [
           {
            "marker": {
             "pattern": {
              "fillmode": "overlay",
              "size": 10,
              "solidity": 0.2
             }
            },
            "type": "histogram"
           }
          ],
          "histogram2d": [
           {
            "colorbar": {
             "outlinewidth": 0,
             "ticks": ""
            },
            "colorscale": [
             [
              0,
              "#0d0887"
             ],
             [
              0.1111111111111111,
              "#46039f"
             ],
             [
              0.2222222222222222,
              "#7201a8"
             ],
             [
              0.3333333333333333,
              "#9c179e"
             ],
             [
              0.4444444444444444,
              "#bd3786"
             ],
             [
              0.5555555555555556,
              "#d8576b"
             ],
             [
              0.6666666666666666,
              "#ed7953"
             ],
             [
              0.7777777777777778,
              "#fb9f3a"
             ],
             [
              0.8888888888888888,
              "#fdca26"
             ],
             [
              1,
              "#f0f921"
             ]
            ],
            "type": "histogram2d"
           }
          ],
          "histogram2dcontour": [
           {
            "colorbar": {
             "outlinewidth": 0,
             "ticks": ""
            },
            "colorscale": [
             [
              0,
              "#0d0887"
             ],
             [
              0.1111111111111111,
              "#46039f"
             ],
             [
              0.2222222222222222,
              "#7201a8"
             ],
             [
              0.3333333333333333,
              "#9c179e"
             ],
             [
              0.4444444444444444,
              "#bd3786"
             ],
             [
              0.5555555555555556,
              "#d8576b"
             ],
             [
              0.6666666666666666,
              "#ed7953"
             ],
             [
              0.7777777777777778,
              "#fb9f3a"
             ],
             [
              0.8888888888888888,
              "#fdca26"
             ],
             [
              1,
              "#f0f921"
             ]
            ],
            "type": "histogram2dcontour"
           }
          ],
          "mesh3d": [
           {
            "colorbar": {
             "outlinewidth": 0,
             "ticks": ""
            },
            "type": "mesh3d"
           }
          ],
          "parcoords": [
           {
            "line": {
             "colorbar": {
              "outlinewidth": 0,
              "ticks": ""
             }
            },
            "type": "parcoords"
           }
          ],
          "pie": [
           {
            "automargin": true,
            "type": "pie"
           }
          ],
          "scatter": [
           {
            "fillpattern": {
             "fillmode": "overlay",
             "size": 10,
             "solidity": 0.2
            },
            "type": "scatter"
           }
          ],
          "scatter3d": [
           {
            "line": {
             "colorbar": {
              "outlinewidth": 0,
              "ticks": ""
             }
            },
            "marker": {
             "colorbar": {
              "outlinewidth": 0,
              "ticks": ""
             }
            },
            "type": "scatter3d"
           }
          ],
          "scattercarpet": [
           {
            "marker": {
             "colorbar": {
              "outlinewidth": 0,
              "ticks": ""
             }
            },
            "type": "scattercarpet"
           }
          ],
          "scattergeo": [
           {
            "marker": {
             "colorbar": {
              "outlinewidth": 0,
              "ticks": ""
             }
            },
            "type": "scattergeo"
           }
          ],
          "scattergl": [
           {
            "marker": {
             "colorbar": {
              "outlinewidth": 0,
              "ticks": ""
             }
            },
            "type": "scattergl"
           }
          ],
          "scattermapbox": [
           {
            "marker": {
             "colorbar": {
              "outlinewidth": 0,
              "ticks": ""
             }
            },
            "type": "scattermapbox"
           }
          ],
          "scatterpolar": [
           {
            "marker": {
             "colorbar": {
              "outlinewidth": 0,
              "ticks": ""
             }
            },
            "type": "scatterpolar"
           }
          ],
          "scatterpolargl": [
           {
            "marker": {
             "colorbar": {
              "outlinewidth": 0,
              "ticks": ""
             }
            },
            "type": "scatterpolargl"
           }
          ],
          "scatterternary": [
           {
            "marker": {
             "colorbar": {
              "outlinewidth": 0,
              "ticks": ""
             }
            },
            "type": "scatterternary"
           }
          ],
          "surface": [
           {
            "colorbar": {
             "outlinewidth": 0,
             "ticks": ""
            },
            "colorscale": [
             [
              0,
              "#0d0887"
             ],
             [
              0.1111111111111111,
              "#46039f"
             ],
             [
              0.2222222222222222,
              "#7201a8"
             ],
             [
              0.3333333333333333,
              "#9c179e"
             ],
             [
              0.4444444444444444,
              "#bd3786"
             ],
             [
              0.5555555555555556,
              "#d8576b"
             ],
             [
              0.6666666666666666,
              "#ed7953"
             ],
             [
              0.7777777777777778,
              "#fb9f3a"
             ],
             [
              0.8888888888888888,
              "#fdca26"
             ],
             [
              1,
              "#f0f921"
             ]
            ],
            "type": "surface"
           }
          ],
          "table": [
           {
            "cells": {
             "fill": {
              "color": "#EBF0F8"
             },
             "line": {
              "color": "white"
             }
            },
            "header": {
             "fill": {
              "color": "#C8D4E3"
             },
             "line": {
              "color": "white"
             }
            },
            "type": "table"
           }
          ]
         },
         "layout": {
          "annotationdefaults": {
           "arrowcolor": "#2a3f5f",
           "arrowhead": 0,
           "arrowwidth": 1
          },
          "autotypenumbers": "strict",
          "coloraxis": {
           "colorbar": {
            "outlinewidth": 0,
            "ticks": ""
           }
          },
          "colorscale": {
           "diverging": [
            [
             0,
             "#8e0152"
            ],
            [
             0.1,
             "#c51b7d"
            ],
            [
             0.2,
             "#de77ae"
            ],
            [
             0.3,
             "#f1b6da"
            ],
            [
             0.4,
             "#fde0ef"
            ],
            [
             0.5,
             "#f7f7f7"
            ],
            [
             0.6,
             "#e6f5d0"
            ],
            [
             0.7,
             "#b8e186"
            ],
            [
             0.8,
             "#7fbc41"
            ],
            [
             0.9,
             "#4d9221"
            ],
            [
             1,
             "#276419"
            ]
           ],
           "sequential": [
            [
             0,
             "#0d0887"
            ],
            [
             0.1111111111111111,
             "#46039f"
            ],
            [
             0.2222222222222222,
             "#7201a8"
            ],
            [
             0.3333333333333333,
             "#9c179e"
            ],
            [
             0.4444444444444444,
             "#bd3786"
            ],
            [
             0.5555555555555556,
             "#d8576b"
            ],
            [
             0.6666666666666666,
             "#ed7953"
            ],
            [
             0.7777777777777778,
             "#fb9f3a"
            ],
            [
             0.8888888888888888,
             "#fdca26"
            ],
            [
             1,
             "#f0f921"
            ]
           ],
           "sequentialminus": [
            [
             0,
             "#0d0887"
            ],
            [
             0.1111111111111111,
             "#46039f"
            ],
            [
             0.2222222222222222,
             "#7201a8"
            ],
            [
             0.3333333333333333,
             "#9c179e"
            ],
            [
             0.4444444444444444,
             "#bd3786"
            ],
            [
             0.5555555555555556,
             "#d8576b"
            ],
            [
             0.6666666666666666,
             "#ed7953"
            ],
            [
             0.7777777777777778,
             "#fb9f3a"
            ],
            [
             0.8888888888888888,
             "#fdca26"
            ],
            [
             1,
             "#f0f921"
            ]
           ]
          },
          "colorway": [
           "#636efa",
           "#EF553B",
           "#00cc96",
           "#ab63fa",
           "#FFA15A",
           "#19d3f3",
           "#FF6692",
           "#B6E880",
           "#FF97FF",
           "#FECB52"
          ],
          "font": {
           "color": "#2a3f5f"
          },
          "geo": {
           "bgcolor": "white",
           "lakecolor": "white",
           "landcolor": "#E5ECF6",
           "showlakes": true,
           "showland": true,
           "subunitcolor": "white"
          },
          "hoverlabel": {
           "align": "left"
          },
          "hovermode": "closest",
          "mapbox": {
           "style": "light"
          },
          "paper_bgcolor": "white",
          "plot_bgcolor": "#E5ECF6",
          "polar": {
           "angularaxis": {
            "gridcolor": "white",
            "linecolor": "white",
            "ticks": ""
           },
           "bgcolor": "#E5ECF6",
           "radialaxis": {
            "gridcolor": "white",
            "linecolor": "white",
            "ticks": ""
           }
          },
          "scene": {
           "xaxis": {
            "backgroundcolor": "#E5ECF6",
            "gridcolor": "white",
            "gridwidth": 2,
            "linecolor": "white",
            "showbackground": true,
            "ticks": "",
            "zerolinecolor": "white"
           },
           "yaxis": {
            "backgroundcolor": "#E5ECF6",
            "gridcolor": "white",
            "gridwidth": 2,
            "linecolor": "white",
            "showbackground": true,
            "ticks": "",
            "zerolinecolor": "white"
           },
           "zaxis": {
            "backgroundcolor": "#E5ECF6",
            "gridcolor": "white",
            "gridwidth": 2,
            "linecolor": "white",
            "showbackground": true,
            "ticks": "",
            "zerolinecolor": "white"
           }
          },
          "shapedefaults": {
           "line": {
            "color": "#2a3f5f"
           }
          },
          "ternary": {
           "aaxis": {
            "gridcolor": "white",
            "linecolor": "white",
            "ticks": ""
           },
           "baxis": {
            "gridcolor": "white",
            "linecolor": "white",
            "ticks": ""
           },
           "bgcolor": "#E5ECF6",
           "caxis": {
            "gridcolor": "white",
            "linecolor": "white",
            "ticks": ""
           }
          },
          "title": {
           "x": 0.05
          },
          "xaxis": {
           "automargin": true,
           "gridcolor": "white",
           "linecolor": "white",
           "ticks": "",
           "title": {
            "standoff": 15
           },
           "zerolinecolor": "white",
           "zerolinewidth": 2
          },
          "yaxis": {
           "automargin": true,
           "gridcolor": "white",
           "linecolor": "white",
           "ticks": "",
           "title": {
            "standoff": 15
           },
           "zerolinecolor": "white",
           "zerolinewidth": 2
          }
         }
        },
        "title": {
         "text": "PREDICTIONS - BTC-USD"
        },
        "xaxis": {
         "anchor": "y",
         "domain": [
          0,
          1
         ],
         "title": {
          "text": "index"
         }
        },
        "yaxis": {
         "anchor": "x",
         "domain": [
          0,
          1
         ],
         "title": {
          "text": "value"
         }
        }
       }
      },
      "text/html": [
       "<div>                            <div id=\"670c384f-4e67-45fb-b676-0133b18e0a7a\" class=\"plotly-graph-div\" style=\"height:525px; width:100%;\"></div>            <script type=\"text/javascript\">                require([\"plotly\"], function(Plotly) {                    window.PLOTLYENV=window.PLOTLYENV || {};                                    if (document.getElementById(\"670c384f-4e67-45fb-b676-0133b18e0a7a\")) {                    Plotly.newPlot(                        \"670c384f-4e67-45fb-b676-0133b18e0a7a\",                        [{\"hovertemplate\":\"variable=Actual close<br>index=%{x}<br>value=%{y}<extra></extra>\",\"legendgroup\":\"Actual close\",\"line\":{\"color\":\"#636efa\",\"dash\":\"solid\"},\"marker\":{\"symbol\":\"circle\"},\"mode\":\"markers+lines\",\"name\":\"Actual close\",\"orientation\":\"v\",\"showlegend\":true,\"x\":[\"day 1\",\"day 2\",\"day 3\",\"day 4\",\"day 5\"],\"xaxis\":\"x\",\"y\":[26334.818359375,26476.20703125,26719.291015625,26868.353515625,27265.568359375],\"yaxis\":\"y\",\"type\":\"scatter\"},{\"hovertemplate\":\"variable=LR close<br>index=%{x}<br>value=%{y}<extra></extra>\",\"legendgroup\":\"LR close\",\"line\":{\"color\":\"#EF553B\",\"dash\":\"solid\"},\"marker\":{\"symbol\":\"circle\"},\"mode\":\"markers+lines\",\"name\":\"LR close\",\"orientation\":\"v\",\"showlegend\":true,\"x\":[\"day 1\",\"day 2\",\"day 3\",\"day 4\",\"day 5\"],\"xaxis\":\"x\",\"y\":[27154.92264176646,26273.590666033524,26383.680551125814,26605.728377004656,26747.4531766854],\"yaxis\":\"y\",\"type\":\"scatter\"},{\"hovertemplate\":\"variable=XGB close<br>index=%{x}<br>value=%{y}<extra></extra>\",\"legendgroup\":\"XGB close\",\"line\":{\"color\":\"#00cc96\",\"dash\":\"solid\"},\"marker\":{\"symbol\":\"circle\"},\"mode\":\"markers+lines\",\"name\":\"XGB close\",\"orientation\":\"v\",\"showlegend\":true,\"x\":[\"day 1\",\"day 2\",\"day 3\",\"day 4\",\"day 5\"],\"xaxis\":\"x\",\"y\":[27242.451171875,25896.03515625,25896.03515625,25896.03515625,27162.3046875],\"yaxis\":\"y\",\"type\":\"scatter\"},{\"hovertemplate\":\"variable=PROPHET close<br>index=%{x}<br>value=%{y}<extra></extra>\",\"legendgroup\":\"PROPHET close\",\"line\":{\"color\":\"#ab63fa\",\"dash\":\"solid\"},\"marker\":{\"symbol\":\"circle\"},\"mode\":\"markers+lines\",\"name\":\"PROPHET close\",\"orientation\":\"v\",\"showlegend\":true,\"x\":[\"day 1\",\"day 2\",\"day 3\",\"day 4\",\"day 5\"],\"xaxis\":\"x\",\"y\":[27200.01996063062,26221.826992871498,26448.45920566382,26668.245781297635,26797.60289369722],\"yaxis\":\"y\",\"type\":\"scatter\"},{\"hovertemplate\":\"variable=MINIROCKET close<br>index=%{x}<br>value=%{y}<extra></extra>\",\"legendgroup\":\"MINIROCKET close\",\"line\":{\"color\":\"#FFA15A\",\"dash\":\"solid\"},\"marker\":{\"symbol\":\"circle\"},\"mode\":\"markers+lines\",\"name\":\"MINIROCKET close\",\"orientation\":\"v\",\"showlegend\":true,\"x\":[\"day 1\",\"day 2\",\"day 3\",\"day 4\",\"day 5\"],\"xaxis\":\"x\",\"y\":[27788.967269681783,27242.971537498506,27079.86543610685,27355.51661892089,27561.60694528094],\"yaxis\":\"y\",\"type\":\"scatter\"}],                        {\"template\":{\"data\":{\"histogram2dcontour\":[{\"type\":\"histogram2dcontour\",\"colorbar\":{\"outlinewidth\":0,\"ticks\":\"\"},\"colorscale\":[[0.0,\"#0d0887\"],[0.1111111111111111,\"#46039f\"],[0.2222222222222222,\"#7201a8\"],[0.3333333333333333,\"#9c179e\"],[0.4444444444444444,\"#bd3786\"],[0.5555555555555556,\"#d8576b\"],[0.6666666666666666,\"#ed7953\"],[0.7777777777777778,\"#fb9f3a\"],[0.8888888888888888,\"#fdca26\"],[1.0,\"#f0f921\"]]}],\"choropleth\":[{\"type\":\"choropleth\",\"colorbar\":{\"outlinewidth\":0,\"ticks\":\"\"}}],\"histogram2d\":[{\"type\":\"histogram2d\",\"colorbar\":{\"outlinewidth\":0,\"ticks\":\"\"},\"colorscale\":[[0.0,\"#0d0887\"],[0.1111111111111111,\"#46039f\"],[0.2222222222222222,\"#7201a8\"],[0.3333333333333333,\"#9c179e\"],[0.4444444444444444,\"#bd3786\"],[0.5555555555555556,\"#d8576b\"],[0.6666666666666666,\"#ed7953\"],[0.7777777777777778,\"#fb9f3a\"],[0.8888888888888888,\"#fdca26\"],[1.0,\"#f0f921\"]]}],\"heatmap\":[{\"type\":\"heatmap\",\"colorbar\":{\"outlinewidth\":0,\"ticks\":\"\"},\"colorscale\":[[0.0,\"#0d0887\"],[0.1111111111111111,\"#46039f\"],[0.2222222222222222,\"#7201a8\"],[0.3333333333333333,\"#9c179e\"],[0.4444444444444444,\"#bd3786\"],[0.5555555555555556,\"#d8576b\"],[0.6666666666666666,\"#ed7953\"],[0.7777777777777778,\"#fb9f3a\"],[0.8888888888888888,\"#fdca26\"],[1.0,\"#f0f921\"]]}],\"heatmapgl\":[{\"type\":\"heatmapgl\",\"colorbar\":{\"outlinewidth\":0,\"ticks\":\"\"},\"colorscale\":[[0.0,\"#0d0887\"],[0.1111111111111111,\"#46039f\"],[0.2222222222222222,\"#7201a8\"],[0.3333333333333333,\"#9c179e\"],[0.4444444444444444,\"#bd3786\"],[0.5555555555555556,\"#d8576b\"],[0.6666666666666666,\"#ed7953\"],[0.7777777777777778,\"#fb9f3a\"],[0.8888888888888888,\"#fdca26\"],[1.0,\"#f0f921\"]]}],\"contourcarpet\":[{\"type\":\"contourcarpet\",\"colorbar\":{\"outlinewidth\":0,\"ticks\":\"\"}}],\"contour\":[{\"type\":\"contour\",\"colorbar\":{\"outlinewidth\":0,\"ticks\":\"\"},\"colorscale\":[[0.0,\"#0d0887\"],[0.1111111111111111,\"#46039f\"],[0.2222222222222222,\"#7201a8\"],[0.3333333333333333,\"#9c179e\"],[0.4444444444444444,\"#bd3786\"],[0.5555555555555556,\"#d8576b\"],[0.6666666666666666,\"#ed7953\"],[0.7777777777777778,\"#fb9f3a\"],[0.8888888888888888,\"#fdca26\"],[1.0,\"#f0f921\"]]}],\"surface\":[{\"type\":\"surface\",\"colorbar\":{\"outlinewidth\":0,\"ticks\":\"\"},\"colorscale\":[[0.0,\"#0d0887\"],[0.1111111111111111,\"#46039f\"],[0.2222222222222222,\"#7201a8\"],[0.3333333333333333,\"#9c179e\"],[0.4444444444444444,\"#bd3786\"],[0.5555555555555556,\"#d8576b\"],[0.6666666666666666,\"#ed7953\"],[0.7777777777777778,\"#fb9f3a\"],[0.8888888888888888,\"#fdca26\"],[1.0,\"#f0f921\"]]}],\"mesh3d\":[{\"type\":\"mesh3d\",\"colorbar\":{\"outlinewidth\":0,\"ticks\":\"\"}}],\"scatter\":[{\"fillpattern\":{\"fillmode\":\"overlay\",\"size\":10,\"solidity\":0.2},\"type\":\"scatter\"}],\"parcoords\":[{\"type\":\"parcoords\",\"line\":{\"colorbar\":{\"outlinewidth\":0,\"ticks\":\"\"}}}],\"scatterpolargl\":[{\"type\":\"scatterpolargl\",\"marker\":{\"colorbar\":{\"outlinewidth\":0,\"ticks\":\"\"}}}],\"bar\":[{\"error_x\":{\"color\":\"#2a3f5f\"},\"error_y\":{\"color\":\"#2a3f5f\"},\"marker\":{\"line\":{\"color\":\"#E5ECF6\",\"width\":0.5},\"pattern\":{\"fillmode\":\"overlay\",\"size\":10,\"solidity\":0.2}},\"type\":\"bar\"}],\"scattergeo\":[{\"type\":\"scattergeo\",\"marker\":{\"colorbar\":{\"outlinewidth\":0,\"ticks\":\"\"}}}],\"scatterpolar\":[{\"type\":\"scatterpolar\",\"marker\":{\"colorbar\":{\"outlinewidth\":0,\"ticks\":\"\"}}}],\"histogram\":[{\"marker\":{\"pattern\":{\"fillmode\":\"overlay\",\"size\":10,\"solidity\":0.2}},\"type\":\"histogram\"}],\"scattergl\":[{\"type\":\"scattergl\",\"marker\":{\"colorbar\":{\"outlinewidth\":0,\"ticks\":\"\"}}}],\"scatter3d\":[{\"type\":\"scatter3d\",\"line\":{\"colorbar\":{\"outlinewidth\":0,\"ticks\":\"\"}},\"marker\":{\"colorbar\":{\"outlinewidth\":0,\"ticks\":\"\"}}}],\"scattermapbox\":[{\"type\":\"scattermapbox\",\"marker\":{\"colorbar\":{\"outlinewidth\":0,\"ticks\":\"\"}}}],\"scatterternary\":[{\"type\":\"scatterternary\",\"marker\":{\"colorbar\":{\"outlinewidth\":0,\"ticks\":\"\"}}}],\"scattercarpet\":[{\"type\":\"scattercarpet\",\"marker\":{\"colorbar\":{\"outlinewidth\":0,\"ticks\":\"\"}}}],\"carpet\":[{\"aaxis\":{\"endlinecolor\":\"#2a3f5f\",\"gridcolor\":\"white\",\"linecolor\":\"white\",\"minorgridcolor\":\"white\",\"startlinecolor\":\"#2a3f5f\"},\"baxis\":{\"endlinecolor\":\"#2a3f5f\",\"gridcolor\":\"white\",\"linecolor\":\"white\",\"minorgridcolor\":\"white\",\"startlinecolor\":\"#2a3f5f\"},\"type\":\"carpet\"}],\"table\":[{\"cells\":{\"fill\":{\"color\":\"#EBF0F8\"},\"line\":{\"color\":\"white\"}},\"header\":{\"fill\":{\"color\":\"#C8D4E3\"},\"line\":{\"color\":\"white\"}},\"type\":\"table\"}],\"barpolar\":[{\"marker\":{\"line\":{\"color\":\"#E5ECF6\",\"width\":0.5},\"pattern\":{\"fillmode\":\"overlay\",\"size\":10,\"solidity\":0.2}},\"type\":\"barpolar\"}],\"pie\":[{\"automargin\":true,\"type\":\"pie\"}]},\"layout\":{\"autotypenumbers\":\"strict\",\"colorway\":[\"#636efa\",\"#EF553B\",\"#00cc96\",\"#ab63fa\",\"#FFA15A\",\"#19d3f3\",\"#FF6692\",\"#B6E880\",\"#FF97FF\",\"#FECB52\"],\"font\":{\"color\":\"#2a3f5f\"},\"hovermode\":\"closest\",\"hoverlabel\":{\"align\":\"left\"},\"paper_bgcolor\":\"white\",\"plot_bgcolor\":\"#E5ECF6\",\"polar\":{\"bgcolor\":\"#E5ECF6\",\"angularaxis\":{\"gridcolor\":\"white\",\"linecolor\":\"white\",\"ticks\":\"\"},\"radialaxis\":{\"gridcolor\":\"white\",\"linecolor\":\"white\",\"ticks\":\"\"}},\"ternary\":{\"bgcolor\":\"#E5ECF6\",\"aaxis\":{\"gridcolor\":\"white\",\"linecolor\":\"white\",\"ticks\":\"\"},\"baxis\":{\"gridcolor\":\"white\",\"linecolor\":\"white\",\"ticks\":\"\"},\"caxis\":{\"gridcolor\":\"white\",\"linecolor\":\"white\",\"ticks\":\"\"}},\"coloraxis\":{\"colorbar\":{\"outlinewidth\":0,\"ticks\":\"\"}},\"colorscale\":{\"sequential\":[[0.0,\"#0d0887\"],[0.1111111111111111,\"#46039f\"],[0.2222222222222222,\"#7201a8\"],[0.3333333333333333,\"#9c179e\"],[0.4444444444444444,\"#bd3786\"],[0.5555555555555556,\"#d8576b\"],[0.6666666666666666,\"#ed7953\"],[0.7777777777777778,\"#fb9f3a\"],[0.8888888888888888,\"#fdca26\"],[1.0,\"#f0f921\"]],\"sequentialminus\":[[0.0,\"#0d0887\"],[0.1111111111111111,\"#46039f\"],[0.2222222222222222,\"#7201a8\"],[0.3333333333333333,\"#9c179e\"],[0.4444444444444444,\"#bd3786\"],[0.5555555555555556,\"#d8576b\"],[0.6666666666666666,\"#ed7953\"],[0.7777777777777778,\"#fb9f3a\"],[0.8888888888888888,\"#fdca26\"],[1.0,\"#f0f921\"]],\"diverging\":[[0,\"#8e0152\"],[0.1,\"#c51b7d\"],[0.2,\"#de77ae\"],[0.3,\"#f1b6da\"],[0.4,\"#fde0ef\"],[0.5,\"#f7f7f7\"],[0.6,\"#e6f5d0\"],[0.7,\"#b8e186\"],[0.8,\"#7fbc41\"],[0.9,\"#4d9221\"],[1,\"#276419\"]]},\"xaxis\":{\"gridcolor\":\"white\",\"linecolor\":\"white\",\"ticks\":\"\",\"title\":{\"standoff\":15},\"zerolinecolor\":\"white\",\"automargin\":true,\"zerolinewidth\":2},\"yaxis\":{\"gridcolor\":\"white\",\"linecolor\":\"white\",\"ticks\":\"\",\"title\":{\"standoff\":15},\"zerolinecolor\":\"white\",\"automargin\":true,\"zerolinewidth\":2},\"scene\":{\"xaxis\":{\"backgroundcolor\":\"#E5ECF6\",\"gridcolor\":\"white\",\"linecolor\":\"white\",\"showbackground\":true,\"ticks\":\"\",\"zerolinecolor\":\"white\",\"gridwidth\":2},\"yaxis\":{\"backgroundcolor\":\"#E5ECF6\",\"gridcolor\":\"white\",\"linecolor\":\"white\",\"showbackground\":true,\"ticks\":\"\",\"zerolinecolor\":\"white\",\"gridwidth\":2},\"zaxis\":{\"backgroundcolor\":\"#E5ECF6\",\"gridcolor\":\"white\",\"linecolor\":\"white\",\"showbackground\":true,\"ticks\":\"\",\"zerolinecolor\":\"white\",\"gridwidth\":2}},\"shapedefaults\":{\"line\":{\"color\":\"#2a3f5f\"}},\"annotationdefaults\":{\"arrowcolor\":\"#2a3f5f\",\"arrowhead\":0,\"arrowwidth\":1},\"geo\":{\"bgcolor\":\"white\",\"landcolor\":\"#E5ECF6\",\"subunitcolor\":\"white\",\"showland\":true,\"showlakes\":true,\"lakecolor\":\"white\"},\"title\":{\"x\":0.05},\"mapbox\":{\"style\":\"light\"}}},\"xaxis\":{\"anchor\":\"y\",\"domain\":[0.0,1.0],\"title\":{\"text\":\"index\"}},\"yaxis\":{\"anchor\":\"x\",\"domain\":[0.0,1.0],\"title\":{\"text\":\"value\"}},\"legend\":{\"title\":{\"text\":\"variable\"},\"tracegroupgap\":0},\"title\":{\"text\":\"PREDICTIONS - BTC-USD\"}},                        {\"responsive\": true}                    ).then(function(){\n",
       "                            \n",
       "var gd = document.getElementById('670c384f-4e67-45fb-b676-0133b18e0a7a');\n",
       "var x = new MutationObserver(function (mutations, observer) {{\n",
       "        var display = window.getComputedStyle(gd).display;\n",
       "        if (!display || display === 'none') {{\n",
       "            console.log([gd, 'removed!']);\n",
       "            Plotly.purge(gd);\n",
       "            observer.disconnect();\n",
       "        }}\n",
       "}});\n",
       "\n",
       "// Listen for the removal of the full notebook cells\n",
       "var notebookContainer = gd.closest('#notebook-container');\n",
       "if (notebookContainer) {{\n",
       "    x.observe(notebookContainer, {childList: true});\n",
       "}}\n",
       "\n",
       "// Listen for the clearing of the current output cell\n",
       "var outputEl = gd.closest('.output');\n",
       "if (outputEl) {{\n",
       "    x.observe(outputEl, {childList: true});\n",
       "}}\n",
       "\n",
       "                        })                };                });            </script>        </div>"
      ]
     },
     "metadata": {},
     "output_type": "display_data"
    },
    {
     "ename": "KeyError",
     "evalue": "\"None of [Index(['Actual close', 'LR close', 'XGB close', 'PROPHET close',\\n       'MINIROCKET close'],\\n      dtype='object')] are in the [columns]\"",
     "output_type": "error",
     "traceback": [
      "\u001b[0;31m---------------------------------------------------------------------------\u001b[0m",
      "\u001b[0;31mKeyError\u001b[0m                                  Traceback (most recent call last)",
      "\u001b[0;32m/var/folders/w_/yr5m04f94gn2rz2sp6071jpc0000gn/T/ipykernel_66829/1234366976.py\u001b[0m in \u001b[0;36m<module>\u001b[0;34m\u001b[0m\n\u001b[0;32m----> 1\u001b[0;31m \u001b[0mpredicted_df\u001b[0m\u001b[0;34m,\u001b[0m \u001b[0mmetrics_df\u001b[0m \u001b[0;34m=\u001b[0m \u001b[0mrun_models_for_stock\u001b[0m\u001b[0;34m(\u001b[0m\u001b[0;34m'BTC-USD'\u001b[0m\u001b[0;34m,\u001b[0m\u001b[0mis_crypto\u001b[0m\u001b[0;34m=\u001b[0m\u001b[0;32mTrue\u001b[0m\u001b[0;34m)\u001b[0m\u001b[0;34m\u001b[0m\u001b[0;34m\u001b[0m\u001b[0m\n\u001b[0m",
      "\u001b[0;32m/var/folders/w_/yr5m04f94gn2rz2sp6071jpc0000gn/T/ipykernel_66829/3359909724.py\u001b[0m in \u001b[0;36mrun_models_for_stock\u001b[0;34m(stock_name, is_index, is_crypto)\u001b[0m\n\u001b[1;32m     51\u001b[0m \u001b[0;34m\u001b[0m\u001b[0m\n\u001b[1;32m     52\u001b[0m     \u001b[0mplot_predictions\u001b[0m\u001b[0;34m(\u001b[0m\u001b[0mfinal_df\u001b[0m\u001b[0;34m,\u001b[0m \u001b[0mstock_name\u001b[0m\u001b[0;34m,\u001b[0m \u001b[0mfinal_metrics\u001b[0m\u001b[0;34m,\u001b[0m \u001b[0mMODEL_COLUMNS_TO_PLOT\u001b[0m\u001b[0;34m)\u001b[0m\u001b[0;34m\u001b[0m\u001b[0;34m\u001b[0m\u001b[0m\n\u001b[0;32m---> 53\u001b[0;31m     \u001b[0mplot_metric_bar\u001b[0m\u001b[0;34m(\u001b[0m\u001b[0mfinal_metrics\u001b[0m\u001b[0;34m[\u001b[0m\u001b[0mMODEL_COLUMNS_TO_PLOT\u001b[0m\u001b[0;34m]\u001b[0m\u001b[0;34m,\u001b[0m\u001b[0;34m'RMSE'\u001b[0m\u001b[0;34m)\u001b[0m\u001b[0;34m\u001b[0m\u001b[0;34m\u001b[0m\u001b[0m\n\u001b[0m\u001b[1;32m     54\u001b[0m     \u001b[0mdisplay\u001b[0m\u001b[0;34m(\u001b[0m\u001b[0mfinal_metrics\u001b[0m\u001b[0;34m.\u001b[0m\u001b[0mround\u001b[0m\u001b[0;34m(\u001b[0m\u001b[0;36m3\u001b[0m\u001b[0;34m)\u001b[0m\u001b[0;34m)\u001b[0m\u001b[0;34m\u001b[0m\u001b[0;34m\u001b[0m\u001b[0m\n\u001b[1;32m     55\u001b[0m     \u001b[0mdisplay\u001b[0m\u001b[0;34m(\u001b[0m\u001b[0mfinal_df\u001b[0m\u001b[0;34m)\u001b[0m\u001b[0;34m\u001b[0m\u001b[0;34m\u001b[0m\u001b[0m\n",
      "\u001b[0;32m~/miniforge3/envs/tradingtf/lib/python3.8/site-packages/pandas/core/frame.py\u001b[0m in \u001b[0;36m__getitem__\u001b[0;34m(self, key)\u001b[0m\n\u001b[1;32m   3462\u001b[0m             \u001b[0;32mif\u001b[0m \u001b[0mis_iterator\u001b[0m\u001b[0;34m(\u001b[0m\u001b[0mkey\u001b[0m\u001b[0;34m)\u001b[0m\u001b[0;34m:\u001b[0m\u001b[0;34m\u001b[0m\u001b[0;34m\u001b[0m\u001b[0m\n\u001b[1;32m   3463\u001b[0m                 \u001b[0mkey\u001b[0m \u001b[0;34m=\u001b[0m \u001b[0mlist\u001b[0m\u001b[0;34m(\u001b[0m\u001b[0mkey\u001b[0m\u001b[0;34m)\u001b[0m\u001b[0;34m\u001b[0m\u001b[0;34m\u001b[0m\u001b[0m\n\u001b[0;32m-> 3464\u001b[0;31m             \u001b[0mindexer\u001b[0m \u001b[0;34m=\u001b[0m \u001b[0mself\u001b[0m\u001b[0;34m.\u001b[0m\u001b[0mloc\u001b[0m\u001b[0;34m.\u001b[0m\u001b[0m_get_listlike_indexer\u001b[0m\u001b[0;34m(\u001b[0m\u001b[0mkey\u001b[0m\u001b[0;34m,\u001b[0m \u001b[0maxis\u001b[0m\u001b[0;34m=\u001b[0m\u001b[0;36m1\u001b[0m\u001b[0;34m)\u001b[0m\u001b[0;34m[\u001b[0m\u001b[0;36m1\u001b[0m\u001b[0;34m]\u001b[0m\u001b[0;34m\u001b[0m\u001b[0;34m\u001b[0m\u001b[0m\n\u001b[0m\u001b[1;32m   3465\u001b[0m \u001b[0;34m\u001b[0m\u001b[0m\n\u001b[1;32m   3466\u001b[0m         \u001b[0;31m# take() does not accept boolean indexers\u001b[0m\u001b[0;34m\u001b[0m\u001b[0;34m\u001b[0m\u001b[0;34m\u001b[0m\u001b[0m\n",
      "\u001b[0;32m~/miniforge3/envs/tradingtf/lib/python3.8/site-packages/pandas/core/indexing.py\u001b[0m in \u001b[0;36m_get_listlike_indexer\u001b[0;34m(self, key, axis)\u001b[0m\n\u001b[1;32m   1312\u001b[0m             \u001b[0mkeyarr\u001b[0m\u001b[0;34m,\u001b[0m \u001b[0mindexer\u001b[0m\u001b[0;34m,\u001b[0m \u001b[0mnew_indexer\u001b[0m \u001b[0;34m=\u001b[0m \u001b[0max\u001b[0m\u001b[0;34m.\u001b[0m\u001b[0m_reindex_non_unique\u001b[0m\u001b[0;34m(\u001b[0m\u001b[0mkeyarr\u001b[0m\u001b[0;34m)\u001b[0m\u001b[0;34m\u001b[0m\u001b[0;34m\u001b[0m\u001b[0m\n\u001b[1;32m   1313\u001b[0m \u001b[0;34m\u001b[0m\u001b[0m\n\u001b[0;32m-> 1314\u001b[0;31m         \u001b[0mself\u001b[0m\u001b[0;34m.\u001b[0m\u001b[0m_validate_read_indexer\u001b[0m\u001b[0;34m(\u001b[0m\u001b[0mkeyarr\u001b[0m\u001b[0;34m,\u001b[0m \u001b[0mindexer\u001b[0m\u001b[0;34m,\u001b[0m \u001b[0maxis\u001b[0m\u001b[0;34m)\u001b[0m\u001b[0;34m\u001b[0m\u001b[0;34m\u001b[0m\u001b[0m\n\u001b[0m\u001b[1;32m   1315\u001b[0m \u001b[0;34m\u001b[0m\u001b[0m\n\u001b[1;32m   1316\u001b[0m         if needs_i8_conversion(ax.dtype) or isinstance(\n",
      "\u001b[0;32m~/miniforge3/envs/tradingtf/lib/python3.8/site-packages/pandas/core/indexing.py\u001b[0m in \u001b[0;36m_validate_read_indexer\u001b[0;34m(self, key, indexer, axis)\u001b[0m\n\u001b[1;32m   1372\u001b[0m                 \u001b[0;32mif\u001b[0m \u001b[0muse_interval_msg\u001b[0m\u001b[0;34m:\u001b[0m\u001b[0;34m\u001b[0m\u001b[0;34m\u001b[0m\u001b[0m\n\u001b[1;32m   1373\u001b[0m                     \u001b[0mkey\u001b[0m \u001b[0;34m=\u001b[0m \u001b[0mlist\u001b[0m\u001b[0;34m(\u001b[0m\u001b[0mkey\u001b[0m\u001b[0;34m)\u001b[0m\u001b[0;34m\u001b[0m\u001b[0;34m\u001b[0m\u001b[0m\n\u001b[0;32m-> 1374\u001b[0;31m                 \u001b[0;32mraise\u001b[0m \u001b[0mKeyError\u001b[0m\u001b[0;34m(\u001b[0m\u001b[0;34mf\"None of [{key}] are in the [{axis_name}]\"\u001b[0m\u001b[0;34m)\u001b[0m\u001b[0;34m\u001b[0m\u001b[0;34m\u001b[0m\u001b[0m\n\u001b[0m\u001b[1;32m   1375\u001b[0m \u001b[0;34m\u001b[0m\u001b[0m\n\u001b[1;32m   1376\u001b[0m             \u001b[0mnot_found\u001b[0m \u001b[0;34m=\u001b[0m \u001b[0mlist\u001b[0m\u001b[0;34m(\u001b[0m\u001b[0mensure_index\u001b[0m\u001b[0;34m(\u001b[0m\u001b[0mkey\u001b[0m\u001b[0;34m)\u001b[0m\u001b[0;34m[\u001b[0m\u001b[0mmissing_mask\u001b[0m\u001b[0;34m.\u001b[0m\u001b[0mnonzero\u001b[0m\u001b[0;34m(\u001b[0m\u001b[0;34m)\u001b[0m\u001b[0;34m[\u001b[0m\u001b[0;36m0\u001b[0m\u001b[0;34m]\u001b[0m\u001b[0;34m]\u001b[0m\u001b[0;34m.\u001b[0m\u001b[0munique\u001b[0m\u001b[0;34m(\u001b[0m\u001b[0;34m)\u001b[0m\u001b[0;34m)\u001b[0m\u001b[0;34m\u001b[0m\u001b[0;34m\u001b[0m\u001b[0m\n",
      "\u001b[0;31mKeyError\u001b[0m: \"None of [Index(['Actual close', 'LR close', 'XGB close', 'PROPHET close',\\n       'MINIROCKET close'],\\n      dtype='object')] are in the [columns]\""
     ]
    }
   ],
   "source": [
    "predicted_df, metrics_df = run_models_for_stock('BTC-USD',is_crypto=True)"
   ]
  },
  {
   "cell_type": "code",
   "execution_count": 1089,
   "id": "856c3ba4",
   "metadata": {
    "scrolled": false
   },
   "outputs": [
    {
     "name": "stdout",
     "output_type": "stream",
     "text": [
      "Columns to plot:['Actual close', 'LR close', 'GB close', 'XGB close', 'PROPHET close', 'MINIROCKET close']\n"
     ]
    },
    {
     "data": {
      "application/vnd.plotly.v1+json": {
       "config": {
        "plotlyServerURL": "https://plot.ly"
       },
       "data": [
        {
         "hovertemplate": "variable=Actual close<br>index=%{x}<br>value=%{y}<extra></extra>",
         "legendgroup": "Actual close",
         "line": {
          "color": "#636efa",
          "dash": "solid"
         },
         "marker": {
          "symbol": "circle"
         },
         "mode": "markers+lines",
         "name": "Actual close",
         "orientation": "v",
         "showlegend": true,
         "type": "scatter",
         "x": [
          "day 1",
          "day 2",
          "day 3",
          "day 4",
          "day 5"
         ],
         "xaxis": "x",
         "y": [
          26334.818359375,
          26476.20703125,
          26719.291015625,
          26868.353515625,
          27247.373046875
         ],
         "yaxis": "y"
        },
        {
         "hovertemplate": "variable=LR close<br>index=%{x}<br>value=%{y}<extra></extra>",
         "legendgroup": "LR close",
         "line": {
          "color": "#EF553B",
          "dash": "solid"
         },
         "marker": {
          "symbol": "circle"
         },
         "mode": "markers+lines",
         "name": "LR close",
         "orientation": "v",
         "showlegend": true,
         "type": "scatter",
         "x": [
          "day 1",
          "day 2",
          "day 3",
          "day 4",
          "day 5"
         ],
         "xaxis": "x",
         "y": [
          27154.92264176646,
          26273.590666033524,
          26383.680551125814,
          26605.728377004656,
          26747.4531766854
         ],
         "yaxis": "y"
        },
        {
         "hovertemplate": "variable=GB close<br>index=%{x}<br>value=%{y}<extra></extra>",
         "legendgroup": "GB close",
         "line": {
          "color": "#00cc96",
          "dash": "solid"
         },
         "marker": {
          "symbol": "circle"
         },
         "mode": "markers+lines",
         "name": "GB close",
         "orientation": "v",
         "showlegend": true,
         "type": "scatter",
         "x": [
          "day 1",
          "day 2",
          "day 3",
          "day 4",
          "day 5"
         ],
         "xaxis": "x",
         "y": [
          27381.451037383817,
          27135.142446144237,
          27340.718157456336,
          27340.718157456336,
          27273.621420686304
         ],
         "yaxis": "y"
        },
        {
         "hovertemplate": "variable=XGB close<br>index=%{x}<br>value=%{y}<extra></extra>",
         "legendgroup": "XGB close",
         "line": {
          "color": "#ab63fa",
          "dash": "solid"
         },
         "marker": {
          "symbol": "circle"
         },
         "mode": "markers+lines",
         "name": "XGB close",
         "orientation": "v",
         "showlegend": true,
         "type": "scatter",
         "x": [
          "day 1",
          "day 2",
          "day 3",
          "day 4",
          "day 5"
         ],
         "xaxis": "x",
         "y": [
          26949.88671875,
          25774.2890625,
          25774.2890625,
          25774.2890625,
          26949.88671875
         ],
         "yaxis": "y"
        },
        {
         "hovertemplate": "variable=PROPHET close<br>index=%{x}<br>value=%{y}<extra></extra>",
         "legendgroup": "PROPHET close",
         "line": {
          "color": "#FFA15A",
          "dash": "solid"
         },
         "marker": {
          "symbol": "circle"
         },
         "mode": "markers+lines",
         "name": "PROPHET close",
         "orientation": "v",
         "showlegend": true,
         "type": "scatter",
         "x": [
          "day 1",
          "day 2",
          "day 3",
          "day 4",
          "day 5"
         ],
         "xaxis": "x",
         "y": [
          27200.01996063062,
          26221.826992871498,
          26448.45920566382,
          26668.245781297635,
          26797.60289369722
         ],
         "yaxis": "y"
        },
        {
         "hovertemplate": "variable=MINIROCKET close<br>index=%{x}<br>value=%{y}<extra></extra>",
         "legendgroup": "MINIROCKET close",
         "line": {
          "color": "#19d3f3",
          "dash": "solid"
         },
         "marker": {
          "symbol": "circle"
         },
         "mode": "markers+lines",
         "name": "MINIROCKET close",
         "orientation": "v",
         "showlegend": true,
         "type": "scatter",
         "x": [
          "day 1",
          "day 2",
          "day 3",
          "day 4",
          "day 5"
         ],
         "xaxis": "x",
         "y": [
          27724.298007384932,
          27178.962811095866,
          27030.59112996574,
          27284.25720329301,
          27507.474397580612
         ],
         "yaxis": "y"
        }
       ],
       "layout": {
        "legend": {
         "title": {
          "text": "variable"
         },
         "tracegroupgap": 0
        },
        "template": {
         "data": {
          "bar": [
           {
            "error_x": {
             "color": "#2a3f5f"
            },
            "error_y": {
             "color": "#2a3f5f"
            },
            "marker": {
             "line": {
              "color": "#E5ECF6",
              "width": 0.5
             },
             "pattern": {
              "fillmode": "overlay",
              "size": 10,
              "solidity": 0.2
             }
            },
            "type": "bar"
           }
          ],
          "barpolar": [
           {
            "marker": {
             "line": {
              "color": "#E5ECF6",
              "width": 0.5
             },
             "pattern": {
              "fillmode": "overlay",
              "size": 10,
              "solidity": 0.2
             }
            },
            "type": "barpolar"
           }
          ],
          "carpet": [
           {
            "aaxis": {
             "endlinecolor": "#2a3f5f",
             "gridcolor": "white",
             "linecolor": "white",
             "minorgridcolor": "white",
             "startlinecolor": "#2a3f5f"
            },
            "baxis": {
             "endlinecolor": "#2a3f5f",
             "gridcolor": "white",
             "linecolor": "white",
             "minorgridcolor": "white",
             "startlinecolor": "#2a3f5f"
            },
            "type": "carpet"
           }
          ],
          "choropleth": [
           {
            "colorbar": {
             "outlinewidth": 0,
             "ticks": ""
            },
            "type": "choropleth"
           }
          ],
          "contour": [
           {
            "colorbar": {
             "outlinewidth": 0,
             "ticks": ""
            },
            "colorscale": [
             [
              0,
              "#0d0887"
             ],
             [
              0.1111111111111111,
              "#46039f"
             ],
             [
              0.2222222222222222,
              "#7201a8"
             ],
             [
              0.3333333333333333,
              "#9c179e"
             ],
             [
              0.4444444444444444,
              "#bd3786"
             ],
             [
              0.5555555555555556,
              "#d8576b"
             ],
             [
              0.6666666666666666,
              "#ed7953"
             ],
             [
              0.7777777777777778,
              "#fb9f3a"
             ],
             [
              0.8888888888888888,
              "#fdca26"
             ],
             [
              1,
              "#f0f921"
             ]
            ],
            "type": "contour"
           }
          ],
          "contourcarpet": [
           {
            "colorbar": {
             "outlinewidth": 0,
             "ticks": ""
            },
            "type": "contourcarpet"
           }
          ],
          "heatmap": [
           {
            "colorbar": {
             "outlinewidth": 0,
             "ticks": ""
            },
            "colorscale": [
             [
              0,
              "#0d0887"
             ],
             [
              0.1111111111111111,
              "#46039f"
             ],
             [
              0.2222222222222222,
              "#7201a8"
             ],
             [
              0.3333333333333333,
              "#9c179e"
             ],
             [
              0.4444444444444444,
              "#bd3786"
             ],
             [
              0.5555555555555556,
              "#d8576b"
             ],
             [
              0.6666666666666666,
              "#ed7953"
             ],
             [
              0.7777777777777778,
              "#fb9f3a"
             ],
             [
              0.8888888888888888,
              "#fdca26"
             ],
             [
              1,
              "#f0f921"
             ]
            ],
            "type": "heatmap"
           }
          ],
          "heatmapgl": [
           {
            "colorbar": {
             "outlinewidth": 0,
             "ticks": ""
            },
            "colorscale": [
             [
              0,
              "#0d0887"
             ],
             [
              0.1111111111111111,
              "#46039f"
             ],
             [
              0.2222222222222222,
              "#7201a8"
             ],
             [
              0.3333333333333333,
              "#9c179e"
             ],
             [
              0.4444444444444444,
              "#bd3786"
             ],
             [
              0.5555555555555556,
              "#d8576b"
             ],
             [
              0.6666666666666666,
              "#ed7953"
             ],
             [
              0.7777777777777778,
              "#fb9f3a"
             ],
             [
              0.8888888888888888,
              "#fdca26"
             ],
             [
              1,
              "#f0f921"
             ]
            ],
            "type": "heatmapgl"
           }
          ],
          "histogram": [
           {
            "marker": {
             "pattern": {
              "fillmode": "overlay",
              "size": 10,
              "solidity": 0.2
             }
            },
            "type": "histogram"
           }
          ],
          "histogram2d": [
           {
            "colorbar": {
             "outlinewidth": 0,
             "ticks": ""
            },
            "colorscale": [
             [
              0,
              "#0d0887"
             ],
             [
              0.1111111111111111,
              "#46039f"
             ],
             [
              0.2222222222222222,
              "#7201a8"
             ],
             [
              0.3333333333333333,
              "#9c179e"
             ],
             [
              0.4444444444444444,
              "#bd3786"
             ],
             [
              0.5555555555555556,
              "#d8576b"
             ],
             [
              0.6666666666666666,
              "#ed7953"
             ],
             [
              0.7777777777777778,
              "#fb9f3a"
             ],
             [
              0.8888888888888888,
              "#fdca26"
             ],
             [
              1,
              "#f0f921"
             ]
            ],
            "type": "histogram2d"
           }
          ],
          "histogram2dcontour": [
           {
            "colorbar": {
             "outlinewidth": 0,
             "ticks": ""
            },
            "colorscale": [
             [
              0,
              "#0d0887"
             ],
             [
              0.1111111111111111,
              "#46039f"
             ],
             [
              0.2222222222222222,
              "#7201a8"
             ],
             [
              0.3333333333333333,
              "#9c179e"
             ],
             [
              0.4444444444444444,
              "#bd3786"
             ],
             [
              0.5555555555555556,
              "#d8576b"
             ],
             [
              0.6666666666666666,
              "#ed7953"
             ],
             [
              0.7777777777777778,
              "#fb9f3a"
             ],
             [
              0.8888888888888888,
              "#fdca26"
             ],
             [
              1,
              "#f0f921"
             ]
            ],
            "type": "histogram2dcontour"
           }
          ],
          "mesh3d": [
           {
            "colorbar": {
             "outlinewidth": 0,
             "ticks": ""
            },
            "type": "mesh3d"
           }
          ],
          "parcoords": [
           {
            "line": {
             "colorbar": {
              "outlinewidth": 0,
              "ticks": ""
             }
            },
            "type": "parcoords"
           }
          ],
          "pie": [
           {
            "automargin": true,
            "type": "pie"
           }
          ],
          "scatter": [
           {
            "fillpattern": {
             "fillmode": "overlay",
             "size": 10,
             "solidity": 0.2
            },
            "type": "scatter"
           }
          ],
          "scatter3d": [
           {
            "line": {
             "colorbar": {
              "outlinewidth": 0,
              "ticks": ""
             }
            },
            "marker": {
             "colorbar": {
              "outlinewidth": 0,
              "ticks": ""
             }
            },
            "type": "scatter3d"
           }
          ],
          "scattercarpet": [
           {
            "marker": {
             "colorbar": {
              "outlinewidth": 0,
              "ticks": ""
             }
            },
            "type": "scattercarpet"
           }
          ],
          "scattergeo": [
           {
            "marker": {
             "colorbar": {
              "outlinewidth": 0,
              "ticks": ""
             }
            },
            "type": "scattergeo"
           }
          ],
          "scattergl": [
           {
            "marker": {
             "colorbar": {
              "outlinewidth": 0,
              "ticks": ""
             }
            },
            "type": "scattergl"
           }
          ],
          "scattermapbox": [
           {
            "marker": {
             "colorbar": {
              "outlinewidth": 0,
              "ticks": ""
             }
            },
            "type": "scattermapbox"
           }
          ],
          "scatterpolar": [
           {
            "marker": {
             "colorbar": {
              "outlinewidth": 0,
              "ticks": ""
             }
            },
            "type": "scatterpolar"
           }
          ],
          "scatterpolargl": [
           {
            "marker": {
             "colorbar": {
              "outlinewidth": 0,
              "ticks": ""
             }
            },
            "type": "scatterpolargl"
           }
          ],
          "scatterternary": [
           {
            "marker": {
             "colorbar": {
              "outlinewidth": 0,
              "ticks": ""
             }
            },
            "type": "scatterternary"
           }
          ],
          "surface": [
           {
            "colorbar": {
             "outlinewidth": 0,
             "ticks": ""
            },
            "colorscale": [
             [
              0,
              "#0d0887"
             ],
             [
              0.1111111111111111,
              "#46039f"
             ],
             [
              0.2222222222222222,
              "#7201a8"
             ],
             [
              0.3333333333333333,
              "#9c179e"
             ],
             [
              0.4444444444444444,
              "#bd3786"
             ],
             [
              0.5555555555555556,
              "#d8576b"
             ],
             [
              0.6666666666666666,
              "#ed7953"
             ],
             [
              0.7777777777777778,
              "#fb9f3a"
             ],
             [
              0.8888888888888888,
              "#fdca26"
             ],
             [
              1,
              "#f0f921"
             ]
            ],
            "type": "surface"
           }
          ],
          "table": [
           {
            "cells": {
             "fill": {
              "color": "#EBF0F8"
             },
             "line": {
              "color": "white"
             }
            },
            "header": {
             "fill": {
              "color": "#C8D4E3"
             },
             "line": {
              "color": "white"
             }
            },
            "type": "table"
           }
          ]
         },
         "layout": {
          "annotationdefaults": {
           "arrowcolor": "#2a3f5f",
           "arrowhead": 0,
           "arrowwidth": 1
          },
          "autotypenumbers": "strict",
          "coloraxis": {
           "colorbar": {
            "outlinewidth": 0,
            "ticks": ""
           }
          },
          "colorscale": {
           "diverging": [
            [
             0,
             "#8e0152"
            ],
            [
             0.1,
             "#c51b7d"
            ],
            [
             0.2,
             "#de77ae"
            ],
            [
             0.3,
             "#f1b6da"
            ],
            [
             0.4,
             "#fde0ef"
            ],
            [
             0.5,
             "#f7f7f7"
            ],
            [
             0.6,
             "#e6f5d0"
            ],
            [
             0.7,
             "#b8e186"
            ],
            [
             0.8,
             "#7fbc41"
            ],
            [
             0.9,
             "#4d9221"
            ],
            [
             1,
             "#276419"
            ]
           ],
           "sequential": [
            [
             0,
             "#0d0887"
            ],
            [
             0.1111111111111111,
             "#46039f"
            ],
            [
             0.2222222222222222,
             "#7201a8"
            ],
            [
             0.3333333333333333,
             "#9c179e"
            ],
            [
             0.4444444444444444,
             "#bd3786"
            ],
            [
             0.5555555555555556,
             "#d8576b"
            ],
            [
             0.6666666666666666,
             "#ed7953"
            ],
            [
             0.7777777777777778,
             "#fb9f3a"
            ],
            [
             0.8888888888888888,
             "#fdca26"
            ],
            [
             1,
             "#f0f921"
            ]
           ],
           "sequentialminus": [
            [
             0,
             "#0d0887"
            ],
            [
             0.1111111111111111,
             "#46039f"
            ],
            [
             0.2222222222222222,
             "#7201a8"
            ],
            [
             0.3333333333333333,
             "#9c179e"
            ],
            [
             0.4444444444444444,
             "#bd3786"
            ],
            [
             0.5555555555555556,
             "#d8576b"
            ],
            [
             0.6666666666666666,
             "#ed7953"
            ],
            [
             0.7777777777777778,
             "#fb9f3a"
            ],
            [
             0.8888888888888888,
             "#fdca26"
            ],
            [
             1,
             "#f0f921"
            ]
           ]
          },
          "colorway": [
           "#636efa",
           "#EF553B",
           "#00cc96",
           "#ab63fa",
           "#FFA15A",
           "#19d3f3",
           "#FF6692",
           "#B6E880",
           "#FF97FF",
           "#FECB52"
          ],
          "font": {
           "color": "#2a3f5f"
          },
          "geo": {
           "bgcolor": "white",
           "lakecolor": "white",
           "landcolor": "#E5ECF6",
           "showlakes": true,
           "showland": true,
           "subunitcolor": "white"
          },
          "hoverlabel": {
           "align": "left"
          },
          "hovermode": "closest",
          "mapbox": {
           "style": "light"
          },
          "paper_bgcolor": "white",
          "plot_bgcolor": "#E5ECF6",
          "polar": {
           "angularaxis": {
            "gridcolor": "white",
            "linecolor": "white",
            "ticks": ""
           },
           "bgcolor": "#E5ECF6",
           "radialaxis": {
            "gridcolor": "white",
            "linecolor": "white",
            "ticks": ""
           }
          },
          "scene": {
           "xaxis": {
            "backgroundcolor": "#E5ECF6",
            "gridcolor": "white",
            "gridwidth": 2,
            "linecolor": "white",
            "showbackground": true,
            "ticks": "",
            "zerolinecolor": "white"
           },
           "yaxis": {
            "backgroundcolor": "#E5ECF6",
            "gridcolor": "white",
            "gridwidth": 2,
            "linecolor": "white",
            "showbackground": true,
            "ticks": "",
            "zerolinecolor": "white"
           },
           "zaxis": {
            "backgroundcolor": "#E5ECF6",
            "gridcolor": "white",
            "gridwidth": 2,
            "linecolor": "white",
            "showbackground": true,
            "ticks": "",
            "zerolinecolor": "white"
           }
          },
          "shapedefaults": {
           "line": {
            "color": "#2a3f5f"
           }
          },
          "ternary": {
           "aaxis": {
            "gridcolor": "white",
            "linecolor": "white",
            "ticks": ""
           },
           "baxis": {
            "gridcolor": "white",
            "linecolor": "white",
            "ticks": ""
           },
           "bgcolor": "#E5ECF6",
           "caxis": {
            "gridcolor": "white",
            "linecolor": "white",
            "ticks": ""
           }
          },
          "title": {
           "x": 0.05
          },
          "xaxis": {
           "automargin": true,
           "gridcolor": "white",
           "linecolor": "white",
           "ticks": "",
           "title": {
            "standoff": 15
           },
           "zerolinecolor": "white",
           "zerolinewidth": 2
          },
          "yaxis": {
           "automargin": true,
           "gridcolor": "white",
           "linecolor": "white",
           "ticks": "",
           "title": {
            "standoff": 15
           },
           "zerolinecolor": "white",
           "zerolinewidth": 2
          }
         }
        },
        "title": {
         "text": "PREDICTIONS - BTC-USD"
        },
        "xaxis": {
         "anchor": "y",
         "domain": [
          0,
          1
         ],
         "title": {
          "text": "index"
         }
        },
        "yaxis": {
         "anchor": "x",
         "domain": [
          0,
          1
         ],
         "title": {
          "text": "value"
         }
        }
       }
      },
      "text/html": [
       "<div>                            <div id=\"4c55f450-218e-4d1a-ab23-5b33395e45c5\" class=\"plotly-graph-div\" style=\"height:525px; width:100%;\"></div>            <script type=\"text/javascript\">                require([\"plotly\"], function(Plotly) {                    window.PLOTLYENV=window.PLOTLYENV || {};                                    if (document.getElementById(\"4c55f450-218e-4d1a-ab23-5b33395e45c5\")) {                    Plotly.newPlot(                        \"4c55f450-218e-4d1a-ab23-5b33395e45c5\",                        [{\"hovertemplate\":\"variable=Actual close<br>index=%{x}<br>value=%{y}<extra></extra>\",\"legendgroup\":\"Actual close\",\"line\":{\"color\":\"#636efa\",\"dash\":\"solid\"},\"marker\":{\"symbol\":\"circle\"},\"mode\":\"markers+lines\",\"name\":\"Actual close\",\"orientation\":\"v\",\"showlegend\":true,\"x\":[\"day 1\",\"day 2\",\"day 3\",\"day 4\",\"day 5\"],\"xaxis\":\"x\",\"y\":[26334.818359375,26476.20703125,26719.291015625,26868.353515625,27247.373046875],\"yaxis\":\"y\",\"type\":\"scatter\"},{\"hovertemplate\":\"variable=LR close<br>index=%{x}<br>value=%{y}<extra></extra>\",\"legendgroup\":\"LR close\",\"line\":{\"color\":\"#EF553B\",\"dash\":\"solid\"},\"marker\":{\"symbol\":\"circle\"},\"mode\":\"markers+lines\",\"name\":\"LR close\",\"orientation\":\"v\",\"showlegend\":true,\"x\":[\"day 1\",\"day 2\",\"day 3\",\"day 4\",\"day 5\"],\"xaxis\":\"x\",\"y\":[27154.92264176646,26273.590666033524,26383.680551125814,26605.728377004656,26747.4531766854],\"yaxis\":\"y\",\"type\":\"scatter\"},{\"hovertemplate\":\"variable=GB close<br>index=%{x}<br>value=%{y}<extra></extra>\",\"legendgroup\":\"GB close\",\"line\":{\"color\":\"#00cc96\",\"dash\":\"solid\"},\"marker\":{\"symbol\":\"circle\"},\"mode\":\"markers+lines\",\"name\":\"GB close\",\"orientation\":\"v\",\"showlegend\":true,\"x\":[\"day 1\",\"day 2\",\"day 3\",\"day 4\",\"day 5\"],\"xaxis\":\"x\",\"y\":[27381.451037383817,27135.142446144237,27340.718157456336,27340.718157456336,27273.621420686304],\"yaxis\":\"y\",\"type\":\"scatter\"},{\"hovertemplate\":\"variable=XGB close<br>index=%{x}<br>value=%{y}<extra></extra>\",\"legendgroup\":\"XGB close\",\"line\":{\"color\":\"#ab63fa\",\"dash\":\"solid\"},\"marker\":{\"symbol\":\"circle\"},\"mode\":\"markers+lines\",\"name\":\"XGB close\",\"orientation\":\"v\",\"showlegend\":true,\"x\":[\"day 1\",\"day 2\",\"day 3\",\"day 4\",\"day 5\"],\"xaxis\":\"x\",\"y\":[26949.88671875,25774.2890625,25774.2890625,25774.2890625,26949.88671875],\"yaxis\":\"y\",\"type\":\"scatter\"},{\"hovertemplate\":\"variable=PROPHET close<br>index=%{x}<br>value=%{y}<extra></extra>\",\"legendgroup\":\"PROPHET close\",\"line\":{\"color\":\"#FFA15A\",\"dash\":\"solid\"},\"marker\":{\"symbol\":\"circle\"},\"mode\":\"markers+lines\",\"name\":\"PROPHET close\",\"orientation\":\"v\",\"showlegend\":true,\"x\":[\"day 1\",\"day 2\",\"day 3\",\"day 4\",\"day 5\"],\"xaxis\":\"x\",\"y\":[27200.01996063062,26221.826992871498,26448.45920566382,26668.245781297635,26797.60289369722],\"yaxis\":\"y\",\"type\":\"scatter\"},{\"hovertemplate\":\"variable=MINIROCKET close<br>index=%{x}<br>value=%{y}<extra></extra>\",\"legendgroup\":\"MINIROCKET close\",\"line\":{\"color\":\"#19d3f3\",\"dash\":\"solid\"},\"marker\":{\"symbol\":\"circle\"},\"mode\":\"markers+lines\",\"name\":\"MINIROCKET close\",\"orientation\":\"v\",\"showlegend\":true,\"x\":[\"day 1\",\"day 2\",\"day 3\",\"day 4\",\"day 5\"],\"xaxis\":\"x\",\"y\":[27724.298007384932,27178.962811095866,27030.59112996574,27284.25720329301,27507.474397580612],\"yaxis\":\"y\",\"type\":\"scatter\"}],                        {\"template\":{\"data\":{\"histogram2dcontour\":[{\"type\":\"histogram2dcontour\",\"colorbar\":{\"outlinewidth\":0,\"ticks\":\"\"},\"colorscale\":[[0.0,\"#0d0887\"],[0.1111111111111111,\"#46039f\"],[0.2222222222222222,\"#7201a8\"],[0.3333333333333333,\"#9c179e\"],[0.4444444444444444,\"#bd3786\"],[0.5555555555555556,\"#d8576b\"],[0.6666666666666666,\"#ed7953\"],[0.7777777777777778,\"#fb9f3a\"],[0.8888888888888888,\"#fdca26\"],[1.0,\"#f0f921\"]]}],\"choropleth\":[{\"type\":\"choropleth\",\"colorbar\":{\"outlinewidth\":0,\"ticks\":\"\"}}],\"histogram2d\":[{\"type\":\"histogram2d\",\"colorbar\":{\"outlinewidth\":0,\"ticks\":\"\"},\"colorscale\":[[0.0,\"#0d0887\"],[0.1111111111111111,\"#46039f\"],[0.2222222222222222,\"#7201a8\"],[0.3333333333333333,\"#9c179e\"],[0.4444444444444444,\"#bd3786\"],[0.5555555555555556,\"#d8576b\"],[0.6666666666666666,\"#ed7953\"],[0.7777777777777778,\"#fb9f3a\"],[0.8888888888888888,\"#fdca26\"],[1.0,\"#f0f921\"]]}],\"heatmap\":[{\"type\":\"heatmap\",\"colorbar\":{\"outlinewidth\":0,\"ticks\":\"\"},\"colorscale\":[[0.0,\"#0d0887\"],[0.1111111111111111,\"#46039f\"],[0.2222222222222222,\"#7201a8\"],[0.3333333333333333,\"#9c179e\"],[0.4444444444444444,\"#bd3786\"],[0.5555555555555556,\"#d8576b\"],[0.6666666666666666,\"#ed7953\"],[0.7777777777777778,\"#fb9f3a\"],[0.8888888888888888,\"#fdca26\"],[1.0,\"#f0f921\"]]}],\"heatmapgl\":[{\"type\":\"heatmapgl\",\"colorbar\":{\"outlinewidth\":0,\"ticks\":\"\"},\"colorscale\":[[0.0,\"#0d0887\"],[0.1111111111111111,\"#46039f\"],[0.2222222222222222,\"#7201a8\"],[0.3333333333333333,\"#9c179e\"],[0.4444444444444444,\"#bd3786\"],[0.5555555555555556,\"#d8576b\"],[0.6666666666666666,\"#ed7953\"],[0.7777777777777778,\"#fb9f3a\"],[0.8888888888888888,\"#fdca26\"],[1.0,\"#f0f921\"]]}],\"contourcarpet\":[{\"type\":\"contourcarpet\",\"colorbar\":{\"outlinewidth\":0,\"ticks\":\"\"}}],\"contour\":[{\"type\":\"contour\",\"colorbar\":{\"outlinewidth\":0,\"ticks\":\"\"},\"colorscale\":[[0.0,\"#0d0887\"],[0.1111111111111111,\"#46039f\"],[0.2222222222222222,\"#7201a8\"],[0.3333333333333333,\"#9c179e\"],[0.4444444444444444,\"#bd3786\"],[0.5555555555555556,\"#d8576b\"],[0.6666666666666666,\"#ed7953\"],[0.7777777777777778,\"#fb9f3a\"],[0.8888888888888888,\"#fdca26\"],[1.0,\"#f0f921\"]]}],\"surface\":[{\"type\":\"surface\",\"colorbar\":{\"outlinewidth\":0,\"ticks\":\"\"},\"colorscale\":[[0.0,\"#0d0887\"],[0.1111111111111111,\"#46039f\"],[0.2222222222222222,\"#7201a8\"],[0.3333333333333333,\"#9c179e\"],[0.4444444444444444,\"#bd3786\"],[0.5555555555555556,\"#d8576b\"],[0.6666666666666666,\"#ed7953\"],[0.7777777777777778,\"#fb9f3a\"],[0.8888888888888888,\"#fdca26\"],[1.0,\"#f0f921\"]]}],\"mesh3d\":[{\"type\":\"mesh3d\",\"colorbar\":{\"outlinewidth\":0,\"ticks\":\"\"}}],\"scatter\":[{\"fillpattern\":{\"fillmode\":\"overlay\",\"size\":10,\"solidity\":0.2},\"type\":\"scatter\"}],\"parcoords\":[{\"type\":\"parcoords\",\"line\":{\"colorbar\":{\"outlinewidth\":0,\"ticks\":\"\"}}}],\"scatterpolargl\":[{\"type\":\"scatterpolargl\",\"marker\":{\"colorbar\":{\"outlinewidth\":0,\"ticks\":\"\"}}}],\"bar\":[{\"error_x\":{\"color\":\"#2a3f5f\"},\"error_y\":{\"color\":\"#2a3f5f\"},\"marker\":{\"line\":{\"color\":\"#E5ECF6\",\"width\":0.5},\"pattern\":{\"fillmode\":\"overlay\",\"size\":10,\"solidity\":0.2}},\"type\":\"bar\"}],\"scattergeo\":[{\"type\":\"scattergeo\",\"marker\":{\"colorbar\":{\"outlinewidth\":0,\"ticks\":\"\"}}}],\"scatterpolar\":[{\"type\":\"scatterpolar\",\"marker\":{\"colorbar\":{\"outlinewidth\":0,\"ticks\":\"\"}}}],\"histogram\":[{\"marker\":{\"pattern\":{\"fillmode\":\"overlay\",\"size\":10,\"solidity\":0.2}},\"type\":\"histogram\"}],\"scattergl\":[{\"type\":\"scattergl\",\"marker\":{\"colorbar\":{\"outlinewidth\":0,\"ticks\":\"\"}}}],\"scatter3d\":[{\"type\":\"scatter3d\",\"line\":{\"colorbar\":{\"outlinewidth\":0,\"ticks\":\"\"}},\"marker\":{\"colorbar\":{\"outlinewidth\":0,\"ticks\":\"\"}}}],\"scattermapbox\":[{\"type\":\"scattermapbox\",\"marker\":{\"colorbar\":{\"outlinewidth\":0,\"ticks\":\"\"}}}],\"scatterternary\":[{\"type\":\"scatterternary\",\"marker\":{\"colorbar\":{\"outlinewidth\":0,\"ticks\":\"\"}}}],\"scattercarpet\":[{\"type\":\"scattercarpet\",\"marker\":{\"colorbar\":{\"outlinewidth\":0,\"ticks\":\"\"}}}],\"carpet\":[{\"aaxis\":{\"endlinecolor\":\"#2a3f5f\",\"gridcolor\":\"white\",\"linecolor\":\"white\",\"minorgridcolor\":\"white\",\"startlinecolor\":\"#2a3f5f\"},\"baxis\":{\"endlinecolor\":\"#2a3f5f\",\"gridcolor\":\"white\",\"linecolor\":\"white\",\"minorgridcolor\":\"white\",\"startlinecolor\":\"#2a3f5f\"},\"type\":\"carpet\"}],\"table\":[{\"cells\":{\"fill\":{\"color\":\"#EBF0F8\"},\"line\":{\"color\":\"white\"}},\"header\":{\"fill\":{\"color\":\"#C8D4E3\"},\"line\":{\"color\":\"white\"}},\"type\":\"table\"}],\"barpolar\":[{\"marker\":{\"line\":{\"color\":\"#E5ECF6\",\"width\":0.5},\"pattern\":{\"fillmode\":\"overlay\",\"size\":10,\"solidity\":0.2}},\"type\":\"barpolar\"}],\"pie\":[{\"automargin\":true,\"type\":\"pie\"}]},\"layout\":{\"autotypenumbers\":\"strict\",\"colorway\":[\"#636efa\",\"#EF553B\",\"#00cc96\",\"#ab63fa\",\"#FFA15A\",\"#19d3f3\",\"#FF6692\",\"#B6E880\",\"#FF97FF\",\"#FECB52\"],\"font\":{\"color\":\"#2a3f5f\"},\"hovermode\":\"closest\",\"hoverlabel\":{\"align\":\"left\"},\"paper_bgcolor\":\"white\",\"plot_bgcolor\":\"#E5ECF6\",\"polar\":{\"bgcolor\":\"#E5ECF6\",\"angularaxis\":{\"gridcolor\":\"white\",\"linecolor\":\"white\",\"ticks\":\"\"},\"radialaxis\":{\"gridcolor\":\"white\",\"linecolor\":\"white\",\"ticks\":\"\"}},\"ternary\":{\"bgcolor\":\"#E5ECF6\",\"aaxis\":{\"gridcolor\":\"white\",\"linecolor\":\"white\",\"ticks\":\"\"},\"baxis\":{\"gridcolor\":\"white\",\"linecolor\":\"white\",\"ticks\":\"\"},\"caxis\":{\"gridcolor\":\"white\",\"linecolor\":\"white\",\"ticks\":\"\"}},\"coloraxis\":{\"colorbar\":{\"outlinewidth\":0,\"ticks\":\"\"}},\"colorscale\":{\"sequential\":[[0.0,\"#0d0887\"],[0.1111111111111111,\"#46039f\"],[0.2222222222222222,\"#7201a8\"],[0.3333333333333333,\"#9c179e\"],[0.4444444444444444,\"#bd3786\"],[0.5555555555555556,\"#d8576b\"],[0.6666666666666666,\"#ed7953\"],[0.7777777777777778,\"#fb9f3a\"],[0.8888888888888888,\"#fdca26\"],[1.0,\"#f0f921\"]],\"sequentialminus\":[[0.0,\"#0d0887\"],[0.1111111111111111,\"#46039f\"],[0.2222222222222222,\"#7201a8\"],[0.3333333333333333,\"#9c179e\"],[0.4444444444444444,\"#bd3786\"],[0.5555555555555556,\"#d8576b\"],[0.6666666666666666,\"#ed7953\"],[0.7777777777777778,\"#fb9f3a\"],[0.8888888888888888,\"#fdca26\"],[1.0,\"#f0f921\"]],\"diverging\":[[0,\"#8e0152\"],[0.1,\"#c51b7d\"],[0.2,\"#de77ae\"],[0.3,\"#f1b6da\"],[0.4,\"#fde0ef\"],[0.5,\"#f7f7f7\"],[0.6,\"#e6f5d0\"],[0.7,\"#b8e186\"],[0.8,\"#7fbc41\"],[0.9,\"#4d9221\"],[1,\"#276419\"]]},\"xaxis\":{\"gridcolor\":\"white\",\"linecolor\":\"white\",\"ticks\":\"\",\"title\":{\"standoff\":15},\"zerolinecolor\":\"white\",\"automargin\":true,\"zerolinewidth\":2},\"yaxis\":{\"gridcolor\":\"white\",\"linecolor\":\"white\",\"ticks\":\"\",\"title\":{\"standoff\":15},\"zerolinecolor\":\"white\",\"automargin\":true,\"zerolinewidth\":2},\"scene\":{\"xaxis\":{\"backgroundcolor\":\"#E5ECF6\",\"gridcolor\":\"white\",\"linecolor\":\"white\",\"showbackground\":true,\"ticks\":\"\",\"zerolinecolor\":\"white\",\"gridwidth\":2},\"yaxis\":{\"backgroundcolor\":\"#E5ECF6\",\"gridcolor\":\"white\",\"linecolor\":\"white\",\"showbackground\":true,\"ticks\":\"\",\"zerolinecolor\":\"white\",\"gridwidth\":2},\"zaxis\":{\"backgroundcolor\":\"#E5ECF6\",\"gridcolor\":\"white\",\"linecolor\":\"white\",\"showbackground\":true,\"ticks\":\"\",\"zerolinecolor\":\"white\",\"gridwidth\":2}},\"shapedefaults\":{\"line\":{\"color\":\"#2a3f5f\"}},\"annotationdefaults\":{\"arrowcolor\":\"#2a3f5f\",\"arrowhead\":0,\"arrowwidth\":1},\"geo\":{\"bgcolor\":\"white\",\"landcolor\":\"#E5ECF6\",\"subunitcolor\":\"white\",\"showland\":true,\"showlakes\":true,\"lakecolor\":\"white\"},\"title\":{\"x\":0.05},\"mapbox\":{\"style\":\"light\"}}},\"xaxis\":{\"anchor\":\"y\",\"domain\":[0.0,1.0],\"title\":{\"text\":\"index\"}},\"yaxis\":{\"anchor\":\"x\",\"domain\":[0.0,1.0],\"title\":{\"text\":\"value\"}},\"legend\":{\"title\":{\"text\":\"variable\"},\"tracegroupgap\":0},\"title\":{\"text\":\"PREDICTIONS - BTC-USD\"}},                        {\"responsive\": true}                    ).then(function(){\n",
       "                            \n",
       "var gd = document.getElementById('4c55f450-218e-4d1a-ab23-5b33395e45c5');\n",
       "var x = new MutationObserver(function (mutations, observer) {{\n",
       "        var display = window.getComputedStyle(gd).display;\n",
       "        if (!display || display === 'none') {{\n",
       "            console.log([gd, 'removed!']);\n",
       "            Plotly.purge(gd);\n",
       "            observer.disconnect();\n",
       "        }}\n",
       "}});\n",
       "\n",
       "// Listen for the removal of the full notebook cells\n",
       "var notebookContainer = gd.closest('#notebook-container');\n",
       "if (notebookContainer) {{\n",
       "    x.observe(notebookContainer, {childList: true});\n",
       "}}\n",
       "\n",
       "// Listen for the clearing of the current output cell\n",
       "var outputEl = gd.closest('.output');\n",
       "if (outputEl) {{\n",
       "    x.observe(outputEl, {childList: true});\n",
       "}}\n",
       "\n",
       "                        })                };                });            </script>        </div>"
      ]
     },
     "metadata": {},
     "output_type": "display_data"
    },
    {
     "data": {
      "text/html": [
       "<div>\n",
       "<style scoped>\n",
       "    .dataframe tbody tr th:only-of-type {\n",
       "        vertical-align: middle;\n",
       "    }\n",
       "\n",
       "    .dataframe tbody tr th {\n",
       "        vertical-align: top;\n",
       "    }\n",
       "\n",
       "    .dataframe thead th {\n",
       "        text-align: right;\n",
       "    }\n",
       "</style>\n",
       "<table border=\"1\" class=\"dataframe\">\n",
       "  <thead>\n",
       "    <tr style=\"text-align: right;\">\n",
       "      <th></th>\n",
       "      <th>Metric</th>\n",
       "      <th>RF</th>\n",
       "      <th>LR</th>\n",
       "      <th>GB</th>\n",
       "      <th>XGB</th>\n",
       "      <th>PROPHET</th>\n",
       "      <th>MINIROCKET</th>\n",
       "      <th>Avg</th>\n",
       "      <th>Median</th>\n",
       "    </tr>\n",
       "  </thead>\n",
       "  <tbody>\n",
       "    <tr>\n",
       "      <th>0</th>\n",
       "      <td>R2 Score</td>\n",
       "      <td>-1.295</td>\n",
       "      <td>-1.256</td>\n",
       "      <td>-3.216</td>\n",
       "      <td>-5.009</td>\n",
       "      <td>-1.225</td>\n",
       "      <td>-4.442</td>\n",
       "      <td>-0.954</td>\n",
       "      <td>-0.996</td>\n",
       "    </tr>\n",
       "    <tr>\n",
       "      <th>1</th>\n",
       "      <td>RSS</td>\n",
       "      <td>1164727.055</td>\n",
       "      <td>1145150.649</td>\n",
       "      <td>2139624.868</td>\n",
       "      <td>3049501.756</td>\n",
       "      <td>1128969.180</td>\n",
       "      <td>2762055.730</td>\n",
       "      <td>991617.528</td>\n",
       "      <td>1013036.559</td>\n",
       "    </tr>\n",
       "    <tr>\n",
       "      <th>2</th>\n",
       "      <td>RMSE</td>\n",
       "      <td>482.644</td>\n",
       "      <td>478.571</td>\n",
       "      <td>654.160</td>\n",
       "      <td>780.961</td>\n",
       "      <td>475.178</td>\n",
       "      <td>743.244</td>\n",
       "      <td>445.335</td>\n",
       "      <td>450.119</td>\n",
       "    </tr>\n",
       "  </tbody>\n",
       "</table>\n",
       "</div>"
      ],
      "text/plain": [
       "     Metric           RF           LR           GB          XGB      PROPHET  \\\n",
       "0  R2 Score       -1.295       -1.256       -3.216       -5.009       -1.225   \n",
       "1       RSS  1164727.055  1145150.649  2139624.868  3049501.756  1128969.180   \n",
       "2      RMSE      482.644      478.571      654.160      780.961      475.178   \n",
       "\n",
       "    MINIROCKET         Avg       Median  \n",
       "0       -4.442      -0.954       -0.996  \n",
       "1  2762055.730  991617.528  1013036.559  \n",
       "2      743.244     445.335      450.119  "
      ]
     },
     "metadata": {},
     "output_type": "display_data"
    },
    {
     "data": {
      "text/html": [
       "<div>\n",
       "<style scoped>\n",
       "    .dataframe tbody tr th:only-of-type {\n",
       "        vertical-align: middle;\n",
       "    }\n",
       "\n",
       "    .dataframe tbody tr th {\n",
       "        vertical-align: top;\n",
       "    }\n",
       "\n",
       "    .dataframe thead th {\n",
       "        text-align: right;\n",
       "    }\n",
       "</style>\n",
       "<table border=\"1\" class=\"dataframe\">\n",
       "  <thead>\n",
       "    <tr style=\"text-align: right;\">\n",
       "      <th></th>\n",
       "      <th>Actual close</th>\n",
       "      <th>RF close</th>\n",
       "      <th>LR close</th>\n",
       "      <th>GB close</th>\n",
       "      <th>XGB close</th>\n",
       "      <th>PROPHET close</th>\n",
       "      <th>MINIROCKET close</th>\n",
       "      <th>Avg close</th>\n",
       "      <th>Median close</th>\n",
       "    </tr>\n",
       "  </thead>\n",
       "  <tbody>\n",
       "    <tr>\n",
       "      <th>day 1</th>\n",
       "      <td>26334.818359</td>\n",
       "      <td>27361.009594</td>\n",
       "      <td>27154.922642</td>\n",
       "      <td>27381.451037</td>\n",
       "      <td>26949.886719</td>\n",
       "      <td>27200.019961</td>\n",
       "      <td>27724.298007</td>\n",
       "      <td>27295.264660</td>\n",
       "      <td>27280.514777</td>\n",
       "    </tr>\n",
       "    <tr>\n",
       "      <th>day 2</th>\n",
       "      <td>26476.207031</td>\n",
       "      <td>26582.645124</td>\n",
       "      <td>26273.590666</td>\n",
       "      <td>27135.142446</td>\n",
       "      <td>25774.289062</td>\n",
       "      <td>26221.826993</td>\n",
       "      <td>27178.962811</td>\n",
       "      <td>26527.742851</td>\n",
       "      <td>26428.117895</td>\n",
       "    </tr>\n",
       "    <tr>\n",
       "      <th>day 3</th>\n",
       "      <td>26719.291016</td>\n",
       "      <td>26582.645124</td>\n",
       "      <td>26383.680551</td>\n",
       "      <td>27340.718157</td>\n",
       "      <td>25774.289062</td>\n",
       "      <td>26448.459206</td>\n",
       "      <td>27030.591130</td>\n",
       "      <td>26593.397205</td>\n",
       "      <td>26515.552165</td>\n",
       "    </tr>\n",
       "    <tr>\n",
       "      <th>day 4</th>\n",
       "      <td>26868.353516</td>\n",
       "      <td>26582.645124</td>\n",
       "      <td>26605.728377</td>\n",
       "      <td>27340.718157</td>\n",
       "      <td>25774.289062</td>\n",
       "      <td>26668.245781</td>\n",
       "      <td>27284.257203</td>\n",
       "      <td>26709.313951</td>\n",
       "      <td>26636.987079</td>\n",
       "    </tr>\n",
       "    <tr>\n",
       "      <th>day 5</th>\n",
       "      <td>27247.373047</td>\n",
       "      <td>27252.679072</td>\n",
       "      <td>26747.453177</td>\n",
       "      <td>27273.621421</td>\n",
       "      <td>26949.886719</td>\n",
       "      <td>26797.602894</td>\n",
       "      <td>27507.474398</td>\n",
       "      <td>27088.119613</td>\n",
       "      <td>27101.282895</td>\n",
       "    </tr>\n",
       "  </tbody>\n",
       "</table>\n",
       "</div>"
      ],
      "text/plain": [
       "       Actual close      RF close      LR close      GB close     XGB close  \\\n",
       "day 1  26334.818359  27361.009594  27154.922642  27381.451037  26949.886719   \n",
       "day 2  26476.207031  26582.645124  26273.590666  27135.142446  25774.289062   \n",
       "day 3  26719.291016  26582.645124  26383.680551  27340.718157  25774.289062   \n",
       "day 4  26868.353516  26582.645124  26605.728377  27340.718157  25774.289062   \n",
       "day 5  27247.373047  27252.679072  26747.453177  27273.621421  26949.886719   \n",
       "\n",
       "       PROPHET close  MINIROCKET close     Avg close  Median close  \n",
       "day 1   27200.019961      27724.298007  27295.264660  27280.514777  \n",
       "day 2   26221.826993      27178.962811  26527.742851  26428.117895  \n",
       "day 3   26448.459206      27030.591130  26593.397205  26515.552165  \n",
       "day 4   26668.245781      27284.257203  26709.313951  26636.987079  \n",
       "day 5   26797.602894      27507.474398  27088.119613  27101.282895  "
      ]
     },
     "metadata": {},
     "output_type": "display_data"
    },
    {
     "data": {
      "image/png": "[encoded data removed]",
      "text/plain": [
       "<Figure size 1152x576 with 1 Axes>"
      ]
     },
     "metadata": {
      "needs_background": "light"
     },
     "output_type": "display_data"
    }
   ],
   "source": [
    "final_df = predicted_df.copy()\n",
    "final_metrics = metrics_df.copy()\n",
    "MODEL_COLUMNS_TO_PLOT = ['Actual close', 'LR close', 'GB close', 'XGB close', 'PROPHET close', 'MINIROCKET close']\n",
    "plot_predictions(final_df, 'BTC-USD', final_metrics, MODEL_COLUMNS_TO_PLOT)\n",
    "plot_metric_bar(final_metrics[['Metric', 'RF', 'LR', 'GB', 'XGB', 'PROPHET', 'MINIROCKET']],'RMSE')\n",
    "display(final_metrics.round(3))\n",
    "display(final_df)"
   ]
  },
  {
   "cell_type": "code",
   "execution_count": null,
   "id": "a54c8c24",
   "metadata": {},
   "outputs": [],
   "source": []
  },
  {
   "cell_type": "code",
   "execution_count": null,
   "id": "8c8983f3",
   "metadata": {},
   "outputs": [],
   "source": []
  },
  {
   "cell_type": "code",
   "execution_count": null,
   "id": "b8095472",
   "metadata": {},
   "outputs": [],
   "source": []
  },
  {
   "cell_type": "code",
   "execution_count": null,
   "id": "ddceeb7a",
   "metadata": {},
   "outputs": [],
   "source": []
  },
  {
   "cell_type": "code",
   "execution_count": null,
   "id": "059237b8",
   "metadata": {},
   "outputs": [],
   "source": []
  },
  {
   "cell_type": "markdown",
   "id": "0179eab9",
   "metadata": {},
   "source": [
    "TESTING NSE STOCKS"
   ]
  },
  {
   "cell_type": "code",
   "execution_count": null,
   "id": "fb6d0948",
   "metadata": {},
   "outputs": [],
   "source": [
    "# NOTE: recently the support for nsepy has been removed.\n",
    "# Code needs to be updated to fetch the daily data from yfinance instead"
   ]
  },
  {
   "cell_type": "code",
   "execution_count": null,
   "id": "272e865a",
   "metadata": {},
   "outputs": [],
   "source": [
    "# run_models_for_stock('HINDUNILVR')"
   ]
  },
  {
   "cell_type": "code",
   "execution_count": null,
   "id": "4fc79415",
   "metadata": {},
   "outputs": [],
   "source": [
    "# run_models_for_stock('ITC')"
   ]
  },
  {
   "cell_type": "code",
   "execution_count": null,
   "id": "c640dcf5",
   "metadata": {},
   "outputs": [],
   "source": [
    "# run_models_for_stock('HDFCBANK')"
   ]
  },
  {
   "cell_type": "code",
   "execution_count": null,
   "id": "43c8a1bb",
   "metadata": {},
   "outputs": [],
   "source": []
  },
  {
   "cell_type": "code",
   "execution_count": null,
   "id": "0475e2d5",
   "metadata": {},
   "outputs": [],
   "source": []
  }
 ],
 "metadata": {
  "kernelspec": {
   "display_name": "Trading",
   "language": "python",
   "name": "tradingtf"
  },
  "language_info": {
   "codemirror_mode": {
    "name": "ipython",
    "version": 3
   },
   "file_extension": ".py",
   "mimetype": "text/x-python",
   "name": "python",
   "nbconvert_exporter": "python",
   "pygments_lexer": "ipython3",
   "version": "3.8.12"
  },
  "toc": {
   "base_numbering": 1,
   "nav_menu": {},
   "number_sections": true,
   "sideBar": true,
   "skip_h1_title": false,
   "title_cell": "Table of Contents",
   "title_sidebar": "Contents",
   "toc_cell": false,
   "toc_position": {},
   "toc_section_display": true,
   "toc_window_display": true
  }
 },
 "nbformat": 4,
 "nbformat_minor": 5
}
